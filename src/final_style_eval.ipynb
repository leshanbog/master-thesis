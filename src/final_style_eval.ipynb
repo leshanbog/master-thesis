{
 "cells": [
  {
   "cell_type": "code",
   "execution_count": 1,
   "id": "large-playback",
   "metadata": {},
   "outputs": [],
   "source": [
    "import tqdm\n",
    "import numpy as np\n",
    "import pandas as pd\n",
    "import torch\n",
    "import json\n",
    "import random\n",
    "import matplotlib.pyplot as plt\n",
    "import seaborn as sns\n",
    "sns.set()\n",
    "from collections import defaultdict\n",
    "from transformers import BertTokenizer, EncoderDecoderModel, AutoModelForSequenceClassification\n",
    "\n",
    "from readers import tg_reader, lenta_reader, ria_reader\n",
    "from custom_datasets.agency_title_dataset import AgencyTitleDatasetGeneration\n",
    "from custom_datasets import FullStyleDataset\n",
    "\n",
    "def first_sent(x, token_id):\n",
    "    lx = list(x)\n",
    "    if token_id in x:\n",
    "        return x[:lx.index(token_id)]\n",
    "    return x\n",
    "\n",
    "def reader(path):\n",
    "    with open(path, 'r') as f:\n",
    "        for line in f:\n",
    "            yield json.loads(line.strip())"
   ]
  },
  {
   "cell_type": "code",
   "execution_count": 2,
   "id": "atlantic-quarterly",
   "metadata": {},
   "outputs": [],
   "source": [
    "device = 'cuda'\n",
    "# device = 'cpu'"
   ]
  },
  {
   "cell_type": "code",
   "execution_count": 3,
   "id": "continent-volume",
   "metadata": {},
   "outputs": [],
   "source": [
    "tokenizer_path = '/home/aobuhtijarov/models/rubert_cased_L-12_H-768_A-12_pt/'\n",
    "\n",
    "# BASELINES\n",
    "joint_baseline_path = '/home/aobuhtijarov/models/joint-baseline/checkpoint-6000/'\n",
    "ria_baseline_path = '/home/aobuhtijarov/models/ria_baseline/checkpoint-6000/'\n",
    "lenta_baseline_path = '/home/aobuhtijarov/models/lenta_baseline/checkpoint-6000/'\n",
    "\n",
    "\n",
    "# STYLE MODELS\n",
    "joint_style_path = '/home/aobuhtijarov/models/full_style_model/checkpoint-6000/'\n",
    "ria_style_path = '/home/aobuhtijarov/models/ria_style/checkpoint-6000/'\n",
    "lenta_style_path = '/home/aobuhtijarov/models/lenta_style/checkpoint-6000/'\n",
    "\n",
    "\n",
    "# DISCRIMINATOR\n",
    "## HERE WE USE BEST\n",
    "discr_model_path = '/home/aobuhtijarov/models/discriminator_on_clusters_from_rubert/'"
   ]
  },
  {
   "cell_type": "code",
   "execution_count": 4,
   "id": "consecutive-barcelona",
   "metadata": {},
   "outputs": [],
   "source": [
    "tokenizer = BertTokenizer.from_pretrained(tokenizer_path, do_lower_case=False, do_basic_tokenize=False)"
   ]
  },
  {
   "cell_type": "code",
   "execution_count": 5,
   "id": "boring-electric",
   "metadata": {},
   "outputs": [
    {
     "name": "stderr",
     "output_type": "stream",
     "text": [
      "2000it [00:00, 3380.65it/s]\n"
     ]
    }
   ],
   "source": [
    "records = [r for r in tqdm.tqdm(reader('../../datasets/full_lenta_ria.test.jsonl'))]\n",
    "\n",
    "lenta_records = [\n",
    "    {'text': r['lenta_text'], 'title': r['lenta_title'], 'agency': 'lenta.ru', 'date': r['lenta_date']} \n",
    "    for r in records\n",
    "]\n",
    "\n",
    "ria_records = [\n",
    "    {'text': r['ria_text'], 'title': r['ria_title'], 'agency': 'РИА Новости', 'date': r['lenta_date']} \n",
    "    for r in records\n",
    "]"
   ]
  },
  {
   "cell_type": "code",
   "execution_count": 6,
   "id": "transsexual-spencer",
   "metadata": {},
   "outputs": [],
   "source": [
    "def text_to_transformer_input(text):\n",
    "    inputs = tokenizer(\n",
    "        text,\n",
    "        add_special_tokens=True,\n",
    "        max_length=250,\n",
    "        padding=\"max_length\",\n",
    "        truncation=True\n",
    "    )\n",
    "    \n",
    "    return {\n",
    "        'input_ids': torch.LongTensor(inputs['input_ids']).to(device).unsqueeze(0),\n",
    "        'attention_mask': torch.LongTensor(inputs['attention_mask']).to(device).unsqueeze(0)\n",
    "    }\n",
    "\n",
    "def text_to_transformer_input_not_unsqueeze(text):\n",
    "    inputs = tokenizer(\n",
    "        text,\n",
    "        add_special_tokens=True,\n",
    "        max_length=250,\n",
    "        padding=\"max_length\",\n",
    "        truncation=True\n",
    "    )\n",
    "    \n",
    "    return {\n",
    "        'input_ids': torch.LongTensor(inputs['input_ids']).to(device),\n",
    "        'attention_mask': torch.LongTensor(inputs['attention_mask']).to(device)\n",
    "    }\n",
    "\n",
    "def unsq(x):\n",
    "    return {\n",
    "        'input_ids': x['input_ids'].unsqueeze(0),\n",
    "        'attention_mask': x['attention_mask'].unsqueeze(0),        \n",
    "    }"
   ]
  },
  {
   "cell_type": "code",
   "execution_count": 7,
   "id": "stuck-target",
   "metadata": {},
   "outputs": [],
   "source": [
    "generation_args = {\n",
    "    'decoder_start_token_id': 0,\n",
    "    'min_length': 7,\n",
    "    'max_length': 20,\n",
    "    'num_beams': 6\n",
    "}\n",
    "\n",
    "single_lenta_from_ria = []\n",
    "single_lenta_from_lenta = []\n",
    "single_ria_from_ria = []\n",
    "single_ria_from_lenta = []\n",
    "\n",
    "joint_lenta_from_ria = []\n",
    "joint_lenta_from_lenta = []\n",
    "joint_ria_from_ria = []\n",
    "joint_ria_from_lenta = []\n",
    "\n",
    "ref_ria = [r['ria_title'] for r in records]\n",
    "ref_lenta = [r['lenta_title'] for r in records]"
   ]
  },
  {
   "cell_type": "code",
   "execution_count": 31,
   "id": "sharing-uniform",
   "metadata": {},
   "outputs": [],
   "source": [
    "ref_clusters = [ [r['ria_title'], r['lenta_title']]  for r in records]"
   ]
  },
  {
   "cell_type": "code",
   "execution_count": 8,
   "id": "meaning-fitting",
   "metadata": {},
   "outputs": [],
   "source": [
    "agency_list = ['РИА Новости', 'lenta.ru']\n",
    "agency_to_special_token_id = {a: tokenizer.vocab[f'[unused{i+1}]'] for i, a in enumerate(agency_list)}\n",
    "agency_to_discr_target = {a: i for i, a in enumerate(sorted(agency_list))}"
   ]
  },
  {
   "cell_type": "code",
   "execution_count": 9,
   "id": "surprising-heaven",
   "metadata": {},
   "outputs": [],
   "source": [
    "def set_target_title(tok_otpt, agency_to_special_token_id, target_agency):\n",
    "    marker = agency_to_special_token_id[target_agency]\n",
    "\n",
    "    tok_otpt['input_ids'][2:] = tok_otpt['input_ids'][1:-1].clone()\n",
    "    tok_otpt['input_ids'][1] = marker\n",
    "\n",
    "    tok_otpt['attention_mask'][2:] = tok_otpt['attention_mask'][1:-1].clone()\n",
    "    tok_otpt['attention_mask'][1] = 1\n",
    "\n",
    "    return tok_otpt"
   ]
  },
  {
   "cell_type": "code",
   "execution_count": 10,
   "id": "plastic-bosnia",
   "metadata": {},
   "outputs": [
    {
     "name": "stderr",
     "output_type": "stream",
     "text": [
      "100%|██████████| 2000/2000 [35:13<00:00,  1.06s/it]\n"
     ]
    }
   ],
   "source": [
    "joint_style = EncoderDecoderModel.from_pretrained(joint_style_path)\n",
    "joint_style.eval()\n",
    "joint_style.to(device)\n",
    "\n",
    "with torch.no_grad():\n",
    "    for i in tqdm.trange(len(records)):\n",
    "        \n",
    "        joint_lenta_from_ria.append(joint_style.generate(**unsq(\n",
    "            set_target_title(text_to_transformer_input_not_unsqueeze(records[i]['ria_text']), \n",
    "                             agency_to_special_token_id, 'lenta.ru')\n",
    "        ),\n",
    "        **generation_args))\n",
    "        \n",
    "        joint_lenta_from_lenta.append(joint_style.generate(**unsq(\n",
    "            set_target_title(text_to_transformer_input_not_unsqueeze(records[i]['lenta_text']), \n",
    "                             agency_to_special_token_id, 'lenta.ru')\n",
    "        ),\n",
    "        **generation_args))\n",
    "        \n",
    "        \n",
    "        joint_ria_from_ria.append(joint_style.generate(**unsq(\n",
    "            set_target_title(text_to_transformer_input_not_unsqueeze(records[i]['ria_text']), \n",
    "                             agency_to_special_token_id, 'РИА Новости')\n",
    "        ),\n",
    "        **generation_args))\n",
    "        \n",
    "        joint_ria_from_lenta.append(joint_style.generate(**unsq(\n",
    "            set_target_title(text_to_transformer_input_not_unsqueeze(records[i]['lenta_text']), \n",
    "                             agency_to_special_token_id, 'РИА Новости')\n",
    "        ),\n",
    "        **generation_args))\n",
    "        \n",
    "joint_style.cpu();"
   ]
  },
  {
   "cell_type": "code",
   "execution_count": 11,
   "id": "naughty-static",
   "metadata": {},
   "outputs": [
    {
     "name": "stderr",
     "output_type": "stream",
     "text": [
      "100%|██████████| 2000/2000 [16:01<00:00,  2.08it/s]\n"
     ]
    }
   ],
   "source": [
    "ria_style = EncoderDecoderModel.from_pretrained(ria_style_path)\n",
    "ria_style.eval()\n",
    "ria_style.to(device)\n",
    "\n",
    "with torch.no_grad():\n",
    "    for i in tqdm.trange(len(records)):\n",
    "        ria_inp = text_to_transformer_input(records[i]['ria_text'])\n",
    "        lenta_inp = text_to_transformer_input(records[i]['lenta_text'])\n",
    "        \n",
    "        single_ria_from_ria.append(\n",
    "            ria_style.generate(**ria_inp, **generation_args)\n",
    "        )\n",
    "        \n",
    "        single_ria_from_lenta.append(\n",
    "            ria_style.generate(**lenta_inp, **generation_args)\n",
    "        )\n",
    "        \n",
    "ria_style.cpu();"
   ]
  },
  {
   "cell_type": "code",
   "execution_count": 12,
   "id": "lucky-spring",
   "metadata": {
    "scrolled": false
   },
   "outputs": [
    {
     "name": "stderr",
     "output_type": "stream",
     "text": [
      "100%|██████████| 2000/2000 [16:01<00:00,  2.08it/s]\n"
     ]
    }
   ],
   "source": [
    "lenta_style = EncoderDecoderModel.from_pretrained(lenta_style_path)\n",
    "lenta_style.eval()\n",
    "lenta_style.to(device)\n",
    "\n",
    "with torch.no_grad():\n",
    "    for i in tqdm.trange(len(records)):\n",
    "        ria_inp = text_to_transformer_input(records[i]['ria_text'])\n",
    "        lenta_inp = text_to_transformer_input(records[i]['lenta_text'])\n",
    "        \n",
    "        single_lenta_from_ria.append(\n",
    "            lenta_style.generate(**ria_inp, **generation_args)\n",
    "        )\n",
    "        \n",
    "        single_lenta_from_lenta.append(\n",
    "            lenta_style.generate(**lenta_inp, **generation_args)\n",
    "        )\n",
    "        \n",
    "lenta_style.cpu();"
   ]
  },
  {
   "cell_type": "code",
   "execution_count": 13,
   "id": "japanese-river",
   "metadata": {},
   "outputs": [],
   "source": [
    "def trans_otpt_to_headline(otpt):\n",
    "    return [\n",
    "        tokenizer.decode(first_sent(x, tokenizer.sep_token_id), skip_special_tokens=True) for x in otpt\n",
    "    ][0]"
   ]
  },
  {
   "cell_type": "code",
   "execution_count": 14,
   "id": "floppy-scholarship",
   "metadata": {},
   "outputs": [
    {
     "name": "stdout",
     "output_type": "stream",
     "text": [
      "CPU times: user 9.3 s, sys: 116 ms, total: 9.41 s\n",
      "Wall time: 9.41 s\n"
     ]
    }
   ],
   "source": [
    "%%time\n",
    "\n",
    "single_ria_from_ria = [trans_otpt_to_headline(x) for x in single_ria_from_ria]\n",
    "single_ria_from_lenta = [trans_otpt_to_headline(x) for x in single_ria_from_lenta]\n",
    "single_lenta_from_ria = [trans_otpt_to_headline(x) for x in single_lenta_from_ria]\n",
    "single_lenta_from_lenta = [trans_otpt_to_headline(x) for x in single_lenta_from_lenta]\n",
    "\n",
    "joint_ria_from_ria = [trans_otpt_to_headline(x) for x in joint_ria_from_ria]\n",
    "joint_ria_from_lenta = [trans_otpt_to_headline(x) for x in joint_ria_from_lenta]\n",
    "joint_lenta_from_ria = [trans_otpt_to_headline(x) for x in joint_lenta_from_ria]\n",
    "joint_lenta_from_lenta = [trans_otpt_to_headline(x) for x in joint_lenta_from_lenta]"
   ]
  },
  {
   "cell_type": "markdown",
   "id": "imperial-authentication",
   "metadata": {},
   "source": [
    "## Style Metrics Table"
   ]
  },
  {
   "cell_type": "code",
   "execution_count": 38,
   "id": "informative-drink",
   "metadata": {},
   "outputs": [],
   "source": [
    "import pandas as pd\n",
    "import numpy as np\n",
    "\n",
    "from utils.gen_title_calculate_metrics import calc_metrics\n",
    "\n",
    "def scalar_from_metrics(m):\n",
    "    return (m['rl'] + m['r2'] + m['rl']) / 3"
   ]
  },
  {
   "cell_type": "markdown",
   "id": "known-tooth",
   "metadata": {},
   "source": [
    "### For joint"
   ]
  },
  {
   "cell_type": "code",
   "execution_count": 39,
   "id": "starting-newport",
   "metadata": {},
   "outputs": [
    {
     "name": "stderr",
     "output_type": "stream",
     "text": [
      "6it [00:47,  8.00s/it]\n"
     ]
    }
   ],
   "source": [
    "joint_results = np.zeros((6, 6))\n",
    "\n",
    "headlines = (\n",
    "    joint_lenta_from_ria, joint_lenta_from_lenta, ref_lenta, joint_ria_from_ria, joint_ria_from_lenta, ref_ria\n",
    ")\n",
    "\n",
    "names = (\n",
    "    'RIA-Lenta', 'Lenta-Lenta', 'Ref Lenta', 'RIA-RIA', 'Lenta-RIA',  'Ref RIA'\n",
    ")\n",
    "\n",
    "for i, h1 in tqdm.tqdm(enumerate(headlines)):\n",
    "    for j, h2 in enumerate(headlines):\n",
    "        if type(h1[0]) != list:\n",
    "            h1 = [[x] for x in h1]\n",
    "        if type(h2[0]) != str:\n",
    "            h2 = [x[0] for x in h2]\n",
    "        \n",
    "        joint_results[i, j] = scalar_from_metrics(\n",
    "            calc_metrics(h1, h2, language='ru')\n",
    "        )"
   ]
  },
  {
   "cell_type": "code",
   "execution_count": 40,
   "id": "legal-actress",
   "metadata": {},
   "outputs": [
    {
     "data": {
      "text/html": [
       "<div>\n",
       "<style scoped>\n",
       "    .dataframe tbody tr th:only-of-type {\n",
       "        vertical-align: middle;\n",
       "    }\n",
       "\n",
       "    .dataframe tbody tr th {\n",
       "        vertical-align: top;\n",
       "    }\n",
       "\n",
       "    .dataframe thead th {\n",
       "        text-align: right;\n",
       "    }\n",
       "</style>\n",
       "<table border=\"1\" class=\"dataframe\">\n",
       "  <thead>\n",
       "    <tr style=\"text-align: right;\">\n",
       "      <th></th>\n",
       "      <th>RIA-Lenta</th>\n",
       "      <th>Lenta-Lenta</th>\n",
       "      <th>Ref Lenta</th>\n",
       "      <th>RIA-RIA</th>\n",
       "      <th>Lenta-RIA</th>\n",
       "      <th>Ref RIA</th>\n",
       "    </tr>\n",
       "  </thead>\n",
       "  <tbody>\n",
       "    <tr>\n",
       "      <th>RIA-Lenta</th>\n",
       "      <td>1.00</td>\n",
       "      <td>0.38</td>\n",
       "      <td>0.27</td>\n",
       "      <td>0.42</td>\n",
       "      <td>0.28</td>\n",
       "      <td>0.27</td>\n",
       "    </tr>\n",
       "    <tr>\n",
       "      <th>Lenta-Lenta</th>\n",
       "      <td>0.38</td>\n",
       "      <td>1.00</td>\n",
       "      <td>0.33</td>\n",
       "      <td>0.29</td>\n",
       "      <td>0.45</td>\n",
       "      <td>0.24</td>\n",
       "    </tr>\n",
       "    <tr>\n",
       "      <th>Ref Lenta</th>\n",
       "      <td>0.27</td>\n",
       "      <td>0.33</td>\n",
       "      <td>1.00</td>\n",
       "      <td>0.23</td>\n",
       "      <td>0.26</td>\n",
       "      <td>0.27</td>\n",
       "    </tr>\n",
       "    <tr>\n",
       "      <th>RIA-RIA</th>\n",
       "      <td>0.42</td>\n",
       "      <td>0.29</td>\n",
       "      <td>0.23</td>\n",
       "      <td>1.00</td>\n",
       "      <td>0.37</td>\n",
       "      <td>0.35</td>\n",
       "    </tr>\n",
       "    <tr>\n",
       "      <th>Lenta-RIA</th>\n",
       "      <td>0.28</td>\n",
       "      <td>0.45</td>\n",
       "      <td>0.26</td>\n",
       "      <td>0.37</td>\n",
       "      <td>1.00</td>\n",
       "      <td>0.27</td>\n",
       "    </tr>\n",
       "    <tr>\n",
       "      <th>Ref RIA</th>\n",
       "      <td>0.27</td>\n",
       "      <td>0.24</td>\n",
       "      <td>0.27</td>\n",
       "      <td>0.35</td>\n",
       "      <td>0.27</td>\n",
       "      <td>1.00</td>\n",
       "    </tr>\n",
       "  </tbody>\n",
       "</table>\n",
       "</div>"
      ],
      "text/plain": [
       "             RIA-Lenta  Lenta-Lenta  Ref Lenta  RIA-RIA  Lenta-RIA  Ref RIA\n",
       "RIA-Lenta         1.00         0.38       0.27     0.42       0.28     0.27\n",
       "Lenta-Lenta       0.38         1.00       0.33     0.29       0.45     0.24\n",
       "Ref Lenta         0.27         0.33       1.00     0.23       0.26     0.27\n",
       "RIA-RIA           0.42         0.29       0.23     1.00       0.37     0.35\n",
       "Lenta-RIA         0.28         0.45       0.26     0.37       1.00     0.27\n",
       "Ref RIA           0.27         0.24       0.27     0.35       0.27     1.00"
      ]
     },
     "execution_count": 40,
     "metadata": {},
     "output_type": "execute_result"
    }
   ],
   "source": [
    "df = pd.DataFrame(joint_results, columns=names, index=names).round(2)\n",
    "df"
   ]
  },
  {
   "cell_type": "code",
   "execution_count": 41,
   "id": "worldwide-registration",
   "metadata": {},
   "outputs": [
    {
     "data": {
      "image/png": "[encoded data removed]",
      "text/plain": [
       "<Figure size 1008x648 with 2 Axes>"
      ]
     },
     "metadata": {},
     "output_type": "display_data"
    }
   ],
   "source": [
    "mask = np.zeros((6, 6), dtype=bool)\n",
    "mask[np.diag_indices_from(mask)] = True\n",
    "\n",
    "with sns.axes_style(\"white\"):\n",
    "    f, ax = plt.subplots(figsize=(14, 9))\n",
    "    ax = sns.heatmap(df, mask=mask, vmax=.4, vmin=0.2, square=True, annot=True)\n",
    "    ax.set_xticklabels(ax.get_xticklabels(), rotation=11)\n",
    "    ax.set_yticklabels(ax.get_yticklabels(), rotation=0)\n",
    "    ax.set_title('Joint Style Model')\n",
    "    f.savefig('joint_style_eval.eps', bbox_inches='tight', format='eps')"
   ]
  },
  {
   "cell_type": "markdown",
   "id": "informational-estate",
   "metadata": {},
   "source": [
    "### For single"
   ]
  },
  {
   "cell_type": "code",
   "execution_count": 42,
   "id": "guilty-treatment",
   "metadata": {},
   "outputs": [
    {
     "name": "stderr",
     "output_type": "stream",
     "text": [
      "6it [00:47,  7.84s/it]\n"
     ]
    }
   ],
   "source": [
    "single_results = np.zeros((6, 6))\n",
    "\n",
    "headlines = (\n",
    "    single_lenta_from_ria, single_lenta_from_lenta, ref_lenta, single_ria_from_ria, single_ria_from_lenta, ref_ria\n",
    ")\n",
    "\n",
    "names = (\n",
    "    'RIA-Lenta', 'Lenta-Lenta', 'Ref Lenta', 'RIA-RIA', 'Lenta-RIA',  'Ref RIA'\n",
    ")\n",
    "\n",
    "for i, h1 in tqdm.tqdm(enumerate(headlines)):\n",
    "    for j, h2 in enumerate(headlines):\n",
    "        if type(h1[0]) != list:\n",
    "            h1 = [[x] for x in h1]\n",
    "        if type(h2[0]) != str:\n",
    "            h2 = [x[0] for x in h2]\n",
    "        \n",
    "        single_results[i, j] = scalar_from_metrics(\n",
    "            calc_metrics(h1, h2, language='ru')\n",
    "        )"
   ]
  },
  {
   "cell_type": "code",
   "execution_count": 43,
   "id": "academic-spray",
   "metadata": {},
   "outputs": [
    {
     "data": {
      "text/html": [
       "<div>\n",
       "<style scoped>\n",
       "    .dataframe tbody tr th:only-of-type {\n",
       "        vertical-align: middle;\n",
       "    }\n",
       "\n",
       "    .dataframe tbody tr th {\n",
       "        vertical-align: top;\n",
       "    }\n",
       "\n",
       "    .dataframe thead th {\n",
       "        text-align: right;\n",
       "    }\n",
       "</style>\n",
       "<table border=\"1\" class=\"dataframe\">\n",
       "  <thead>\n",
       "    <tr style=\"text-align: right;\">\n",
       "      <th></th>\n",
       "      <th>RIA-Lenta</th>\n",
       "      <th>Lenta-Lenta</th>\n",
       "      <th>Ref Lenta</th>\n",
       "      <th>RIA-RIA</th>\n",
       "      <th>Lenta-RIA</th>\n",
       "      <th>Ref RIA</th>\n",
       "    </tr>\n",
       "  </thead>\n",
       "  <tbody>\n",
       "    <tr>\n",
       "      <th>RIA-Lenta</th>\n",
       "      <td>1.00</td>\n",
       "      <td>0.37</td>\n",
       "      <td>0.25</td>\n",
       "      <td>0.28</td>\n",
       "      <td>0.22</td>\n",
       "      <td>0.23</td>\n",
       "    </tr>\n",
       "    <tr>\n",
       "      <th>Lenta-Lenta</th>\n",
       "      <td>0.37</td>\n",
       "      <td>1.00</td>\n",
       "      <td>0.30</td>\n",
       "      <td>0.22</td>\n",
       "      <td>0.28</td>\n",
       "      <td>0.21</td>\n",
       "    </tr>\n",
       "    <tr>\n",
       "      <th>Ref Lenta</th>\n",
       "      <td>0.25</td>\n",
       "      <td>0.30</td>\n",
       "      <td>1.00</td>\n",
       "      <td>0.22</td>\n",
       "      <td>0.24</td>\n",
       "      <td>0.27</td>\n",
       "    </tr>\n",
       "    <tr>\n",
       "      <th>RIA-RIA</th>\n",
       "      <td>0.28</td>\n",
       "      <td>0.22</td>\n",
       "      <td>0.22</td>\n",
       "      <td>1.00</td>\n",
       "      <td>0.36</td>\n",
       "      <td>0.32</td>\n",
       "    </tr>\n",
       "    <tr>\n",
       "      <th>Lenta-RIA</th>\n",
       "      <td>0.22</td>\n",
       "      <td>0.28</td>\n",
       "      <td>0.24</td>\n",
       "      <td>0.36</td>\n",
       "      <td>1.00</td>\n",
       "      <td>0.26</td>\n",
       "    </tr>\n",
       "    <tr>\n",
       "      <th>Ref RIA</th>\n",
       "      <td>0.23</td>\n",
       "      <td>0.21</td>\n",
       "      <td>0.27</td>\n",
       "      <td>0.32</td>\n",
       "      <td>0.26</td>\n",
       "      <td>1.00</td>\n",
       "    </tr>\n",
       "  </tbody>\n",
       "</table>\n",
       "</div>"
      ],
      "text/plain": [
       "             RIA-Lenta  Lenta-Lenta  Ref Lenta  RIA-RIA  Lenta-RIA  Ref RIA\n",
       "RIA-Lenta         1.00         0.37       0.25     0.28       0.22     0.23\n",
       "Lenta-Lenta       0.37         1.00       0.30     0.22       0.28     0.21\n",
       "Ref Lenta         0.25         0.30       1.00     0.22       0.24     0.27\n",
       "RIA-RIA           0.28         0.22       0.22     1.00       0.36     0.32\n",
       "Lenta-RIA         0.22         0.28       0.24     0.36       1.00     0.26\n",
       "Ref RIA           0.23         0.21       0.27     0.32       0.26     1.00"
      ]
     },
     "execution_count": 43,
     "metadata": {},
     "output_type": "execute_result"
    }
   ],
   "source": [
    "df = pd.DataFrame(single_results, columns=names, index=names).round(2)\n",
    "df"
   ]
  },
  {
   "cell_type": "code",
   "execution_count": 44,
   "id": "generous-battery",
   "metadata": {},
   "outputs": [
    {
     "data": {
      "image/png": "[encoded data removed]",
      "text/plain": [
       "<Figure size 1008x648 with 2 Axes>"
      ]
     },
     "metadata": {},
     "output_type": "display_data"
    }
   ],
   "source": [
    "mask = np.zeros((6, 6), dtype=bool)\n",
    "mask[np.diag_indices_from(mask)] = True\n",
    "\n",
    "with sns.axes_style(\"white\"):\n",
    "    f, ax = plt.subplots(figsize=(14, 9))\n",
    "    ax = sns.heatmap(df, mask=mask, vmax=.4, vmin=0.2, square=True, annot=True)\n",
    "    ax.set_xticklabels(ax.get_xticklabels(), rotation=11)\n",
    "    ax.set_yticklabels(ax.get_yticklabels(), rotation=0) \n",
    "    ax.set_title('Single Style Models')\n",
    "    f.savefig('single_style_eval.eps', bbox_inches='tight', format='eps')    "
   ]
  },
  {
   "cell_type": "markdown",
   "id": "august-terror",
   "metadata": {},
   "source": [
    "### Dataset view"
   ]
  },
  {
   "cell_type": "code",
   "execution_count": 48,
   "id": "express-cemetery",
   "metadata": {},
   "outputs": [
    {
     "name": "stderr",
     "output_type": "stream",
     "text": [
      "75362it [00:15, 4886.24it/s]\n"
     ]
    }
   ],
   "source": [
    "train_records = [r for r in tqdm.tqdm(reader('../../datasets/full_lenta_ria.train.jsonl'))]"
   ]
  },
  {
   "cell_type": "code",
   "execution_count": 50,
   "id": "lesser-acrobat",
   "metadata": {},
   "outputs": [
    {
     "data": {
      "text/plain": [
       "{'lenta_text': 'в одном из ресторанов в псковской области задержали вора в законе по прозвищу паштет. об этом сообщается на сайте мвд россии. 33-летний паштет — гражданин белоруссии — нарушил режим пребывания иностранных граждан. вместе с ним в ресторане, где должна была состояться сходка, было задержано еще 18 человек, имеющих отношение к уголовной среде. в 2013 году суд признал пребывание паштета на территории россии нежелательным, он был депортирован в белоруссию. однако, уклонившись от исполнения постановления суда, он незаконно въехал в рф. в настоящее время задержанный помещен в специальное учреждение временного содержания иностранных граждан областного уфмс до исполнения решения о его депортации и назначении штрафа. паштет, или павел алексеевич, получил титул вора в законе в декабре 2012 года. в январе 2013-го его задержали в московской области во время сходки. у паштета нашли 1,5 грамма кокаина. за хранение наркотиков его приговорили к шести месяцам колонии-поселения. после отбытия наказания паштета депортировали. до этого, по данным naviny.by, его дважды судили в белоруссии — за хулиганство и разбой.',\n",
       " 'lenta_title': 'в псковском ресторане задержали вора в законе паштета',\n",
       " 'lenta_date': '2014-10-27 10:00',\n",
       " 'ria_text': ' москва, 27 окт — риа новости. полицейские задержали на сходке криминальных \"авторитетов\" в псковском ресторане 18 человек, включая гражданина белоруссии по прозвищу паштет, выдворенного в прошлом году из россии на родину, сообщает мвд рф в понедельник. \"задержан 33-летний гражданин республики беларусь — так называемый \"вор в законе\", более известный в криминальных кругах как паштет. задержание проходило в одном из ресторанов печорского района псковской области, где должна была состояться так называемая \"сходка\" лидеров уголовно-преступной среды\", — говорится в сообщении. в 2013 году суд признал пребывание паштета в россии нежелательным, и в июле того же года он был депортирован в белоруссию, напомнили в мвд. однако он уклонился от исполнения постановления суда и незаконно въехал в россию. в настоящее время он находится в спецучреждении временного содержания иностранных граждан псковской области. решается вопрос о его депортации и назначении административного штрафа.',\n",
       " 'ria_title': 'вор в законе паштет, выдворенный из рф, вновь задержан в пскове',\n",
       " 'ria_date': '2010-10-27 10:00'}"
      ]
     },
     "execution_count": 50,
     "metadata": {},
     "output_type": "execute_result"
    }
   ],
   "source": [
    "train_records[73802]"
   ]
  },
  {
   "cell_type": "code",
   "execution_count": 70,
   "id": "domestic-baghdad",
   "metadata": {},
   "outputs": [
    {
     "data": {
      "text/plain": [
       "{'lenta_text': 'председательство в обсе (организация по безопасности и сотрудничеству в европе) с 1 января 2010 года перешло к казахстану. об этом сообщает пресс-служба международной организации. ранее обсе возглавляла греция. казахстан стал первым государством центральной азии, получившим председательство в обсе. кроме того, это первая постсоветская республика, выполняющая эту роль. министр иностранных дел и госсекретарь казахстана канат саудабаев пообещал, что страна приложит все усилия для укрепления безопасности и углубления сотрудничества \"от ванкувера до владивостока\". саудабаев также поблагодарил своего предшественника, грека георгиоса папандреу (george papandreou) за отличную работу на посту председателя обсе. на 14 января назначено заседание постоянного совета обсе. руководство международной организации соберется в вене.',\n",
       " 'lenta_title': 'председательство в обсе перешло к казахстану',\n",
       " 'lenta_date': '2010-01-01 10:00',\n",
       " 'ria_text': ' мадрид/брюссель, 1 янв - риа новости. ротационное председательство в евросоюзе с 1 января на ближайшие полгода переходит от швеции к испании. это будет четвертое председательство испании в ес за более чем 20 лет членства страны в этой организации и первое после вступления в силу 1 декабря 2009 года лиссабонского договора, серьезно реформирующего систему управления ес. по мнению госсекретаря испании по делам европы диего лопеса гарридо (diego lopez garrido), испании выпала нелегкая и ответственная задача запуска основных механизмов лиссабонского договора, и от успеха ее председательства во многом будет зависеть и успех этого договора. испания уже заявила, что в период своего председательства намерена особое внимание уделить таким вопросам, как разработка единой европейской экономической политики, направленной на координацию национальных политик и поиск выхода из кризиса, и единой европейской внешней политики, создание механизмов надзора за европейской финансовой системой, придание институту европейского гражданства конкретного наполнения, принятие ряда основополагающих программ, таких как европейская стратегия роста \"европа-2020\", европейскую социальную повестку дня на 2011-2015 годы, присоединение ес к европейской конвенции по правам человека. в отношениях с россией испания надеется к саммиту россия - ес подготовить текст нового договора об ассоциации между евросоюзом и россией и развивать отношения по двум направлениям: энергетическому и социальному. после истечения первого полугодия, с 1 июля, председательствовать в ес будет бельгия. коренным отличием испанского периода председательства станет то, что премьер-министр испании, в отличие от шведского коллеги, не будет председательствовать на заседаниях европейского совета (евросовет), собирающегося на уровне глав государств и правительств 27 стран ес. в ноябре прошлого года они избрали на пост первого постоянного председателя евросовета, который вводится вступившим с 1 декабря в силу лиссабонским договором о реформе институтов власти ес, премьер-министра бельгии хермана ван ромпея. именно он будет в ближайшие два с половиной года председательствовать на саммитах ес и содействовать достижению компромисса между странами-членами этой региональной организации в вопросах общей внутренней и внешней политики.',\n",
       " 'ria_title': 'председательство в ес переходит к испании',\n",
       " 'ria_date': '2010-01-01 10:00'}"
      ]
     },
     "execution_count": 70,
     "metadata": {},
     "output_type": "execute_result"
    }
   ],
   "source": [
    "train_records[8]"
   ]
  },
  {
   "cell_type": "markdown",
   "id": "pending-gross",
   "metadata": {},
   "source": [
    "## Style Discriminator eval"
   ]
  },
  {
   "cell_type": "code",
   "execution_count": 75,
   "id": "becoming-ocean",
   "metadata": {},
   "outputs": [],
   "source": [
    "cross_style_model_path = '/home/aobuhtijarov/models/lenta_ria_cross_style/'\n",
    "# cross_style_model_path = '/home/aobuhtijarov/models/lenta_ria_cross_style_from_pretrained/'\n",
    "\n",
    "vanilla_prepend_path = '/home/aobuhtijarov/models/style_gen_title_from_pretrained/'"
   ]
  },
  {
   "cell_type": "code",
   "execution_count": 73,
   "id": "continent-eight",
   "metadata": {},
   "outputs": [
    {
     "name": "stderr",
     "output_type": "stream",
     "text": [
      "100%|██████████| 2000/2000 [15:54<00:00,  2.10it/s]\n"
     ]
    }
   ],
   "source": [
    "cross_style_model_lenta = []\n",
    "cross_style_model_ria = []\n",
    "\n",
    "cross_style_model = EncoderDecoderModel.from_pretrained(cross_style_model_path)\n",
    "cross_style_model.eval()\n",
    "cross_style_model.to(device)\n",
    "\n",
    "with torch.no_grad():\n",
    "    for i in tqdm.trange(len(records)):\n",
    "        ria_inp = text_to_transformer_input(records[i]['ria_text'])\n",
    "        lenta_inp = text_to_transformer_input(records[i]['lenta_text'])\n",
    "        \n",
    "        cross_style_model_lenta.append(\n",
    "            cross_style_model.generate(**ria_inp, **generation_args)\n",
    "        )\n",
    "        \n",
    "        cross_style_model_ria.append(\n",
    "            cross_style_model.generate(**lenta_inp, **generation_args)\n",
    "        )\n",
    "        \n",
    "cross_style_model.cpu();"
   ]
  },
  {
   "cell_type": "code",
   "execution_count": 76,
   "id": "contained-wilson",
   "metadata": {},
   "outputs": [
    {
     "name": "stderr",
     "output_type": "stream",
     "text": [
      "100%|██████████| 2000/2000 [31:47<00:00,  1.05it/s]\n"
     ]
    }
   ],
   "source": [
    "vanilla_prepend_lenta_from_ria = []\n",
    "vanilla_prepend_lenta_from_lenta = []\n",
    "vanilla_prepend_ria_from_ria = []\n",
    "vanilla_prepend_ria_from_lenta = []\n",
    "\n",
    "vanilla_prepend_model = EncoderDecoderModel.from_pretrained(vanilla_prepend_path)\n",
    "vanilla_prepend_model.eval()\n",
    "vanilla_prepend_model.to(device)\n",
    "\n",
    "with torch.no_grad():\n",
    "    for i in tqdm.trange(len(records)):\n",
    "        vanilla_prepend_lenta_from_ria.append(vanilla_prepend_model.generate(**unsq(\n",
    "            set_target_title(text_to_transformer_input_not_unsqueeze(records[i]['ria_text']), \n",
    "                             agency_to_special_token_id, 'lenta.ru')\n",
    "        ),\n",
    "        **generation_args))\n",
    "        \n",
    "        vanilla_prepend_lenta_from_lenta.append(vanilla_prepend_model.generate(**unsq(\n",
    "            set_target_title(text_to_transformer_input_not_unsqueeze(records[i]['lenta_text']), \n",
    "                             agency_to_special_token_id, 'lenta.ru')\n",
    "        ),\n",
    "        **generation_args))\n",
    "        \n",
    "        \n",
    "        vanilla_prepend_ria_from_ria.append(vanilla_prepend_model.generate(**unsq(\n",
    "            set_target_title(text_to_transformer_input_not_unsqueeze(records[i]['ria_text']), \n",
    "                             agency_to_special_token_id, 'РИА Новости')\n",
    "        ),\n",
    "        **generation_args))\n",
    "        \n",
    "        vanilla_prepend_ria_from_lenta.append(vanilla_prepend_model.generate(**unsq(\n",
    "            set_target_title(text_to_transformer_input_not_unsqueeze(records[i]['lenta_text']), \n",
    "                             agency_to_special_token_id, 'РИА Новости')\n",
    "        ),\n",
    "        **generation_args))\n",
    "        \n",
    "vanilla_prepend_model.cpu();"
   ]
  },
  {
   "cell_type": "code",
   "execution_count": 81,
   "id": "valuable-sapphire",
   "metadata": {},
   "outputs": [
    {
     "name": "stdout",
     "output_type": "stream",
     "text": [
      "CPU times: user 6.62 s, sys: 48 ms, total: 6.67 s\n",
      "Wall time: 6.66 s\n"
     ]
    }
   ],
   "source": [
    "%%time\n",
    "\n",
    "cross_style_model_lenta = [trans_otpt_to_headline(x) for x in cross_style_model_lenta]\n",
    "cross_style_model_ria = [trans_otpt_to_headline(x) for x in cross_style_model_ria]\n",
    "\n",
    "vanilla_prepend_lenta_from_ria = [trans_otpt_to_headline(x) for x in vanilla_prepend_lenta_from_ria]\n",
    "vanilla_prepend_lenta_from_lenta = [trans_otpt_to_headline(x) for x in vanilla_prepend_lenta_from_lenta]\n",
    "vanilla_prepend_ria_from_ria = [trans_otpt_to_headline(x) for x in vanilla_prepend_ria_from_ria]\n",
    "vanilla_prepend_ria_from_lenta = [trans_otpt_to_headline(x) for x in vanilla_prepend_ria_from_lenta]"
   ]
  },
  {
   "cell_type": "code",
   "execution_count": 82,
   "id": "lovely-equity",
   "metadata": {},
   "outputs": [],
   "source": [
    "def get_discr_res(ria_zag, lenta_zag, mode='SOFT'):\n",
    "    # Vanilla discriminator\n",
    "    \n",
    "    inputs_ria = tokenizer(\n",
    "        ria_zag,\n",
    "        add_special_tokens=True,\n",
    "        max_length=48,\n",
    "        padding=\"max_length\",\n",
    "        truncation=True\n",
    "    )\n",
    "\n",
    "    inputs_lenta = tokenizer(\n",
    "        lenta_zag,\n",
    "        add_special_tokens=True,\n",
    "        max_length=48,\n",
    "        padding=\"max_length\",\n",
    "        truncation=True\n",
    "    )\n",
    "\n",
    "    logits_ria = discriminator(input_ids=torch.LongTensor(inputs_ria['input_ids']).to(device).unsqueeze(0), \n",
    "                           attention_mask=torch.LongTensor(inputs_ria['attention_mask']).to(device).unsqueeze(0))[0][0]\n",
    "    pred_ria = torch.argmax(logits_ria).item()\n",
    "\n",
    "    logits_lenta = discriminator(input_ids=torch.LongTensor(inputs_lenta['input_ids']).to(device).unsqueeze(0), \n",
    "                           attention_mask=torch.LongTensor(inputs_lenta['attention_mask']).to(device).unsqueeze(0))[0][0]\n",
    "    pred_lenta = torch.argmax(logits_lenta).item()\n",
    "\n",
    "    if mode == 'HARD':\n",
    "        return int(pred_ria == agency_to_discr_target['РИА Новости'] and \\\n",
    "                       pred_lenta == agency_to_discr_target['lenta.ru'])\n",
    "    elif mode == 'SOFT':\n",
    "        return int(logits_ria[agency_to_discr_target['lenta.ru']] < \\\n",
    "                       logits_lenta[agency_to_discr_target['lenta.ru']])\n",
    "    assert False"
   ]
  },
  {
   "cell_type": "code",
   "execution_count": 85,
   "id": "limited-scene",
   "metadata": {},
   "outputs": [
    {
     "name": "stderr",
     "output_type": "stream",
     "text": [
      "100%|██████████| 2000/2000 [05:52<00:00,  5.68it/s]\n"
     ]
    }
   ],
   "source": [
    "discriminator = AutoModelForSequenceClassification.from_pretrained(discr_model_path)\n",
    "discriminator.eval()\n",
    "discriminator.to(device)\n",
    "\n",
    "results = {\n",
    "    'single': {\n",
    "        'from ria': 0,\n",
    "        'from lenta': 0,\n",
    "        'both cross': 0,\n",
    "        'both direct': 0,\n",
    "    },\n",
    "    'joint': {\n",
    "        'from ria': 0,\n",
    "        'from lenta': 0,\n",
    "        'both cross': 0,\n",
    "        'both direct': 0,\n",
    "    },\n",
    "    'vanilla prepend': {\n",
    "        'from ria': 0,\n",
    "        'from lenta': 0,\n",
    "        'both cross': 0,\n",
    "        'both direct': 0,\n",
    "    },\n",
    "    'cross': {\n",
    "        'both cross': 0,\n",
    "    }\n",
    "}\n",
    "\n",
    "with torch.no_grad():\n",
    "    for i in tqdm.trange(len(records)):\n",
    "        # Single\n",
    "        ria_zag_from_lenta = single_ria_from_lenta[i]\n",
    "        ria_zag_from_ria = single_ria_from_ria[i]\n",
    "\n",
    "        lenta_zag_from_ria = single_lenta_from_ria[i]\n",
    "        lenta_zag_from_lenta = single_lenta_from_lenta[i]\n",
    "\n",
    "        results['single']['from ria'] += get_discr_res(ria_zag_from_ria, lenta_zag_from_ria)\n",
    "        results['single']['from lenta'] += get_discr_res(ria_zag_from_lenta, lenta_zag_from_lenta)\n",
    "        results['single']['both cross'] += get_discr_res(ria_zag_from_lenta, lenta_zag_from_ria)\n",
    "        results['single']['both direct'] += get_discr_res(ria_zag_from_ria, lenta_zag_from_lenta)\n",
    "    \n",
    "        # Joint\n",
    "        ria_zag_from_lenta = joint_ria_from_lenta[i]\n",
    "        ria_zag_from_ria = joint_ria_from_ria[i]\n",
    "\n",
    "        lenta_zag_from_ria = joint_lenta_from_ria[i]\n",
    "        lenta_zag_from_lenta = joint_lenta_from_lenta[i]\n",
    "\n",
    "        results['joint']['from ria'] += get_discr_res(ria_zag_from_ria, lenta_zag_from_ria)\n",
    "        results['joint']['from lenta'] += get_discr_res(ria_zag_from_lenta, lenta_zag_from_lenta)\n",
    "        results['joint']['both cross'] += get_discr_res(ria_zag_from_lenta, lenta_zag_from_ria)\n",
    "        results['joint']['both direct'] += get_discr_res(ria_zag_from_ria, lenta_zag_from_lenta)\n",
    "        \n",
    "        # Vanilla prepend\n",
    "        ria_zag_from_lenta = vanilla_prepend_ria_from_lenta[i]\n",
    "        ria_zag_from_ria = vanilla_prepend_ria_from_ria[i]\n",
    "\n",
    "        lenta_zag_from_ria = vanilla_prepend_lenta_from_ria[i]\n",
    "        lenta_zag_from_lenta = vanilla_prepend_lenta_from_lenta[i]\n",
    "\n",
    "        results['vanilla prepend']['from ria'] += get_discr_res(ria_zag_from_ria, lenta_zag_from_ria)\n",
    "        results['vanilla prepend']['from lenta'] += get_discr_res(ria_zag_from_lenta, lenta_zag_from_lenta)\n",
    "        results['vanilla prepend']['both cross'] += get_discr_res(ria_zag_from_lenta, lenta_zag_from_ria)\n",
    "        results['vanilla prepend']['both direct'] += get_discr_res(ria_zag_from_ria, lenta_zag_from_lenta)\n",
    "        \n",
    "        # Cross\n",
    "        results['cross']['both cross'] +=  get_discr_res(cross_style_model_ria[i], cross_style_model_lenta[i])\n",
    "    \n",
    "discriminator.cpu();"
   ]
  },
  {
   "cell_type": "code",
   "execution_count": 86,
   "id": "simple-stand",
   "metadata": {},
   "outputs": [],
   "source": [
    "disc_df = pd.DataFrame(results)\n",
    "plot_df = pd.DataFrame({\n",
    "    'Count': list(disc_df['single']) + list(disc_df['joint']),\n",
    "    'Model': ['Single'] * 4 + ['Joint'] * 4,\n",
    "    'Mode': ['From RIA', 'From Lenta', 'Both cross', 'Both direct'] * 2,\n",
    "})\n",
    "plot_df['Count'] /= 2000"
   ]
  },
  {
   "cell_type": "code",
   "execution_count": 87,
   "id": "friendly-conjunction",
   "metadata": {},
   "outputs": [
    {
     "data": {
      "image/png": "[encoded data removed]",
      "text/plain": [
       "<Figure size 720x504 with 1 Axes>"
      ]
     },
     "metadata": {},
     "output_type": "display_data"
    }
   ],
   "source": [
    "plt.figure(figsize=(10, 7))\n",
    "sns.barplot(x='Mode', y='Count', hue='Model', data=plot_df)\n",
    "plt.ylim(0.8)\n",
    "plt.show()"
   ]
  },
  {
   "cell_type": "code",
   "execution_count": 111,
   "id": "organizational-cartridge",
   "metadata": {},
   "outputs": [
    {
     "data": {
      "text/html": [
       "<div>\n",
       "<style scoped>\n",
       "    .dataframe tbody tr th:only-of-type {\n",
       "        vertical-align: middle;\n",
       "    }\n",
       "\n",
       "    .dataframe tbody tr th {\n",
       "        vertical-align: top;\n",
       "    }\n",
       "\n",
       "    .dataframe thead th {\n",
       "        text-align: right;\n",
       "    }\n",
       "</style>\n",
       "<table border=\"1\" class=\"dataframe\">\n",
       "  <thead>\n",
       "    <tr style=\"text-align: right;\">\n",
       "      <th></th>\n",
       "      <th>single</th>\n",
       "      <th>joint</th>\n",
       "      <th>vanilla prepend</th>\n",
       "      <th>cross</th>\n",
       "    </tr>\n",
       "  </thead>\n",
       "  <tbody>\n",
       "    <tr>\n",
       "      <th>from ria</th>\n",
       "      <td>1892</td>\n",
       "      <td>1774</td>\n",
       "      <td>66</td>\n",
       "      <td>NaN</td>\n",
       "    </tr>\n",
       "    <tr>\n",
       "      <th>from lenta</th>\n",
       "      <td>1887</td>\n",
       "      <td>1768</td>\n",
       "      <td>93</td>\n",
       "      <td>NaN</td>\n",
       "    </tr>\n",
       "    <tr>\n",
       "      <th>both cross</th>\n",
       "      <td>1906</td>\n",
       "      <td>1827</td>\n",
       "      <td>328</td>\n",
       "      <td>1741.0</td>\n",
       "    </tr>\n",
       "    <tr>\n",
       "      <th>both direct</th>\n",
       "      <td>1889</td>\n",
       "      <td>1811</td>\n",
       "      <td>1628</td>\n",
       "      <td>NaN</td>\n",
       "    </tr>\n",
       "  </tbody>\n",
       "</table>\n",
       "</div>"
      ],
      "text/plain": [
       "             single  joint  vanilla prepend   cross\n",
       "from ria       1892   1774               66     NaN\n",
       "from lenta     1887   1768               93     NaN\n",
       "both cross     1906   1827              328  1741.0\n",
       "both direct    1889   1811             1628     NaN"
      ]
     },
     "execution_count": 111,
     "metadata": {},
     "output_type": "execute_result"
    }
   ],
   "source": [
    "disc_df"
   ]
  },
  {
   "cell_type": "code",
   "execution_count": 114,
   "id": "written-taxation",
   "metadata": {},
   "outputs": [],
   "source": [
    "disc_df = pd.DataFrame(results)\n",
    "plot_df = pd.DataFrame({\n",
    "    'Count': list(disc_df['single']) + list(disc_df['joint']) + list(disc_df['vanilla prepend']),\n",
    "    'Model': ['Single'] * 4 + ['Joint'] * 4 + ['Vanilla'] * 4,\n",
    "    'Mode': ['RIA-RIA\\nRIA-Lenta', 'Lenta-RIA\\nLenta-Lenta', 'Lenta-RIA\\nRIA-Lenta', 'RIA-RIA\\nLenta-Lenta'] * 3,\n",
    "})\n",
    "plot_df['Count'] /= 2000"
   ]
  },
  {
   "cell_type": "code",
   "execution_count": 115,
   "id": "boring-apache",
   "metadata": {},
   "outputs": [
    {
     "data": {
      "image/png": "[encoded data removed]",
      "text/plain": [
       "<Figure size 720x504 with 1 Axes>"
      ]
     },
     "metadata": {},
     "output_type": "display_data"
    }
   ],
   "source": [
    "plt.figure(figsize=(10, 7))\n",
    "sns.barplot(x='Mode', y='Count', hue='Model', data=plot_df)\n",
    "plt.ylim(0)\n",
    "plt.legend(loc=1, bbox_to_anchor=(0.0, 0.985))\n",
    "plt.show()"
   ]
  },
  {
   "cell_type": "markdown",
   "id": "attached-former",
   "metadata": {},
   "source": [
    "## Gen Title eval"
   ]
  },
  {
   "cell_type": "code",
   "execution_count": 16,
   "id": "earned-white",
   "metadata": {},
   "outputs": [],
   "source": [
    "joint_baseline_hyps_ria = []\n",
    "joint_baseline_hyps_lenta = []\n",
    "\n",
    "single_baseline_hyps_ria = []\n",
    "single_baseline_hyps_lenta = []"
   ]
  },
  {
   "cell_type": "code",
   "execution_count": 17,
   "id": "oriented-execution",
   "metadata": {},
   "outputs": [
    {
     "name": "stderr",
     "output_type": "stream",
     "text": [
      "100%|██████████| 2000/2000 [15:26<00:00,  2.16it/s]\n"
     ]
    }
   ],
   "source": [
    "joint_baseline = EncoderDecoderModel.from_pretrained(joint_baseline_path)\n",
    "joint_baseline.eval()\n",
    "joint_baseline.to(device)\n",
    "\n",
    "with torch.no_grad():\n",
    "    for i in tqdm.trange(len(records)):\n",
    "        ria_inp = text_to_transformer_input(records[i]['ria_text'])\n",
    "        lenta_inp = text_to_transformer_input(records[i]['lenta_text'])\n",
    "        \n",
    "        joint_baseline_hyps_ria.append(\n",
    "            joint_baseline.generate(**ria_inp, **generation_args)\n",
    "        )\n",
    "        \n",
    "        joint_baseline_hyps_lenta.append(\n",
    "            joint_baseline.generate(**lenta_inp, **generation_args)\n",
    "        )\n",
    "\n",
    "joint_baseline.cpu();"
   ]
  },
  {
   "cell_type": "code",
   "execution_count": 18,
   "id": "ignored-strategy",
   "metadata": {},
   "outputs": [
    {
     "name": "stderr",
     "output_type": "stream",
     "text": [
      "100%|██████████| 2000/2000 [08:13<00:00,  4.05it/s]\n"
     ]
    }
   ],
   "source": [
    "ria_baseline = EncoderDecoderModel.from_pretrained(ria_baseline_path)\n",
    "ria_baseline.eval()\n",
    "ria_baseline.to(device)\n",
    "\n",
    "with torch.no_grad():\n",
    "    for i in tqdm.trange(len(records)):\n",
    "        ria_inp = text_to_transformer_input(records[i]['ria_text'])\n",
    "        \n",
    "        single_baseline_hyps_ria.append(\n",
    "            ria_baseline.generate(**ria_inp, **generation_args)\n",
    "        )\n",
    "\n",
    "ria_baseline.cpu();"
   ]
  },
  {
   "cell_type": "code",
   "execution_count": 19,
   "id": "fifteen-alcohol",
   "metadata": {},
   "outputs": [
    {
     "name": "stderr",
     "output_type": "stream",
     "text": [
      "100%|██████████| 2000/2000 [07:54<00:00,  4.21it/s]\n"
     ]
    }
   ],
   "source": [
    "lenta_baseline = EncoderDecoderModel.from_pretrained(lenta_baseline_path)\n",
    "lenta_baseline.eval()\n",
    "lenta_baseline.to(device)\n",
    "\n",
    "with torch.no_grad():\n",
    "    for i in tqdm.trange(len(records)):\n",
    "        lenta_inp = text_to_transformer_input(records[i]['lenta_text'])\n",
    "        \n",
    "        single_baseline_hyps_lenta.append(\n",
    "            lenta_baseline.generate(**lenta_inp, **generation_args)\n",
    "        )\n",
    "\n",
    "lenta_baseline.cpu();"
   ]
  },
  {
   "cell_type": "code",
   "execution_count": 20,
   "id": "parliamentary-breeding",
   "metadata": {},
   "outputs": [],
   "source": [
    "if type(ref_ria[0]) != list:\n",
    "    ref_ria = [[x] for x in ref_ria]\n",
    "if type(ref_lenta[0]) != list:\n",
    "    ref_lenta = [[x] for x in ref_lenta]"
   ]
  },
  {
   "cell_type": "code",
   "execution_count": 21,
   "id": "human-automation",
   "metadata": {},
   "outputs": [
    {
     "name": "stdout",
     "output_type": "stream",
     "text": [
      "CPU times: user 4.3 s, sys: 28 ms, total: 4.33 s\n",
      "Wall time: 4.33 s\n"
     ]
    }
   ],
   "source": [
    "%%time\n",
    "\n",
    "joint_baseline_hyps_ria = [trans_otpt_to_headline(x) for x in joint_baseline_hyps_ria]\n",
    "joint_baseline_hyps_lenta = [trans_otpt_to_headline(x) for x in joint_baseline_hyps_lenta]\n",
    "\n",
    "single_baseline_hyps_ria = [trans_otpt_to_headline(x) for x in single_baseline_hyps_ria]\n",
    "single_baseline_hyps_lenta = [trans_otpt_to_headline(x) for x in single_baseline_hyps_lenta]"
   ]
  },
  {
   "cell_type": "code",
   "execution_count": 22,
   "id": "involved-delivery",
   "metadata": {},
   "outputs": [],
   "source": [
    "def metrics_extract(metrics):\n",
    "    return {\n",
    "        'Rouge-1': metrics['r1'],\n",
    "        'Rouge-2': metrics['r2'],\n",
    "        'Rouge-L': metrics['rl'],\n",
    "        'Rouge-Mean': (metrics['r1'] + metrics['r2'] + metrics['rl']) / 3,\n",
    "        'BLEU': metrics['bleu'],\n",
    "    }"
   ]
  },
  {
   "cell_type": "markdown",
   "id": "careful-header",
   "metadata": {},
   "source": [
    "# Naming\n",
    "\n",
    "**agency of text** - **target agency of headline**"
   ]
  },
  {
   "cell_type": "markdown",
   "id": "saved-surgery",
   "metadata": {},
   "source": [
    "### Joint hyps With Joint baseline"
   ]
  },
  {
   "cell_type": "code",
   "execution_count": 32,
   "id": "sensitive-baptist",
   "metadata": {},
   "outputs": [],
   "source": [
    "ria_baseline_metrics = calc_metrics(ref_clusters, joint_baseline_hyps_ria, language='ru')\n",
    "lenta_baseline_metrics = calc_metrics(ref_clusters, joint_baseline_hyps_lenta, language='ru')\n",
    "\n",
    "ria_style_cross_metrics = calc_metrics(ref_clusters, joint_ria_from_lenta, language='ru')\n",
    "ria_style_direct_metrics = calc_metrics(ref_clusters, joint_ria_from_ria, language='ru')\n",
    "\n",
    "lenta_style_cross_metrics = calc_metrics(ref_clusters, joint_lenta_from_ria, language='ru')\n",
    "lenta_style_direct_metrics = calc_metrics(ref_clusters, joint_lenta_from_lenta, language='ru')"
   ]
  },
  {
   "cell_type": "code",
   "execution_count": 33,
   "id": "approximate-spelling",
   "metadata": {},
   "outputs": [
    {
     "data": {
      "text/html": [
       "<div>\n",
       "<style scoped>\n",
       "    .dataframe tbody tr th:only-of-type {\n",
       "        vertical-align: middle;\n",
       "    }\n",
       "\n",
       "    .dataframe tbody tr th {\n",
       "        vertical-align: top;\n",
       "    }\n",
       "\n",
       "    .dataframe thead th {\n",
       "        text-align: right;\n",
       "    }\n",
       "</style>\n",
       "<table border=\"1\" class=\"dataframe\">\n",
       "  <thead>\n",
       "    <tr style=\"text-align: right;\">\n",
       "      <th></th>\n",
       "      <th>BLEU</th>\n",
       "      <th>Rouge-1</th>\n",
       "      <th>Rouge-2</th>\n",
       "      <th>Rouge-L</th>\n",
       "      <th>Rouge-Mean</th>\n",
       "    </tr>\n",
       "  </thead>\n",
       "  <tbody>\n",
       "    <tr>\n",
       "      <th>RIA Baseline</th>\n",
       "      <td>0.65</td>\n",
       "      <td>0.48</td>\n",
       "      <td>0.28</td>\n",
       "      <td>0.46</td>\n",
       "      <td>0.41</td>\n",
       "    </tr>\n",
       "    <tr>\n",
       "      <th>Lenta-RIA</th>\n",
       "      <td>0.62</td>\n",
       "      <td>0.43</td>\n",
       "      <td>0.23</td>\n",
       "      <td>0.41</td>\n",
       "      <td>0.36</td>\n",
       "    </tr>\n",
       "    <tr>\n",
       "      <th>RIA-RIA</th>\n",
       "      <td>0.65</td>\n",
       "      <td>0.47</td>\n",
       "      <td>0.27</td>\n",
       "      <td>0.45</td>\n",
       "      <td>0.40</td>\n",
       "    </tr>\n",
       "  </tbody>\n",
       "</table>\n",
       "</div>"
      ],
      "text/plain": [
       "              BLEU  Rouge-1  Rouge-2  Rouge-L  Rouge-Mean\n",
       "RIA Baseline  0.65     0.48     0.28     0.46        0.41\n",
       "Lenta-RIA     0.62     0.43     0.23     0.41        0.36\n",
       "RIA-RIA       0.65     0.47     0.27     0.45        0.40"
      ]
     },
     "execution_count": 33,
     "metadata": {},
     "output_type": "execute_result"
    }
   ],
   "source": [
    "pd.DataFrame(metrics_extract(ria_baseline_metrics), index=['RIA Baseline']).append(\n",
    "    pd.DataFrame(metrics_extract(ria_style_cross_metrics), index=['Lenta-RIA'])).append(\n",
    "    pd.DataFrame(metrics_extract(ria_style_direct_metrics), index=['RIA-RIA'])).round(2)"
   ]
  },
  {
   "cell_type": "code",
   "execution_count": 34,
   "id": "entire-greece",
   "metadata": {},
   "outputs": [
    {
     "data": {
      "text/html": [
       "<div>\n",
       "<style scoped>\n",
       "    .dataframe tbody tr th:only-of-type {\n",
       "        vertical-align: middle;\n",
       "    }\n",
       "\n",
       "    .dataframe tbody tr th {\n",
       "        vertical-align: top;\n",
       "    }\n",
       "\n",
       "    .dataframe thead th {\n",
       "        text-align: right;\n",
       "    }\n",
       "</style>\n",
       "<table border=\"1\" class=\"dataframe\">\n",
       "  <thead>\n",
       "    <tr style=\"text-align: right;\">\n",
       "      <th></th>\n",
       "      <th>BLEU</th>\n",
       "      <th>Rouge-1</th>\n",
       "      <th>Rouge-2</th>\n",
       "      <th>Rouge-L</th>\n",
       "      <th>Rouge-Mean</th>\n",
       "    </tr>\n",
       "  </thead>\n",
       "  <tbody>\n",
       "    <tr>\n",
       "      <th>Lenta Baseline</th>\n",
       "      <td>0.63</td>\n",
       "      <td>0.47</td>\n",
       "      <td>0.27</td>\n",
       "      <td>0.45</td>\n",
       "      <td>0.39</td>\n",
       "    </tr>\n",
       "    <tr>\n",
       "      <th>Lenta-Lenta</th>\n",
       "      <td>0.61</td>\n",
       "      <td>0.44</td>\n",
       "      <td>0.23</td>\n",
       "      <td>0.41</td>\n",
       "      <td>0.36</td>\n",
       "    </tr>\n",
       "    <tr>\n",
       "      <th>RIA-Lenta</th>\n",
       "      <td>0.63</td>\n",
       "      <td>0.46</td>\n",
       "      <td>0.26</td>\n",
       "      <td>0.44</td>\n",
       "      <td>0.39</td>\n",
       "    </tr>\n",
       "  </tbody>\n",
       "</table>\n",
       "</div>"
      ],
      "text/plain": [
       "                BLEU  Rouge-1  Rouge-2  Rouge-L  Rouge-Mean\n",
       "Lenta Baseline  0.63     0.47     0.27     0.45        0.39\n",
       "Lenta-Lenta     0.61     0.44     0.23     0.41        0.36\n",
       "RIA-Lenta       0.63     0.46     0.26     0.44        0.39"
      ]
     },
     "execution_count": 34,
     "metadata": {},
     "output_type": "execute_result"
    }
   ],
   "source": [
    "pd.DataFrame(metrics_extract(lenta_baseline_metrics), index=['Lenta Baseline']).append(\n",
    "    pd.DataFrame(metrics_extract(lenta_style_cross_metrics), index=['Lenta-Lenta'])).append(\n",
    "    pd.DataFrame(metrics_extract(lenta_style_direct_metrics), index=['RIA-Lenta'])).round(2)"
   ]
  },
  {
   "cell_type": "markdown",
   "id": "superb-poland",
   "metadata": {},
   "source": [
    "### With single baseline"
   ]
  },
  {
   "cell_type": "code",
   "execution_count": 35,
   "id": "adjusted-evaluation",
   "metadata": {},
   "outputs": [],
   "source": [
    "ria_baseline_metrics = calc_metrics(ref_clusters, single_baseline_hyps_ria, language='ru')\n",
    "lenta_baseline_metrics = calc_metrics(ref_clusters, single_baseline_hyps_lenta, language='ru')\n",
    "\n",
    "ria_style_cross_metrics = calc_metrics(ref_clusters, single_ria_from_lenta, language='ru')\n",
    "ria_style_direct_metrics = calc_metrics(ref_clusters, single_ria_from_ria, language='ru')\n",
    "\n",
    "lenta_style_cross_metrics = calc_metrics(ref_clusters, single_lenta_from_ria, language='ru')\n",
    "lenta_style_direct_metrics = calc_metrics(ref_clusters, single_lenta_from_lenta, language='ru')"
   ]
  },
  {
   "cell_type": "code",
   "execution_count": 36,
   "id": "dress-invalid",
   "metadata": {},
   "outputs": [
    {
     "data": {
      "text/html": [
       "<div>\n",
       "<style scoped>\n",
       "    .dataframe tbody tr th:only-of-type {\n",
       "        vertical-align: middle;\n",
       "    }\n",
       "\n",
       "    .dataframe tbody tr th {\n",
       "        vertical-align: top;\n",
       "    }\n",
       "\n",
       "    .dataframe thead th {\n",
       "        text-align: right;\n",
       "    }\n",
       "</style>\n",
       "<table border=\"1\" class=\"dataframe\">\n",
       "  <thead>\n",
       "    <tr style=\"text-align: right;\">\n",
       "      <th></th>\n",
       "      <th>BLEU</th>\n",
       "      <th>Rouge-1</th>\n",
       "      <th>Rouge-2</th>\n",
       "      <th>Rouge-L</th>\n",
       "      <th>Rouge-Mean</th>\n",
       "    </tr>\n",
       "  </thead>\n",
       "  <tbody>\n",
       "    <tr>\n",
       "      <th>RIA Baseline</th>\n",
       "      <td>0.64</td>\n",
       "      <td>0.46</td>\n",
       "      <td>0.26</td>\n",
       "      <td>0.44</td>\n",
       "      <td>0.39</td>\n",
       "    </tr>\n",
       "    <tr>\n",
       "      <th>Lenta-RIA</th>\n",
       "      <td>0.59</td>\n",
       "      <td>0.41</td>\n",
       "      <td>0.21</td>\n",
       "      <td>0.39</td>\n",
       "      <td>0.34</td>\n",
       "    </tr>\n",
       "    <tr>\n",
       "      <th>RIA-RIA</th>\n",
       "      <td>0.62</td>\n",
       "      <td>0.44</td>\n",
       "      <td>0.24</td>\n",
       "      <td>0.42</td>\n",
       "      <td>0.37</td>\n",
       "    </tr>\n",
       "  </tbody>\n",
       "</table>\n",
       "</div>"
      ],
      "text/plain": [
       "              BLEU  Rouge-1  Rouge-2  Rouge-L  Rouge-Mean\n",
       "RIA Baseline  0.64     0.46     0.26     0.44        0.39\n",
       "Lenta-RIA     0.59     0.41     0.21     0.39        0.34\n",
       "RIA-RIA       0.62     0.44     0.24     0.42        0.37"
      ]
     },
     "execution_count": 36,
     "metadata": {},
     "output_type": "execute_result"
    }
   ],
   "source": [
    "pd.DataFrame(metrics_extract(ria_baseline_metrics), index=['RIA Baseline']).append(\n",
    "    pd.DataFrame(metrics_extract(ria_style_cross_metrics), index=['Lenta-RIA'])).append(\n",
    "    pd.DataFrame(metrics_extract(ria_style_direct_metrics), index=['RIA-RIA'])).round(2)"
   ]
  },
  {
   "cell_type": "code",
   "execution_count": 37,
   "id": "informational-johnston",
   "metadata": {},
   "outputs": [
    {
     "data": {
      "text/html": [
       "<div>\n",
       "<style scoped>\n",
       "    .dataframe tbody tr th:only-of-type {\n",
       "        vertical-align: middle;\n",
       "    }\n",
       "\n",
       "    .dataframe tbody tr th {\n",
       "        vertical-align: top;\n",
       "    }\n",
       "\n",
       "    .dataframe thead th {\n",
       "        text-align: right;\n",
       "    }\n",
       "</style>\n",
       "<table border=\"1\" class=\"dataframe\">\n",
       "  <thead>\n",
       "    <tr style=\"text-align: right;\">\n",
       "      <th></th>\n",
       "      <th>BLEU</th>\n",
       "      <th>Rouge-1</th>\n",
       "      <th>Rouge-2</th>\n",
       "      <th>Rouge-L</th>\n",
       "      <th>Rouge-Mean</th>\n",
       "    </tr>\n",
       "  </thead>\n",
       "  <tbody>\n",
       "    <tr>\n",
       "      <th>Lenta Baseline</th>\n",
       "      <td>0.60</td>\n",
       "      <td>0.43</td>\n",
       "      <td>0.23</td>\n",
       "      <td>0.41</td>\n",
       "      <td>0.36</td>\n",
       "    </tr>\n",
       "    <tr>\n",
       "      <th>Lenta-Lenta</th>\n",
       "      <td>0.56</td>\n",
       "      <td>0.40</td>\n",
       "      <td>0.20</td>\n",
       "      <td>0.38</td>\n",
       "      <td>0.32</td>\n",
       "    </tr>\n",
       "    <tr>\n",
       "      <th>RIA-Lenta</th>\n",
       "      <td>0.58</td>\n",
       "      <td>0.42</td>\n",
       "      <td>0.22</td>\n",
       "      <td>0.40</td>\n",
       "      <td>0.35</td>\n",
       "    </tr>\n",
       "  </tbody>\n",
       "</table>\n",
       "</div>"
      ],
      "text/plain": [
       "                BLEU  Rouge-1  Rouge-2  Rouge-L  Rouge-Mean\n",
       "Lenta Baseline  0.60     0.43     0.23     0.41        0.36\n",
       "Lenta-Lenta     0.56     0.40     0.20     0.38        0.32\n",
       "RIA-Lenta       0.58     0.42     0.22     0.40        0.35"
      ]
     },
     "execution_count": 37,
     "metadata": {},
     "output_type": "execute_result"
    }
   ],
   "source": [
    "pd.DataFrame(metrics_extract(lenta_baseline_metrics), index=['Lenta Baseline']).append(\n",
    "    pd.DataFrame(metrics_extract(lenta_style_cross_metrics), index=['Lenta-Lenta'])).append(\n",
    "    pd.DataFrame(metrics_extract(lenta_style_direct_metrics), index=['RIA-Lenta'])).round(2)"
   ]
  },
  {
   "cell_type": "markdown",
   "id": "comparative-desert",
   "metadata": {},
   "source": [
    "## Dumping headlines"
   ]
  },
  {
   "cell_type": "code",
   "execution_count": 116,
   "id": "complete-europe",
   "metadata": {},
   "outputs": [],
   "source": [
    "from utils.gen_title_calculate_metrics import postprocess"
   ]
  },
  {
   "cell_type": "code",
   "execution_count": 124,
   "id": "capital-amateur",
   "metadata": {},
   "outputs": [],
   "source": [
    "discriminator.to(device);"
   ]
  },
  {
   "cell_type": "code",
   "execution_count": 120,
   "id": "naughty-leisure",
   "metadata": {},
   "outputs": [],
   "source": [
    "ref_ria = [x[0] for x in ref_ria]\n",
    "ref_lenta = [x[0] for x in ref_lenta]"
   ]
  },
  {
   "cell_type": "code",
   "execution_count": 125,
   "id": "fancy-separate",
   "metadata": {},
   "outputs": [
    {
     "name": "stderr",
     "output_type": "stream",
     "text": [
      "100%|██████████| 2000/2000 [00:35<00:00, 56.90it/s]"
     ]
    },
    {
     "name": "stdout",
     "output_type": "stream",
     "text": [
      "33\n"
     ]
    },
    {
     "name": "stderr",
     "output_type": "stream",
     "text": [
      "\n"
     ]
    }
   ],
   "source": [
    "ok_cnt = 0\n",
    "\n",
    "with open('on_ria.txt', 'w') as f:\n",
    "    for i in tqdm.trange(len(records)):\n",
    "        ria_zag = joint_ria_from_ria[i]\n",
    "        lenta_zag = joint_lenta_from_ria[i]\n",
    "        \n",
    "        ria_ref_zag = ref_ria[i]\n",
    "        lenta_ref_zag = ref_lenta[i]        \n",
    "            \n",
    "        inp_ria = tokenizer(ria_zag, \n",
    "            add_special_tokens=True, max_length=48,\n",
    "            padding='max_length', truncation=True\n",
    "        )\n",
    "        inp_lenta = tokenizer(lenta_zag, \n",
    "            add_special_tokens=True, max_length=48,\n",
    "            padding='max_length', truncation=True\n",
    "        )\n",
    "        \n",
    "        logits_ria = discriminator(input_ids=torch.LongTensor(inp_ria['input_ids']).cuda().unsqueeze(0), \n",
    "                           attention_mask=torch.LongTensor(inp_ria['attention_mask']).cuda().unsqueeze(0))[0]\n",
    "        logits_lenta = discriminator(input_ids=torch.LongTensor(inp_lenta['input_ids']).cuda().unsqueeze(0), \n",
    "                           attention_mask=torch.LongTensor(inp_lenta['attention_mask']).cuda().unsqueeze(0))[0]            \n",
    "        ria_pred = torch.argmax(logits_ria).item()\n",
    "        lenta_pred = torch.argmax(logits_lenta).item()\n",
    "\n",
    "        if not (ria_pred != lenta_pred and \\\n",
    "                ria_pred == agency_to_discr_target['РИА Новости'] and \\\n",
    "                min(logits_ria.max().item(), logits_lenta.max().item()) >= 4.57):\n",
    "            continue\n",
    "\n",
    "        ria_ref_zag, ria_zag = postprocess(ria_ref_zag, ria_zag, 'ru', is_multiple_ref=True, lower=True)\n",
    "        lenta_ref_zag, lenta_zag = postprocess(lenta_ref_zag, lenta_zag, 'ru', is_multiple_ref=True, lower=True)\n",
    "\n",
    "        f.write('RIA text: ' + records[i]['ria_text'] + '\\n\\n')\n",
    "        f.write('RIA Ref headline: ' + ria_ref_zag[0] + '\\n')\n",
    "        f.write('Lenta Ref headline: ' + lenta_ref_zag[0] + '\\n\\n')\n",
    "\n",
    "        f.write('RIA Hyp headline: ' + ria_zag + '\\n')\n",
    "        f.write('Lenta Hyp headline: ' + lenta_zag + '\\n')\n",
    "\n",
    "        f.write('\\n\\n' + '-' * 50 + '\\n')\n",
    "        ok_cnt += 1\n",
    "        \n",
    "print(ok_cnt)"
   ]
  },
  {
   "cell_type": "code",
   "execution_count": null,
   "id": "meaningful-breathing",
   "metadata": {},
   "outputs": [
    {
     "name": "stderr",
     "output_type": "stream",
     "text": [
      " 61%|██████    | 1224/2000 [00:21<00:13, 58.16it/s]"
     ]
    }
   ],
   "source": [
    "ok_cnt = 0\n",
    "\n",
    "with open('on_lenta.txt', 'w') as f:\n",
    "    for i in tqdm.trange(len(records)):\n",
    "        ria_zag = joint_ria_from_lenta[i]\n",
    "        lenta_zag = joint_lenta_from_lenta[i]\n",
    "        \n",
    "        ria_ref_zag = ref_ria[i]\n",
    "        lenta_ref_zag = ref_lenta[i]      \n",
    "            \n",
    "        inp_ria = tokenizer(ria_zag, \n",
    "            add_special_tokens=True, max_length=48,\n",
    "            padding='max_length', truncation=True\n",
    "        )\n",
    "        inp_lenta = tokenizer(lenta_zag, \n",
    "            add_special_tokens=True, max_length=48,\n",
    "            padding='max_length', truncation=True\n",
    "        )\n",
    "        \n",
    "        logits_ria = discriminator(input_ids=torch.LongTensor(inp_ria['input_ids']).cuda().unsqueeze(0), \n",
    "                           attention_mask=torch.LongTensor(inp_ria['attention_mask']).cuda().unsqueeze(0))[0]\n",
    "        logits_lenta = discriminator(input_ids=torch.LongTensor(inp_lenta['input_ids']).cuda().unsqueeze(0), \n",
    "                           attention_mask=torch.LongTensor(inp_lenta['attention_mask']).cuda().unsqueeze(0))[0]            \n",
    "        ria_pred = torch.argmax(logits_ria).item()\n",
    "        lenta_pred = torch.argmax(logits_lenta).item()\n",
    "\n",
    "\n",
    "        if not (ria_pred != lenta_pred and \\\n",
    "                ria_pred == agency_to_discr_target['РИА Новости'] and \\\n",
    "                min(logits_ria.max().item(), logits_lenta.max().item()) >= 4.57):\n",
    "            continue\n",
    "\n",
    "        ria_ref_zag, ria_zag = postprocess(ria_ref_zag, ria_zag, 'ru', is_multiple_ref=True, lower=True)\n",
    "        lenta_ref_zag, lenta_zag = postprocess(lenta_ref_zag, lenta_zag, 'ru', is_multiple_ref=True, lower=True)\n",
    "\n",
    "        f.write('Lenta text: ' + records[i]['lenta_text'] + '\\n\\n')\n",
    "        f.write('RIA Ref headline: ' + ria_ref_zag[0] + '\\n')\n",
    "        f.write('Lenta Ref headline: ' + lenta_ref_zag[0] + '\\n\\n')\n",
    "\n",
    "        f.write('RIA Hyp headline: ' + ria_zag + '\\n')\n",
    "        f.write('Lenta Hyp headline: ' + lenta_zag + '\\n')\n",
    "\n",
    "        f.write('\\n\\n' + '-' * 50 + '\\n')\n",
    "        \n",
    "        ok_cnt += 1\n",
    "        \n",
    "print(ok_cnt)"
   ]
  },
  {
   "cell_type": "code",
   "execution_count": null,
   "id": "aggregate-angle",
   "metadata": {},
   "outputs": [],
   "source": [
    "discriminator.cpu();"
   ]
  },
  {
   "cell_type": "markdown",
   "id": "proper-brighton",
   "metadata": {},
   "source": [
    "## Watching clusters split"
   ]
  },
  {
   "cell_type": "code",
   "execution_count": 140,
   "id": "computational-malaysia",
   "metadata": {},
   "outputs": [
    {
     "name": "stderr",
     "output_type": "stream",
     "text": [
      "75362it [00:16, 4526.69it/s]\n",
      "2000it [00:00, 5875.15it/s]\n"
     ]
    }
   ],
   "source": [
    "train =  [r for r in tqdm.tqdm(reader('../../datasets/full_lenta_ria.train.jsonl'))]\n",
    "test = [r for r in tqdm.tqdm(reader('../../datasets/full_lenta_ria.test.jsonl'))]"
   ]
  },
  {
   "cell_type": "code",
   "execution_count": 141,
   "id": "public-conducting",
   "metadata": {},
   "outputs": [],
   "source": [
    "from collections import Counter\n",
    "\n",
    "train_texts = [r['ria_text'] for r in train] + [r['lenta_text'] for r in train]\n",
    "test_texts = [r['ria_text'] for r in test] + [r['lenta_text'] for r in test]"
   ]
  },
  {
   "cell_type": "code",
   "execution_count": 142,
   "id": "extended-punishment",
   "metadata": {},
   "outputs": [],
   "source": [
    "trc = Counter()\n",
    "\n",
    "for x in train_texts:\n",
    "    trc.update(x.lower().split())"
   ]
  },
  {
   "cell_type": "code",
   "execution_count": 143,
   "id": "synthetic-toyota",
   "metadata": {},
   "outputs": [],
   "source": [
    "tc = Counter()\n",
    "\n",
    "for x in test_texts:\n",
    "    tc.update(x.lower().split())"
   ]
  },
  {
   "cell_type": "code",
   "execution_count": 144,
   "id": "employed-second",
   "metadata": {},
   "outputs": [
    {
     "data": {
      "text/plain": [
       "[('тысяч', 39677),\n",
       " ('их', 39408),\n",
       " ('года.', 38561),\n",
       " ('однако', 37977),\n",
       " ('еще', 37619),\n",
       " ('сказал', 37316),\n",
       " ('данным', 37163),\n",
       " ('около', 36350),\n",
       " ('под', 35945),\n",
       " ('все', 35831),\n",
       " ('ее', 34080),\n",
       " ('была', 33369),\n",
       " ('они', 33155),\n",
       " ('сообщил', 31440),\n",
       " ('этого', 29242),\n",
       " ('словам', 28976),\n",
       " ('суд', 27961),\n",
       " ('может', 27937),\n",
       " ('сша', 27443),\n",
       " ('власти', 27228),\n",
       " ('или', 26893),\n",
       " ('только', 26851),\n",
       " ('будут', 26840),\n",
       " ('миллионов', 26790),\n",
       " ('несколько', 26315),\n",
       " ('ссылкой', 26178),\n",
       " ('заявил', 26130),\n",
       " ('результате', 26066),\n",
       " ('чтобы', 25832),\n",
       " ('кроме', 25810),\n",
       " ('2011', 25788),\n",
       " ('том,', 25465),\n",
       " ('один', 25234),\n",
       " ('пока', 25086),\n",
       " ('же', 25045),\n",
       " ('так', 24886),\n",
       " ('является', 24618),\n",
       " ('из-за', 24570),\n",
       " ('компании', 24411),\n",
       " ('2010', 24297),\n",
       " ('глава', 23955),\n",
       " ('2012', 23911),\n",
       " ('президент', 23905),\n",
       " ('где', 23747),\n",
       " ('против', 23458),\n",
       " ('решение', 22976),\n",
       " ('два', 22654),\n",
       " ('>>', 22631),\n",
       " ('говорится', 22322),\n",
       " ('между', 22255)]"
      ]
     },
     "execution_count": 144,
     "metadata": {},
     "output_type": "execute_result"
    }
   ],
   "source": [
    "trc.most_common(100)[50:]"
   ]
  },
  {
   "cell_type": "code",
   "execution_count": 145,
   "id": "injured-surrey",
   "metadata": {},
   "outputs": [
    {
     "data": {
      "text/plain": [
       "[('мы', 965),\n",
       " ('сша', 932),\n",
       " ('украины', 927),\n",
       " ('глава', 915),\n",
       " ('было', 901),\n",
       " ('уже', 895),\n",
       " ('более', 887),\n",
       " ('их', 872),\n",
       " ('еще', 869),\n",
       " ('который', 866),\n",
       " ('тысяч', 864),\n",
       " ('все', 853),\n",
       " ('2015', 846),\n",
       " ('того,', 828),\n",
       " ('под', 791),\n",
       " ('они', 784),\n",
       " ('может', 768),\n",
       " ('около', 761),\n",
       " ('сообщил', 747),\n",
       " ('этого', 747),\n",
       " ('против', 723),\n",
       " ('из-за', 715),\n",
       " ('новости', 685),\n",
       " ('говорится', 684),\n",
       " ('ее', 682),\n",
       " ('была', 678),\n",
       " ('будут', 671),\n",
       " ('владимир', 666),\n",
       " ('власти', 663),\n",
       " ('чтобы', 661),\n",
       " ('или', 659),\n",
       " ('данным', 654),\n",
       " ('решение', 652),\n",
       " ('однако', 643),\n",
       " ('миллионов', 627),\n",
       " ('компании', 613),\n",
       " ('словам', 612),\n",
       " ('декабря,', 598),\n",
       " ('заявил,', 598),\n",
       " ('является', 597),\n",
       " ('только', 594),\n",
       " ('так', 587),\n",
       " ('словам,', 582),\n",
       " ('1', 565),\n",
       " ('она', 554),\n",
       " ('же', 553),\n",
       " ('быть', 545),\n",
       " ('связи', 544),\n",
       " ('том,', 541),\n",
       " ('10', 540)]"
      ]
     },
     "execution_count": 145,
     "metadata": {},
     "output_type": "execute_result"
    }
   ],
   "source": [
    "tc.most_common(100)[50:]"
   ]
  }
 ],
 "metadata": {
  "kernelspec": {
   "display_name": "Python 3",
   "language": "python",
   "name": "python3"
  },
  "language_info": {
   "codemirror_mode": {
    "name": "ipython",
    "version": 3
   },
   "file_extension": ".py",
   "mimetype": "text/x-python",
   "name": "python",
   "nbconvert_exporter": "python",
   "pygments_lexer": "ipython3",
   "version": "3.8.5"
  }
 },
 "nbformat": 4,
 "nbformat_minor": 5
}
