{
 "cells": [
  {
   "cell_type": "code",
   "execution_count": 1,
   "id": "large-playback",
   "metadata": {},
   "outputs": [],
   "source": [
    "import tqdm\n",
    "import numpy as np\n",
    "import pandas as pd\n",
    "import torch\n",
    "import json\n",
    "import random\n",
    "import matplotlib.pyplot as plt\n",
    "import seaborn as sns\n",
    "sns.set()\n",
    "from collections import defaultdict\n",
    "from transformers import BertTokenizer, EncoderDecoderModel, AutoModelForSequenceClassification\n",
    "\n",
    "from readers import tg_reader, lenta_reader, ria_reader\n",
    "from custom_datasets.agency_title_dataset import AgencyTitleDatasetGeneration\n",
    "from custom_datasets import FullStyleDataset\n",
    "\n",
    "def first_sent(x, token_id):\n",
    "    lx = list(x)\n",
    "    if token_id in x:\n",
    "        return x[:lx.index(token_id)]\n",
    "    return x\n",
    "\n",
    "def reader(path):\n",
    "    with open(path, 'r') as f:\n",
    "        for line in f:\n",
    "            yield json.loads(line.strip())"
   ]
  },
  {
   "cell_type": "code",
   "execution_count": 2,
   "id": "atlantic-quarterly",
   "metadata": {},
   "outputs": [],
   "source": [
    "device = 'cuda'\n",
    "# device = 'cpu'"
   ]
  },
  {
   "cell_type": "code",
   "execution_count": 3,
   "id": "continent-volume",
   "metadata": {},
   "outputs": [],
   "source": [
    "tokenizer_path = '/home/aobuhtijarov/models/rubert_cased_L-12_H-768_A-12_pt/'\n",
    "\n",
    "# BASELINES\n",
    "joint_baseline_path = '/home/aobuhtijarov/models/joint-baseline/checkpoint-6000/'\n",
    "ria_baseline_path = '/home/aobuhtijarov/models/ria_baseline/checkpoint-6000/'\n",
    "lenta_baseline_path = '/home/aobuhtijarov/models/lenta_baseline/checkpoint-6000/'\n",
    "\n",
    "\n",
    "# STYLE MODELS\n",
    "joint_style_path = '/home/aobuhtijarov/models/full_style_model/checkpoint-6000/'\n",
    "ria_style_path = '/home/aobuhtijarov/models/ria_style/checkpoint-6000/'\n",
    "lenta_style_path = '/home/aobuhtijarov/models/lenta_style/checkpoint-6000/'\n",
    "\n",
    "\n",
    "# DISCRIMINATOR\n",
    "## HERE WE USE BEST\n",
    "discr_model_path = '/home/aobuhtijarov/models/discriminator_on_clusters_from_rubert/'"
   ]
  },
  {
   "cell_type": "code",
   "execution_count": 4,
   "id": "consecutive-barcelona",
   "metadata": {},
   "outputs": [],
   "source": [
    "tokenizer = BertTokenizer.from_pretrained(tokenizer_path, do_lower_case=False, do_basic_tokenize=False)"
   ]
  },
  {
   "cell_type": "code",
   "execution_count": 5,
   "id": "boring-electric",
   "metadata": {},
   "outputs": [
    {
     "name": "stderr",
     "output_type": "stream",
     "text": [
      "2000it [00:00, 2390.68it/s]\n"
     ]
    }
   ],
   "source": [
    "records = [r for r in tqdm.tqdm(reader('../../datasets/full_lenta_ria.test.jsonl'))]\n",
    "\n",
    "lenta_records = [\n",
    "    {'text': r['lenta_text'], 'title': r['lenta_title'], 'agency': 'lenta.ru', 'date': r['lenta_date']} \n",
    "    for r in records\n",
    "]\n",
    "\n",
    "ria_records = [\n",
    "    {'text': r['ria_text'], 'title': r['ria_title'], 'agency': 'РИА Новости', 'date': r['lenta_date']} \n",
    "    for r in records\n",
    "]"
   ]
  },
  {
   "cell_type": "code",
   "execution_count": 6,
   "id": "transsexual-spencer",
   "metadata": {},
   "outputs": [],
   "source": [
    "def text_to_transformer_input(text):\n",
    "    inputs = tokenizer(\n",
    "        text,\n",
    "        add_special_tokens=True,\n",
    "        max_length=250,\n",
    "        padding=\"max_length\",\n",
    "        truncation=True\n",
    "    )\n",
    "    \n",
    "    return {\n",
    "        'input_ids': torch.LongTensor(inputs['input_ids']).to(device).unsqueeze(0),\n",
    "        'attention_mask': torch.LongTensor(inputs['attention_mask']).to(device).unsqueeze(0)\n",
    "    }\n",
    "\n",
    "def text_to_transformer_input_not_unsqueeze(text):\n",
    "    inputs = tokenizer(\n",
    "        text,\n",
    "        add_special_tokens=True,\n",
    "        max_length=250,\n",
    "        padding=\"max_length\",\n",
    "        truncation=True\n",
    "    )\n",
    "    \n",
    "    return {\n",
    "        'input_ids': torch.LongTensor(inputs['input_ids']).to(device),\n",
    "        'attention_mask': torch.LongTensor(inputs['attention_mask']).to(device)\n",
    "    }\n",
    "\n",
    "def unsq(x):\n",
    "    return {\n",
    "        'input_ids': x['input_ids'].unsqueeze(0),\n",
    "        'attention_mask': x['attention_mask'].unsqueeze(0),        \n",
    "    }"
   ]
  },
  {
   "cell_type": "code",
   "execution_count": 7,
   "id": "stuck-target",
   "metadata": {},
   "outputs": [],
   "source": [
    "generation_args = {\n",
    "    'decoder_start_token_id': 0,\n",
    "    'min_length': 7,\n",
    "    'max_length': 20,\n",
    "    'num_beams': 6\n",
    "}\n",
    "\n",
    "single_lenta_from_ria = []\n",
    "single_lenta_from_lenta = []\n",
    "single_ria_from_ria = []\n",
    "single_ria_from_lenta = []\n",
    "\n",
    "joint_lenta_from_ria = []\n",
    "joint_lenta_from_lenta = []\n",
    "joint_ria_from_ria = []\n",
    "joint_ria_from_lenta = []\n",
    "\n",
    "ref_ria = [r['ria_title'] for r in records]\n",
    "ref_lenta = [r['lenta_title'] for r in records]"
   ]
  },
  {
   "cell_type": "code",
   "execution_count": 8,
   "id": "meaning-fitting",
   "metadata": {},
   "outputs": [],
   "source": [
    "agency_list = ['РИА Новости', 'lenta.ru']\n",
    "agency_to_special_token_id = {a: tokenizer.vocab[f'[unused{i+1}]'] for i, a in enumerate(agency_list)}\n",
    "agency_to_discr_target = {a: i for i, a in enumerate(sorted(agency_list))}"
   ]
  },
  {
   "cell_type": "code",
   "execution_count": 9,
   "id": "surprising-heaven",
   "metadata": {},
   "outputs": [],
   "source": [
    "def set_target_title(tok_otpt, agency_to_special_token_id, target_agency):\n",
    "    marker = agency_to_special_token_id[target_agency]\n",
    "\n",
    "    tok_otpt['input_ids'][2:] = tok_otpt['input_ids'][1:-1].clone()\n",
    "    tok_otpt['input_ids'][1] = marker\n",
    "\n",
    "    tok_otpt['attention_mask'][2:] = tok_otpt['attention_mask'][1:-1].clone()\n",
    "    tok_otpt['attention_mask'][1] = 1\n",
    "\n",
    "    return tok_otpt"
   ]
  },
  {
   "cell_type": "code",
   "execution_count": null,
   "id": "plastic-bosnia",
   "metadata": {},
   "outputs": [
    {
     "name": "stderr",
     "output_type": "stream",
     "text": [
      " 21%|██        | 424/2000 [13:43<1:28:26,  3.37s/it]"
     ]
    }
   ],
   "source": [
    "joint_style = EncoderDecoderModel.from_pretrained(joint_style_path)\n",
    "joint_style.eval()\n",
    "joint_style.to(device)\n",
    "\n",
    "with torch.no_grad():\n",
    "    for i in tqdm.trange(len(records)):\n",
    "        \n",
    "        joint_lenta_from_ria.append(joint_style.generate(**unsq(\n",
    "            set_target_title(text_to_transformer_input_not_unsqueeze(records[i]['ria_text']), \n",
    "                             agency_to_special_token_id, 'lenta.ru')\n",
    "        ),\n",
    "        **generation_args))\n",
    "        \n",
    "        joint_lenta_from_lenta.append(joint_style.generate(**unsq(\n",
    "            set_target_title(text_to_transformer_input_not_unsqueeze(records[i]['lenta_text']), \n",
    "                             agency_to_special_token_id, 'lenta.ru')\n",
    "        ),\n",
    "        **generation_args))\n",
    "        \n",
    "        \n",
    "        joint_ria_from_ria.append(joint_style.generate(**unsq(\n",
    "            set_target_title(text_to_transformer_input_not_unsqueeze(records[i]['ria_text']), \n",
    "                             agency_to_special_token_id, 'РИА Новости')\n",
    "        ),\n",
    "        **generation_args))\n",
    "        \n",
    "        joint_ria_from_lenta.append(joint_style.generate(**unsq(\n",
    "            set_target_title(text_to_transformer_input_not_unsqueeze(records[i]['lenta_text']), \n",
    "                             agency_to_special_token_id, 'РИА Новости')\n",
    "        ),\n",
    "        **generation_args))\n",
    "        \n",
    "joint_style.cpu();"
   ]
  },
  {
   "cell_type": "code",
   "execution_count": null,
   "id": "naughty-static",
   "metadata": {},
   "outputs": [],
   "source": [
    "ria_style = EncoderDecoderModel.from_pretrained(ria_style_path)\n",
    "ria_style.eval()\n",
    "ria_style.to(device)\n",
    "\n",
    "with torch.no_grad():\n",
    "    for i in tqdm.trange(len(records)):\n",
    "        ria_inp = text_to_transformer_input(records[i]['ria_text'])\n",
    "        lenta_inp = text_to_transformer_input(records[i]['lenta_text'])\n",
    "        \n",
    "        single_ria_from_ria.append(\n",
    "            ria_style.generate(**ria_inp, **generation_args)\n",
    "        )\n",
    "        \n",
    "        single_ria_from_lenta.append(\n",
    "            ria_style.generate(**lenta_inp, **generation_args)\n",
    "        )\n",
    "        \n",
    "ria_style.cpu();"
   ]
  },
  {
   "cell_type": "code",
   "execution_count": null,
   "id": "lucky-spring",
   "metadata": {
    "scrolled": false
   },
   "outputs": [],
   "source": [
    "lenta_style = EncoderDecoderModel.from_pretrained(lenta_style_path)\n",
    "lenta_style.eval()\n",
    "lenta_style.to(device)\n",
    "\n",
    "with torch.no_grad():\n",
    "    for i in tqdm.trange(len(records)):\n",
    "        ria_inp = text_to_transformer_input(records[i]['ria_text'])\n",
    "        lenta_inp = text_to_transformer_input(records[i]['lenta_text'])\n",
    "        \n",
    "        single_lenta_from_ria.append(\n",
    "            lenta_style.generate(**ria_inp, **generation_args)\n",
    "        )\n",
    "        \n",
    "        single_lenta_from_lenta.append(\n",
    "            lenta_style.generate(**lenta_inp, **generation_args)\n",
    "        )\n",
    "        \n",
    "lenta_style.cpu();"
   ]
  },
  {
   "cell_type": "code",
   "execution_count": null,
   "id": "japanese-river",
   "metadata": {},
   "outputs": [],
   "source": [
    "def trans_otpt_to_headline(otpt):\n",
    "    return [\n",
    "        tokenizer.decode(first_sent(x, tokenizer.sep_token_id), skip_special_tokens=True) for x in otpt\n",
    "    ][0]"
   ]
  },
  {
   "cell_type": "code",
   "execution_count": null,
   "id": "floppy-scholarship",
   "metadata": {},
   "outputs": [],
   "source": [
    "%%time\n",
    "\n",
    "single_ria_from_ria = [trans_otpt_to_headline(x) for x in single_ria_from_ria]\n",
    "single_ria_from_lenta = [trans_otpt_to_headline(x) for x in single_ria_from_lenta]\n",
    "single_lenta_from_ria = [trans_otpt_to_headline(x) for x in single_lenta_from_ria]\n",
    "single_lenta_from_lenta = [trans_otpt_to_headline(x) for x in single_lenta_from_lenta]\n",
    "\n",
    "joint_ria_from_ria = [trans_otpt_to_headline(x) for x in joint_ria_from_ria]\n",
    "joint_ria_from_lenta = [trans_otpt_to_headline(x) for x in joint_ria_from_lenta]\n",
    "joint_lenta_from_ria = [trans_otpt_to_headline(x) for x in joint_lenta_from_ria]\n",
    "joint_lenta_from_lenta = [trans_otpt_to_headline(x) for x in joint_lenta_from_lenta]"
   ]
  },
  {
   "cell_type": "markdown",
   "id": "imperial-authentication",
   "metadata": {},
   "source": [
    "## Style Metrics Table"
   ]
  },
  {
   "cell_type": "code",
   "execution_count": 23,
   "id": "informative-drink",
   "metadata": {},
   "outputs": [],
   "source": [
    "import pandas as pd\n",
    "import numpy as np\n",
    "\n",
    "from utils.gen_title_calculate_metrics import calc_metrics\n",
    "\n",
    "def scalar_from_metrics(m):\n",
    "    return (m['rl'] + m['r2'] + m['rl']) / 3"
   ]
  },
  {
   "cell_type": "markdown",
   "id": "known-tooth",
   "metadata": {},
   "source": [
    "### For joint"
   ]
  },
  {
   "cell_type": "code",
   "execution_count": 29,
   "id": "starting-newport",
   "metadata": {},
   "outputs": [
    {
     "name": "stderr",
     "output_type": "stream",
     "text": [
      "6it [01:38, 16.41s/it]\n"
     ]
    }
   ],
   "source": [
    "joint_results = np.zeros((6, 6))\n",
    "\n",
    "headlines = (\n",
    "    joint_lenta_from_ria, joint_lenta_from_lenta, ref_lenta, joint_ria_from_ria, joint_ria_from_lenta, ref_ria\n",
    ")\n",
    "\n",
    "names = (\n",
    "    'RIA to Lenta', 'Lenta to Lenta', 'Ref Lenta', 'RIA to RIA', 'Lenta to RIA',  'Ref RIA'\n",
    ")\n",
    "\n",
    "for i, h1 in tqdm.tqdm(enumerate(headlines)):\n",
    "    for j, h2 in enumerate(headlines):\n",
    "        if type(h1[0]) != list:\n",
    "            h1 = [[x] for x in h1]\n",
    "        if type(h2[0]) != str:\n",
    "            h2 = [x[0] for x in h2]\n",
    "        \n",
    "        joint_results[i, j] = scalar_from_metrics(\n",
    "            calc_metrics(h1, h2, language='ru')\n",
    "        )"
   ]
  },
  {
   "cell_type": "code",
   "execution_count": 30,
   "id": "legal-actress",
   "metadata": {},
   "outputs": [
    {
     "data": {
      "text/html": [
       "<div>\n",
       "<style scoped>\n",
       "    .dataframe tbody tr th:only-of-type {\n",
       "        vertical-align: middle;\n",
       "    }\n",
       "\n",
       "    .dataframe tbody tr th {\n",
       "        vertical-align: top;\n",
       "    }\n",
       "\n",
       "    .dataframe thead th {\n",
       "        text-align: right;\n",
       "    }\n",
       "</style>\n",
       "<table border=\"1\" class=\"dataframe\">\n",
       "  <thead>\n",
       "    <tr style=\"text-align: right;\">\n",
       "      <th></th>\n",
       "      <th>RIA to Lenta</th>\n",
       "      <th>Lenta to Lenta</th>\n",
       "      <th>Ref Lenta</th>\n",
       "      <th>RIA to RIA</th>\n",
       "      <th>Lenta to RIA</th>\n",
       "      <th>Ref RIA</th>\n",
       "    </tr>\n",
       "  </thead>\n",
       "  <tbody>\n",
       "    <tr>\n",
       "      <th>RIA to Lenta</th>\n",
       "      <td>1.00</td>\n",
       "      <td>0.38</td>\n",
       "      <td>0.27</td>\n",
       "      <td>0.42</td>\n",
       "      <td>0.28</td>\n",
       "      <td>0.27</td>\n",
       "    </tr>\n",
       "    <tr>\n",
       "      <th>Lenta to Lenta</th>\n",
       "      <td>0.38</td>\n",
       "      <td>1.00</td>\n",
       "      <td>0.33</td>\n",
       "      <td>0.29</td>\n",
       "      <td>0.45</td>\n",
       "      <td>0.24</td>\n",
       "    </tr>\n",
       "    <tr>\n",
       "      <th>Ref Lenta</th>\n",
       "      <td>0.27</td>\n",
       "      <td>0.33</td>\n",
       "      <td>1.00</td>\n",
       "      <td>0.23</td>\n",
       "      <td>0.26</td>\n",
       "      <td>0.27</td>\n",
       "    </tr>\n",
       "    <tr>\n",
       "      <th>RIA to RIA</th>\n",
       "      <td>0.42</td>\n",
       "      <td>0.29</td>\n",
       "      <td>0.23</td>\n",
       "      <td>1.00</td>\n",
       "      <td>0.37</td>\n",
       "      <td>0.35</td>\n",
       "    </tr>\n",
       "    <tr>\n",
       "      <th>Lenta to RIA</th>\n",
       "      <td>0.28</td>\n",
       "      <td>0.45</td>\n",
       "      <td>0.26</td>\n",
       "      <td>0.37</td>\n",
       "      <td>1.00</td>\n",
       "      <td>0.27</td>\n",
       "    </tr>\n",
       "    <tr>\n",
       "      <th>Ref RIA</th>\n",
       "      <td>0.27</td>\n",
       "      <td>0.24</td>\n",
       "      <td>0.27</td>\n",
       "      <td>0.35</td>\n",
       "      <td>0.27</td>\n",
       "      <td>1.00</td>\n",
       "    </tr>\n",
       "  </tbody>\n",
       "</table>\n",
       "</div>"
      ],
      "text/plain": [
       "                RIA to Lenta  Lenta to Lenta  Ref Lenta  RIA to RIA  \\\n",
       "RIA to Lenta            1.00            0.38       0.27        0.42   \n",
       "Lenta to Lenta          0.38            1.00       0.33        0.29   \n",
       "Ref Lenta               0.27            0.33       1.00        0.23   \n",
       "RIA to RIA              0.42            0.29       0.23        1.00   \n",
       "Lenta to RIA            0.28            0.45       0.26        0.37   \n",
       "Ref RIA                 0.27            0.24       0.27        0.35   \n",
       "\n",
       "                Lenta to RIA  Ref RIA  \n",
       "RIA to Lenta            0.28     0.27  \n",
       "Lenta to Lenta          0.45     0.24  \n",
       "Ref Lenta               0.26     0.27  \n",
       "RIA to RIA              0.37     0.35  \n",
       "Lenta to RIA            1.00     0.27  \n",
       "Ref RIA                 0.27     1.00  "
      ]
     },
     "execution_count": 30,
     "metadata": {},
     "output_type": "execute_result"
    }
   ],
   "source": [
    "df = pd.DataFrame(joint_results, columns=names, index=names).round(2)\n",
    "df"
   ]
  },
  {
   "cell_type": "code",
   "execution_count": 31,
   "id": "worldwide-registration",
   "metadata": {},
   "outputs": [
    {
     "data": {
      "image/png": "[encoded data removed]",
      "text/plain": [
       "<Figure size 1008x648 with 2 Axes>"
      ]
     },
     "metadata": {},
     "output_type": "display_data"
    }
   ],
   "source": [
    "mask = np.zeros((6, 6), dtype=bool)\n",
    "mask[np.diag_indices_from(mask)] = True\n",
    "\n",
    "with sns.axes_style(\"white\"):\n",
    "    f, ax = plt.subplots(figsize=(14, 9))\n",
    "    ax = sns.heatmap(df, mask=mask, vmax=.4, vmin=0.2, square=True, annot=True)\n",
    "    ax.set_xticklabels(ax.get_xticklabels(), rotation=11)\n",
    "    ax.set_yticklabels(ax.get_yticklabels(), rotation=0)\n",
    "    ax.set_title('Joint Style Model')\n",
    "    f.savefig('joint_style_eval.eps', bbox_inches='tight', format='eps')"
   ]
  },
  {
   "cell_type": "markdown",
   "id": "informational-estate",
   "metadata": {},
   "source": [
    "### For single"
   ]
  },
  {
   "cell_type": "code",
   "execution_count": 32,
   "id": "guilty-treatment",
   "metadata": {},
   "outputs": [
    {
     "name": "stderr",
     "output_type": "stream",
     "text": [
      "6it [01:34, 15.74s/it]\n"
     ]
    }
   ],
   "source": [
    "single_results = np.zeros((6, 6))\n",
    "\n",
    "headlines = (\n",
    "    single_lenta_from_ria, single_lenta_from_lenta, ref_lenta, single_ria_from_ria, single_ria_from_lenta, ref_ria\n",
    ")\n",
    "\n",
    "names = (\n",
    "    'RIA to Lenta', 'Lenta to Lenta', 'Ref Lenta', 'RIA to RIA', 'Lenta to RIA',  'Ref RIA'\n",
    ")\n",
    "\n",
    "for i, h1 in tqdm.tqdm(enumerate(headlines)):\n",
    "    for j, h2 in enumerate(headlines):\n",
    "        if type(h1[0]) != list:\n",
    "            h1 = [[x] for x in h1]\n",
    "        if type(h2[0]) != str:\n",
    "            h2 = [x[0] for x in h2]\n",
    "        \n",
    "        single_results[i, j] = scalar_from_metrics(\n",
    "            calc_metrics(h1, h2, language='ru')\n",
    "        )"
   ]
  },
  {
   "cell_type": "code",
   "execution_count": 33,
   "id": "academic-spray",
   "metadata": {},
   "outputs": [
    {
     "data": {
      "text/html": [
       "<div>\n",
       "<style scoped>\n",
       "    .dataframe tbody tr th:only-of-type {\n",
       "        vertical-align: middle;\n",
       "    }\n",
       "\n",
       "    .dataframe tbody tr th {\n",
       "        vertical-align: top;\n",
       "    }\n",
       "\n",
       "    .dataframe thead th {\n",
       "        text-align: right;\n",
       "    }\n",
       "</style>\n",
       "<table border=\"1\" class=\"dataframe\">\n",
       "  <thead>\n",
       "    <tr style=\"text-align: right;\">\n",
       "      <th></th>\n",
       "      <th>RIA to Lenta</th>\n",
       "      <th>Lenta to Lenta</th>\n",
       "      <th>Ref Lenta</th>\n",
       "      <th>RIA to RIA</th>\n",
       "      <th>Lenta to RIA</th>\n",
       "      <th>Ref RIA</th>\n",
       "    </tr>\n",
       "  </thead>\n",
       "  <tbody>\n",
       "    <tr>\n",
       "      <th>RIA to Lenta</th>\n",
       "      <td>1.00</td>\n",
       "      <td>0.37</td>\n",
       "      <td>0.25</td>\n",
       "      <td>0.28</td>\n",
       "      <td>0.22</td>\n",
       "      <td>0.23</td>\n",
       "    </tr>\n",
       "    <tr>\n",
       "      <th>Lenta to Lenta</th>\n",
       "      <td>0.37</td>\n",
       "      <td>1.00</td>\n",
       "      <td>0.30</td>\n",
       "      <td>0.22</td>\n",
       "      <td>0.28</td>\n",
       "      <td>0.21</td>\n",
       "    </tr>\n",
       "    <tr>\n",
       "      <th>Ref Lenta</th>\n",
       "      <td>0.25</td>\n",
       "      <td>0.30</td>\n",
       "      <td>1.00</td>\n",
       "      <td>0.22</td>\n",
       "      <td>0.24</td>\n",
       "      <td>0.27</td>\n",
       "    </tr>\n",
       "    <tr>\n",
       "      <th>RIA to RIA</th>\n",
       "      <td>0.28</td>\n",
       "      <td>0.22</td>\n",
       "      <td>0.22</td>\n",
       "      <td>1.00</td>\n",
       "      <td>0.36</td>\n",
       "      <td>0.32</td>\n",
       "    </tr>\n",
       "    <tr>\n",
       "      <th>Lenta to RIA</th>\n",
       "      <td>0.22</td>\n",
       "      <td>0.28</td>\n",
       "      <td>0.24</td>\n",
       "      <td>0.36</td>\n",
       "      <td>1.00</td>\n",
       "      <td>0.26</td>\n",
       "    </tr>\n",
       "    <tr>\n",
       "      <th>Ref RIA</th>\n",
       "      <td>0.23</td>\n",
       "      <td>0.21</td>\n",
       "      <td>0.27</td>\n",
       "      <td>0.32</td>\n",
       "      <td>0.26</td>\n",
       "      <td>1.00</td>\n",
       "    </tr>\n",
       "  </tbody>\n",
       "</table>\n",
       "</div>"
      ],
      "text/plain": [
       "                RIA to Lenta  Lenta to Lenta  Ref Lenta  RIA to RIA  \\\n",
       "RIA to Lenta            1.00            0.37       0.25        0.28   \n",
       "Lenta to Lenta          0.37            1.00       0.30        0.22   \n",
       "Ref Lenta               0.25            0.30       1.00        0.22   \n",
       "RIA to RIA              0.28            0.22       0.22        1.00   \n",
       "Lenta to RIA            0.22            0.28       0.24        0.36   \n",
       "Ref RIA                 0.23            0.21       0.27        0.32   \n",
       "\n",
       "                Lenta to RIA  Ref RIA  \n",
       "RIA to Lenta            0.22     0.23  \n",
       "Lenta to Lenta          0.28     0.21  \n",
       "Ref Lenta               0.24     0.27  \n",
       "RIA to RIA              0.36     0.32  \n",
       "Lenta to RIA            1.00     0.26  \n",
       "Ref RIA                 0.26     1.00  "
      ]
     },
     "execution_count": 33,
     "metadata": {},
     "output_type": "execute_result"
    }
   ],
   "source": [
    "df = pd.DataFrame(single_results, columns=names, index=names).round(2)\n",
    "df"
   ]
  },
  {
   "cell_type": "code",
   "execution_count": 34,
   "id": "generous-battery",
   "metadata": {},
   "outputs": [
    {
     "data": {
      "image/png": "[encoded data removed]",
      "text/plain": [
       "<Figure size 1008x648 with 2 Axes>"
      ]
     },
     "metadata": {},
     "output_type": "display_data"
    }
   ],
   "source": [
    "mask = np.zeros((6, 6), dtype=bool)\n",
    "mask[np.diag_indices_from(mask)] = True\n",
    "\n",
    "with sns.axes_style(\"white\"):\n",
    "    f, ax = plt.subplots(figsize=(14, 9))\n",
    "    ax = sns.heatmap(df, mask=mask, vmax=.4, vmin=0.2, square=True, annot=True)\n",
    "    ax.set_xticklabels(ax.get_xticklabels(), rotation=11)\n",
    "    ax.set_yticklabels(ax.get_yticklabels(), rotation=0) \n",
    "    ax.set_title('Single Style Models')\n",
    "    f.savefig('single_style_eval.eps', bbox_inches='tight', format='eps')    "
   ]
  },
  {
   "cell_type": "markdown",
   "id": "pending-gross",
   "metadata": {},
   "source": [
    "## Style Discriminator eval"
   ]
  },
  {
   "cell_type": "code",
   "execution_count": 45,
   "id": "lovely-equity",
   "metadata": {},
   "outputs": [],
   "source": [
    "def get_discr_res(ria_zag, lenta_zag, mode='SOFT'):\n",
    "    # Vanilla discriminator\n",
    "    \n",
    "    inputs_ria = tokenizer(\n",
    "        ria_zag,\n",
    "        add_special_tokens=True,\n",
    "        max_length=48,\n",
    "        padding=\"max_length\",\n",
    "        truncation=True\n",
    "    )\n",
    "\n",
    "    inputs_lenta = tokenizer(\n",
    "        lenta_zag,\n",
    "        add_special_tokens=True,\n",
    "        max_length=48,\n",
    "        padding=\"max_length\",\n",
    "        truncation=True\n",
    "    )\n",
    "\n",
    "    logits_ria = discriminator(input_ids=torch.LongTensor(inputs_ria['input_ids']).to(device).unsqueeze(0), \n",
    "                           attention_mask=torch.LongTensor(inputs_ria['attention_mask']).to(device).unsqueeze(0))[0][0]\n",
    "    pred_ria = torch.argmax(logits_ria).item()\n",
    "\n",
    "    logits_lenta = discriminator(input_ids=torch.LongTensor(inputs_lenta['input_ids']).to(device).unsqueeze(0), \n",
    "                           attention_mask=torch.LongTensor(inputs_lenta['attention_mask']).to(device).unsqueeze(0))[0][0]\n",
    "    pred_lenta = torch.argmax(logits_lenta).item()\n",
    "\n",
    "    if mode == 'HARD':\n",
    "        return int(pred_ria == agency_to_discr_target['РИА Новости'] and \\\n",
    "                       pred_lenta == agency_to_discr_target['lenta.ru'])\n",
    "    elif mode == 'SOFT':\n",
    "        return int(logits_ria[agency_to_discr_target['lenta.ru']] < \\\n",
    "                       logits_lenta[agency_to_discr_target['lenta.ru']])\n",
    "    assert False"
   ]
  },
  {
   "cell_type": "code",
   "execution_count": 50,
   "id": "limited-scene",
   "metadata": {},
   "outputs": [
    {
     "name": "stderr",
     "output_type": "stream",
     "text": [
      "100%|██████████| 2000/2000 [08:03<00:00,  4.14it/s]\n"
     ]
    }
   ],
   "source": [
    "discriminator = AutoModelForSequenceClassification.from_pretrained(discr_model_path)\n",
    "discriminator.eval()\n",
    "discriminator.to(device)\n",
    "\n",
    "results = {\n",
    "    'single': {\n",
    "        'from ria': 0,\n",
    "        'from lenta': 0,\n",
    "        'both cross': 0,\n",
    "        'both direct': 0,\n",
    "    },\n",
    "    'joint': {\n",
    "        'from ria': 0,\n",
    "        'from lenta': 0,\n",
    "        'both cross': 0,\n",
    "        'both direct': 0,\n",
    "    }\n",
    "}\n",
    "\n",
    "with torch.no_grad():\n",
    "    for i in tqdm.trange(len(records)):\n",
    "        # Single\n",
    "        ria_zag_from_lenta = single_ria_from_lenta[i]\n",
    "        ria_zag_from_ria = single_ria_from_ria[i]\n",
    "\n",
    "        lenta_zag_from_ria = single_lenta_from_ria[i]\n",
    "        lenta_zag_from_lenta = single_lenta_from_lenta[i]\n",
    "\n",
    "        results['single']['from ria'] += get_discr_res(ria_zag_from_ria, lenta_zag_from_ria)\n",
    "        results['single']['from lenta'] += get_discr_res(ria_zag_from_lenta, lenta_zag_from_lenta)\n",
    "        results['single']['both cross'] += get_discr_res(ria_zag_from_lenta, lenta_zag_from_ria)\n",
    "        results['single']['both direct'] += get_discr_res(ria_zag_from_ria, lenta_zag_from_lenta)\n",
    "    \n",
    "        # Joint\n",
    "        ria_zag_from_lenta = joint_ria_from_lenta[i]\n",
    "        ria_zag_from_ria = joint_ria_from_ria[i]\n",
    "\n",
    "        lenta_zag_from_ria = joint_lenta_from_ria[i]\n",
    "        lenta_zag_from_lenta = joint_lenta_from_lenta[i]\n",
    "\n",
    "        results['joint']['from ria'] += get_discr_res(ria_zag_from_ria, lenta_zag_from_ria)\n",
    "        results['joint']['from lenta'] += get_discr_res(ria_zag_from_lenta, lenta_zag_from_lenta)\n",
    "        results['joint']['both cross'] += get_discr_res(ria_zag_from_lenta, lenta_zag_from_ria)\n",
    "        results['joint']['both direct'] += get_discr_res(ria_zag_from_ria, lenta_zag_from_lenta)\n",
    "    \n",
    "discriminator.cpu();"
   ]
  },
  {
   "cell_type": "code",
   "execution_count": 69,
   "id": "equivalent-shore",
   "metadata": {},
   "outputs": [],
   "source": [
    "disc_df = pd.DataFrame(results)\n",
    "plot_df = pd.DataFrame({\n",
    "    'Count': list(disc_df['single']) + list(disc_df['joint']),\n",
    "    'Model': ['Single'] * 4 + ['Joint'] * 4,\n",
    "    'Mode': ['From RIA', 'From Lenta', 'Both cross', 'Both direct'] * 2,\n",
    "})\n",
    "plot_df['Count'] /= 2000"
   ]
  },
  {
   "cell_type": "code",
   "execution_count": 71,
   "id": "friendly-conjunction",
   "metadata": {},
   "outputs": [
    {
     "data": {
      "image/png": "[encoded data removed]",
      "text/plain": [
       "<Figure size 720x504 with 1 Axes>"
      ]
     },
     "metadata": {},
     "output_type": "display_data"
    }
   ],
   "source": [
    "plt.figure(figsize=(10, 7))\n",
    "sns.barplot(x='Mode', y='Count', hue='Model', data=plot_df)\n",
    "plt.ylim(0.8)\n",
    "plt.show()"
   ]
  },
  {
   "cell_type": "markdown",
   "id": "attached-former",
   "metadata": {},
   "source": [
    "## Gen Title eval"
   ]
  },
  {
   "cell_type": "code",
   "execution_count": 78,
   "id": "earned-white",
   "metadata": {},
   "outputs": [],
   "source": [
    "joint_baseline_hyps_ria = []\n",
    "joint_baseline_hyps_lenta = []\n",
    "\n",
    "single_baseline_hyps_ria = []\n",
    "single_baseline_hyps_lenta = []"
   ]
  },
  {
   "cell_type": "code",
   "execution_count": 79,
   "id": "oriented-execution",
   "metadata": {},
   "outputs": [
    {
     "name": "stderr",
     "output_type": "stream",
     "text": [
      "100%|██████████| 2000/2000 [42:15<00:00,  1.27s/it]\n"
     ]
    }
   ],
   "source": [
    "joint_baseline = EncoderDecoderModel.from_pretrained(joint_baseline_path)\n",
    "joint_baseline.eval()\n",
    "joint_baseline.to(device)\n",
    "\n",
    "with torch.no_grad():\n",
    "    for i in tqdm.trange(len(records)):\n",
    "        ria_inp = text_to_transformer_input(records[i]['ria_text'])\n",
    "        lenta_inp = text_to_transformer_input(records[i]['lenta_text'])\n",
    "        \n",
    "        joint_baseline_hyps_ria.append(\n",
    "            joint_baseline.generate(**ria_inp, **generation_args)\n",
    "        )\n",
    "        \n",
    "        joint_baseline_hyps_lenta.append(\n",
    "            joint_baseline.generate(**lenta_inp, **generation_args)\n",
    "        )\n",
    "\n",
    "joint_baseline.cpu();"
   ]
  },
  {
   "cell_type": "code",
   "execution_count": 80,
   "id": "ignored-strategy",
   "metadata": {},
   "outputs": [
    {
     "name": "stderr",
     "output_type": "stream",
     "text": [
      "100%|██████████| 2000/2000 [21:37<00:00,  1.54it/s]\n"
     ]
    }
   ],
   "source": [
    "ria_baseline = EncoderDecoderModel.from_pretrained(ria_baseline_path)\n",
    "ria_baseline.eval()\n",
    "ria_baseline.to(device)\n",
    "\n",
    "with torch.no_grad():\n",
    "    for i in tqdm.trange(len(records)):\n",
    "        ria_inp = text_to_transformer_input(records[i]['ria_text'])\n",
    "        \n",
    "        single_baseline_hyps_ria.append(\n",
    "            ria_baseline.generate(**ria_inp, **generation_args)\n",
    "        )\n",
    "\n",
    "ria_baseline.cpu();"
   ]
  },
  {
   "cell_type": "code",
   "execution_count": 81,
   "id": "fifteen-alcohol",
   "metadata": {},
   "outputs": [
    {
     "name": "stderr",
     "output_type": "stream",
     "text": [
      "100%|██████████| 2000/2000 [12:00<00:00,  2.77it/s]\n"
     ]
    }
   ],
   "source": [
    "lenta_baseline = EncoderDecoderModel.from_pretrained(lenta_baseline_path)\n",
    "lenta_baseline.eval()\n",
    "lenta_baseline.to(device)\n",
    "\n",
    "with torch.no_grad():\n",
    "    for i in tqdm.trange(len(records)):\n",
    "        lenta_inp = text_to_transformer_input(records[i]['lenta_text'])\n",
    "        \n",
    "        single_baseline_hyps_lenta.append(\n",
    "            lenta_baseline.generate(**lenta_inp, **generation_args)\n",
    "        )\n",
    "\n",
    "lenta_baseline.cpu();"
   ]
  },
  {
   "cell_type": "code",
   "execution_count": 82,
   "id": "parliamentary-breeding",
   "metadata": {},
   "outputs": [],
   "source": [
    "if type(ref_ria[0]) != list:\n",
    "    ref_ria = [[x] for x in ref_ria]\n",
    "if type(ref_lenta[0]) != list:\n",
    "    ref_lenta = [[x] for x in ref_lenta]"
   ]
  },
  {
   "cell_type": "code",
   "execution_count": 83,
   "id": "human-automation",
   "metadata": {},
   "outputs": [
    {
     "name": "stdout",
     "output_type": "stream",
     "text": [
      "CPU times: user 5.7 s, sys: 35.6 ms, total: 5.73 s\n",
      "Wall time: 5.73 s\n"
     ]
    }
   ],
   "source": [
    "%%time\n",
    "\n",
    "joint_baseline_hyps_ria = [trans_otpt_to_headline(x) for x in joint_baseline_hyps_ria]\n",
    "joint_baseline_hyps_lenta = [trans_otpt_to_headline(x) for x in joint_baseline_hyps_lenta]\n",
    "\n",
    "single_baseline_hyps_ria = [trans_otpt_to_headline(x) for x in single_baseline_hyps_ria]\n",
    "single_baseline_hyps_lenta = [trans_otpt_to_headline(x) for x in single_baseline_hyps_lenta]"
   ]
  },
  {
   "cell_type": "code",
   "execution_count": 84,
   "id": "involved-delivery",
   "metadata": {},
   "outputs": [],
   "source": [
    "def metrics_extract(metrics):\n",
    "    return {\n",
    "        'BLEU': metrics['bleu'],\n",
    "        'Rouge-1': metrics['r1'],\n",
    "        'Rouge-2': metrics['r2'],\n",
    "        'Rouge-L': metrics['rl'],\n",
    "        'Rouge-Mean': (metrics['r1'] + metrics['r2'] + metrics['rl']) / 3,\n",
    "    }"
   ]
  },
  {
   "cell_type": "markdown",
   "id": "saved-surgery",
   "metadata": {},
   "source": [
    "### Joint hyps With Joint baseline"
   ]
  },
  {
   "cell_type": "code",
   "execution_count": 85,
   "id": "sensitive-baptist",
   "metadata": {},
   "outputs": [],
   "source": [
    "ria_baseline_metrics = calc_metrics(ref_ria, joint_baseline_hyps_ria, language='ru')\n",
    "lenta_baseline_metrics = calc_metrics(ref_lenta, joint_baseline_hyps_lenta, language='ru')\n",
    "\n",
    "ria_style_cross_metrics = calc_metrics(ref_ria, joint_ria_from_lenta, language='ru')\n",
    "ria_style_direct_metrics = calc_metrics(ref_ria, joint_ria_from_ria, language='ru')\n",
    "\n",
    "lenta_style_cross_metrics = calc_metrics(ref_lenta, joint_lenta_from_ria, language='ru')\n",
    "lenta_style_direct_metrics = calc_metrics(ref_lenta, joint_lenta_from_lenta, language='ru')"
   ]
  },
  {
   "cell_type": "code",
   "execution_count": 86,
   "id": "motivated-buffalo",
   "metadata": {},
   "outputs": [],
   "source": [
    "df = pd.DataFrame(metrics_extract(ria_baseline_metrics), index=['RIA Baseline']).append(\n",
    "    pd.DataFrame(metrics_extract(lenta_baseline_metrics), index=['Lenta Baseline'])).append(\n",
    "    pd.DataFrame(metrics_extract(ria_style_cross_metrics), index=['RIA cross'])).append(\n",
    "    pd.DataFrame(metrics_extract(ria_style_direct_metrics), index=['RIA direct'])).append(\n",
    "    pd.DataFrame(metrics_extract(ria_style_cross_metrics), index=['Lenta direct'])).append(\n",
    "    pd.DataFrame(metrics_extract(ria_style_direct_metrics), index=['Lenta direct'])).round(2)"
   ]
  },
  {
   "cell_type": "code",
   "execution_count": 87,
   "id": "sunset-cleaner",
   "metadata": {},
   "outputs": [
    {
     "data": {
      "text/html": [
       "<div>\n",
       "<style scoped>\n",
       "    .dataframe tbody tr th:only-of-type {\n",
       "        vertical-align: middle;\n",
       "    }\n",
       "\n",
       "    .dataframe tbody tr th {\n",
       "        vertical-align: top;\n",
       "    }\n",
       "\n",
       "    .dataframe thead th {\n",
       "        text-align: right;\n",
       "    }\n",
       "</style>\n",
       "<table border=\"1\" class=\"dataframe\">\n",
       "  <thead>\n",
       "    <tr style=\"text-align: right;\">\n",
       "      <th></th>\n",
       "      <th>BLEU</th>\n",
       "      <th>Rouge-1</th>\n",
       "      <th>Rouge-2</th>\n",
       "      <th>Rouge-L</th>\n",
       "      <th>Rouge-Mean</th>\n",
       "    </tr>\n",
       "  </thead>\n",
       "  <tbody>\n",
       "    <tr>\n",
       "      <th>RIA Baseline</th>\n",
       "      <td>0.54</td>\n",
       "      <td>0.43</td>\n",
       "      <td>0.24</td>\n",
       "      <td>0.41</td>\n",
       "      <td>0.36</td>\n",
       "    </tr>\n",
       "    <tr>\n",
       "      <th>Lenta Baseline</th>\n",
       "      <td>0.53</td>\n",
       "      <td>0.41</td>\n",
       "      <td>0.22</td>\n",
       "      <td>0.39</td>\n",
       "      <td>0.34</td>\n",
       "    </tr>\n",
       "    <tr>\n",
       "      <th>RIA cross</th>\n",
       "      <td>0.48</td>\n",
       "      <td>0.34</td>\n",
       "      <td>0.16</td>\n",
       "      <td>0.33</td>\n",
       "      <td>0.28</td>\n",
       "    </tr>\n",
       "    <tr>\n",
       "      <th>RIA direct</th>\n",
       "      <td>0.55</td>\n",
       "      <td>0.43</td>\n",
       "      <td>0.24</td>\n",
       "      <td>0.41</td>\n",
       "      <td>0.36</td>\n",
       "    </tr>\n",
       "    <tr>\n",
       "      <th>Lenta direct</th>\n",
       "      <td>0.48</td>\n",
       "      <td>0.34</td>\n",
       "      <td>0.16</td>\n",
       "      <td>0.33</td>\n",
       "      <td>0.28</td>\n",
       "    </tr>\n",
       "    <tr>\n",
       "      <th>Lenta direct</th>\n",
       "      <td>0.55</td>\n",
       "      <td>0.43</td>\n",
       "      <td>0.24</td>\n",
       "      <td>0.41</td>\n",
       "      <td>0.36</td>\n",
       "    </tr>\n",
       "  </tbody>\n",
       "</table>\n",
       "</div>"
      ],
      "text/plain": [
       "                BLEU  Rouge-1  Rouge-2  Rouge-L  Rouge-Mean\n",
       "RIA Baseline    0.54     0.43     0.24     0.41        0.36\n",
       "Lenta Baseline  0.53     0.41     0.22     0.39        0.34\n",
       "RIA cross       0.48     0.34     0.16     0.33        0.28\n",
       "RIA direct      0.55     0.43     0.24     0.41        0.36\n",
       "Lenta direct    0.48     0.34     0.16     0.33        0.28\n",
       "Lenta direct    0.55     0.43     0.24     0.41        0.36"
      ]
     },
     "execution_count": 87,
     "metadata": {},
     "output_type": "execute_result"
    }
   ],
   "source": [
    "df"
   ]
  },
  {
   "cell_type": "markdown",
   "id": "superb-poland",
   "metadata": {},
   "source": [
    "### With single baseline"
   ]
  },
  {
   "cell_type": "code",
   "execution_count": 88,
   "id": "adjusted-evaluation",
   "metadata": {},
   "outputs": [],
   "source": [
    "ria_baseline_metrics = calc_metrics(ref_ria, single_baseline_hyps_ria, language='ru')\n",
    "lenta_baseline_metrics = calc_metrics(ref_lenta, single_baseline_hyps_lenta, language='ru')\n",
    "\n",
    "ria_style_cross_metrics = calc_metrics(ref_ria, single_ria_from_lenta, language='ru')\n",
    "ria_style_direct_metrics = calc_metrics(ref_ria, single_ria_from_ria, language='ru')\n",
    "\n",
    "lenta_style_cross_metrics = calc_metrics(ref_lenta, single_lenta_from_ria, language='ru')\n",
    "lenta_style_direct_metrics = calc_metrics(ref_lenta, single_lenta_from_lenta, language='ru')"
   ]
  },
  {
   "cell_type": "code",
   "execution_count": 89,
   "id": "dress-invalid",
   "metadata": {},
   "outputs": [],
   "source": [
    "df = pd.DataFrame(metrics_extract(ria_baseline_metrics), index=['RIA Baseline']).append(\n",
    "    pd.DataFrame(metrics_extract(lenta_baseline_metrics), index=['Lenta Baseline'])).append(\n",
    "    pd.DataFrame(metrics_extract(ria_style_cross_metrics), index=['RIA cross'])).append(\n",
    "    pd.DataFrame(metrics_extract(ria_style_direct_metrics), index=['RIA direct'])).append(\n",
    "    pd.DataFrame(metrics_extract(ria_style_cross_metrics), index=['Lenta direct'])).append(\n",
    "    pd.DataFrame(metrics_extract(ria_style_direct_metrics), index=['Lenta direct'])).round(2)"
   ]
  },
  {
   "cell_type": "code",
   "execution_count": 90,
   "id": "informational-johnston",
   "metadata": {},
   "outputs": [
    {
     "data": {
      "text/html": [
       "<div>\n",
       "<style scoped>\n",
       "    .dataframe tbody tr th:only-of-type {\n",
       "        vertical-align: middle;\n",
       "    }\n",
       "\n",
       "    .dataframe tbody tr th {\n",
       "        vertical-align: top;\n",
       "    }\n",
       "\n",
       "    .dataframe thead th {\n",
       "        text-align: right;\n",
       "    }\n",
       "</style>\n",
       "<table border=\"1\" class=\"dataframe\">\n",
       "  <thead>\n",
       "    <tr style=\"text-align: right;\">\n",
       "      <th></th>\n",
       "      <th>BLEU</th>\n",
       "      <th>Rouge-1</th>\n",
       "      <th>Rouge-2</th>\n",
       "      <th>Rouge-L</th>\n",
       "      <th>Rouge-Mean</th>\n",
       "    </tr>\n",
       "  </thead>\n",
       "  <tbody>\n",
       "    <tr>\n",
       "      <th>RIA Baseline</th>\n",
       "      <td>0.54</td>\n",
       "      <td>0.42</td>\n",
       "      <td>0.23</td>\n",
       "      <td>0.40</td>\n",
       "      <td>0.35</td>\n",
       "    </tr>\n",
       "    <tr>\n",
       "      <th>Lenta Baseline</th>\n",
       "      <td>0.50</td>\n",
       "      <td>0.38</td>\n",
       "      <td>0.20</td>\n",
       "      <td>0.36</td>\n",
       "      <td>0.31</td>\n",
       "    </tr>\n",
       "    <tr>\n",
       "      <th>RIA cross</th>\n",
       "      <td>0.45</td>\n",
       "      <td>0.33</td>\n",
       "      <td>0.15</td>\n",
       "      <td>0.31</td>\n",
       "      <td>0.26</td>\n",
       "    </tr>\n",
       "    <tr>\n",
       "      <th>RIA direct</th>\n",
       "      <td>0.51</td>\n",
       "      <td>0.39</td>\n",
       "      <td>0.21</td>\n",
       "      <td>0.38</td>\n",
       "      <td>0.33</td>\n",
       "    </tr>\n",
       "    <tr>\n",
       "      <th>Lenta direct</th>\n",
       "      <td>0.45</td>\n",
       "      <td>0.33</td>\n",
       "      <td>0.15</td>\n",
       "      <td>0.31</td>\n",
       "      <td>0.26</td>\n",
       "    </tr>\n",
       "    <tr>\n",
       "      <th>Lenta direct</th>\n",
       "      <td>0.51</td>\n",
       "      <td>0.39</td>\n",
       "      <td>0.21</td>\n",
       "      <td>0.38</td>\n",
       "      <td>0.33</td>\n",
       "    </tr>\n",
       "  </tbody>\n",
       "</table>\n",
       "</div>"
      ],
      "text/plain": [
       "                BLEU  Rouge-1  Rouge-2  Rouge-L  Rouge-Mean\n",
       "RIA Baseline    0.54     0.42     0.23     0.40        0.35\n",
       "Lenta Baseline  0.50     0.38     0.20     0.36        0.31\n",
       "RIA cross       0.45     0.33     0.15     0.31        0.26\n",
       "RIA direct      0.51     0.39     0.21     0.38        0.33\n",
       "Lenta direct    0.45     0.33     0.15     0.31        0.26\n",
       "Lenta direct    0.51     0.39     0.21     0.38        0.33"
      ]
     },
     "execution_count": 90,
     "metadata": {},
     "output_type": "execute_result"
    }
   ],
   "source": [
    "df"
   ]
  },
  {
   "cell_type": "markdown",
   "id": "comparative-desert",
   "metadata": {},
   "source": [
    "## Dumping headlines"
   ]
  },
  {
   "cell_type": "code",
   "execution_count": 112,
   "id": "complete-europe",
   "metadata": {},
   "outputs": [],
   "source": [
    "from utils.gen_title_calculate_metrics import postprocess"
   ]
  },
  {
   "cell_type": "code",
   "execution_count": 126,
   "id": "capital-amateur",
   "metadata": {},
   "outputs": [],
   "source": [
    "discriminator.to(device);"
   ]
  },
  {
   "cell_type": "code",
   "execution_count": 132,
   "id": "fancy-separate",
   "metadata": {},
   "outputs": [
    {
     "name": "stderr",
     "output_type": "stream",
     "text": [
      "100%|██████████| 2000/2000 [00:34<00:00, 58.53it/s]"
     ]
    },
    {
     "name": "stdout",
     "output_type": "stream",
     "text": [
      "59\n"
     ]
    },
    {
     "name": "stderr",
     "output_type": "stream",
     "text": [
      "\n"
     ]
    }
   ],
   "source": [
    "ok_cnt = 0\n",
    "\n",
    "with open('on_ria.txt', 'w') as f:\n",
    "    for i in tqdm.trange(len(records)):\n",
    "        ria_zag = ria_from_ria[i]\n",
    "        lenta_zag = lenta_from_ria[i]\n",
    "        \n",
    "        ria_ref_zag = ref_ria[i]\n",
    "        lenta_ref_zag = ref_lenta[i]        \n",
    "            \n",
    "        inp_ria = tokenizer(ria_zag, \n",
    "            add_special_tokens=True, max_length=48,\n",
    "            padding='max_length', truncation=True\n",
    "        )\n",
    "        inp_lenta = tokenizer(lenta_zag, \n",
    "            add_special_tokens=True, max_length=48,\n",
    "            padding='max_length', truncation=True\n",
    "        )\n",
    "        \n",
    "        logits_ria = discriminator(input_ids=torch.LongTensor(inp_ria['input_ids']).cuda().unsqueeze(0), \n",
    "                           attention_mask=torch.LongTensor(inp_ria['attention_mask']).cuda().unsqueeze(0))[0]\n",
    "        logits_lenta = discriminator(input_ids=torch.LongTensor(inp_lenta['input_ids']).cuda().unsqueeze(0), \n",
    "                           attention_mask=torch.LongTensor(inp_lenta['attention_mask']).cuda().unsqueeze(0))[0]            \n",
    "        ria_pred = torch.argmax(logits_ria).item()\n",
    "        lenta_pred = torch.argmax(logits_lenta).item()\n",
    "\n",
    "        if not (ria_pred != lenta_pred and \\\n",
    "                ria_pred == agency_to_discr_target['РИА Новости'] and \\\n",
    "                min(logits_ria.max().item(), logits_lenta.max().item()) >= 4.57):\n",
    "            continue\n",
    "\n",
    "        ria_ref_zag, ria_zag = postprocess(ria_ref_zag, ria_zag, 'ru', is_multiple_ref=True, lower=True)\n",
    "        lenta_ref_zag, lenta_zag = postprocess(lenta_ref_zag, lenta_zag, 'ru', is_multiple_ref=True, lower=True)\n",
    "\n",
    "        f.write('RIA text: ' + records[i]['ria_text'] + '\\n\\n')\n",
    "        f.write('RIA Ref headline: ' + ria_ref_zag[0] + '\\n')\n",
    "        f.write('Lenta Ref headline: ' + lenta_ref_zag[0] + '\\n\\n')\n",
    "\n",
    "        f.write('RIA Hyp headline: ' + ria_zag + '\\n')\n",
    "        f.write('Lenta Hyp headline: ' + lenta_zag + '\\n')\n",
    "\n",
    "        f.write('\\n\\n' + '-' * 50 + '\\n')\n",
    "        ok_cnt += 1\n",
    "        \n",
    "print(ok_cnt)"
   ]
  },
  {
   "cell_type": "code",
   "execution_count": 133,
   "id": "meaningful-breathing",
   "metadata": {},
   "outputs": [
    {
     "name": "stderr",
     "output_type": "stream",
     "text": [
      "100%|██████████| 2000/2000 [00:34<00:00, 58.59it/s]"
     ]
    },
    {
     "name": "stdout",
     "output_type": "stream",
     "text": [
      "51\n"
     ]
    },
    {
     "name": "stderr",
     "output_type": "stream",
     "text": [
      "\n"
     ]
    }
   ],
   "source": [
    "ok_cnt = 0\n",
    "\n",
    "with open('on_lenta.txt', 'w') as f:\n",
    "    for i in tqdm.trange(len(records)):\n",
    "        ria_zag = ria_from_lenta[i]\n",
    "        lenta_zag = lenta_from_lenta[i]\n",
    "        \n",
    "        ria_ref_zag = ref_ria[i]\n",
    "        lenta_ref_zag = ref_lenta[i]      \n",
    "            \n",
    "        inp_ria = tokenizer(ria_zag, \n",
    "            add_special_tokens=True, max_length=48,\n",
    "            padding='max_length', truncation=True\n",
    "        )\n",
    "        inp_lenta = tokenizer(lenta_zag, \n",
    "            add_special_tokens=True, max_length=48,\n",
    "            padding='max_length', truncation=True\n",
    "        )\n",
    "        \n",
    "        logits_ria = discriminator(input_ids=torch.LongTensor(inp_ria['input_ids']).cuda().unsqueeze(0), \n",
    "                           attention_mask=torch.LongTensor(inp_ria['attention_mask']).cuda().unsqueeze(0))[0]\n",
    "        logits_lenta = discriminator(input_ids=torch.LongTensor(inp_lenta['input_ids']).cuda().unsqueeze(0), \n",
    "                           attention_mask=torch.LongTensor(inp_lenta['attention_mask']).cuda().unsqueeze(0))[0]            \n",
    "        ria_pred = torch.argmax(logits_ria).item()\n",
    "        lenta_pred = torch.argmax(logits_lenta).item()\n",
    "\n",
    "\n",
    "        if not (ria_pred != lenta_pred and \\\n",
    "                ria_pred == agency_to_discr_target['РИА Новости'] and \\\n",
    "                min(logits_ria.max().item(), logits_lenta.max().item()) >= 4.57):\n",
    "            continue\n",
    "\n",
    "        ria_ref_zag, ria_zag = postprocess(ria_ref_zag, ria_zag, 'ru', is_multiple_ref=True, lower=True)\n",
    "        lenta_ref_zag, lenta_zag = postprocess(lenta_ref_zag, lenta_zag, 'ru', is_multiple_ref=True, lower=True)\n",
    "\n",
    "        f.write('Lenta text: ' + records[i]['lenta_text'] + '\\n\\n')\n",
    "        f.write('RIA Ref headline: ' + ria_ref_zag[0] + '\\n')\n",
    "        f.write('Lenta Ref headline: ' + lenta_ref_zag[0] + '\\n\\n')\n",
    "\n",
    "        f.write('RIA Hyp headline: ' + ria_zag + '\\n')\n",
    "        f.write('Lenta Hyp headline: ' + lenta_zag + '\\n')\n",
    "\n",
    "        f.write('\\n\\n' + '-' * 50 + '\\n')\n",
    "        \n",
    "        ok_cnt += 1\n",
    "        \n",
    "print(ok_cnt)"
   ]
  },
  {
   "cell_type": "code",
   "execution_count": 134,
   "id": "aggregate-angle",
   "metadata": {},
   "outputs": [],
   "source": [
    "discriminator.cpu();"
   ]
  },
  {
   "cell_type": "markdown",
   "id": "proper-brighton",
   "metadata": {},
   "source": [
    "## Watching clusters split"
   ]
  },
  {
   "cell_type": "code",
   "execution_count": 140,
   "id": "computational-malaysia",
   "metadata": {},
   "outputs": [
    {
     "name": "stderr",
     "output_type": "stream",
     "text": [
      "75362it [00:16, 4526.69it/s]\n",
      "2000it [00:00, 5875.15it/s]\n"
     ]
    }
   ],
   "source": [
    "train =  [r for r in tqdm.tqdm(reader('../../datasets/full_lenta_ria.train.jsonl'))]\n",
    "test = [r for r in tqdm.tqdm(reader('../../datasets/full_lenta_ria.test.jsonl'))]"
   ]
  },
  {
   "cell_type": "code",
   "execution_count": 141,
   "id": "public-conducting",
   "metadata": {},
   "outputs": [],
   "source": [
    "from collections import Counter\n",
    "\n",
    "train_texts = [r['ria_text'] for r in train] + [r['lenta_text'] for r in train]\n",
    "test_texts = [r['ria_text'] for r in test] + [r['lenta_text'] for r in test]"
   ]
  },
  {
   "cell_type": "code",
   "execution_count": 142,
   "id": "extended-punishment",
   "metadata": {},
   "outputs": [],
   "source": [
    "trc = Counter()\n",
    "\n",
    "for x in train_texts:\n",
    "    trc.update(x.lower().split())"
   ]
  },
  {
   "cell_type": "code",
   "execution_count": 143,
   "id": "synthetic-toyota",
   "metadata": {},
   "outputs": [],
   "source": [
    "tc = Counter()\n",
    "\n",
    "for x in test_texts:\n",
    "    tc.update(x.lower().split())"
   ]
  },
  {
   "cell_type": "code",
   "execution_count": 144,
   "id": "employed-second",
   "metadata": {},
   "outputs": [
    {
     "data": {
      "text/plain": [
       "[('тысяч', 39677),\n",
       " ('их', 39408),\n",
       " ('года.', 38561),\n",
       " ('однако', 37977),\n",
       " ('еще', 37619),\n",
       " ('сказал', 37316),\n",
       " ('данным', 37163),\n",
       " ('около', 36350),\n",
       " ('под', 35945),\n",
       " ('все', 35831),\n",
       " ('ее', 34080),\n",
       " ('была', 33369),\n",
       " ('они', 33155),\n",
       " ('сообщил', 31440),\n",
       " ('этого', 29242),\n",
       " ('словам', 28976),\n",
       " ('суд', 27961),\n",
       " ('может', 27937),\n",
       " ('сша', 27443),\n",
       " ('власти', 27228),\n",
       " ('или', 26893),\n",
       " ('только', 26851),\n",
       " ('будут', 26840),\n",
       " ('миллионов', 26790),\n",
       " ('несколько', 26315),\n",
       " ('ссылкой', 26178),\n",
       " ('заявил', 26130),\n",
       " ('результате', 26066),\n",
       " ('чтобы', 25832),\n",
       " ('кроме', 25810),\n",
       " ('2011', 25788),\n",
       " ('том,', 25465),\n",
       " ('один', 25234),\n",
       " ('пока', 25086),\n",
       " ('же', 25045),\n",
       " ('так', 24886),\n",
       " ('является', 24618),\n",
       " ('из-за', 24570),\n",
       " ('компании', 24411),\n",
       " ('2010', 24297),\n",
       " ('глава', 23955),\n",
       " ('2012', 23911),\n",
       " ('президент', 23905),\n",
       " ('где', 23747),\n",
       " ('против', 23458),\n",
       " ('решение', 22976),\n",
       " ('два', 22654),\n",
       " ('>>', 22631),\n",
       " ('говорится', 22322),\n",
       " ('между', 22255)]"
      ]
     },
     "execution_count": 144,
     "metadata": {},
     "output_type": "execute_result"
    }
   ],
   "source": [
    "trc.most_common(100)[50:]"
   ]
  },
  {
   "cell_type": "code",
   "execution_count": 145,
   "id": "injured-surrey",
   "metadata": {},
   "outputs": [
    {
     "data": {
      "text/plain": [
       "[('мы', 965),\n",
       " ('сша', 932),\n",
       " ('украины', 927),\n",
       " ('глава', 915),\n",
       " ('было', 901),\n",
       " ('уже', 895),\n",
       " ('более', 887),\n",
       " ('их', 872),\n",
       " ('еще', 869),\n",
       " ('который', 866),\n",
       " ('тысяч', 864),\n",
       " ('все', 853),\n",
       " ('2015', 846),\n",
       " ('того,', 828),\n",
       " ('под', 791),\n",
       " ('они', 784),\n",
       " ('может', 768),\n",
       " ('около', 761),\n",
       " ('сообщил', 747),\n",
       " ('этого', 747),\n",
       " ('против', 723),\n",
       " ('из-за', 715),\n",
       " ('новости', 685),\n",
       " ('говорится', 684),\n",
       " ('ее', 682),\n",
       " ('была', 678),\n",
       " ('будут', 671),\n",
       " ('владимир', 666),\n",
       " ('власти', 663),\n",
       " ('чтобы', 661),\n",
       " ('или', 659),\n",
       " ('данным', 654),\n",
       " ('решение', 652),\n",
       " ('однако', 643),\n",
       " ('миллионов', 627),\n",
       " ('компании', 613),\n",
       " ('словам', 612),\n",
       " ('декабря,', 598),\n",
       " ('заявил,', 598),\n",
       " ('является', 597),\n",
       " ('только', 594),\n",
       " ('так', 587),\n",
       " ('словам,', 582),\n",
       " ('1', 565),\n",
       " ('она', 554),\n",
       " ('же', 553),\n",
       " ('быть', 545),\n",
       " ('связи', 544),\n",
       " ('том,', 541),\n",
       " ('10', 540)]"
      ]
     },
     "execution_count": 145,
     "metadata": {},
     "output_type": "execute_result"
    }
   ],
   "source": [
    "tc.most_common(100)[50:]"
   ]
  }
 ],
 "metadata": {
  "kernelspec": {
   "display_name": "Python 3",
   "language": "python",
   "name": "python3"
  },
  "language_info": {
   "codemirror_mode": {
    "name": "ipython",
    "version": 3
   },
   "file_extension": ".py",
   "mimetype": "text/x-python",
   "name": "python",
   "nbconvert_exporter": "python",
   "pygments_lexer": "ipython3",
   "version": "3.8.5"
  }
 },
 "nbformat": 4,
 "nbformat_minor": 5
}
