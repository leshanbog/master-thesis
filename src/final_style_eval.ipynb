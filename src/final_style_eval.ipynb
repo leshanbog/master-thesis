{
 "cells": [
  {
   "cell_type": "code",
   "execution_count": 43,
   "id": "large-playback",
   "metadata": {},
   "outputs": [],
   "source": [
    "import tqdm\n",
    "import numpy as np\n",
    "import pandas as pd\n",
    "import torch\n",
    "import json\n",
    "import random\n",
    "import matplotlib.pyplot as plt\n",
    "import seaborn as sns\n",
    "sns.set()\n",
    "from collections import defaultdict\n",
    "from transformers import BertTokenizer, EncoderDecoderModel, AutoModelForSequenceClassification\n",
    "\n",
    "from readers import tg_reader, lenta_reader, ria_reader\n",
    "from custom_datasets.agency_title_dataset import AgencyTitleDatasetGeneration\n",
    "\n",
    "def first_sent(x, token_id):\n",
    "    lx = list(x)\n",
    "    if token_id in x:\n",
    "        return x[:lx.index(token_id)]\n",
    "    return x\n",
    "\n",
    "def reader(path):\n",
    "    with open(path, 'r') as f:\n",
    "        for line in f:\n",
    "            yield json.loads(line.strip())"
   ]
  },
  {
   "cell_type": "code",
   "execution_count": 2,
   "id": "atlantic-quarterly",
   "metadata": {},
   "outputs": [],
   "source": [
    "device = 'cuda'\n",
    "# device = 'cpu'"
   ]
  },
  {
   "cell_type": "code",
   "execution_count": 180,
   "id": "continent-volume",
   "metadata": {},
   "outputs": [],
   "source": [
    "tokenizer_path = '/home/aobuhtijarov/models/rubert_cased_L-12_H-768_A-12_pt/'\n",
    "\n",
    "# BASELINES\n",
    "joint_baseline_path = '/home/aobuhtijarov/models/joint-baseline/checkpoint-6000/'\n",
    "\n",
    "\n",
    "# STYLE MODELS\n",
    "ria_style_path = '/home/aobuhtijarov/models/ria_style/checkpoint-6000/'\n",
    "lenta_style_path = '/home/aobuhtijarov/models/lenta_style/checkpoint-6000/'\n",
    "\n",
    "\n",
    "# DISCRIMINATOR\n",
    "discr_model_path = '/home/aobuhtijarov/models/discriminator_on_clusters_from_rubert/'"
   ]
  },
  {
   "cell_type": "code",
   "execution_count": 4,
   "id": "consecutive-barcelona",
   "metadata": {},
   "outputs": [],
   "source": [
    "tokenizer = BertTokenizer.from_pretrained(tokenizer_path, do_lower_case=False, do_basic_tokenize=False)"
   ]
  },
  {
   "cell_type": "code",
   "execution_count": 5,
   "id": "boring-electric",
   "metadata": {},
   "outputs": [
    {
     "name": "stderr",
     "output_type": "stream",
     "text": [
      "2000it [00:01, 1542.90it/s]\n"
     ]
    }
   ],
   "source": [
    "records = [r for r in tqdm.tqdm(reader('../../datasets/full_lenta_ria.test.jsonl'))]\n",
    "\n",
    "lenta_records = [\n",
    "    {'text': r['lenta_text'], 'title': r['lenta_title'], 'agency': 'lenta.ru', 'date': r['lenta_date']} \n",
    "    for r in records\n",
    "]\n",
    "\n",
    "ria_records = [\n",
    "    {'text': r['ria_text'], 'title': r['ria_title'], 'agency': 'РИА Новости', 'date': r['lenta_date']} \n",
    "    for r in records\n",
    "]"
   ]
  },
  {
   "cell_type": "code",
   "execution_count": 6,
   "id": "transsexual-spencer",
   "metadata": {},
   "outputs": [],
   "source": [
    "def text_to_transformer_input(text):\n",
    "    inputs = tokenizer(\n",
    "        text,\n",
    "        add_special_tokens=True,\n",
    "        max_length=250,\n",
    "        padding=\"max_length\",\n",
    "        truncation=True\n",
    "    )\n",
    "    \n",
    "    return {\n",
    "        'input_ids': torch.LongTensor(inputs['input_ids']).to(device).unsqueeze(0),\n",
    "        'attention_mask': torch.LongTensor(inputs['attention_mask']).to(device).unsqueeze(0)\n",
    "    }"
   ]
  },
  {
   "cell_type": "code",
   "execution_count": 7,
   "id": "stuck-target",
   "metadata": {},
   "outputs": [],
   "source": [
    "generation_args = {\n",
    "    'decoder_start_token_id': 0,\n",
    "    'min_length': 7,\n",
    "    'max_length': 20,\n",
    "    'num_beams': 6\n",
    "}\n",
    "\n",
    "lenta_from_ria = []\n",
    "lenta_from_lenta = []\n",
    "ria_from_ria = []\n",
    "ria_from_lenta = []\n",
    "ref_ria = [r['ria_title'] for r in records]\n",
    "ref_lenta = [r['lenta_title'] for r in records]"
   ]
  },
  {
   "cell_type": "code",
   "execution_count": null,
   "id": "naughty-static",
   "metadata": {},
   "outputs": [
    {
     "name": "stderr",
     "output_type": "stream",
     "text": [
      " 98%|█████████▊| 1962/2000 [27:53<00:30,  1.26it/s]"
     ]
    }
   ],
   "source": [
    "ria_style = EncoderDecoderModel.from_pretrained(ria_style_path)\n",
    "ria_style.eval()\n",
    "ria_style.to(device)\n",
    "\n",
    "with torch.no_grad():\n",
    "    for i in tqdm.trange(len(records)):\n",
    "        ria_inp = text_to_transformer_input(records[i]['ria_text'])\n",
    "        lenta_inp = text_to_transformer_input(records[i]['lenta_text'])\n",
    "        \n",
    "        ria_from_ria.append(\n",
    "            ria_style.generate(**ria_inp, **generation_args)\n",
    "        )\n",
    "        \n",
    "        ria_from_lenta.append(\n",
    "            ria_style.generate(**lenta_inp, **generation_args)\n",
    "        )\n",
    "        \n",
    "ria_style.cpu();"
   ]
  },
  {
   "cell_type": "code",
   "execution_count": null,
   "id": "lucky-spring",
   "metadata": {
    "scrolled": false
   },
   "outputs": [],
   "source": [
    "lenta_style = EncoderDecoderModel.from_pretrained(lenta_style_path)\n",
    "lenta_style.eval()\n",
    "lenta_style.to(device)\n",
    "\n",
    "with torch.no_grad():\n",
    "    for i in tqdm.trange(len(records)):\n",
    "        ria_inp = text_to_transformer_input(records[i]['ria_text'])\n",
    "        lenta_inp = text_to_transformer_input(records[i]['lenta_text'])\n",
    "        \n",
    "        lenta_from_ria.append(\n",
    "            lenta_style.generate(**ria_inp, **generation_args)\n",
    "        )\n",
    "        \n",
    "        lenta_from_lenta.append(\n",
    "            lenta_style.generate(**lenta_inp, **generation_args)\n",
    "        )\n",
    "        \n",
    "lenta_style.cpu();"
   ]
  },
  {
   "cell_type": "code",
   "execution_count": 12,
   "id": "japanese-river",
   "metadata": {},
   "outputs": [],
   "source": [
    "def trans_otpt_to_headline(otpt):\n",
    "    return [\n",
    "        tokenizer.decode(first_sent(x, tokenizer.sep_token_id), skip_special_tokens=True) for x in otpt\n",
    "    ][0]"
   ]
  },
  {
   "cell_type": "code",
   "execution_count": 14,
   "id": "floppy-scholarship",
   "metadata": {},
   "outputs": [
    {
     "name": "stdout",
     "output_type": "stream",
     "text": [
      "CPU times: user 4.29 s, sys: 25.2 ms, total: 4.31 s\n",
      "Wall time: 4.31 s\n"
     ]
    }
   ],
   "source": [
    "%%time\n",
    "\n",
    "ria_from_ria = [trans_otpt_to_headline(x) for x in ria_from_ria]\n",
    "ria_from_lenta = [trans_otpt_to_headline(x) for x in ria_from_lenta]\n",
    "lenta_from_ria = [trans_otpt_to_headline(x) for x in lenta_from_ria]\n",
    "lenta_from_lenta = [trans_otpt_to_headline(x) for x in lenta_from_lenta]"
   ]
  },
  {
   "cell_type": "markdown",
   "id": "imperial-authentication",
   "metadata": {},
   "source": [
    "## Style Metrics Table"
   ]
  },
  {
   "cell_type": "code",
   "execution_count": 15,
   "id": "informative-drink",
   "metadata": {},
   "outputs": [],
   "source": [
    "import pandas as pd\n",
    "import numpy as np\n",
    "\n",
    "from utils.gen_title_calculate_metrics import calc_metrics\n",
    "\n",
    "def scalar_from_metrics(m):\n",
    "    return (m['rl'] + m['r2'] + m['rl']) / 3"
   ]
  },
  {
   "cell_type": "code",
   "execution_count": 60,
   "id": "starting-newport",
   "metadata": {},
   "outputs": [
    {
     "name": "stderr",
     "output_type": "stream",
     "text": [
      "6it [00:46,  7.67s/it]\n"
     ]
    }
   ],
   "source": [
    "results = np.zeros((6, 6))\n",
    "\n",
    "headlines = (\n",
    "    lenta_from_ria, lenta_from_lenta, ref_lenta, ria_from_ria, ria_from_lenta, ref_ria\n",
    ")\n",
    "\n",
    "names = (\n",
    "    'RIA to Lenta', 'Lenta to Lenta', 'Ref Lenta', 'RIA to RIA', 'Lenta to RIA',  'Ref RIA'\n",
    ")\n",
    "\n",
    "for i, h1 in tqdm.tqdm(enumerate(headlines)):\n",
    "    for j, h2 in enumerate(headlines):\n",
    "        if type(h1[0]) != list:\n",
    "            h1 = [[x] for x in h1]\n",
    "        if type(h2[0]) != str:\n",
    "            h2 = [x[0] for x in h2]\n",
    "        \n",
    "        results[i, j] = scalar_from_metrics(\n",
    "            calc_metrics(h1, h2, language='ru')\n",
    "        )"
   ]
  },
  {
   "cell_type": "code",
   "execution_count": 61,
   "id": "legal-actress",
   "metadata": {},
   "outputs": [
    {
     "data": {
      "text/html": [
       "<div>\n",
       "<style scoped>\n",
       "    .dataframe tbody tr th:only-of-type {\n",
       "        vertical-align: middle;\n",
       "    }\n",
       "\n",
       "    .dataframe tbody tr th {\n",
       "        vertical-align: top;\n",
       "    }\n",
       "\n",
       "    .dataframe thead th {\n",
       "        text-align: right;\n",
       "    }\n",
       "</style>\n",
       "<table border=\"1\" class=\"dataframe\">\n",
       "  <thead>\n",
       "    <tr style=\"text-align: right;\">\n",
       "      <th></th>\n",
       "      <th>RIA to Lenta</th>\n",
       "      <th>Lenta to Lenta</th>\n",
       "      <th>Ref Lenta</th>\n",
       "      <th>RIA to RIA</th>\n",
       "      <th>Lenta to RIA</th>\n",
       "      <th>Ref RIA</th>\n",
       "    </tr>\n",
       "  </thead>\n",
       "  <tbody>\n",
       "    <tr>\n",
       "      <th>RIA to Lenta</th>\n",
       "      <td>1.00</td>\n",
       "      <td>0.37</td>\n",
       "      <td>0.25</td>\n",
       "      <td>0.28</td>\n",
       "      <td>0.22</td>\n",
       "      <td>0.23</td>\n",
       "    </tr>\n",
       "    <tr>\n",
       "      <th>Lenta to Lenta</th>\n",
       "      <td>0.37</td>\n",
       "      <td>1.00</td>\n",
       "      <td>0.30</td>\n",
       "      <td>0.22</td>\n",
       "      <td>0.28</td>\n",
       "      <td>0.21</td>\n",
       "    </tr>\n",
       "    <tr>\n",
       "      <th>Ref Lenta</th>\n",
       "      <td>0.25</td>\n",
       "      <td>0.30</td>\n",
       "      <td>1.00</td>\n",
       "      <td>0.22</td>\n",
       "      <td>0.24</td>\n",
       "      <td>0.27</td>\n",
       "    </tr>\n",
       "    <tr>\n",
       "      <th>RIA to RIA</th>\n",
       "      <td>0.28</td>\n",
       "      <td>0.22</td>\n",
       "      <td>0.22</td>\n",
       "      <td>1.00</td>\n",
       "      <td>0.36</td>\n",
       "      <td>0.32</td>\n",
       "    </tr>\n",
       "    <tr>\n",
       "      <th>Lenta to RIA</th>\n",
       "      <td>0.22</td>\n",
       "      <td>0.28</td>\n",
       "      <td>0.24</td>\n",
       "      <td>0.36</td>\n",
       "      <td>1.00</td>\n",
       "      <td>0.26</td>\n",
       "    </tr>\n",
       "    <tr>\n",
       "      <th>Ref RIA</th>\n",
       "      <td>0.23</td>\n",
       "      <td>0.21</td>\n",
       "      <td>0.27</td>\n",
       "      <td>0.32</td>\n",
       "      <td>0.26</td>\n",
       "      <td>1.00</td>\n",
       "    </tr>\n",
       "  </tbody>\n",
       "</table>\n",
       "</div>"
      ],
      "text/plain": [
       "                RIA to Lenta  Lenta to Lenta  Ref Lenta  RIA to RIA  \\\n",
       "RIA to Lenta            1.00            0.37       0.25        0.28   \n",
       "Lenta to Lenta          0.37            1.00       0.30        0.22   \n",
       "Ref Lenta               0.25            0.30       1.00        0.22   \n",
       "RIA to RIA              0.28            0.22       0.22        1.00   \n",
       "Lenta to RIA            0.22            0.28       0.24        0.36   \n",
       "Ref RIA                 0.23            0.21       0.27        0.32   \n",
       "\n",
       "                Lenta to RIA  Ref RIA  \n",
       "RIA to Lenta            0.22     0.23  \n",
       "Lenta to Lenta          0.28     0.21  \n",
       "Ref Lenta               0.24     0.27  \n",
       "RIA to RIA              0.36     0.32  \n",
       "Lenta to RIA            1.00     0.26  \n",
       "Ref RIA                 0.26     1.00  "
      ]
     },
     "execution_count": 61,
     "metadata": {},
     "output_type": "execute_result"
    }
   ],
   "source": [
    "df = pd.DataFrame(results, columns=names, index=names).round(2)\n",
    "df"
   ]
  },
  {
   "cell_type": "code",
   "execution_count": 82,
   "id": "worldwide-registration",
   "metadata": {},
   "outputs": [
    {
     "data": {
      "image/png": "[encoded data removed]",
      "text/plain": [
       "<Figure size 1008x648 with 2 Axes>"
      ]
     },
     "metadata": {},
     "output_type": "display_data"
    }
   ],
   "source": [
    "mask = np.zeros((6, 6), dtype=bool)\n",
    "mask[np.diag_indices_from(mask)] = True\n",
    "\n",
    "with sns.axes_style(\"white\"):\n",
    "    f, ax = plt.subplots(figsize=(14, 9))\n",
    "    ax = sns.heatmap(df, mask=mask, vmax=.4, vmin=0.2, square=True, annot=True)\n",
    "    ax.set_xticklabels(ax.get_xticklabels(), rotation=11)\n",
    "    ax.set_yticklabels(ax.get_yticklabels(), rotation=0)    "
   ]
  },
  {
   "cell_type": "markdown",
   "id": "pending-gross",
   "metadata": {},
   "source": [
    "## Style Discriminator eval"
   ]
  },
  {
   "cell_type": "code",
   "execution_count": 87,
   "id": "lovely-equity",
   "metadata": {},
   "outputs": [],
   "source": [
    "def get_discr_res(ria_zag, lenta_zag, mode='SOFT'):\n",
    "    # Vanilla discriminator\n",
    "    \n",
    "    inputs_ria = tokenizer(\n",
    "        ria_zag,\n",
    "        add_special_tokens=True,\n",
    "        max_length=48,\n",
    "        padding=\"max_length\",\n",
    "        truncation=True\n",
    "    )\n",
    "\n",
    "    inputs_lenta = tokenizer(\n",
    "        lenta_zag,\n",
    "        add_special_tokens=True,\n",
    "        max_length=48,\n",
    "        padding=\"max_length\",\n",
    "        truncation=True\n",
    "    )\n",
    "\n",
    "    logits_ria = discriminator(input_ids=torch.LongTensor(inputs_ria['input_ids']).to(device).unsqueeze(0), \n",
    "                           attention_mask=torch.LongTensor(inputs_ria['attention_mask']).to(device).unsqueeze(0))[0][0]\n",
    "    pred_ria = torch.argmax(logits_ria).item()\n",
    "\n",
    "    logits_lenta = discriminator(input_ids=torch.LongTensor(inputs_lenta['input_ids']).to(device).unsqueeze(0), \n",
    "                           attention_mask=torch.LongTensor(inputs_lenta['attention_mask']).to(device).unsqueeze(0))[0][0]\n",
    "    pred_lenta = torch.argmax(logits_lenta).item()\n",
    "\n",
    "    if mode == 'HARD':\n",
    "        return int(pred_ria == agency_to_discr_target['РИА Новости'] and \\\n",
    "                       pred_lenta == agency_to_discr_target['lenta.ru'])\n",
    "    elif mode == 'SOFT':\n",
    "        return int(logits_ria[agency_to_discr_target['lenta.ru']] < \\\n",
    "                       logits_lenta[agency_to_discr_target['lenta.ru']])\n",
    "    assert False\n",
    "    \n",
    "agency_list = [\"РИА Новости\", \"lenta.ru\"]\n",
    "agency_to_special_token_id = {a: tokenizer.vocab[f'[unused{i+1}]'] for i, a in enumerate(agency_list)}\n",
    "agency_to_discr_target = {a: i for i, a in enumerate(sorted(agency_list))}"
   ]
  },
  {
   "cell_type": "code",
   "execution_count": 135,
   "id": "limited-scene",
   "metadata": {},
   "outputs": [
    {
     "name": "stderr",
     "output_type": "stream",
     "text": [
      "100%|██████████| 2000/2000 [02:14<00:00, 14.86it/s]\n"
     ]
    }
   ],
   "source": [
    "discriminator = AutoModelForSequenceClassification.from_pretrained(discr_model_path)\n",
    "discriminator.eval()\n",
    "discriminator.to(device)\n",
    "\n",
    "results = {\n",
    "    'from ria': 0,\n",
    "    'from lenta': 0,\n",
    "    'both cross': 0,\n",
    "    'both direct': 0,\n",
    "}\n",
    "\n",
    "with torch.no_grad():\n",
    "    for i in tqdm.trange(len(records)):\n",
    "        ria_zag_from_lenta = ria_from_lenta[i]\n",
    "        ria_zag_from_ria = ria_from_ria[i]\n",
    "\n",
    "        lenta_zag_from_ria = lenta_from_ria[i]\n",
    "        lenta_zag_from_lenta = lenta_from_lenta[i]\n",
    "\n",
    "        results['from ria'] += get_discr_res(ria_zag_from_ria, lenta_zag_from_ria)\n",
    "        results['from lenta'] += get_discr_res(ria_zag_from_lenta, lenta_zag_from_lenta)\n",
    "        results['both cross'] += get_discr_res(ria_zag_from_lenta, lenta_zag_from_ria)\n",
    "        results['both direct'] += get_discr_res(ria_zag_from_ria, lenta_zag_from_lenta)\n",
    "    \n",
    "discriminator.cpu();"
   ]
  },
  {
   "cell_type": "code",
   "execution_count": 136,
   "id": "friendly-conjunction",
   "metadata": {},
   "outputs": [
    {
     "data": {
      "image/png": "[encoded data removed]",
      "text/plain": [
       "<Figure size 720x504 with 1 Axes>"
      ]
     },
     "metadata": {},
     "output_type": "display_data"
    }
   ],
   "source": [
    "setting_names = list(results.keys())\n",
    "setting_res = [results[k] / 2000 for k in setting_names]\n",
    "\n",
    "plt.figure(figsize=(10, 7))\n",
    "sns.barplot(x=setting_names, y=setting_res)\n",
    "plt.ylim(0.9)\n",
    "plt.show()"
   ]
  },
  {
   "cell_type": "markdown",
   "id": "threaded-ocean",
   "metadata": {},
   "source": [
    "## Gen Title eval"
   ]
  },
  {
   "cell_type": "code",
   "execution_count": 181,
   "id": "structural-civilization",
   "metadata": {},
   "outputs": [
    {
     "name": "stderr",
     "output_type": "stream",
     "text": [
      "100%|██████████| 2000/2000 [16:34<00:00,  2.01it/s]\n"
     ]
    }
   ],
   "source": [
    "baseline_hyps_ria = []\n",
    "baseline_hyps_lenta = []\n",
    "\n",
    "joint_baseline = EncoderDecoderModel.from_pretrained(joint_baseline_path)\n",
    "joint_baseline.eval()\n",
    "joint_baseline.to(device)\n",
    "\n",
    "with torch.no_grad():\n",
    "    for i in tqdm.trange(len(records)):\n",
    "        ria_inp = text_to_transformer_input(records[i]['ria_text'])\n",
    "        lenta_inp = text_to_transformer_input(records[i]['lenta_text'])\n",
    "        \n",
    "        baseline_hyps_ria.append(\n",
    "            joint_baseline.generate(**ria_inp, **generation_args)\n",
    "        )\n",
    "        \n",
    "        baseline_hyps_lenta.append(\n",
    "            joint_baseline.generate(**lenta_inp, **generation_args)\n",
    "        )\n",
    "\n",
    "joint_baseline.cpu();"
   ]
  },
  {
   "cell_type": "code",
   "execution_count": 182,
   "id": "undefined-plant",
   "metadata": {},
   "outputs": [],
   "source": [
    "if type(ref_ria[0]) != list:\n",
    "    ref_ria = [[x] for x in ref_ria]\n",
    "if type(ref_lenta[0]) != list:\n",
    "    ref_lenta = [[x] for x in ref_lenta]"
   ]
  },
  {
   "cell_type": "code",
   "execution_count": 183,
   "id": "average-motel",
   "metadata": {},
   "outputs": [
    {
     "name": "stdout",
     "output_type": "stream",
     "text": [
      "CPU times: user 2.05 s, sys: 24.1 ms, total: 2.08 s\n",
      "Wall time: 2.07 s\n"
     ]
    }
   ],
   "source": [
    "%%time\n",
    "\n",
    "baseline_hyps_ria = [trans_otpt_to_headline(x) for x in baseline_hyps_ria]\n",
    "baseline_hyps_lenta = [trans_otpt_to_headline(x) for x in baseline_hyps_lenta]"
   ]
  },
  {
   "cell_type": "code",
   "execution_count": 184,
   "id": "growing-orange",
   "metadata": {},
   "outputs": [],
   "source": [
    "ria_baseline_metrics = calc_metrics(ref_ria, baseline_hyps_ria, language='ru')\n",
    "lenta_baseline_metrics = calc_metrics(ref_lenta, baseline_hyps_lenta, language='ru')\n",
    "\n",
    "ria_style_cross_metrics = calc_metrics(ref_ria, ria_from_lenta, language='ru')\n",
    "ria_style_direct_metrics = calc_metrics(ref_ria, ria_from_ria, language='ru')\n",
    "\n",
    "lenta_style_cross_metrics = calc_metrics(ref_lenta, lenta_from_ria, language='ru')\n",
    "lenta_style_direct_metrics = calc_metrics(ref_lenta, lenta_from_lenta, language='ru')"
   ]
  },
  {
   "cell_type": "code",
   "execution_count": 185,
   "id": "outdoor-destination",
   "metadata": {},
   "outputs": [],
   "source": [
    "def metrics_extract(metrics):\n",
    "    return {\n",
    "        'BLEU': metrics['bleu'],\n",
    "        'Rouge-1': metrics['r1'],\n",
    "        'Rouge-2': metrics['r2'],\n",
    "        'Rouge-L': metrics['rl'],\n",
    "        'Rouge-Mean': (metrics['r1'] + metrics['r2'] + metrics['rl']) / 3,\n",
    "    }"
   ]
  },
  {
   "cell_type": "code",
   "execution_count": 186,
   "id": "faced-homeless",
   "metadata": {},
   "outputs": [],
   "source": [
    "df = pd.DataFrame(metrics_extract(ria_baseline_metrics), index=['RIA Baseline']).append(\n",
    "    pd.DataFrame(metrics_extract(lenta_baseline_metrics), index=['Lenta Baseline'])).append(\n",
    "    pd.DataFrame(metrics_extract(ria_style_cross_metrics), index=['RIA cross'])).append(\n",
    "    pd.DataFrame(metrics_extract(ria_style_direct_metrics), index=['RIA direct'])).append(\n",
    "    pd.DataFrame(metrics_extract(ria_style_cross_metrics), index=['Lenta direct'])).append(\n",
    "    pd.DataFrame(metrics_extract(ria_style_direct_metrics), index=['Lenta direct'])).round(2)"
   ]
  },
  {
   "cell_type": "code",
   "execution_count": 187,
   "id": "frequent-camping",
   "metadata": {},
   "outputs": [
    {
     "data": {
      "text/html": [
       "<div>\n",
       "<style scoped>\n",
       "    .dataframe tbody tr th:only-of-type {\n",
       "        vertical-align: middle;\n",
       "    }\n",
       "\n",
       "    .dataframe tbody tr th {\n",
       "        vertical-align: top;\n",
       "    }\n",
       "\n",
       "    .dataframe thead th {\n",
       "        text-align: right;\n",
       "    }\n",
       "</style>\n",
       "<table border=\"1\" class=\"dataframe\">\n",
       "  <thead>\n",
       "    <tr style=\"text-align: right;\">\n",
       "      <th></th>\n",
       "      <th>BLEU</th>\n",
       "      <th>Rouge-1</th>\n",
       "      <th>Rouge-2</th>\n",
       "      <th>Rouge-L</th>\n",
       "      <th>Rouge-Mean</th>\n",
       "    </tr>\n",
       "  </thead>\n",
       "  <tbody>\n",
       "    <tr>\n",
       "      <th>RIA Baseline</th>\n",
       "      <td>0.54</td>\n",
       "      <td>0.43</td>\n",
       "      <td>0.24</td>\n",
       "      <td>0.41</td>\n",
       "      <td>0.36</td>\n",
       "    </tr>\n",
       "    <tr>\n",
       "      <th>Lenta Baseline</th>\n",
       "      <td>0.53</td>\n",
       "      <td>0.41</td>\n",
       "      <td>0.22</td>\n",
       "      <td>0.39</td>\n",
       "      <td>0.34</td>\n",
       "    </tr>\n",
       "    <tr>\n",
       "      <th>RIA cross</th>\n",
       "      <td>0.45</td>\n",
       "      <td>0.33</td>\n",
       "      <td>0.15</td>\n",
       "      <td>0.31</td>\n",
       "      <td>0.26</td>\n",
       "    </tr>\n",
       "    <tr>\n",
       "      <th>RIA direct</th>\n",
       "      <td>0.51</td>\n",
       "      <td>0.39</td>\n",
       "      <td>0.21</td>\n",
       "      <td>0.38</td>\n",
       "      <td>0.33</td>\n",
       "    </tr>\n",
       "    <tr>\n",
       "      <th>Lenta direct</th>\n",
       "      <td>0.45</td>\n",
       "      <td>0.33</td>\n",
       "      <td>0.15</td>\n",
       "      <td>0.31</td>\n",
       "      <td>0.26</td>\n",
       "    </tr>\n",
       "    <tr>\n",
       "      <th>Lenta direct</th>\n",
       "      <td>0.51</td>\n",
       "      <td>0.39</td>\n",
       "      <td>0.21</td>\n",
       "      <td>0.38</td>\n",
       "      <td>0.33</td>\n",
       "    </tr>\n",
       "  </tbody>\n",
       "</table>\n",
       "</div>"
      ],
      "text/plain": [
       "                BLEU  Rouge-1  Rouge-2  Rouge-L  Rouge-Mean\n",
       "RIA Baseline    0.54     0.43     0.24     0.41        0.36\n",
       "Lenta Baseline  0.53     0.41     0.22     0.39        0.34\n",
       "RIA cross       0.45     0.33     0.15     0.31        0.26\n",
       "RIA direct      0.51     0.39     0.21     0.38        0.33\n",
       "Lenta direct    0.45     0.33     0.15     0.31        0.26\n",
       "Lenta direct    0.51     0.39     0.21     0.38        0.33"
      ]
     },
     "execution_count": 187,
     "metadata": {},
     "output_type": "execute_result"
    }
   ],
   "source": [
    "df"
   ]
  },
  {
   "cell_type": "markdown",
   "id": "technological-packing",
   "metadata": {},
   "source": [
    "## Dumping headlines"
   ]
  },
  {
   "cell_type": "code",
   "execution_count": 112,
   "id": "revised-context",
   "metadata": {},
   "outputs": [],
   "source": [
    "from utils.gen_title_calculate_metrics import postprocess"
   ]
  },
  {
   "cell_type": "code",
   "execution_count": 126,
   "id": "naked-worcester",
   "metadata": {},
   "outputs": [],
   "source": [
    "discriminator.to(device);"
   ]
  },
  {
   "cell_type": "code",
   "execution_count": 132,
   "id": "joint-spice",
   "metadata": {},
   "outputs": [
    {
     "name": "stderr",
     "output_type": "stream",
     "text": [
      "100%|██████████| 2000/2000 [00:34<00:00, 58.53it/s]"
     ]
    },
    {
     "name": "stdout",
     "output_type": "stream",
     "text": [
      "59\n"
     ]
    },
    {
     "name": "stderr",
     "output_type": "stream",
     "text": [
      "\n"
     ]
    }
   ],
   "source": [
    "ok_cnt = 0\n",
    "\n",
    "with open('on_ria.txt', 'w') as f:\n",
    "    for i in tqdm.trange(len(records)):\n",
    "        ria_zag = ria_from_ria[i]\n",
    "        lenta_zag = lenta_from_ria[i]\n",
    "        \n",
    "        ria_ref_zag = ref_ria[i]\n",
    "        lenta_ref_zag = ref_lenta[i]        \n",
    "            \n",
    "        inp_ria = tokenizer(ria_zag, \n",
    "            add_special_tokens=True, max_length=48,\n",
    "            padding='max_length', truncation=True\n",
    "        )\n",
    "        inp_lenta = tokenizer(lenta_zag, \n",
    "            add_special_tokens=True, max_length=48,\n",
    "            padding='max_length', truncation=True\n",
    "        )\n",
    "        \n",
    "        logits_ria = discriminator(input_ids=torch.LongTensor(inp_ria['input_ids']).cuda().unsqueeze(0), \n",
    "                           attention_mask=torch.LongTensor(inp_ria['attention_mask']).cuda().unsqueeze(0))[0]\n",
    "        logits_lenta = discriminator(input_ids=torch.LongTensor(inp_lenta['input_ids']).cuda().unsqueeze(0), \n",
    "                           attention_mask=torch.LongTensor(inp_lenta['attention_mask']).cuda().unsqueeze(0))[0]            \n",
    "        ria_pred = torch.argmax(logits_ria).item()\n",
    "        lenta_pred = torch.argmax(logits_lenta).item()\n",
    "\n",
    "        if not (ria_pred != lenta_pred and \\\n",
    "                ria_pred == agency_to_discr_target['РИА Новости'] and \\\n",
    "                min(logits_ria.max().item(), logits_lenta.max().item()) >= 4.57):\n",
    "            continue\n",
    "\n",
    "        ria_ref_zag, ria_zag = postprocess(ria_ref_zag, ria_zag, 'ru', is_multiple_ref=True, lower=True)\n",
    "        lenta_ref_zag, lenta_zag = postprocess(lenta_ref_zag, lenta_zag, 'ru', is_multiple_ref=True, lower=True)\n",
    "\n",
    "        f.write('RIA text: ' + records[i]['ria_text'] + '\\n\\n')\n",
    "        f.write('RIA Ref headline: ' + ria_ref_zag[0] + '\\n')\n",
    "        f.write('Lenta Ref headline: ' + lenta_ref_zag[0] + '\\n\\n')\n",
    "\n",
    "        f.write('RIA Hyp headline: ' + ria_zag + '\\n')\n",
    "        f.write('Lenta Hyp headline: ' + lenta_zag + '\\n')\n",
    "\n",
    "        f.write('\\n\\n' + '-' * 50 + '\\n')\n",
    "        ok_cnt += 1\n",
    "        \n",
    "print(ok_cnt)"
   ]
  },
  {
   "cell_type": "code",
   "execution_count": 133,
   "id": "understanding-inventory",
   "metadata": {},
   "outputs": [
    {
     "name": "stderr",
     "output_type": "stream",
     "text": [
      "100%|██████████| 2000/2000 [00:34<00:00, 58.59it/s]"
     ]
    },
    {
     "name": "stdout",
     "output_type": "stream",
     "text": [
      "51\n"
     ]
    },
    {
     "name": "stderr",
     "output_type": "stream",
     "text": [
      "\n"
     ]
    }
   ],
   "source": [
    "ok_cnt = 0\n",
    "\n",
    "with open('on_lenta.txt', 'w') as f:\n",
    "    for i in tqdm.trange(len(records)):\n",
    "        ria_zag = ria_from_lenta[i]\n",
    "        lenta_zag = lenta_from_lenta[i]\n",
    "        \n",
    "        ria_ref_zag = ref_ria[i]\n",
    "        lenta_ref_zag = ref_lenta[i]      \n",
    "            \n",
    "        inp_ria = tokenizer(ria_zag, \n",
    "            add_special_tokens=True, max_length=48,\n",
    "            padding='max_length', truncation=True\n",
    "        )\n",
    "        inp_lenta = tokenizer(lenta_zag, \n",
    "            add_special_tokens=True, max_length=48,\n",
    "            padding='max_length', truncation=True\n",
    "        )\n",
    "        \n",
    "        logits_ria = discriminator(input_ids=torch.LongTensor(inp_ria['input_ids']).cuda().unsqueeze(0), \n",
    "                           attention_mask=torch.LongTensor(inp_ria['attention_mask']).cuda().unsqueeze(0))[0]\n",
    "        logits_lenta = discriminator(input_ids=torch.LongTensor(inp_lenta['input_ids']).cuda().unsqueeze(0), \n",
    "                           attention_mask=torch.LongTensor(inp_lenta['attention_mask']).cuda().unsqueeze(0))[0]            \n",
    "        ria_pred = torch.argmax(logits_ria).item()\n",
    "        lenta_pred = torch.argmax(logits_lenta).item()\n",
    "\n",
    "\n",
    "        if not (ria_pred != lenta_pred and \\\n",
    "                ria_pred == agency_to_discr_target['РИА Новости'] and \\\n",
    "                min(logits_ria.max().item(), logits_lenta.max().item()) >= 4.57):\n",
    "            continue\n",
    "\n",
    "        ria_ref_zag, ria_zag = postprocess(ria_ref_zag, ria_zag, 'ru', is_multiple_ref=True, lower=True)\n",
    "        lenta_ref_zag, lenta_zag = postprocess(lenta_ref_zag, lenta_zag, 'ru', is_multiple_ref=True, lower=True)\n",
    "\n",
    "        f.write('Lenta text: ' + records[i]['lenta_text'] + '\\n\\n')\n",
    "        f.write('RIA Ref headline: ' + ria_ref_zag[0] + '\\n')\n",
    "        f.write('Lenta Ref headline: ' + lenta_ref_zag[0] + '\\n\\n')\n",
    "\n",
    "        f.write('RIA Hyp headline: ' + ria_zag + '\\n')\n",
    "        f.write('Lenta Hyp headline: ' + lenta_zag + '\\n')\n",
    "\n",
    "        f.write('\\n\\n' + '-' * 50 + '\\n')\n",
    "        \n",
    "        ok_cnt += 1\n",
    "        \n",
    "print(ok_cnt)"
   ]
  },
  {
   "cell_type": "code",
   "execution_count": 134,
   "id": "intensive-float",
   "metadata": {},
   "outputs": [],
   "source": [
    "discriminator.cpu();"
   ]
  },
  {
   "cell_type": "markdown",
   "id": "proper-brighton",
   "metadata": {},
   "source": [
    "## Watching clusters split"
   ]
  },
  {
   "cell_type": "code",
   "execution_count": 140,
   "id": "computational-malaysia",
   "metadata": {},
   "outputs": [
    {
     "name": "stderr",
     "output_type": "stream",
     "text": [
      "75362it [00:16, 4526.69it/s]\n",
      "2000it [00:00, 5875.15it/s]\n"
     ]
    }
   ],
   "source": [
    "train =  [r for r in tqdm.tqdm(reader('../../datasets/full_lenta_ria.train.jsonl'))]\n",
    "test = [r for r in tqdm.tqdm(reader('../../datasets/full_lenta_ria.test.jsonl'))]"
   ]
  },
  {
   "cell_type": "code",
   "execution_count": 141,
   "id": "public-conducting",
   "metadata": {},
   "outputs": [],
   "source": [
    "from collections import Counter\n",
    "\n",
    "train_texts = [r['ria_text'] for r in train] + [r['lenta_text'] for r in train]\n",
    "test_texts = [r['ria_text'] for r in test] + [r['lenta_text'] for r in test]"
   ]
  },
  {
   "cell_type": "code",
   "execution_count": 142,
   "id": "extended-punishment",
   "metadata": {},
   "outputs": [],
   "source": [
    "trc = Counter()\n",
    "\n",
    "for x in train_texts:\n",
    "    trc.update(x.lower().split())"
   ]
  },
  {
   "cell_type": "code",
   "execution_count": 143,
   "id": "synthetic-toyota",
   "metadata": {},
   "outputs": [],
   "source": [
    "tc = Counter()\n",
    "\n",
    "for x in test_texts:\n",
    "    tc.update(x.lower().split())"
   ]
  },
  {
   "cell_type": "code",
   "execution_count": 144,
   "id": "employed-second",
   "metadata": {},
   "outputs": [
    {
     "data": {
      "text/plain": [
       "[('тысяч', 39677),\n",
       " ('их', 39408),\n",
       " ('года.', 38561),\n",
       " ('однако', 37977),\n",
       " ('еще', 37619),\n",
       " ('сказал', 37316),\n",
       " ('данным', 37163),\n",
       " ('около', 36350),\n",
       " ('под', 35945),\n",
       " ('все', 35831),\n",
       " ('ее', 34080),\n",
       " ('была', 33369),\n",
       " ('они', 33155),\n",
       " ('сообщил', 31440),\n",
       " ('этого', 29242),\n",
       " ('словам', 28976),\n",
       " ('суд', 27961),\n",
       " ('может', 27937),\n",
       " ('сша', 27443),\n",
       " ('власти', 27228),\n",
       " ('или', 26893),\n",
       " ('только', 26851),\n",
       " ('будут', 26840),\n",
       " ('миллионов', 26790),\n",
       " ('несколько', 26315),\n",
       " ('ссылкой', 26178),\n",
       " ('заявил', 26130),\n",
       " ('результате', 26066),\n",
       " ('чтобы', 25832),\n",
       " ('кроме', 25810),\n",
       " ('2011', 25788),\n",
       " ('том,', 25465),\n",
       " ('один', 25234),\n",
       " ('пока', 25086),\n",
       " ('же', 25045),\n",
       " ('так', 24886),\n",
       " ('является', 24618),\n",
       " ('из-за', 24570),\n",
       " ('компании', 24411),\n",
       " ('2010', 24297),\n",
       " ('глава', 23955),\n",
       " ('2012', 23911),\n",
       " ('президент', 23905),\n",
       " ('где', 23747),\n",
       " ('против', 23458),\n",
       " ('решение', 22976),\n",
       " ('два', 22654),\n",
       " ('>>', 22631),\n",
       " ('говорится', 22322),\n",
       " ('между', 22255)]"
      ]
     },
     "execution_count": 144,
     "metadata": {},
     "output_type": "execute_result"
    }
   ],
   "source": [
    "trc.most_common(100)[50:]"
   ]
  },
  {
   "cell_type": "code",
   "execution_count": 145,
   "id": "injured-surrey",
   "metadata": {},
   "outputs": [
    {
     "data": {
      "text/plain": [
       "[('мы', 965),\n",
       " ('сша', 932),\n",
       " ('украины', 927),\n",
       " ('глава', 915),\n",
       " ('было', 901),\n",
       " ('уже', 895),\n",
       " ('более', 887),\n",
       " ('их', 872),\n",
       " ('еще', 869),\n",
       " ('который', 866),\n",
       " ('тысяч', 864),\n",
       " ('все', 853),\n",
       " ('2015', 846),\n",
       " ('того,', 828),\n",
       " ('под', 791),\n",
       " ('они', 784),\n",
       " ('может', 768),\n",
       " ('около', 761),\n",
       " ('сообщил', 747),\n",
       " ('этого', 747),\n",
       " ('против', 723),\n",
       " ('из-за', 715),\n",
       " ('новости', 685),\n",
       " ('говорится', 684),\n",
       " ('ее', 682),\n",
       " ('была', 678),\n",
       " ('будут', 671),\n",
       " ('владимир', 666),\n",
       " ('власти', 663),\n",
       " ('чтобы', 661),\n",
       " ('или', 659),\n",
       " ('данным', 654),\n",
       " ('решение', 652),\n",
       " ('однако', 643),\n",
       " ('миллионов', 627),\n",
       " ('компании', 613),\n",
       " ('словам', 612),\n",
       " ('декабря,', 598),\n",
       " ('заявил,', 598),\n",
       " ('является', 597),\n",
       " ('только', 594),\n",
       " ('так', 587),\n",
       " ('словам,', 582),\n",
       " ('1', 565),\n",
       " ('она', 554),\n",
       " ('же', 553),\n",
       " ('быть', 545),\n",
       " ('связи', 544),\n",
       " ('том,', 541),\n",
       " ('10', 540)]"
      ]
     },
     "execution_count": 145,
     "metadata": {},
     "output_type": "execute_result"
    }
   ],
   "source": [
    "tc.most_common(100)[50:]"
   ]
  }
 ],
 "metadata": {
  "kernelspec": {
   "display_name": "Python 3",
   "language": "python",
   "name": "python3"
  },
  "language_info": {
   "codemirror_mode": {
    "name": "ipython",
    "version": 3
   },
   "file_extension": ".py",
   "mimetype": "text/x-python",
   "name": "python",
   "nbconvert_exporter": "python",
   "pygments_lexer": "ipython3",
   "version": "3.8.5"
  }
 },
 "nbformat": 4,
 "nbformat_minor": 5
}
