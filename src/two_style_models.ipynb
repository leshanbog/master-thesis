{
 "cells": [
  {
   "cell_type": "code",
   "execution_count": 1,
   "id": "informal-liver",
   "metadata": {},
   "outputs": [],
   "source": [
    "from readers import ria_reader, tg_reader, lenta_reader\n",
    "from custom_datasets.gen_title_dataset import GenTitleDataset\n",
    "from utils.training_utils import get_separate_lr_optimizer, init_wandb\n",
    "\n",
    "from transformers import BertTokenizer, EncoderDecoderModel, Trainer, TrainingArguments, logging\n",
    "import json\n",
    "import random\n",
    "import tqdm\n",
    "import torch\n",
    "\n",
    "import os\n",
    "import wandb\n",
    "\n",
    "from _jsonnet import evaluate_file as jsonnet_evaluate_file"
   ]
  },
  {
   "cell_type": "code",
   "execution_count": 2,
   "id": "persistent-aircraft",
   "metadata": {},
   "outputs": [],
   "source": [
    "def reader(path):\n",
    "    with open(path, 'r') as f:\n",
    "        for line in f:\n",
    "            yield json.loads(line.strip())"
   ]
  },
  {
   "cell_type": "code",
   "execution_count": 3,
   "id": "narrow-title",
   "metadata": {},
   "outputs": [
    {
     "name": "stderr",
     "output_type": "stream",
     "text": [
      "wandb: Currently logged in as: leshanbog (use `wandb login --relogin` to force relogin)\n"
     ]
    },
    {
     "data": {
      "text/html": [
       "\n",
       "                Tracking run with wandb version 0.10.30<br/>\n",
       "                Syncing run <strong style=\"color:#cdcd00\">lenta-style-model</strong> to <a href=\"https://wandb.ai\" target=\"_blank\">Weights & Biases</a> <a href=\"https://docs.wandb.com/integrations/jupyter.html\" target=\"_blank\">(Documentation)</a>.<br/>\n",
       "                Project page: <a href=\"https://wandb.ai/leshanbog/master-thesis\" target=\"_blank\">https://wandb.ai/leshanbog/master-thesis</a><br/>\n",
       "                Run page: <a href=\"https://wandb.ai/leshanbog/master-thesis/runs/2e8lnzy8\" target=\"_blank\">https://wandb.ai/leshanbog/master-thesis/runs/2e8lnzy8</a><br/>\n",
       "                Run data is saved locally in <code>/home/aobuhtijarov/master-thesis/src/wandb/run-20210513_173214-2e8lnzy8</code><br/><br/>\n",
       "            "
      ],
      "text/plain": [
       "<IPython.core.display.HTML object>"
      ]
     },
     "metadata": {},
     "output_type": "display_data"
    }
   ],
   "source": [
    "logging.set_verbosity_info()\n",
    "config = json.loads(jsonnet_evaluate_file('/home/aobuhtijarov/master-thesis/configs/gen_title.jsonnet'))\n",
    "\n",
    "init_wandb('lenta-style-model', config)"
   ]
  },
  {
   "cell_type": "code",
   "execution_count": 4,
   "id": "dominican-gather",
   "metadata": {},
   "outputs": [
    {
     "name": "stderr",
     "output_type": "stream",
     "text": [
      "Didn't find file /home/aobuhtijarov/models/rubert_cased_L-12_H-768_A-12_pt/added_tokens.json. We won't load it.\n",
      "Didn't find file /home/aobuhtijarov/models/rubert_cased_L-12_H-768_A-12_pt/special_tokens_map.json. We won't load it.\n",
      "Didn't find file /home/aobuhtijarov/models/rubert_cased_L-12_H-768_A-12_pt/tokenizer_config.json. We won't load it.\n",
      "Didn't find file /home/aobuhtijarov/models/rubert_cased_L-12_H-768_A-12_pt/tokenizer.json. We won't load it.\n",
      "loading file /home/aobuhtijarov/models/rubert_cased_L-12_H-768_A-12_pt/vocab.txt\n",
      "loading file None\n",
      "loading file None\n",
      "loading file None\n",
      "loading file None\n"
     ]
    }
   ],
   "source": [
    "tokenizer_model_path = config[\"tokenizer_model_path\"]\n",
    "tokenizer = BertTokenizer.from_pretrained(tokenizer_model_path, do_lower_case=False, do_basic_tokenize=False)\n",
    "\n",
    "max_tokens_text = config[\"max_tokens_text\"]\n",
    "max_tokens_title = config[\"max_tokens_title\"]"
   ]
  },
  {
   "cell_type": "code",
   "execution_count": 5,
   "id": "flexible-forestry",
   "metadata": {},
   "outputs": [
    {
     "name": "stderr",
     "output_type": "stream",
     "text": [
      "loading configuration file /home/aobuhtijarov/models/pretrained_enc_8_layers/config.json\n",
      "Model config BertConfig {\n",
      "  \"_name_or_path\": \"rubert_cased_L-12_H-768_A-12_pt\",\n",
      "  \"architectures\": [\n",
      "    \"BertModel\"\n",
      "  ],\n",
      "  \"attention_probs_dropout_prob\": 0.1,\n",
      "  \"directionality\": \"bidi\",\n",
      "  \"gradient_checkpointing\": false,\n",
      "  \"hidden_act\": \"gelu\",\n",
      "  \"hidden_dropout_prob\": 0.1,\n",
      "  \"hidden_size\": 768,\n",
      "  \"initializer_range\": 0.02,\n",
      "  \"intermediate_size\": 3072,\n",
      "  \"layer_norm_eps\": 1e-12,\n",
      "  \"max_position_embeddings\": 512,\n",
      "  \"model_type\": \"bert\",\n",
      "  \"num_attention_heads\": 12,\n",
      "  \"num_hidden_layers\": 8,\n",
      "  \"pad_token_id\": 0,\n",
      "  \"pooler_fc_size\": 768,\n",
      "  \"pooler_num_attention_heads\": 12,\n",
      "  \"pooler_num_fc_layers\": 3,\n",
      "  \"pooler_size_per_head\": 128,\n",
      "  \"pooler_type\": \"first_token_transform\",\n",
      "  \"position_embedding_type\": \"absolute\",\n",
      "  \"transformers_version\": \"4.5.0\",\n",
      "  \"type_vocab_size\": 2,\n",
      "  \"use_cache\": true,\n",
      "  \"vocab_size\": 119547\n",
      "}\n",
      "\n",
      "loading weights file /home/aobuhtijarov/models/pretrained_enc_8_layers/pytorch_model.bin\n",
      "All model checkpoint weights were used when initializing BertModel.\n",
      "\n",
      "All the weights of BertModel were initialized from the model checkpoint at /home/aobuhtijarov/models/pretrained_enc_8_layers.\n",
      "If your task is similar to the task the model of the checkpoint was trained on, you can already use BertModel for predictions without further training.\n",
      "loading configuration file /home/aobuhtijarov/models/pretrained_dec_6_layers/config.json\n",
      "Model config BertConfig {\n",
      "  \"_name_or_path\": \".\",\n",
      "  \"architectures\": [\n",
      "    \"BertModel\"\n",
      "  ],\n",
      "  \"attention_probs_dropout_prob\": 0.2,\n",
      "  \"directionality\": \"bidi\",\n",
      "  \"gradient_checkpointing\": false,\n",
      "  \"hidden_act\": \"gelu\",\n",
      "  \"hidden_dropout_prob\": 0.2,\n",
      "  \"hidden_size\": 768,\n",
      "  \"initializer_range\": 0.02,\n",
      "  \"intermediate_size\": 3072,\n",
      "  \"layer_norm_eps\": 1e-12,\n",
      "  \"max_position_embeddings\": 512,\n",
      "  \"model_type\": \"bert\",\n",
      "  \"num_attention_heads\": 12,\n",
      "  \"num_hidden_layers\": 6,\n",
      "  \"pad_token_id\": 0,\n",
      "  \"pooler_fc_size\": 768,\n",
      "  \"pooler_num_attention_heads\": 12,\n",
      "  \"pooler_num_fc_layers\": 3,\n",
      "  \"pooler_size_per_head\": 128,\n",
      "  \"pooler_type\": \"first_token_transform\",\n",
      "  \"position_embedding_type\": \"absolute\",\n",
      "  \"transformers_version\": \"4.5.0\",\n",
      "  \"type_vocab_size\": 2,\n",
      "  \"use_cache\": true,\n",
      "  \"vocab_size\": 119547\n",
      "}\n",
      "\n",
      "Initializing /home/aobuhtijarov/models/pretrained_dec_6_layers as a decoder model. Cross attention layers are added to /home/aobuhtijarov/models/pretrained_dec_6_layers and randomly initialized if /home/aobuhtijarov/models/pretrained_dec_6_layers's architecture allows for cross attention layers.\n",
      "loading weights file /home/aobuhtijarov/models/pretrained_dec_6_layers/pytorch_model.bin\n",
      "All model checkpoint weights were used when initializing BertLMHeadModel.\n",
      "\n",
      "Some weights of BertLMHeadModel were not initialized from the model checkpoint at /home/aobuhtijarov/models/pretrained_dec_6_layers and are newly initialized: ['encoder.layer.0.crossattention.self.query.weight', 'encoder.layer.0.crossattention.self.query.bias', 'encoder.layer.0.crossattention.self.key.weight', 'encoder.layer.0.crossattention.self.key.bias', 'encoder.layer.0.crossattention.self.value.weight', 'encoder.layer.0.crossattention.self.value.bias', 'encoder.layer.0.crossattention.output.dense.weight', 'encoder.layer.0.crossattention.output.dense.bias', 'encoder.layer.0.crossattention.output.LayerNorm.weight', 'encoder.layer.0.crossattention.output.LayerNorm.bias', 'encoder.layer.1.crossattention.self.query.weight', 'encoder.layer.1.crossattention.self.query.bias', 'encoder.layer.1.crossattention.self.key.weight', 'encoder.layer.1.crossattention.self.key.bias', 'encoder.layer.1.crossattention.self.value.weight', 'encoder.layer.1.crossattention.self.value.bias', 'encoder.layer.1.crossattention.output.dense.weight', 'encoder.layer.1.crossattention.output.dense.bias', 'encoder.layer.1.crossattention.output.LayerNorm.weight', 'encoder.layer.1.crossattention.output.LayerNorm.bias', 'encoder.layer.2.crossattention.self.query.weight', 'encoder.layer.2.crossattention.self.query.bias', 'encoder.layer.2.crossattention.self.key.weight', 'encoder.layer.2.crossattention.self.key.bias', 'encoder.layer.2.crossattention.self.value.weight', 'encoder.layer.2.crossattention.self.value.bias', 'encoder.layer.2.crossattention.output.dense.weight', 'encoder.layer.2.crossattention.output.dense.bias', 'encoder.layer.2.crossattention.output.LayerNorm.weight', 'encoder.layer.2.crossattention.output.LayerNorm.bias', 'encoder.layer.3.crossattention.self.query.weight', 'encoder.layer.3.crossattention.self.query.bias', 'encoder.layer.3.crossattention.self.key.weight', 'encoder.layer.3.crossattention.self.key.bias', 'encoder.layer.3.crossattention.self.value.weight', 'encoder.layer.3.crossattention.self.value.bias', 'encoder.layer.3.crossattention.output.dense.weight', 'encoder.layer.3.crossattention.output.dense.bias', 'encoder.layer.3.crossattention.output.LayerNorm.weight', 'encoder.layer.3.crossattention.output.LayerNorm.bias', 'encoder.layer.4.crossattention.self.query.weight', 'encoder.layer.4.crossattention.self.query.bias', 'encoder.layer.4.crossattention.self.key.weight', 'encoder.layer.4.crossattention.self.key.bias', 'encoder.layer.4.crossattention.self.value.weight', 'encoder.layer.4.crossattention.self.value.bias', 'encoder.layer.4.crossattention.output.dense.weight', 'encoder.layer.4.crossattention.output.dense.bias', 'encoder.layer.4.crossattention.output.LayerNorm.weight', 'encoder.layer.4.crossattention.output.LayerNorm.bias', 'encoder.layer.5.crossattention.self.query.weight', 'encoder.layer.5.crossattention.self.query.bias', 'encoder.layer.5.crossattention.self.key.weight', 'encoder.layer.5.crossattention.self.key.bias', 'encoder.layer.5.crossattention.self.value.weight', 'encoder.layer.5.crossattention.self.value.bias', 'encoder.layer.5.crossattention.output.dense.weight', 'encoder.layer.5.crossattention.output.dense.bias', 'encoder.layer.5.crossattention.output.LayerNorm.weight', 'encoder.layer.5.crossattention.output.LayerNorm.bias', 'cls.predictions.transform.dense.weight', 'cls.predictions.transform.LayerNorm.weight', 'cls.predictions.transform.LayerNorm.bias', 'cls.predictions.decoder.weight', 'cls.predictions.bias', 'cls.predictions.transform.dense.bias']\n",
      "You should probably TRAIN this model on a down-stream task to be able to use it for predictions and inference.\n",
      "Set `config.is_decoder=True` and `config.add_cross_attention=True` for decoder_config\n"
     ]
    }
   ],
   "source": [
    "enc_model_path = config[\"enc_model_path\"]\n",
    "dec_model_path = config[\"dec_model_path\"]\n",
    "model = EncoderDecoderModel.from_encoder_decoder_pretrained(enc_model_path, dec_model_path)"
   ]
  },
  {
   "cell_type": "code",
   "execution_count": 8,
   "id": "liberal-yukon",
   "metadata": {},
   "outputs": [],
   "source": [
    "from torch.utils.data import Dataset\n",
    "\n",
    "class StyleModelDataset(Dataset):\n",
    "    def __init__(\n",
    "        self,\n",
    "        path,\n",
    "        tokenizer,\n",
    "        agency, # lenta or ria\n",
    "        is_train=True,\n",
    "        max_tokens_text=250,\n",
    "        max_tokens_title=50\n",
    "    ):\n",
    "        with open(path, 'r') as f:\n",
    "            self.records = [json.loads(x.strip()) for x in f.readlines()]\n",
    "\n",
    "        if is_train:\n",
    "            self.records = self.records[:74000]\n",
    "        else:\n",
    "            self.records = self.records[74000:]\n",
    "            \n",
    "        self.agency = agency\n",
    "        self.tokenizer = tokenizer\n",
    "        self.max_tokens_text = max_tokens_text\n",
    "        self.max_tokens_title = max_tokens_title\n",
    "\n",
    "    def __len__(self):\n",
    "        return len(self.records) * 2\n",
    "\n",
    "    def __getitem__(self, index):\n",
    "        record = self.records[index // 2]\n",
    "        if index % 2 == 1:\n",
    "            text = record['ria_text']\n",
    "        else:\n",
    "            text = record['lenta_text']\n",
    "            \n",
    "        if self.agency == 'ria':\n",
    "            title = record['ria_title']\n",
    "        elif self.agency == 'lenta':\n",
    "            title = record['lenta_title']\n",
    "\n",
    "        inputs = self.tokenizer(\n",
    "            text,\n",
    "            add_special_tokens=True,\n",
    "            max_length=self.max_tokens_text,\n",
    "            padding=\"max_length\",\n",
    "            truncation=True\n",
    "        )\n",
    "\n",
    "        outputs = self.tokenizer(\n",
    "            title,\n",
    "            add_special_tokens=True,\n",
    "            max_length=self.max_tokens_title,\n",
    "            padding=\"max_length\",\n",
    "            truncation=True\n",
    "        )\n",
    "\n",
    "        decoder_input_ids = torch.tensor(outputs[\"input_ids\"])\n",
    "        decoder_attention_mask = torch.tensor(outputs[\"attention_mask\"])\n",
    "        labels = decoder_input_ids.clone()\n",
    "\n",
    "        for i, mask in enumerate(decoder_attention_mask):\n",
    "            if mask == 0:\n",
    "                labels[i] = -100\n",
    "\n",
    "        return {\n",
    "            \"input_ids\": torch.tensor(inputs[\"input_ids\"]),\n",
    "            \"attention_mask\": torch.tensor(inputs[\"attention_mask\"]),\n",
    "            \"decoder_input_ids\": decoder_input_ids,\n",
    "            \"decoder_attention_mask\": decoder_attention_mask,\n",
    "            \"labels\": labels\n",
    "        }\n",
    "\n",
    "    def get_strings(self, index):\n",
    "        record = self.records[index // 2]\n",
    "        if index % 2 == 1:\n",
    "            text = record['ria_text']\n",
    "        else:\n",
    "            text = record['lenta_text']\n",
    "            \n",
    "        if self.agency == 'ria':\n",
    "            title = record['ria_title']\n",
    "        elif self.agency == 'lenta':\n",
    "            title = record['lenta_title']            \n",
    "            \n",
    "        return {\n",
    "            'text': text,\n",
    "            'title': title,\n",
    "            'date': record['lenta_date'],\n",
    "        }"
   ]
  },
  {
   "cell_type": "code",
   "execution_count": 9,
   "id": "private-framework",
   "metadata": {},
   "outputs": [],
   "source": [
    "train_dataset = StyleModelDataset('/home/aobuhtijarov/datasets/full_lenta_ria.train.jsonl',\n",
    "                                tokenizer, 'lenta', is_train=True)\n",
    "\n",
    "val_dataset = StyleModelDataset('/home/aobuhtijarov/datasets/full_lenta_ria.train.jsonl',\n",
    "                                tokenizer, 'lenta', is_train=False)"
   ]
  },
  {
   "cell_type": "code",
   "execution_count": 10,
   "id": "parental-visit",
   "metadata": {},
   "outputs": [
    {
     "data": {
      "text/plain": [
       "(148000, 2724)"
      ]
     },
     "execution_count": 10,
     "metadata": {},
     "output_type": "execute_result"
    }
   ],
   "source": [
    "len(train_dataset), len(val_dataset)"
   ]
  },
  {
   "cell_type": "code",
   "execution_count": 11,
   "id": "approved-career",
   "metadata": {},
   "outputs": [],
   "source": [
    "wandb.summary.update({\n",
    "    'Train dataset size': len(train_dataset),\n",
    "    'Val dataset size': len(val_dataset)\n",
    "})"
   ]
  },
  {
   "cell_type": "code",
   "execution_count": 12,
   "id": "martial-associate",
   "metadata": {},
   "outputs": [],
   "source": [
    "wandb.config.output_model_path = '/home/aobuhtijarov/models/lenta_style'"
   ]
  },
  {
   "cell_type": "code",
   "execution_count": 14,
   "id": "stopped-occasions",
   "metadata": {},
   "outputs": [
    {
     "name": "stderr",
     "output_type": "stream",
     "text": [
      "PyTorch: setting up devices\n"
     ]
    }
   ],
   "source": [
    "batch_size = config[\"batch_size\"]\n",
    "eval_steps = config[\"eval_steps\"]\n",
    "save_steps = config[\"save_steps\"]\n",
    "logging_steps = config[\"logging_steps\"]\n",
    "enc_lr = config[\"enc_lr\"]\n",
    "dec_lr = config[\"dec_lr\"]\n",
    "warmup_steps = config[\"num_warmup_steps\"]\n",
    "max_steps = config[\"max_steps\"]\n",
    "gradient_accumulation_steps = config[\"gradient_accumulation_steps\"]\n",
    "\n",
    "opt = get_separate_lr_optimizer(model, enc_lr, dec_lr, warmup_steps, max_steps)\n",
    "\n",
    "training_args = TrainingArguments(\n",
    "    output_dir=wandb.config.output_model_path,\n",
    "    per_device_train_batch_size=batch_size,\n",
    "    per_device_eval_batch_size=batch_size,\n",
    "    gradient_accumulation_steps=gradient_accumulation_steps,\n",
    "    evaluation_strategy='steps',\n",
    "    do_train=True,\n",
    "    do_eval=True,\n",
    "    overwrite_output_dir=False,\n",
    "    logging_steps=logging_steps,\n",
    "    save_steps=save_steps,\n",
    "    eval_steps=eval_steps,\n",
    "    save_total_limit=2,\n",
    "    max_steps=max_steps,\n",
    "    report_to='wandb',\n",
    ")"
   ]
  },
  {
   "cell_type": "code",
   "execution_count": 15,
   "id": "protected-butler",
   "metadata": {},
   "outputs": [
    {
     "name": "stderr",
     "output_type": "stream",
     "text": [
      "max_steps is given, it will override any value given in num_train_epochs\n"
     ]
    }
   ],
   "source": [
    "trainer = Trainer(\n",
    "    model=model,\n",
    "    args=training_args,\n",
    "    train_dataset=train_dataset,\n",
    "    eval_dataset=val_dataset,\n",
    "    optimizers=opt,\n",
    ")"
   ]
  },
  {
   "cell_type": "code",
   "execution_count": null,
   "id": "educated-equivalent",
   "metadata": {},
   "outputs": [
    {
     "name": "stderr",
     "output_type": "stream",
     "text": [
      "***** Running training *****\n",
      "  Num examples = 148000\n",
      "  Num Epochs = 21\n",
      "  Instantaneous batch size per device = 4\n",
      "  Total train batch size (w. parallel, distributed & accumulation) = 500\n",
      "  Gradient Accumulation steps = 125\n",
      "  Total optimization steps = 6000\n",
      "Automatic Weights & Biases logging enabled, to disable set os.environ[\"WANDB_DISABLED\"] = \"true\"\n"
     ]
    }
   ],
   "source": [
    "trainer.train()\n",
    "model.save_pretrained(output_model_path)"
   ]
  },
  {
   "cell_type": "code",
   "execution_count": null,
   "id": "incorporated-ukraine",
   "metadata": {},
   "outputs": [],
   "source": [
    "wandb.finish()"
   ]
  }
 ],
 "metadata": {
  "kernelspec": {
   "display_name": "Python 3",
   "language": "python",
   "name": "python3"
  },
  "language_info": {
   "codemirror_mode": {
    "name": "ipython",
    "version": 3
   },
   "file_extension": ".py",
   "mimetype": "text/x-python",
   "name": "python",
   "nbconvert_exporter": "python",
   "pygments_lexer": "ipython3",
   "version": "3.8.5"
  }
 },
 "nbformat": 4,
 "nbformat_minor": 5
}
