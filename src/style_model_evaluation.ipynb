{
 "cells": [
  {
   "cell_type": "code",
   "execution_count": 1,
   "id": "sophisticated-exposure",
   "metadata": {},
   "outputs": [],
   "source": [
    "import tqdm\n",
    "import numpy as np\n",
    "import pandas as pd\n",
    "import torch\n",
    "import random\n",
    "from collections import defaultdict\n",
    "from transformers import BertTokenizer, EncoderDecoderModel, AutoModelForSequenceClassification\n",
    "\n",
    "from readers import tg_reader, lenta_reader, ria_reader\n",
    "from custom_datasets.agency_title_dataset import AgencyTitleDatasetGeneration"
   ]
  },
  {
   "cell_type": "code",
   "execution_count": 2,
   "id": "split-scientist",
   "metadata": {},
   "outputs": [
    {
     "name": "stdout",
     "output_type": "stream",
     "text": [
      "\u001b[0m\u001b[01;34magency_discr_trained_on_cluster_dataset\u001b[0m/  \u001b[01;34mpretrained_dec_6_layers\u001b[0m/\r\n",
      "\u001b[01;34magency_discriminator\u001b[0m/                     \u001b[01;34mpretrained_enc_8_layers\u001b[0m/\r\n",
      "\u001b[01;34magency_discriminator_tuned\u001b[0m/               \u001b[01;34mrubert_cased_L-12_H-768_A-12_pt\u001b[0m/\r\n",
      "\u001b[01;34mgen_title_lenta_ria\u001b[0m/                      \u001b[01;34mstyle_gen_title_from_pretrained\u001b[0m/\r\n",
      "\u001b[01;34mlenta_ria_clustering_model\u001b[0m/               \u001b[01;34mtg_gen_title_1500\u001b[0m/\r\n",
      "\u001b[01;34mlenta_ria_cross_style\u001b[0m/                    \u001b[01;34mtg_gen_title_bottleneck\u001b[0m/\r\n",
      "\u001b[01;34mpaired_clf_from_rubert\u001b[0m/\r\n"
     ]
    }
   ],
   "source": [
    "ls /home/aobuhtijarov/models/"
   ]
  },
  {
   "cell_type": "code",
   "execution_count": 3,
   "id": "beautiful-bronze",
   "metadata": {},
   "outputs": [],
   "source": [
    "tokenizer_path = '/home/aobuhtijarov/models/rubert_cased_L-12_H-768_A-12_pt/'\n",
    "\n",
    "direct_model_path = '/home/aobuhtijarov/models/style_gen_title_from_pretrained/checkpoint-6000/'\n",
    "cross_model_path = '/home/aobuhtijarov/models/lenta_ria_cross_style/checkpoint-6000/'\n",
    "discr_model_path = '/home/aobuhtijarov/models/agency_discriminator_tuned/checkpoint-4000/'\n",
    "\n",
    "lenta_path = '/home/aobuhtijarov/datasets/lenta/lenta-ru-news.test.csv'\n",
    "ria_path = '/home/aobuhtijarov/datasets/ria/ria.shuffled.test.json'"
   ]
  },
  {
   "cell_type": "code",
   "execution_count": 4,
   "id": "innocent-class",
   "metadata": {},
   "outputs": [],
   "source": [
    "tokenizer = BertTokenizer.from_pretrained(tokenizer_path, do_lower_case=False, do_basic_tokenize=False)"
   ]
  },
  {
   "cell_type": "code",
   "execution_count": 6,
   "id": "normal-kenya",
   "metadata": {},
   "outputs": [],
   "source": [
    "direct_model = EncoderDecoderModel.from_pretrained(direct_model_path)\n",
    "discriminator = AutoModelForSequenceClassification.from_pretrained(discr_model_path)"
   ]
  },
  {
   "cell_type": "code",
   "execution_count": 5,
   "id": "spiritual-round",
   "metadata": {},
   "outputs": [],
   "source": [
    "import json\n",
    "\n",
    "def reader(path):\n",
    "    with open(path, 'r') as f:\n",
    "        for line in f:\n",
    "            yield json.loads(line.strip())"
   ]
  },
  {
   "cell_type": "code",
   "execution_count": 6,
   "id": "municipal-story",
   "metadata": {},
   "outputs": [
    {
     "name": "stderr",
     "output_type": "stream",
     "text": [
      "2000it [00:00, 2201.12it/s]\n"
     ]
    }
   ],
   "source": [
    "records = [r for r in tqdm.tqdm(reader('../../datasets/full_lenta_ria.test.jsonl'))]\n",
    "\n",
    "lenta_records = [\n",
    "    {'text': r['lenta_text'], 'title': r['lenta_title'], 'agency': 'lenta.ru', 'date': r['lenta_date']} \n",
    "    for r in records\n",
    "]\n",
    "\n",
    "ria_records = [\n",
    "    {'text': r['ria_text'], 'title': r['ria_title'], 'agency': 'РИА Новости', 'date': r['lenta_date']} \n",
    "    for r in records\n",
    "]"
   ]
  },
  {
   "cell_type": "code",
   "execution_count": 7,
   "id": "organizational-station",
   "metadata": {},
   "outputs": [],
   "source": [
    "agency_list = [\"РИА Новости\", \"lenta.ru\"]\n",
    "agency_to_special_token_id = {a: tokenizer.vocab[f'[unused{i+1}]'] for i, a in enumerate(agency_list)}\n",
    "agency_to_discr_target = {a: i for i, a in enumerate(sorted(agency_list))}"
   ]
  },
  {
   "cell_type": "code",
   "execution_count": 10,
   "id": "pressing-default",
   "metadata": {},
   "outputs": [],
   "source": [
    "ria_data = AgencyTitleDatasetGeneration(ria_records, tokenizer, filter_agencies=None,\n",
    "                                        agency_to_special_token_id=agency_to_special_token_id)\n",
    "\n",
    "lenta_data = AgencyTitleDatasetGeneration(lenta_records, tokenizer, filter_agencies=None, \n",
    "                                          agency_to_special_token_id=agency_to_special_token_id)"
   ]
  },
  {
   "cell_type": "code",
   "execution_count": 11,
   "id": "backed-person",
   "metadata": {},
   "outputs": [
    {
     "data": {
      "text/plain": [
       "(2000, 2000)"
      ]
     },
     "execution_count": 11,
     "metadata": {},
     "output_type": "execute_result"
    }
   ],
   "source": [
    "len(ria_data), len(lenta_data)"
   ]
  },
  {
   "cell_type": "code",
   "execution_count": 12,
   "id": "boolean-albania",
   "metadata": {},
   "outputs": [],
   "source": [
    "@torch.no_grad()\n",
    "def eval_direct_on_dataset(dataset, target_agency, n=1000, max_tokens_title=48):\n",
    "    y_pred = []\n",
    "\n",
    "\n",
    "    for i in tqdm.tqdm(np.random.choice(len(dataset), n, replace=False), total=n):\n",
    "        x = dataset[i]\n",
    "        x['input_ids'][1] = agency_to_special_token_id[target_agency]\n",
    "\n",
    "        gen_ids = direct_model.generate(\n",
    "            input_ids=x['input_ids'].cuda().unsqueeze(0),\n",
    "            attention_mask=x['attention_mask'].cuda().unsqueeze(0),\n",
    "            decoder_start_token_id=direct_model.config.decoder.pad_token_id,\n",
    "            min_length=7,\n",
    "            max_length=20,\n",
    "            num_beams=6\n",
    "        )\n",
    "        \n",
    "        gen_title = [tokenizer.decode(x, skip_special_tokens=True) for x in gen_ids][0]\n",
    "        \n",
    "        inp = tokenizer(gen_title, \n",
    "            add_special_tokens=True, max_length=max_tokens_title,\n",
    "            padding='max_length', truncation=True\n",
    "        )\n",
    "\n",
    "        logits = discriminator(input_ids=torch.LongTensor(inp['input_ids']).cuda().unsqueeze(0), \n",
    "                               attention_mask=torch.LongTensor(inp['attention_mask']).cuda().unsqueeze(0))[0]\n",
    "        y_pred.append(torch.argmax(logits).item())\n",
    "    \n",
    "    return y_pred.count(agency_to_discr_target[target_agency]) / n\n"
   ]
  },
  {
   "cell_type": "code",
   "execution_count": 11,
   "id": "expected-poster",
   "metadata": {},
   "outputs": [],
   "source": [
    "def gen_title(input_ids, attention_mask):\n",
    "    gen_ids = model.generate(\n",
    "        input_ids=input_ids,\n",
    "        attention_mask=attention_mask,\n",
    "        decoder_start_token_id=model.config.decoder.pad_token_id,\n",
    "        min_length=7,\n",
    "        max_length=22,\n",
    "        num_beams=6\n",
    "    )\n",
    "\n",
    "    gen_title = [tokenizer.decode(x, skip_special_tokens=True) for x in gen_ids][0]\n",
    "    return gen_title"
   ]
  },
  {
   "cell_type": "code",
   "execution_count": null,
   "id": "comparable-frontier",
   "metadata": {},
   "outputs": [],
   "source": [
    "max_tokens_title = 48"
   ]
  },
  {
   "cell_type": "code",
   "execution_count": null,
   "id": "laden-burning",
   "metadata": {},
   "outputs": [],
   "source": [
    "agency_to_discr_target"
   ]
  },
  {
   "cell_type": "code",
   "execution_count": 14,
   "id": "determined-entrepreneur",
   "metadata": {},
   "outputs": [
    {
     "name": "stdout",
     "output_type": "stream",
     "text": [
      "tensor([[    0, 20622, 42873, 96388,  6188, 45206, 34124, 16327, 12938,  1650,\n",
      "         27453,   131, 17407, 29079, 17609, 24461,   102,   102,   102,   102,\n",
      "           102,   102]], device='cuda:0')\n",
      "Gen: адвокат емельяненко допустил оспаривание решения об условно-досрочном освобождении\n",
      "Ref: адвокат потерпевшей рассказал о возможном оспаривании удо александра емельяненко\n",
      "Gen: 0\n",
      "Ref: 0\n"
     ]
    }
   ],
   "source": [
    "n = random.randint(0, 43000)\n",
    "n = 11306\n",
    "# n=1186\n",
    "x = lenta_data[n]\n",
    "a = gen_title(x['input_ids'].cuda().unsqueeze(0), x['attention_mask'].cuda().unsqueeze(0))\n",
    "b = lenta_records[n]['title']\n",
    "print('Gen:', a)\n",
    "print('Ref:', b)\n",
    "\n",
    "inp = tokenizer(a, \n",
    "    add_special_tokens=True, max_length=max_tokens_title,\n",
    "    padding='max_length', truncation=True\n",
    ")\n",
    "\n",
    "logits = discriminator(input_ids=torch.LongTensor(inp['input_ids']).cuda().unsqueeze(0), \n",
    "                       attention_mask=torch.LongTensor(inp['attention_mask']).cuda().unsqueeze(0))[0]\n",
    "a_pred = torch.argmax(logits).item()\n",
    "\n",
    "inp = tokenizer(b, \n",
    "    add_special_tokens=True, max_length=max_tokens_title,\n",
    "    padding='max_length', truncation=True\n",
    ")\n",
    "\n",
    "logits = discriminator(input_ids=torch.LongTensor(inp['input_ids']).cuda().unsqueeze(0), \n",
    "                       attention_mask=torch.LongTensor(inp['attention_mask']).cuda().unsqueeze(0))[0]\n",
    "b_pred = torch.argmax(logits).item()\n",
    "\n",
    "print('Gen:', a_pred)\n",
    "print('Ref:', b_pred)"
   ]
  },
  {
   "cell_type": "code",
   "execution_count": null,
   "id": "occupied-violin",
   "metadata": {},
   "outputs": [],
   "source": [
    "agency_list"
   ]
  },
  {
   "cell_type": "code",
   "execution_count": 12,
   "id": "large-continent",
   "metadata": {},
   "outputs": [
    {
     "name": "stderr",
     "output_type": "stream",
     "text": [
      "100%|██████████| 1000/1000 [06:09<00:00,  2.71it/s]\n",
      "100%|██████████| 1000/1000 [06:15<00:00,  2.67it/s]\n",
      "100%|██████████| 1000/1000 [06:13<00:00,  2.68it/s]\n",
      "100%|██████████| 1000/1000 [06:27<00:00,  2.58it/s]\n",
      "100%|██████████| 1000/1000 [06:24<00:00,  2.60it/s]\n",
      "100%|██████████| 1000/1000 [06:27<00:00,  2.58it/s]"
     ]
    },
    {
     "name": "stdout",
     "output_type": "stream",
     "text": [
      "CPU times: user 37min 58s, sys: 8.07 s, total: 38min 6s\n",
      "Wall time: 37min 57s\n"
     ]
    },
    {
     "name": "stderr",
     "output_type": "stream",
     "text": [
      "\n"
     ]
    }
   ],
   "source": [
    "%%time\n",
    "\n",
    "direct_ria_acc = eval_on_dataset(ria_data, agency_list[0])\n",
    "direct_lenta_acc = eval_on_dataset(lenta_data, agency_list[1])"
   ]
  },
  {
   "cell_type": "markdown",
   "id": "wooden-possibility",
   "metadata": {},
   "source": [
    "## Full prepend eval"
   ]
  },
  {
   "cell_type": "code",
   "execution_count": 21,
   "id": "dietary-syndicate",
   "metadata": {},
   "outputs": [],
   "source": [
    "direct_model.cuda();\n",
    "discriminator.cuda();"
   ]
  },
  {
   "cell_type": "code",
   "execution_count": 22,
   "id": "elder-soccer",
   "metadata": {},
   "outputs": [
    {
     "name": "stderr",
     "output_type": "stream",
     "text": [
      "100%|██████████| 1000/1000 [04:17<00:00,  3.88it/s]\n",
      "100%|██████████| 1000/1000 [05:39<00:00,  2.95it/s]\n",
      "100%|██████████| 1000/1000 [04:13<00:00,  3.94it/s]\n",
      "100%|██████████| 1000/1000 [04:14<00:00,  3.93it/s]"
     ]
    },
    {
     "name": "stdout",
     "output_type": "stream",
     "text": [
      "CPU times: user 18min 25s, sys: 2.36 s, total: 18min 27s\n",
      "Wall time: 18min 25s\n"
     ]
    },
    {
     "name": "stderr",
     "output_type": "stream",
     "text": [
      "\n"
     ]
    }
   ],
   "source": [
    "%%time\n",
    "\n",
    "result = defaultdict(list)\n",
    "\n",
    "for i, data in enumerate((ria_data, lenta_data)):\n",
    "    for target_a in agency_list:\n",
    "        acc = eval_direct_on_dataset(data, target_a)\n",
    "        result[i].append(acc)"
   ]
  },
  {
   "cell_type": "code",
   "execution_count": 23,
   "id": "nearby-sleep",
   "metadata": {},
   "outputs": [
    {
     "data": {
      "text/html": [
       "<div>\n",
       "<style scoped>\n",
       "    .dataframe tbody tr th:only-of-type {\n",
       "        vertical-align: middle;\n",
       "    }\n",
       "\n",
       "    .dataframe tbody tr th {\n",
       "        vertical-align: top;\n",
       "    }\n",
       "\n",
       "    .dataframe thead th {\n",
       "        text-align: right;\n",
       "    }\n",
       "</style>\n",
       "<table border=\"1\" class=\"dataframe\">\n",
       "  <thead>\n",
       "    <tr style=\"text-align: right;\">\n",
       "      <th></th>\n",
       "      <th>Data</th>\n",
       "      <th>РИА Новости</th>\n",
       "      <th>lenta.ru</th>\n",
       "    </tr>\n",
       "  </thead>\n",
       "  <tbody>\n",
       "    <tr>\n",
       "      <th>0</th>\n",
       "      <td>RIA</td>\n",
       "      <td>0.904</td>\n",
       "      <td>0.109</td>\n",
       "    </tr>\n",
       "    <tr>\n",
       "      <th>1</th>\n",
       "      <td>Lenta</td>\n",
       "      <td>0.545</td>\n",
       "      <td>0.430</td>\n",
       "    </tr>\n",
       "  </tbody>\n",
       "</table>\n",
       "</div>"
      ],
      "text/plain": [
       "    Data  РИА Новости  lenta.ru\n",
       "0    RIA        0.904     0.109\n",
       "1  Lenta        0.545     0.430"
      ]
     },
     "execution_count": 23,
     "metadata": {},
     "output_type": "execute_result"
    }
   ],
   "source": [
    "df = pd.DataFrame(columns=['Data'] + agency_list)\n",
    "\n",
    "for i, dataset_name in enumerate(('RIA', 'Lenta')):\n",
    "    row = {'Data': dataset_name}\n",
    "    for j, a in enumerate(agency_list):\n",
    "        row[a] = result[i][j]      \n",
    "    df = df.append(row, ignore_index=True)\n",
    "df"
   ]
  },
  {
   "cell_type": "code",
   "execution_count": 24,
   "id": "quantitative-anaheim",
   "metadata": {},
   "outputs": [],
   "source": [
    "df.index = df.Data\n",
    "\n",
    "df.drop('Data', axis=1, inplace=True)"
   ]
  },
  {
   "cell_type": "code",
   "execution_count": 26,
   "id": "compressed-gardening",
   "metadata": {},
   "outputs": [
    {
     "data": {
      "text/html": [
       "<div>\n",
       "<style scoped>\n",
       "    .dataframe tbody tr th:only-of-type {\n",
       "        vertical-align: middle;\n",
       "    }\n",
       "\n",
       "    .dataframe tbody tr th {\n",
       "        vertical-align: top;\n",
       "    }\n",
       "\n",
       "    .dataframe thead th {\n",
       "        text-align: right;\n",
       "    }\n",
       "</style>\n",
       "<table border=\"1\" class=\"dataframe\">\n",
       "  <thead>\n",
       "    <tr style=\"text-align: right;\">\n",
       "      <th></th>\n",
       "      <th>РИА Новости</th>\n",
       "      <th>lenta.ru</th>\n",
       "    </tr>\n",
       "    <tr>\n",
       "      <th>Data</th>\n",
       "      <th></th>\n",
       "      <th></th>\n",
       "    </tr>\n",
       "  </thead>\n",
       "  <tbody>\n",
       "    <tr>\n",
       "      <th>RIA</th>\n",
       "      <td>0.90</td>\n",
       "      <td>0.11</td>\n",
       "    </tr>\n",
       "    <tr>\n",
       "      <th>Lenta</th>\n",
       "      <td>0.55</td>\n",
       "      <td>0.43</td>\n",
       "    </tr>\n",
       "  </tbody>\n",
       "</table>\n",
       "</div>"
      ],
      "text/plain": [
       "       РИА Новости  lenta.ru\n",
       "Data                        \n",
       "RIA           0.90      0.11\n",
       "Lenta         0.55      0.43"
      ]
     },
     "execution_count": 26,
     "metadata": {},
     "output_type": "execute_result"
    }
   ],
   "source": [
    "df.round(2)"
   ]
  },
  {
   "cell_type": "markdown",
   "id": "visible-ceremony",
   "metadata": {},
   "source": [
    "# Cross style check woth paired classifier"
   ]
  },
  {
   "cell_type": "code",
   "execution_count": 8,
   "id": "entertaining-exhaust",
   "metadata": {},
   "outputs": [],
   "source": [
    "from custom_datasets import LentaRiaDataset"
   ]
  },
  {
   "cell_type": "code",
   "execution_count": 9,
   "id": "functioning-movement",
   "metadata": {},
   "outputs": [],
   "source": [
    "paired_discr_path = '/home/aobuhtijarov/models/paired_clf_from_rubert/'"
   ]
  },
  {
   "cell_type": "code",
   "execution_count": 10,
   "id": "provincial-tradition",
   "metadata": {},
   "outputs": [],
   "source": [
    "cross_model = EncoderDecoderModel.from_pretrained(cross_model_path)\n",
    "cross_model.cuda();"
   ]
  },
  {
   "cell_type": "code",
   "execution_count": 11,
   "id": "intimate-virginia",
   "metadata": {},
   "outputs": [],
   "source": [
    "dataset = LentaRiaDataset('/home/aobuhtijarov/datasets/full_lenta_ria.test.jsonl',\n",
    "                          tokenizer, 250, 48)"
   ]
  },
  {
   "cell_type": "code",
   "execution_count": 12,
   "id": "african-registration",
   "metadata": {},
   "outputs": [
    {
     "data": {
      "text/plain": [
       "BertForSequenceClassification(\n",
       "  (bert): BertModel(\n",
       "    (embeddings): BertEmbeddings(\n",
       "      (word_embeddings): Embedding(119547, 768, padding_idx=0)\n",
       "      (position_embeddings): Embedding(512, 768)\n",
       "      (token_type_embeddings): Embedding(2, 768)\n",
       "      (LayerNorm): LayerNorm((768,), eps=1e-12, elementwise_affine=True)\n",
       "      (dropout): Dropout(p=0.1, inplace=False)\n",
       "    )\n",
       "    (encoder): BertEncoder(\n",
       "      (layer): ModuleList(\n",
       "        (0): BertLayer(\n",
       "          (attention): BertAttention(\n",
       "            (self): BertSelfAttention(\n",
       "              (query): Linear(in_features=768, out_features=768, bias=True)\n",
       "              (key): Linear(in_features=768, out_features=768, bias=True)\n",
       "              (value): Linear(in_features=768, out_features=768, bias=True)\n",
       "              (dropout): Dropout(p=0.1, inplace=False)\n",
       "            )\n",
       "            (output): BertSelfOutput(\n",
       "              (dense): Linear(in_features=768, out_features=768, bias=True)\n",
       "              (LayerNorm): LayerNorm((768,), eps=1e-12, elementwise_affine=True)\n",
       "              (dropout): Dropout(p=0.1, inplace=False)\n",
       "            )\n",
       "          )\n",
       "          (intermediate): BertIntermediate(\n",
       "            (dense): Linear(in_features=768, out_features=3072, bias=True)\n",
       "          )\n",
       "          (output): BertOutput(\n",
       "            (dense): Linear(in_features=3072, out_features=768, bias=True)\n",
       "            (LayerNorm): LayerNorm((768,), eps=1e-12, elementwise_affine=True)\n",
       "            (dropout): Dropout(p=0.1, inplace=False)\n",
       "          )\n",
       "        )\n",
       "        (1): BertLayer(\n",
       "          (attention): BertAttention(\n",
       "            (self): BertSelfAttention(\n",
       "              (query): Linear(in_features=768, out_features=768, bias=True)\n",
       "              (key): Linear(in_features=768, out_features=768, bias=True)\n",
       "              (value): Linear(in_features=768, out_features=768, bias=True)\n",
       "              (dropout): Dropout(p=0.1, inplace=False)\n",
       "            )\n",
       "            (output): BertSelfOutput(\n",
       "              (dense): Linear(in_features=768, out_features=768, bias=True)\n",
       "              (LayerNorm): LayerNorm((768,), eps=1e-12, elementwise_affine=True)\n",
       "              (dropout): Dropout(p=0.1, inplace=False)\n",
       "            )\n",
       "          )\n",
       "          (intermediate): BertIntermediate(\n",
       "            (dense): Linear(in_features=768, out_features=3072, bias=True)\n",
       "          )\n",
       "          (output): BertOutput(\n",
       "            (dense): Linear(in_features=3072, out_features=768, bias=True)\n",
       "            (LayerNorm): LayerNorm((768,), eps=1e-12, elementwise_affine=True)\n",
       "            (dropout): Dropout(p=0.1, inplace=False)\n",
       "          )\n",
       "        )\n",
       "        (2): BertLayer(\n",
       "          (attention): BertAttention(\n",
       "            (self): BertSelfAttention(\n",
       "              (query): Linear(in_features=768, out_features=768, bias=True)\n",
       "              (key): Linear(in_features=768, out_features=768, bias=True)\n",
       "              (value): Linear(in_features=768, out_features=768, bias=True)\n",
       "              (dropout): Dropout(p=0.1, inplace=False)\n",
       "            )\n",
       "            (output): BertSelfOutput(\n",
       "              (dense): Linear(in_features=768, out_features=768, bias=True)\n",
       "              (LayerNorm): LayerNorm((768,), eps=1e-12, elementwise_affine=True)\n",
       "              (dropout): Dropout(p=0.1, inplace=False)\n",
       "            )\n",
       "          )\n",
       "          (intermediate): BertIntermediate(\n",
       "            (dense): Linear(in_features=768, out_features=3072, bias=True)\n",
       "          )\n",
       "          (output): BertOutput(\n",
       "            (dense): Linear(in_features=3072, out_features=768, bias=True)\n",
       "            (LayerNorm): LayerNorm((768,), eps=1e-12, elementwise_affine=True)\n",
       "            (dropout): Dropout(p=0.1, inplace=False)\n",
       "          )\n",
       "        )\n",
       "        (3): BertLayer(\n",
       "          (attention): BertAttention(\n",
       "            (self): BertSelfAttention(\n",
       "              (query): Linear(in_features=768, out_features=768, bias=True)\n",
       "              (key): Linear(in_features=768, out_features=768, bias=True)\n",
       "              (value): Linear(in_features=768, out_features=768, bias=True)\n",
       "              (dropout): Dropout(p=0.1, inplace=False)\n",
       "            )\n",
       "            (output): BertSelfOutput(\n",
       "              (dense): Linear(in_features=768, out_features=768, bias=True)\n",
       "              (LayerNorm): LayerNorm((768,), eps=1e-12, elementwise_affine=True)\n",
       "              (dropout): Dropout(p=0.1, inplace=False)\n",
       "            )\n",
       "          )\n",
       "          (intermediate): BertIntermediate(\n",
       "            (dense): Linear(in_features=768, out_features=3072, bias=True)\n",
       "          )\n",
       "          (output): BertOutput(\n",
       "            (dense): Linear(in_features=3072, out_features=768, bias=True)\n",
       "            (LayerNorm): LayerNorm((768,), eps=1e-12, elementwise_affine=True)\n",
       "            (dropout): Dropout(p=0.1, inplace=False)\n",
       "          )\n",
       "        )\n",
       "        (4): BertLayer(\n",
       "          (attention): BertAttention(\n",
       "            (self): BertSelfAttention(\n",
       "              (query): Linear(in_features=768, out_features=768, bias=True)\n",
       "              (key): Linear(in_features=768, out_features=768, bias=True)\n",
       "              (value): Linear(in_features=768, out_features=768, bias=True)\n",
       "              (dropout): Dropout(p=0.1, inplace=False)\n",
       "            )\n",
       "            (output): BertSelfOutput(\n",
       "              (dense): Linear(in_features=768, out_features=768, bias=True)\n",
       "              (LayerNorm): LayerNorm((768,), eps=1e-12, elementwise_affine=True)\n",
       "              (dropout): Dropout(p=0.1, inplace=False)\n",
       "            )\n",
       "          )\n",
       "          (intermediate): BertIntermediate(\n",
       "            (dense): Linear(in_features=768, out_features=3072, bias=True)\n",
       "          )\n",
       "          (output): BertOutput(\n",
       "            (dense): Linear(in_features=3072, out_features=768, bias=True)\n",
       "            (LayerNorm): LayerNorm((768,), eps=1e-12, elementwise_affine=True)\n",
       "            (dropout): Dropout(p=0.1, inplace=False)\n",
       "          )\n",
       "        )\n",
       "        (5): BertLayer(\n",
       "          (attention): BertAttention(\n",
       "            (self): BertSelfAttention(\n",
       "              (query): Linear(in_features=768, out_features=768, bias=True)\n",
       "              (key): Linear(in_features=768, out_features=768, bias=True)\n",
       "              (value): Linear(in_features=768, out_features=768, bias=True)\n",
       "              (dropout): Dropout(p=0.1, inplace=False)\n",
       "            )\n",
       "            (output): BertSelfOutput(\n",
       "              (dense): Linear(in_features=768, out_features=768, bias=True)\n",
       "              (LayerNorm): LayerNorm((768,), eps=1e-12, elementwise_affine=True)\n",
       "              (dropout): Dropout(p=0.1, inplace=False)\n",
       "            )\n",
       "          )\n",
       "          (intermediate): BertIntermediate(\n",
       "            (dense): Linear(in_features=768, out_features=3072, bias=True)\n",
       "          )\n",
       "          (output): BertOutput(\n",
       "            (dense): Linear(in_features=3072, out_features=768, bias=True)\n",
       "            (LayerNorm): LayerNorm((768,), eps=1e-12, elementwise_affine=True)\n",
       "            (dropout): Dropout(p=0.1, inplace=False)\n",
       "          )\n",
       "        )\n",
       "        (6): BertLayer(\n",
       "          (attention): BertAttention(\n",
       "            (self): BertSelfAttention(\n",
       "              (query): Linear(in_features=768, out_features=768, bias=True)\n",
       "              (key): Linear(in_features=768, out_features=768, bias=True)\n",
       "              (value): Linear(in_features=768, out_features=768, bias=True)\n",
       "              (dropout): Dropout(p=0.1, inplace=False)\n",
       "            )\n",
       "            (output): BertSelfOutput(\n",
       "              (dense): Linear(in_features=768, out_features=768, bias=True)\n",
       "              (LayerNorm): LayerNorm((768,), eps=1e-12, elementwise_affine=True)\n",
       "              (dropout): Dropout(p=0.1, inplace=False)\n",
       "            )\n",
       "          )\n",
       "          (intermediate): BertIntermediate(\n",
       "            (dense): Linear(in_features=768, out_features=3072, bias=True)\n",
       "          )\n",
       "          (output): BertOutput(\n",
       "            (dense): Linear(in_features=3072, out_features=768, bias=True)\n",
       "            (LayerNorm): LayerNorm((768,), eps=1e-12, elementwise_affine=True)\n",
       "            (dropout): Dropout(p=0.1, inplace=False)\n",
       "          )\n",
       "        )\n",
       "        (7): BertLayer(\n",
       "          (attention): BertAttention(\n",
       "            (self): BertSelfAttention(\n",
       "              (query): Linear(in_features=768, out_features=768, bias=True)\n",
       "              (key): Linear(in_features=768, out_features=768, bias=True)\n",
       "              (value): Linear(in_features=768, out_features=768, bias=True)\n",
       "              (dropout): Dropout(p=0.1, inplace=False)\n",
       "            )\n",
       "            (output): BertSelfOutput(\n",
       "              (dense): Linear(in_features=768, out_features=768, bias=True)\n",
       "              (LayerNorm): LayerNorm((768,), eps=1e-12, elementwise_affine=True)\n",
       "              (dropout): Dropout(p=0.1, inplace=False)\n",
       "            )\n",
       "          )\n",
       "          (intermediate): BertIntermediate(\n",
       "            (dense): Linear(in_features=768, out_features=3072, bias=True)\n",
       "          )\n",
       "          (output): BertOutput(\n",
       "            (dense): Linear(in_features=3072, out_features=768, bias=True)\n",
       "            (LayerNorm): LayerNorm((768,), eps=1e-12, elementwise_affine=True)\n",
       "            (dropout): Dropout(p=0.1, inplace=False)\n",
       "          )\n",
       "        )\n",
       "        (8): BertLayer(\n",
       "          (attention): BertAttention(\n",
       "            (self): BertSelfAttention(\n",
       "              (query): Linear(in_features=768, out_features=768, bias=True)\n",
       "              (key): Linear(in_features=768, out_features=768, bias=True)\n",
       "              (value): Linear(in_features=768, out_features=768, bias=True)\n",
       "              (dropout): Dropout(p=0.1, inplace=False)\n",
       "            )\n",
       "            (output): BertSelfOutput(\n",
       "              (dense): Linear(in_features=768, out_features=768, bias=True)\n",
       "              (LayerNorm): LayerNorm((768,), eps=1e-12, elementwise_affine=True)\n",
       "              (dropout): Dropout(p=0.1, inplace=False)\n",
       "            )\n",
       "          )\n",
       "          (intermediate): BertIntermediate(\n",
       "            (dense): Linear(in_features=768, out_features=3072, bias=True)\n",
       "          )\n",
       "          (output): BertOutput(\n",
       "            (dense): Linear(in_features=3072, out_features=768, bias=True)\n",
       "            (LayerNorm): LayerNorm((768,), eps=1e-12, elementwise_affine=True)\n",
       "            (dropout): Dropout(p=0.1, inplace=False)\n",
       "          )\n",
       "        )\n",
       "        (9): BertLayer(\n",
       "          (attention): BertAttention(\n",
       "            (self): BertSelfAttention(\n",
       "              (query): Linear(in_features=768, out_features=768, bias=True)\n",
       "              (key): Linear(in_features=768, out_features=768, bias=True)\n",
       "              (value): Linear(in_features=768, out_features=768, bias=True)\n",
       "              (dropout): Dropout(p=0.1, inplace=False)\n",
       "            )\n",
       "            (output): BertSelfOutput(\n",
       "              (dense): Linear(in_features=768, out_features=768, bias=True)\n",
       "              (LayerNorm): LayerNorm((768,), eps=1e-12, elementwise_affine=True)\n",
       "              (dropout): Dropout(p=0.1, inplace=False)\n",
       "            )\n",
       "          )\n",
       "          (intermediate): BertIntermediate(\n",
       "            (dense): Linear(in_features=768, out_features=3072, bias=True)\n",
       "          )\n",
       "          (output): BertOutput(\n",
       "            (dense): Linear(in_features=3072, out_features=768, bias=True)\n",
       "            (LayerNorm): LayerNorm((768,), eps=1e-12, elementwise_affine=True)\n",
       "            (dropout): Dropout(p=0.1, inplace=False)\n",
       "          )\n",
       "        )\n",
       "        (10): BertLayer(\n",
       "          (attention): BertAttention(\n",
       "            (self): BertSelfAttention(\n",
       "              (query): Linear(in_features=768, out_features=768, bias=True)\n",
       "              (key): Linear(in_features=768, out_features=768, bias=True)\n",
       "              (value): Linear(in_features=768, out_features=768, bias=True)\n",
       "              (dropout): Dropout(p=0.1, inplace=False)\n",
       "            )\n",
       "            (output): BertSelfOutput(\n",
       "              (dense): Linear(in_features=768, out_features=768, bias=True)\n",
       "              (LayerNorm): LayerNorm((768,), eps=1e-12, elementwise_affine=True)\n",
       "              (dropout): Dropout(p=0.1, inplace=False)\n",
       "            )\n",
       "          )\n",
       "          (intermediate): BertIntermediate(\n",
       "            (dense): Linear(in_features=768, out_features=3072, bias=True)\n",
       "          )\n",
       "          (output): BertOutput(\n",
       "            (dense): Linear(in_features=3072, out_features=768, bias=True)\n",
       "            (LayerNorm): LayerNorm((768,), eps=1e-12, elementwise_affine=True)\n",
       "            (dropout): Dropout(p=0.1, inplace=False)\n",
       "          )\n",
       "        )\n",
       "        (11): BertLayer(\n",
       "          (attention): BertAttention(\n",
       "            (self): BertSelfAttention(\n",
       "              (query): Linear(in_features=768, out_features=768, bias=True)\n",
       "              (key): Linear(in_features=768, out_features=768, bias=True)\n",
       "              (value): Linear(in_features=768, out_features=768, bias=True)\n",
       "              (dropout): Dropout(p=0.1, inplace=False)\n",
       "            )\n",
       "            (output): BertSelfOutput(\n",
       "              (dense): Linear(in_features=768, out_features=768, bias=True)\n",
       "              (LayerNorm): LayerNorm((768,), eps=1e-12, elementwise_affine=True)\n",
       "              (dropout): Dropout(p=0.1, inplace=False)\n",
       "            )\n",
       "          )\n",
       "          (intermediate): BertIntermediate(\n",
       "            (dense): Linear(in_features=768, out_features=3072, bias=True)\n",
       "          )\n",
       "          (output): BertOutput(\n",
       "            (dense): Linear(in_features=3072, out_features=768, bias=True)\n",
       "            (LayerNorm): LayerNorm((768,), eps=1e-12, elementwise_affine=True)\n",
       "            (dropout): Dropout(p=0.1, inplace=False)\n",
       "          )\n",
       "        )\n",
       "      )\n",
       "    )\n",
       "    (pooler): BertPooler(\n",
       "      (dense): Linear(in_features=768, out_features=768, bias=True)\n",
       "      (activation): Tanh()\n",
       "    )\n",
       "  )\n",
       "  (dropout): Dropout(p=0.1, inplace=False)\n",
       "  (classifier): Linear(in_features=768, out_features=2, bias=True)\n",
       ")"
      ]
     },
     "execution_count": 12,
     "metadata": {},
     "output_type": "execute_result"
    }
   ],
   "source": [
    "paired_discriminator = AutoModelForSequenceClassification.from_pretrained(paired_discr_path)\n",
    "paired_discriminator.cuda()"
   ]
  },
  {
   "cell_type": "code",
   "execution_count": 13,
   "id": "artificial-mouse",
   "metadata": {},
   "outputs": [],
   "source": [
    "def first_sent(x, token_id):\n",
    "    lx = list(x)\n",
    "    if token_id in x:\n",
    "        return x[:lx.index(token_id)]\n",
    "    return x"
   ]
  },
  {
   "cell_type": "code",
   "execution_count": 14,
   "id": "ambient-evening",
   "metadata": {},
   "outputs": [],
   "source": [
    "paired_discriminator.eval()\n",
    "cross_model.eval();"
   ]
  },
  {
   "cell_type": "code",
   "execution_count": 15,
   "id": "forward-denmark",
   "metadata": {},
   "outputs": [],
   "source": [
    "device='cpu'\n",
    "device='cuda'"
   ]
  },
  {
   "cell_type": "code",
   "execution_count": null,
   "id": "floppy-planner",
   "metadata": {},
   "outputs": [
    {
     "name": "stderr",
     "output_type": "stream",
     "text": [
      "  3%|▎         | 51/2000 [00:39<28:02,  1.16it/s] "
     ]
    },
    {
     "name": "stdout",
     "output_type": "stream",
     "text": [
      "при пожаре в жилом доме на юге москвы погибли два человека [SEP] два человека погибли при пожаре на кухне в жилом доме на юге москвы\n",
      "0.92\n",
      "0.94\n"
     ]
    },
    {
     "name": "stderr",
     "output_type": "stream",
     "text": [
      "  5%|▌         | 101/2000 [01:13<26:09,  1.21it/s]"
     ]
    },
    {
     "name": "stdout",
     "output_type": "stream",
     "text": [
      "школьники в филадельфии заплатят 600 тысяч долларов за прослушку [SEP] школьник в сша заплатит $610 тысяч за слежку за ноутбуками\n",
      "0.92\n",
      "0.92\n"
     ]
    },
    {
     "name": "stderr",
     "output_type": "stream",
     "text": [
      "  8%|▊         | 151/2000 [01:46<18:01,  1.71it/s]"
     ]
    },
    {
     "name": "stdout",
     "output_type": "stream",
     "text": [
      "украина обвинила российских военных в нарушении миссии обсе [SEP] киев надеется, что лукин не пустили в славянск\n",
      "0.9066666666666666\n",
      "0.9266666666666666\n"
     ]
    },
    {
     "name": "stderr",
     "output_type": "stream",
     "text": [
      " 10%|█         | 201/2000 [02:21<17:35,  1.70it/s]"
     ]
    },
    {
     "name": "stdout",
     "output_type": "stream",
     "text": [
      "файловый хостинг megaupload закроют в течение двух недель [SEP] власти сша закрывают счета пользователей megaupload\n",
      "0.895\n",
      "0.915\n"
     ]
    },
    {
     "name": "stderr",
     "output_type": "stream",
     "text": [
      " 13%|█▎        | 251/2000 [02:55<17:13,  1.69it/s]"
     ]
    },
    {
     "name": "stdout",
     "output_type": "stream",
     "text": [
      "ларри кинг вновь вернется на экраны сша [SEP] новый ток-шоу larry king выходит в эфир летом\n",
      "0.896\n",
      "0.912\n"
     ]
    },
    {
     "name": "stderr",
     "output_type": "stream",
     "text": [
      " 15%|█▌        | 301/2000 [03:26<16:54,  1.68it/s]"
     ]
    },
    {
     "name": "stdout",
     "output_type": "stream",
     "text": [
      "в индии потерпел крушение истребитель су-30 [SEP] истребитель су-30мки разбился в индии, летчики катапультировались\n",
      "0.8933333333333333\n",
      "0.91\n"
     ]
    },
    {
     "name": "stderr",
     "output_type": "stream",
     "text": [
      " 18%|█▊        | 351/2000 [03:57<16:38,  1.65it/s]"
     ]
    },
    {
     "name": "stdout",
     "output_type": "stream",
     "text": [
      "сми узнали об обязательном тестировании на приемных родителей [SEP] сми: комиссия по усыновителям может пройти тесты на наркотики\n",
      "0.8971428571428571\n",
      "0.9142857142857143\n"
     ]
    },
    {
     "name": "stderr",
     "output_type": "stream",
     "text": [
      " 20%|██        | 401/2000 [04:27<16:08,  1.65it/s]"
     ]
    },
    {
     "name": "stdout",
     "output_type": "stream",
     "text": [
      "спектакль \"счастье\" андрея могучего получил \"золотую маску\" [SEP] могучий стал лауреатом премии \"золотая маска\"\n",
      "0.9025\n",
      "0.92\n"
     ]
    },
    {
     "name": "stderr",
     "output_type": "stream",
     "text": [
      " 23%|██▎       | 451/2000 [04:58<14:41,  1.76it/s]"
     ]
    },
    {
     "name": "stdout",
     "output_type": "stream",
     "text": [
      "устюгов завоевал серебро на этапе кубка мира по биатлону [SEP] устюгов завоевал серебро в спринте на этапе км по биатлону в сочи\n",
      "0.8977777777777778\n",
      "0.9155555555555556\n"
     ]
    },
    {
     "name": "stderr",
     "output_type": "stream",
     "text": [
      " 25%|██▌       | 501/2000 [05:27<14:22,  1.74it/s]"
     ]
    },
    {
     "name": "stdout",
     "output_type": "stream",
     "text": [
      "двухнедельную девочку нашли живой под завалами в турции [SEP] мать и бабушку из турции спасены из-под завалов\n",
      "0.894\n",
      "0.91\n"
     ]
    },
    {
     "name": "stderr",
     "output_type": "stream",
     "text": [
      " 28%|██▊       | 551/2000 [05:59<14:36,  1.65it/s]"
     ]
    },
    {
     "name": "stdout",
     "output_type": "stream",
     "text": [
      "российский футбольный союз опроверг назначение алаева гендиректором [SEP] генеральным директором рфс назначен александр алаев\n",
      "0.8927272727272727\n",
      "0.9072727272727272\n"
     ]
    },
    {
     "name": "stderr",
     "output_type": "stream",
     "text": [
      " 30%|███       | 601/2000 [06:30<15:03,  1.55it/s]"
     ]
    },
    {
     "name": "stdout",
     "output_type": "stream",
     "text": [
      "газировку обязали вкус угольной кислотой [SEP] ученые выяснили, как пузырь вокруг газировки не важен\n",
      "0.8916666666666667\n",
      "0.9066666666666666\n"
     ]
    }
   ],
   "source": [
    "with torch.no_grad():\n",
    "    p0_vals = []\n",
    "    p1_vals = []\n",
    "    \n",
    "    ria_style_headlines = []\n",
    "    lenta_style_headlines = []\n",
    "\n",
    "    for i in tqdm.trange(0, len(dataset), 2):\n",
    "        x_ria_zag = dataset[i]\n",
    "        x_lenta_zag = dataset[i+1]\n",
    "        \n",
    "        gen_ids_ria_zag = cross_model.generate(\n",
    "            input_ids=x_ria_zag['input_ids'].to(device).unsqueeze(0),\n",
    "            attention_mask=x_ria_zag['attention_mask'].to(device).unsqueeze(0),\n",
    "            decoder_start_token_id=cross_model.config.decoder.pad_token_id,\n",
    "            min_length=7,\n",
    "            max_length=20,\n",
    "            num_beams=6\n",
    "        )\n",
    "        \n",
    "        gen_ids_lenta_zag = cross_model.generate(\n",
    "            input_ids=x_lenta_zag['input_ids'].to(device).unsqueeze(0),\n",
    "            attention_mask=x_lenta_zag['attention_mask'].to(device).unsqueeze(0),\n",
    "            decoder_start_token_id=cross_model.config.decoder.pad_token_id,\n",
    "            min_length=7,\n",
    "            max_length=20,\n",
    "            num_beams=6\n",
    "        )\n",
    "        \n",
    "        ria_gen_title = [tokenizer.decode(first_sent(x, tokenizer.sep_token_id), skip_special_tokens=True) for x in gen_ids_ria_zag][0]\n",
    "        lenta_gen_title = [tokenizer.decode(first_sent(x, tokenizer.sep_token_id), skip_special_tokens=True) for x in gen_ids_lenta_zag][0]\n",
    "        \n",
    "        if i % 100 == 0 and i > 0:\n",
    "            print(' [SEP] '.join([lenta_gen_title, ria_gen_title]))\n",
    "            print(p0_vals.count(0) / i * 2)\n",
    "            print(p1_vals.count(1) / i * 2)\n",
    "            \n",
    "        inputs_0 = tokenizer(\n",
    "            ' [SEP] '.join([lenta_gen_title, ria_gen_title]),\n",
    "            add_special_tokens=True,\n",
    "            max_length=250,\n",
    "            padding=\"max_length\",\n",
    "            truncation=True\n",
    "        )\n",
    "        \n",
    "        inputs_1 = tokenizer(\n",
    "            ' [SEP] '.join([ria_gen_title, lenta_gen_title]),\n",
    "            add_special_tokens=True,\n",
    "            max_length=250,\n",
    "            padding=\"max_length\",\n",
    "            truncation=True\n",
    "        )\n",
    "        \n",
    "        logits_0 = paired_discriminator(input_ids=torch.LongTensor(inputs_0['input_ids']).to(device).unsqueeze(0), \n",
    "                               attention_mask=torch.LongTensor(inputs_0['attention_mask']).to(device).unsqueeze(0))[0]\n",
    "        pred_0 = torch.argmax(logits_0).item()\n",
    "        \n",
    "        logits_1 = paired_discriminator(input_ids=torch.LongTensor(inputs_1['input_ids']).to(device).unsqueeze(0), \n",
    "                               attention_mask=torch.LongTensor(inputs_1['attention_mask']).to(device).unsqueeze(0))[0]\n",
    "        pred_1 = torch.argmax(logits_1).item()\n",
    "        \n",
    "        p0_vals.append(pred_0)\n",
    "        p1_vals.append(pred_1)\n",
    "        "
   ]
  },
  {
   "cell_type": "code",
   "execution_count": null,
   "id": "geographic-casino",
   "metadata": {},
   "outputs": [],
   "source": [
    "p0_vals.count(0) / 2000"
   ]
  },
  {
   "cell_type": "code",
   "execution_count": null,
   "id": "twenty-spencer",
   "metadata": {},
   "outputs": [],
   "source": [
    "p1_vals.count(1) / 2000"
   ]
  },
  {
   "cell_type": "code",
   "execution_count": null,
   "id": "third-illustration",
   "metadata": {},
   "outputs": [],
   "source": []
  },
  {
   "cell_type": "markdown",
   "id": "based-ground",
   "metadata": {},
   "source": [
    "### Paired sicr check"
   ]
  },
  {
   "cell_type": "code",
   "execution_count": null,
   "id": "yellow-heritage",
   "metadata": {},
   "outputs": [],
   "source": []
  },
  {
   "cell_type": "code",
   "execution_count": 42,
   "id": "fifty-arrest",
   "metadata": {},
   "outputs": [
    {
     "name": "stderr",
     "output_type": "stream",
     "text": [
      "  1%|▏         | 25/2000 [00:09<17:10,  1.92it/s]"
     ]
    },
    {
     "name": "stdout",
     "output_type": "stream",
     "text": [
      "шведская принцесса родила дочь [SEP] кронпринцесса швеции родила первенца - девочку\n",
      "0.5\n",
      "0.5\n"
     ]
    },
    {
     "name": "stderr",
     "output_type": "stream",
     "text": [
      "  2%|▎         | 50/2000 [00:19<10:57,  2.97it/s]"
     ]
    },
    {
     "name": "stdout",
     "output_type": "stream",
     "text": [
      "при пожаре в москве погибли два человека [SEP] два человека погибли при пожаре в жилом доме в москве\n",
      "0.5\n",
      "0.5\n"
     ]
    },
    {
     "name": "stderr",
     "output_type": "stream",
     "text": [
      "  4%|▍         | 75/2000 [00:28<09:54,  3.24it/s]"
     ]
    },
    {
     "name": "stdout",
     "output_type": "stream",
     "text": [
      "акционеры \"вконтакте\" опровергли намерение уволить дурова [SEP] ucp не исключает увольнения главы \"вконтакте\" павла дурова\n",
      "0.47333333333333333\n",
      "0.47333333333333333\n"
     ]
    },
    {
     "name": "stderr",
     "output_type": "stream",
     "text": [
      "  5%|▌         | 100/2000 [00:40<12:14,  2.59it/s]"
     ]
    },
    {
     "name": "stdout",
     "output_type": "stream",
     "text": [
      "филадельфия заплатит 600 тысяч долларов за слежку за учениками [SEP] школьный округ филадельфии выплатит $600 тысяч за слежку за учениками\n",
      "0.47\n",
      "0.475\n"
     ]
    },
    {
     "name": "stderr",
     "output_type": "stream",
     "text": [
      "  6%|▋         | 125/2000 [00:48<10:02,  3.11it/s]"
     ]
    },
    {
     "name": "stdout",
     "output_type": "stream",
     "text": [
      "бывшего главу мид израиля оправдали по делу о мошенничестве [SEP] суд оправдал экс-главу израильского мид либермана\n",
      "0.472\n",
      "0.476\n"
     ]
    },
    {
     "name": "stderr",
     "output_type": "stream",
     "text": [
      "  8%|▊         | 150/2000 [00:59<16:46,  1.84it/s]"
     ]
    },
    {
     "name": "stdout",
     "output_type": "stream",
     "text": [
      "киев предложил лукину безопасный путь до славянска [SEP] мид украины: армия не мешала миссии лукина добраться до славянска\n",
      "0.4666666666666667\n",
      "0.47\n"
     ]
    },
    {
     "name": "stderr",
     "output_type": "stream",
     "text": [
      "  9%|▉         | 175/2000 [01:09<09:35,  3.17it/s]"
     ]
    },
    {
     "name": "stdout",
     "output_type": "stream",
     "text": [
      "при столкновении яхт у статуи свободы погиб человек [SEP] в результате столкновения катеров в бухте нью-йорка погиб человек\n",
      "0.4714285714285714\n",
      "0.4714285714285714\n"
     ]
    },
    {
     "name": "stderr",
     "output_type": "stream",
     "text": [
      " 10%|█         | 200/2000 [01:17<12:05,  2.48it/s]"
     ]
    },
    {
     "name": "stdout",
     "output_type": "stream",
     "text": [
      "файлы пользователей megaupload сохранят на две недели [SEP] удаление файлов с megaupload не начнется еще минимум 2 недели - сми\n",
      "0.4675\n",
      "0.47\n"
     ]
    },
    {
     "name": "stderr",
     "output_type": "stream",
     "text": [
      " 11%|█▏        | 225/2000 [01:29<11:08,  2.65it/s]"
     ]
    },
    {
     "name": "stdout",
     "output_type": "stream",
     "text": [
      "водителям с иностранными правами разрешили работать в россии до 2015 года [SEP] дума дала иностранцам еще год для получения водительских прав в рф\n",
      "0.4666666666666667\n",
      "0.4666666666666667\n"
     ]
    },
    {
     "name": "stderr",
     "output_type": "stream",
     "text": [
      " 12%|█▎        | 250/2000 [01:41<13:45,  2.12it/s]"
     ]
    },
    {
     "name": "stdout",
     "output_type": "stream",
     "text": [
      "шоу ларри кинга вернется в эфир уже летом [SEP] новое шоу легендарного телеведущего ларри кинга выйдет в эфир летом\n",
      "0.462\n",
      "0.464\n"
     ]
    },
    {
     "name": "stderr",
     "output_type": "stream",
     "text": [
      " 14%|█▍        | 275/2000 [01:50<09:09,  3.14it/s]"
     ]
    },
    {
     "name": "stdout",
     "output_type": "stream",
     "text": [
      "мавроди попросил путина \"проследить за базаром\" критиков \"ммм-2011\" [SEP] мавроди призывает пользователей рунета спасти \"ммм-2011\"\n",
      "0.4618181818181818\n",
      "0.46545454545454545\n"
     ]
    },
    {
     "name": "stderr",
     "output_type": "stream",
     "text": [
      " 15%|█▌        | 300/2000 [02:01<14:05,  2.01it/s]"
     ]
    },
    {
     "name": "stdout",
     "output_type": "stream",
     "text": [
      "в индии разбился истребитель су-30 [SEP] истребитель су-30 ввс индии упал на западе страны, пилоты спаслись\n",
      "0.4633333333333333\n",
      "0.4666666666666667\n"
     ]
    },
    {
     "name": "stderr",
     "output_type": "stream",
     "text": [
      " 16%|█▋        | 325/2000 [02:10<09:36,  2.91it/s]"
     ]
    },
    {
     "name": "stdout",
     "output_type": "stream",
     "text": [
      "названа основная версия убийства ректора института теологии в махачкале [SEP] по факту убийства ректора в махачкале возбуждено дело\n",
      "0.46615384615384614\n",
      "0.46923076923076923\n"
     ]
    },
    {
     "name": "stderr",
     "output_type": "stream",
     "text": [
      " 18%|█▊        | 350/2000 [02:21<16:12,  1.70it/s]"
     ]
    },
    {
     "name": "stdout",
     "output_type": "stream",
     "text": [
      "в думе обсудят психологическое тестирование усыновителей [SEP] приемным родителям придется сдавать психологические тесты - сми\n",
      "0.46714285714285714\n",
      "0.47\n"
     ]
    },
    {
     "name": "stderr",
     "output_type": "stream",
     "text": [
      " 19%|█▉        | 375/2000 [02:30<08:23,  3.23it/s]"
     ]
    },
    {
     "name": "stdout",
     "output_type": "stream",
     "text": [
      "умерла первая женщина-лауреат нобелевской премии по экономике [SEP] скончалась первая женщина-лауреат нобелевской премии по экономике\n",
      "0.4666666666666667\n",
      "0.4706666666666667\n"
     ]
    },
    {
     "name": "stderr",
     "output_type": "stream",
     "text": [
      " 20%|██        | 400/2000 [02:41<12:40,  2.10it/s]"
     ]
    },
    {
     "name": "stdout",
     "output_type": "stream",
     "text": [
      "андрей могучий впервые получил \"золотую маску\" в главной номинации [SEP] вручена \"золотая маска\" в номинации \"драма/спектакль большой формы\"\n",
      "0.46375\n",
      "0.47\n"
     ]
    },
    {
     "name": "stderr",
     "output_type": "stream",
     "text": [
      " 21%|██▏       | 425/2000 [02:49<07:59,  3.28it/s]"
     ]
    },
    {
     "name": "stdout",
     "output_type": "stream",
     "text": [
      "в москве загорелся завод \"серп и молот\" [SEP] двухэтажное здание горит на территории завода \"серп и молот\" в москве\n",
      "0.46\n",
      "0.46588235294117647\n"
     ]
    },
    {
     "name": "stderr",
     "output_type": "stream",
     "text": [
      " 22%|██▎       | 450/2000 [02:58<12:27,  2.07it/s]"
     ]
    },
    {
     "name": "stdout",
     "output_type": "stream",
     "text": [
      "российский биатлонист стал вторым на этапе кубка мира в сочи [SEP] устюгов взял серебро в спринте на этапе кубка мира по биатлону в сочи\n",
      "0.46\n",
      "0.46444444444444444\n"
     ]
    },
    {
     "name": "stderr",
     "output_type": "stream",
     "text": [
      " 24%|██▍       | 475/2000 [03:09<09:03,  2.81it/s]"
     ]
    },
    {
     "name": "stdout",
     "output_type": "stream",
     "text": [
      "премию дягилева вручили двум театрам  [SEP] мадридский teatro real и oper stuttgart разделили премию дягилева\n",
      "0.46\n",
      "0.46421052631578946\n"
     ]
    },
    {
     "name": "stderr",
     "output_type": "stream",
     "text": [
      " 25%|██▌       | 500/2000 [03:20<11:15,  2.22it/s]"
     ]
    },
    {
     "name": "stdout",
     "output_type": "stream",
     "text": [
      "в турции нашли семью спасенного из-под завалов младенца [SEP] турецкие спасатели извлекли живым из-под завалов двухнедельного малыша\n",
      "0.462\n",
      "0.465\n"
     ]
    },
    {
     "name": "stderr",
     "output_type": "stream",
     "text": [
      " 26%|██▋       | 525/2000 [03:29<07:17,  3.37it/s]"
     ]
    },
    {
     "name": "stdout",
     "output_type": "stream",
     "text": [
      "в раменском откроют первый профессиональный торговый центр [SEP] тц площадью 46,5 тыс кв м построят в подмосковном городе раменское\n",
      "0.46285714285714286\n",
      "0.4666666666666667\n"
     ]
    },
    {
     "name": "stderr",
     "output_type": "stream",
     "text": [
      " 28%|██▊       | 550/2000 [03:39<11:10,  2.16it/s]"
     ]
    },
    {
     "name": "stdout",
     "output_type": "stream",
     "text": [
      "назначен новый гендиректор рфс [SEP] российский футбольный союз опроверг назначение алаева гендиректором\n",
      "0.4590909090909091\n",
      "0.46545454545454545\n"
     ]
    },
    {
     "name": "stderr",
     "output_type": "stream",
     "text": [
      " 29%|██▉       | 575/2000 [03:50<08:30,  2.79it/s]"
     ]
    },
    {
     "name": "stdout",
     "output_type": "stream",
     "text": [
      "суд отказал \"роснефти\" в приостановке процесса по иску навального [SEP] суд отклонил жалобу навального на приостановку его спора с \"роснефтью\"\n",
      "0.4591304347826087\n",
      "0.46608695652173915\n"
     ]
    },
    {
     "name": "stderr",
     "output_type": "stream",
     "text": [
      " 30%|███       | 600/2000 [03:58<07:03,  3.30it/s]"
     ]
    },
    {
     "name": "stdout",
     "output_type": "stream",
     "text": [
      "выявлен ключевой компонент газировки [SEP] ученые выяснили, как возникает легкая острота вкуса газировки\n",
      "0.46\n",
      "0.4666666666666667\n"
     ]
    },
    {
     "name": "stderr",
     "output_type": "stream",
     "text": [
      " 31%|███▏      | 625/2000 [04:09<10:03,  2.28it/s]"
     ]
    },
    {
     "name": "stdout",
     "output_type": "stream",
     "text": [
      "олланд опережает саркози на полтора процента [SEP] по итогам 1-го тура выборов олланд набрал 28,63%, саркози - 27,18%\n",
      "0.46\n",
      "0.4664\n"
     ]
    },
    {
     "name": "stderr",
     "output_type": "stream",
     "text": [
      " 32%|███▎      | 650/2000 [04:18<07:16,  3.09it/s]"
     ]
    },
    {
     "name": "stdout",
     "output_type": "stream",
     "text": [
      "постпред сша при оон отправилась в охваченные эболой страны [SEP] постпред сша при оон посетит страны, где бушует лихорадка эбола\n",
      "0.46076923076923076\n",
      "0.46692307692307694\n"
     ]
    },
    {
     "name": "stderr",
     "output_type": "stream",
     "text": [
      " 34%|███▍      | 675/2000 [04:30<07:59,  2.76it/s]"
     ]
    },
    {
     "name": "stdout",
     "output_type": "stream",
     "text": [
      "российскому участнику митинга оппозиции не продлили регистрацию в минске [SEP] осужденному за беспорядки в минске россиянину не продлили регистрацию\n",
      "0.46074074074074073\n",
      "0.4659259259259259\n"
     ]
    },
    {
     "name": "stderr",
     "output_type": "stream",
     "text": [
      " 35%|███▌      | 700/2000 [04:40<13:03,  1.66it/s]"
     ]
    },
    {
     "name": "stdout",
     "output_type": "stream",
     "text": [
      "\"бонни\" спугнул борцов с разливом нефти из мексиканского залива [SEP] тропический шторм может помешать сбору нефти в мексиканском заливе\n",
      "0.46\n",
      "0.465\n"
     ]
    },
    {
     "name": "stderr",
     "output_type": "stream",
     "text": [
      " 36%|███▋      | 725/2000 [04:50<06:37,  3.20it/s]"
     ]
    },
    {
     "name": "stdout",
     "output_type": "stream",
     "text": [
      "администрация президента предостерегла мэров от увлечения соцсетями [SEP] володин призвал мэров учитывать публичность при использовании соцсетей\n",
      "0.4593103448275862\n",
      "0.46413793103448275\n"
     ]
    },
    {
     "name": "stderr",
     "output_type": "stream",
     "text": [
      " 38%|███▊      | 750/2000 [05:00<10:23,  2.01it/s]"
     ]
    },
    {
     "name": "stdout",
     "output_type": "stream",
     "text": [
      "в новой зеландии уточнили число погибших при землетрясении [SEP] число жертв землетрясения в новой зеландии составило 147 человек\n",
      "0.46066666666666667\n",
      "0.4653333333333333\n"
     ]
    },
    {
     "name": "stderr",
     "output_type": "stream",
     "text": [
      " 39%|███▉      | 775/2000 [05:10<06:18,  3.23it/s]"
     ]
    },
    {
     "name": "stdout",
     "output_type": "stream",
     "text": [
      "прокуратура обжаловала арест навального и офицерова [SEP] прокуратура просит отпустить навального под подписку о невыезде\n",
      "0.4612903225806452\n",
      "0.46580645161290324\n"
     ]
    },
    {
     "name": "stderr",
     "output_type": "stream",
     "text": [
      " 40%|████      | 800/2000 [05:19<07:07,  2.80it/s]"
     ]
    },
    {
     "name": "stdout",
     "output_type": "stream",
     "text": [
      "сирия присоединилась к конвенции оон о запрещении химического оружия [SEP] постпред при оон: сирия присоединяется к конвенции о запрете химоружия\n",
      "0.461875\n",
      "0.46625\n"
     ]
    },
    {
     "name": "stderr",
     "output_type": "stream",
     "text": [
      " 41%|████▏     | 825/2000 [05:32<06:49,  2.87it/s]"
     ]
    },
    {
     "name": "stdout",
     "output_type": "stream",
     "text": [
      "один из \"рассерженных молодых людей\" умер в 82 года [SEP] британский писатель алан силлитоу скончался в лондоне\n",
      "0.4624242424242424\n",
      "0.4666666666666667\n"
     ]
    },
    {
     "name": "stderr",
     "output_type": "stream",
     "text": [
      " 42%|████▎     | 850/2000 [05:44<09:02,  2.12it/s]"
     ]
    },
    {
     "name": "stdout",
     "output_type": "stream",
     "text": [
      "том хэнкс вновь снимется в экранизации дэна брауна [SEP] том хэнкс снимется в фильме по новому роману дэна брауна\n",
      "0.4623529411764706\n",
      "0.46647058823529414\n"
     ]
    },
    {
     "name": "stderr",
     "output_type": "stream",
     "text": [
      " 44%|████▍     | 875/2000 [05:53<06:03,  3.09it/s]"
     ]
    },
    {
     "name": "stdout",
     "output_type": "stream",
     "text": [
      "в китае пассажир автобуса зарезал четырех человек [SEP] преступник зарезал четырех и ранил 11 прохожих на юго-западе китая\n",
      "0.46114285714285713\n",
      "0.4662857142857143\n"
     ]
    },
    {
     "name": "stderr",
     "output_type": "stream",
     "text": [
      " 45%|████▌     | 900/2000 [06:03<08:44,  2.10it/s]"
     ]
    },
    {
     "name": "stdout",
     "output_type": "stream",
     "text": [
      "проект программы \"россия без сирот\" выложили в интернет для обсуждения [SEP] астахов: проект \"россия без сирот\" доступен для обсуждения в интернете\n",
      "0.46166666666666667\n",
      "0.4666666666666667\n"
     ]
    },
    {
     "name": "stderr",
     "output_type": "stream",
     "text": [
      " 46%|████▋     | 925/2000 [06:13<06:57,  2.57it/s]"
     ]
    },
    {
     "name": "stdout",
     "output_type": "stream",
     "text": [
      "российские и британские акционеры тнк-вр окончательно помирились [SEP] вр и ааr урегулировали все разногласия, включая поданные ранее иски\n",
      "0.46216216216216216\n",
      "0.46702702702702703\n"
     ]
    },
    {
     "name": "stderr",
     "output_type": "stream",
     "text": [
      " 48%|████▊     | 950/2000 [06:25<06:59,  2.50it/s]"
     ]
    },
    {
     "name": "stdout",
     "output_type": "stream",
     "text": [
      "paypal разрешил россиянам принимать деньги [SEP] пользователи из рф смогут принимать денежные средства на счета paypal\n",
      "0.4626315789473684\n",
      "0.4673684210526316\n"
     ]
    },
    {
     "name": "stderr",
     "output_type": "stream",
     "text": [
      " 49%|████▉     | 975/2000 [06:34<05:32,  3.09it/s]"
     ]
    },
    {
     "name": "stdout",
     "output_type": "stream",
     "text": [
      "в интернет просочились 36 минут последнего фильма о гарри поттере [SEP] получасовой эпизод нового фильма о гарри поттере появился в интернете\n",
      "0.4635897435897436\n",
      "0.4682051282051282\n"
     ]
    },
    {
     "name": "stderr",
     "output_type": "stream",
     "text": [
      " 50%|█████     | 1000/2000 [06:45<07:15,  2.30it/s]"
     ]
    },
    {
     "name": "stdout",
     "output_type": "stream",
     "text": [
      "шувалов отказался приватизировать вэб [SEP] шувалов не видит необходимости в акционировании и приватизации вэба\n",
      "0.464\n",
      "0.468\n"
     ]
    },
    {
     "name": "stderr",
     "output_type": "stream",
     "text": [
      " 51%|█████▏    | 1025/2000 [06:54<05:00,  3.25it/s]"
     ]
    },
    {
     "name": "stdout",
     "output_type": "stream",
     "text": [
      "болельщиков цска будут судить в италии за хулиганство [SEP] фанат пфк цска задержан за нападение на стюарда, другие в розыске\n",
      "0.46487804878048783\n",
      "0.468780487804878\n"
     ]
    },
    {
     "name": "stderr",
     "output_type": "stream",
     "text": [
      " 52%|█████▎    | 1050/2000 [07:06<05:58,  2.65it/s]"
     ]
    },
    {
     "name": "stdout",
     "output_type": "stream",
     "text": [
      "адвокат узнал о налоговом деле батурина [SEP] адвокат подтвердил существование еще одного дела против батурина\n",
      "0.4657142857142857\n",
      "0.4695238095238095\n"
     ]
    },
    {
     "name": "stderr",
     "output_type": "stream",
     "text": [
      " 54%|█████▍    | 1075/2000 [07:14<04:53,  3.15it/s]"
     ]
    },
    {
     "name": "stdout",
     "output_type": "stream",
     "text": [
      "\"газпром\" начнет строить газопровод в китай в августе [SEP] газпром начнет строительство газопровода \"сила сибири\" в августе\n",
      "0.46511627906976744\n",
      "0.46930232558139534\n"
     ]
    },
    {
     "name": "stderr",
     "output_type": "stream",
     "text": [
      " 55%|█████▌    | 1100/2000 [07:25<05:54,  2.54it/s]"
     ]
    },
    {
     "name": "stdout",
     "output_type": "stream",
     "text": [
      "завод дерипаски в пикалево добился отмены штрафа антимонопольщиков [SEP] суд признал незаконным штраф, наложенный на \"базэлцемент-пикалево\"\n",
      "0.465\n",
      "0.4690909090909091\n"
     ]
    },
    {
     "name": "stderr",
     "output_type": "stream",
     "text": [
      " 56%|█████▋    | 1125/2000 [07:33<05:35,  2.60it/s]"
     ]
    },
    {
     "name": "stdout",
     "output_type": "stream",
     "text": [
      "суд оправдал задержанных в конго моряков из россии и украины [SEP] суд в конго оправдал россиянина и 7 украинцев с судна island of luck\n",
      "0.4653333333333333\n",
      "0.4697777777777778\n"
     ]
    },
    {
     "name": "stderr",
     "output_type": "stream",
     "text": [
      " 57%|█████▊    | 1150/2000 [07:44<04:36,  3.07it/s]"
     ]
    },
    {
     "name": "stdout",
     "output_type": "stream",
     "text": [
      "митрополиту илариону запретили въезд на украину [SEP] пограничники украины не пустили в днепропетровск митрополита илариона\n",
      "0.4647826086956522\n",
      "0.4691304347826087\n"
     ]
    },
    {
     "name": "stderr",
     "output_type": "stream",
     "text": [
      " 59%|█████▉    | 1175/2000 [07:55<07:02,  1.95it/s]"
     ]
    },
    {
     "name": "stdout",
     "output_type": "stream",
     "text": [
      "партия саакашвили призвала запретить российское тв  [SEP] парламентское большинство грузии против запрета российских телеканалов\n",
      "0.4646808510638298\n",
      "0.46893617021276596\n"
     ]
    },
    {
     "name": "stderr",
     "output_type": "stream",
     "text": [
      " 60%|██████    | 1200/2000 [08:04<04:06,  3.24it/s]"
     ]
    },
    {
     "name": "stdout",
     "output_type": "stream",
     "text": [
      "\"газовая опек\" призвала евросоюз советоваться [SEP] фсэг выступает за консультации с ес по третьему энергопакету - шматко\n",
      "0.465\n",
      "0.4691666666666667\n"
     ]
    },
    {
     "name": "stderr",
     "output_type": "stream",
     "text": [
      " 61%|██████▏   | 1225/2000 [08:15<05:54,  2.19it/s]"
     ]
    },
    {
     "name": "stdout",
     "output_type": "stream",
     "text": [
      "полиция задержала арендатора овощебазы в бирюлево [SEP] объявленный в розыск арендатор овощебазы \"новые черемушки\" задержан\n",
      "0.4657142857142857\n",
      "0.46979591836734697\n"
     ]
    },
    {
     "name": "stderr",
     "output_type": "stream",
     "text": [
      " 62%|██████▎   | 1250/2000 [08:25<04:33,  2.74it/s]"
     ]
    },
    {
     "name": "stdout",
     "output_type": "stream",
     "text": [
      "в главном офисе мастер-банка начались обыски [SEP] полицейские проводят обыски в офисах мастер-банка\n",
      "0.4656\n",
      "0.4696\n"
     ]
    },
    {
     "name": "stderr",
     "output_type": "stream",
     "text": [
      " 64%|██████▍   | 1275/2000 [08:35<05:25,  2.22it/s]"
     ]
    },
    {
     "name": "stdout",
     "output_type": "stream",
     "text": [
      "rwe и \"газпром\" отказались совместно строить электростанции в европе [SEP] газпром и rwe прекратили переговоры о партнерстве в электроэнергетике\n",
      "0.46627450980392154\n",
      "0.47019607843137257\n"
     ]
    },
    {
     "name": "stderr",
     "output_type": "stream",
     "text": [
      " 65%|██████▌   | 1300/2000 [08:44<03:43,  3.14it/s]"
     ]
    },
    {
     "name": "stdout",
     "output_type": "stream",
     "text": [
      "\"русгидро\" и \"транснефти\" предложено переехать на дальний восток [SEP] названы госкомпании, которым предложили переехать на дальний восток\n",
      "0.46692307692307694\n",
      "0.4707692307692308\n"
     ]
    },
    {
     "name": "stderr",
     "output_type": "stream",
     "text": [
      " 66%|██████▋   | 1325/2000 [08:56<04:12,  2.67it/s]"
     ]
    },
    {
     "name": "stdout",
     "output_type": "stream",
     "text": [
      "звезда \"гарри поттера\" стала послом доброй воли оон [SEP] актриса эмма уотсон стала послом доброй воли оон\n",
      "0.46641509433962264\n",
      "0.47056603773584904\n"
     ]
    },
    {
     "name": "stderr",
     "output_type": "stream",
     "text": [
      " 68%|██████▊   | 1350/2000 [09:06<04:44,  2.29it/s]"
     ]
    },
    {
     "name": "stdout",
     "output_type": "stream",
     "text": [
      "на химическом заводе во флориде произошла серия взрывов [SEP] серия взрывов произошла на химзаводе в сша, есть пострадавшие\n",
      "0.4666666666666667\n",
      "0.4703703703703704\n"
     ]
    },
    {
     "name": "stderr",
     "output_type": "stream",
     "text": [
      " 69%|██████▉   | 1375/2000 [09:15<03:32,  2.94it/s]"
     ]
    },
    {
     "name": "stdout",
     "output_type": "stream",
     "text": [
      "американская киноакадемия предпочла \"повелителя бури\" \"аватару\" [SEP] фильм \"повелитель бури\" получил главный \"оскар\"\n",
      "0.4672727272727273\n",
      "0.4709090909090909\n"
     ]
    },
    {
     "name": "stderr",
     "output_type": "stream",
     "text": [
      " 70%|███████   | 1400/2000 [09:25<04:53,  2.04it/s]"
     ]
    },
    {
     "name": "stdout",
     "output_type": "stream",
     "text": [
      "пентагон впервые заказал истребители f-35 для италии и норвегии [SEP] минобороны японии впервые заключило контракт на производство f-35а\n",
      "0.4675\n",
      "0.4707142857142857\n"
     ]
    },
    {
     "name": "stderr",
     "output_type": "stream",
     "text": [
      " 71%|███████▏  | 1425/2000 [09:36<03:11,  3.01it/s]"
     ]
    },
    {
     "name": "stdout",
     "output_type": "stream",
     "text": [
      "прокуратура отказалась от \"рекламных\" претензий к собянину [SEP] прокуратура москвы согласилась с запретом на рекламу на стройсетках\n",
      "0.4666666666666667\n",
      "0.47017543859649125\n"
     ]
    },
    {
     "name": "stderr",
     "output_type": "stream",
     "text": [
      " 72%|███████▎  | 1450/2000 [09:47<04:10,  2.20it/s]"
     ]
    },
    {
     "name": "stdout",
     "output_type": "stream",
     "text": [
      "экипаж разбившегося под ярославлем як-42 признали неготовым к полету [SEP] экипаж як-42, разбившегося под ярославлем, действовал несогласованно\n",
      "0.4668965517241379\n",
      "0.4703448275862069\n"
     ]
    },
    {
     "name": "stderr",
     "output_type": "stream",
     "text": [
      " 74%|███████▍  | 1475/2000 [09:55<02:55,  2.99it/s]"
     ]
    },
    {
     "name": "stdout",
     "output_type": "stream",
     "text": [
      "украина отказалась от российского кредита на закупку газа [SEP] украина не будет брать кредит в рф для закачки газа в пхг\n",
      "0.4674576271186441\n",
      "0.4705084745762712\n"
     ]
    },
    {
     "name": "stderr",
     "output_type": "stream",
     "text": [
      " 75%|███████▌  | 1500/2000 [10:07<03:34,  2.34it/s]"
     ]
    },
    {
     "name": "stdout",
     "output_type": "stream",
     "text": [
      "мособлдума позволит отзывать губернатора [SEP] законопроект о порядке отзыва главы подмосковья принят в i чтении\n",
      "0.468\n",
      "0.471\n"
     ]
    },
    {
     "name": "stderr",
     "output_type": "stream",
     "text": [
      " 76%|███████▋  | 1525/2000 [10:15<02:35,  3.05it/s]"
     ]
    },
    {
     "name": "stdout",
     "output_type": "stream",
     "text": [
      "с байконура стартовала ракета-носитель \"протон-м\" с арабским спутником [SEP] ракета \"протон-м\" с арабским спутником связи стартовала с байконура\n",
      "0.4681967213114754\n",
      "0.47114754098360656\n"
     ]
    },
    {
     "name": "stderr",
     "output_type": "stream",
     "text": [
      " 78%|███████▊  | 1550/2000 [10:26<03:01,  2.48it/s]"
     ]
    },
    {
     "name": "stdout",
     "output_type": "stream",
     "text": [
      "янукович назвал предельную цену на российский газ [SEP] янукович: газ для украины не должен быть дороже $250 за тысячу кубов\n",
      "0.46838709677419355\n",
      "0.47096774193548385\n"
     ]
    },
    {
     "name": "stderr",
     "output_type": "stream",
     "text": [
      " 79%|███████▉  | 1575/2000 [10:35<02:18,  3.07it/s]"
     ]
    },
    {
     "name": "stdout",
     "output_type": "stream",
     "text": [
      "намерение ассанжа посетить россию оказалось выдумкой \"друзей wikileaks\" [SEP] адвокат ассанжа опроверг сообщения сми о его планах приехать в рф\n",
      "0.46825396825396826\n",
      "0.4711111111111111\n"
     ]
    },
    {
     "name": "stderr",
     "output_type": "stream",
     "text": [
      " 80%|████████  | 1600/2000 [10:47<03:17,  2.02it/s]"
     ]
    },
    {
     "name": "stdout",
     "output_type": "stream",
     "text": [
      "адвокат заявил о резком ухудшении здоровья летчика ярошенко [SEP] адвокат ярошенко в сша подтверждает критическое состояние подзащитного\n",
      "0.4684375\n",
      "0.4709375\n"
     ]
    },
    {
     "name": "stderr",
     "output_type": "stream",
     "text": [
      " 81%|████████▏ | 1625/2000 [10:55<01:55,  3.26it/s]"
     ]
    },
    {
     "name": "stdout",
     "output_type": "stream",
     "text": [
      "главную торговую улицу москвы оставили без покупателей [SEP] магазины на тверской опустели из-за запрета парковки на этой улице\n",
      "0.4686153846153846\n",
      "0.47107692307692306\n"
     ]
    },
    {
     "name": "stderr",
     "output_type": "stream",
     "text": [
      " 82%|████████▎ | 1650/2000 [11:06<02:05,  2.79it/s]"
     ]
    },
    {
     "name": "stdout",
     "output_type": "stream",
     "text": [
      "грабитель пять часов удерживал заложников в аргентинском банке [SEP] преступник, захвативший банк в аргентине, сдался полиции\n",
      "0.4687878787878788\n",
      "0.4712121212121212\n"
     ]
    },
    {
     "name": "stderr",
     "output_type": "stream",
     "text": [
      " 84%|████████▍ | 1675/2000 [11:14<01:37,  3.33it/s]"
     ]
    },
    {
     "name": "stdout",
     "output_type": "stream",
     "text": [
      "при пожаре в новгородском интернате погибли семь человек [SEP] число жертв пожара в новгородском интернате выросло до шести\n",
      "0.4692537313432836\n",
      "0.4716417910447761\n"
     ]
    },
    {
     "name": "stderr",
     "output_type": "stream",
     "text": [
      " 85%|████████▌ | 1700/2000 [11:26<01:53,  2.63it/s]"
     ]
    },
    {
     "name": "stdout",
     "output_type": "stream",
     "text": [
      "глава лнр назвал решение порошенко геноцидом [SEP] плотницкий: указ порошенко об экономблокаде донбасса - акт о геноциде\n",
      "0.46911764705882353\n",
      "0.47147058823529414\n"
     ]
    },
    {
     "name": "stderr",
     "output_type": "stream",
     "text": [
      " 86%|████████▋ | 1725/2000 [11:35<02:30,  1.83it/s]"
     ]
    },
    {
     "name": "stdout",
     "output_type": "stream",
     "text": [
      "рамзан кадыров совершил малый хадж в мекке [SEP] рамзан кадыров прибыл в саудовскую аравию для совершения малого хаджа\n",
      "0.46840579710144925\n",
      "0.47159420289855075\n"
     ]
    },
    {
     "name": "stderr",
     "output_type": "stream",
     "text": [
      " 88%|████████▊ | 1750/2000 [11:46<01:22,  3.04it/s]"
     ]
    },
    {
     "name": "stdout",
     "output_type": "stream",
     "text": [
      "в иркутске возбудили дело по факту обстрела школьного автобуса [SEP] по факту стрельбы по школьному автобусу в иркутске возбуждено дело\n",
      "0.4685714285714286\n",
      "0.4717142857142857\n"
     ]
    },
    {
     "name": "stderr",
     "output_type": "stream",
     "text": [
      " 89%|████████▉ | 1775/2000 [11:57<02:08,  1.75it/s]"
     ]
    },
    {
     "name": "stdout",
     "output_type": "stream",
     "text": [
      "\"спартак\" обыграл словацкую \"жилину\" [SEP] \"спартак\" проведет первый домашний матч футбольной лиги чемпионов\n",
      "0.4684507042253521\n",
      "0.4715492957746479\n"
     ]
    },
    {
     "name": "stderr",
     "output_type": "stream",
     "text": [
      " 90%|█████████ | 1800/2000 [12:06<01:00,  3.31it/s]"
     ]
    },
    {
     "name": "stdout",
     "output_type": "stream",
     "text": [
      "литва объявила день траура из солидарности с украиной [SEP] четверг объявлен на украине днем траура по погибшим в беспорядках\n",
      "0.4686111111111111\n",
      "0.47194444444444444\n"
     ]
    },
    {
     "name": "stderr",
     "output_type": "stream",
     "text": [
      " 91%|█████████▏| 1825/2000 [12:17<01:14,  2.34it/s]"
     ]
    },
    {
     "name": "stdout",
     "output_type": "stream",
     "text": [
      "правительство пустило иностранных пилотов в российские самолеты [SEP] правительство рф одобрило законопроект о допуске иностранных пилотов\n",
      "0.4684931506849315\n",
      "0.47178082191780824\n"
     ]
    },
    {
     "name": "stderr",
     "output_type": "stream",
     "text": [
      " 92%|█████████▎| 1850/2000 [12:26<00:51,  2.90it/s]"
     ]
    },
    {
     "name": "stdout",
     "output_type": "stream",
     "text": [
      "бастрыкин вылетел в ставрополь на место массового убийства [SEP] бастрыкин вылетает в ставрополь на место массового убийства\n",
      "0.46864864864864864\n",
      "0.47162162162162163\n"
     ]
    },
    {
     "name": "stderr",
     "output_type": "stream",
     "text": [
      " 94%|█████████▍| 1875/2000 [12:35<00:57,  2.18it/s]"
     ]
    },
    {
     "name": "stdout",
     "output_type": "stream",
     "text": [
      "парламент таджикистана отказался публиковать законы на русском [SEP] законы в таджикистане отныне не будут публиковаться на русском языке\n",
      "0.4688\n",
      "0.4712\n"
     ]
    },
    {
     "name": "stderr",
     "output_type": "stream",
     "text": [
      " 95%|█████████▌| 1900/2000 [12:45<00:37,  2.70it/s]"
     ]
    },
    {
     "name": "stdout",
     "output_type": "stream",
     "text": [
      "янукович отказался участвовать в майских выборах президента [SEP] янукович не намерен участвовать в выборах в мае, считая их незаконными\n",
      "0.4689473684210526\n",
      "0.4713157894736842\n"
     ]
    },
    {
     "name": "stderr",
     "output_type": "stream",
     "text": [
      " 96%|█████████▋| 1925/2000 [12:56<00:40,  1.87it/s]"
     ]
    },
    {
     "name": "stdout",
     "output_type": "stream",
     "text": [
      "вторая сборная россии по футболу сыграет в грозном [SEP] вторая сборная россии по футболу сыграет с командой литвы в грозном\n",
      "0.46935064935064935\n",
      "0.4714285714285714\n"
     ]
    },
    {
     "name": "stderr",
     "output_type": "stream",
     "text": [
      " 98%|█████████▊| 1950/2000 [13:05<00:16,  3.09it/s]"
     ]
    },
    {
     "name": "stdout",
     "output_type": "stream",
     "text": [
      "водолазы приступили к обследованию сухогруза \"амурская\" [SEP] водолазы начали погружения к сухогрузу \"амурская\" в поисках экипажа\n",
      "0.46897435897435896\n",
      "0.4712820512820513\n"
     ]
    },
    {
     "name": "stderr",
     "output_type": "stream",
     "text": [
      " 99%|█████████▉| 1975/2000 [13:17<00:11,  2.20it/s]"
     ]
    },
    {
     "name": "stdout",
     "output_type": "stream",
     "text": [
      "задолженность в сфере жкх достигла 781 миллиарда рублей [SEP] совокупный долг в сфере жкх составляет на 1 ноября более 780 млрд рублей\n",
      "0.46936708860759496\n",
      "0.47164556962025317\n"
     ]
    },
    {
     "name": "stderr",
     "output_type": "stream",
     "text": [
      "100%|██████████| 2000/2000 [13:26<00:00,  2.48it/s]\n"
     ]
    }
   ],
   "source": [
    "with torch.no_grad():\n",
    "    p0_vals = []\n",
    "    p1_vals = []\n",
    "    \n",
    "    ria_style_headlines = []\n",
    "    lenta_style_headlines = []\n",
    "\n",
    "    for i in tqdm.trange(0, len(dataset), 2):        \n",
    "        ria_gen_title = dataset.get_strings(i)['title']\n",
    "        lenta_gen_title = dataset.get_strings(i+1)['title']\n",
    "        \n",
    "        if i % 50 == 0 and i > 0:\n",
    "            print(' [SEP] '.join([lenta_gen_title, ria_gen_title]))\n",
    "            print(p0_vals.count(0) / i)\n",
    "            print(p1_vals.count(1) / i)\n",
    "            \n",
    "        inputs_0 = tokenizer(\n",
    "            ' [SEP] '.join([lenta_gen_title, ria_gen_title]),\n",
    "            add_special_tokens=True,\n",
    "            max_length=250,\n",
    "            padding=\"max_length\",\n",
    "            truncation=True\n",
    "        )\n",
    "        \n",
    "        inputs_1 = tokenizer(\n",
    "            ' [SEP] '.join([ria_gen_title, lenta_gen_title]),\n",
    "            add_special_tokens=True,\n",
    "            max_length=250,\n",
    "            padding=\"max_length\",\n",
    "            truncation=True\n",
    "        )\n",
    "        \n",
    "        logits_0 = paired_discriminator(input_ids=torch.LongTensor(inputs_0['input_ids']).to(device).unsqueeze(0), \n",
    "                               attention_mask=torch.LongTensor(inputs_0['attention_mask']).to(device).unsqueeze(0))[0]\n",
    "        pred_0 = torch.argmax(logits_0).item()\n",
    "        \n",
    "        logits_1 = paired_discriminator(input_ids=torch.LongTensor(inputs_1['input_ids']).to(device).unsqueeze(0), \n",
    "                               attention_mask=torch.LongTensor(inputs_1['attention_mask']).to(device).unsqueeze(0))[0]\n",
    "        pred_1 = torch.argmax(logits_1).item()\n",
    "        \n",
    "        p0_vals.append(pred_0)\n",
    "        p1_vals.append(pred_1)\n",
    "        "
   ]
  },
  {
   "cell_type": "markdown",
   "id": "hidden-hebrew",
   "metadata": {},
   "source": [
    "### Cross style check"
   ]
  },
  {
   "cell_type": "code",
   "execution_count": 8,
   "id": "second-development",
   "metadata": {},
   "outputs": [],
   "source": [
    "from custom_datasets import LentaRiaDataset"
   ]
  },
  {
   "cell_type": "code",
   "execution_count": 9,
   "id": "temporal-adventure",
   "metadata": {},
   "outputs": [],
   "source": [
    "cross_model = EncoderDecoderModel.from_pretrained(cross_model_path)"
   ]
  },
  {
   "cell_type": "code",
   "execution_count": 11,
   "id": "duplicate-boards",
   "metadata": {},
   "outputs": [],
   "source": [
    "discriminator.cuda();"
   ]
  },
  {
   "cell_type": "code",
   "execution_count": 12,
   "id": "spread-costs",
   "metadata": {},
   "outputs": [],
   "source": [
    "dataset = LentaRiaDataset('/home/aobuhtijarov/datasets/full_lenta_ria.test.jsonl',\n",
    "                          tokenizer, 250, 48)"
   ]
  },
  {
   "cell_type": "code",
   "execution_count": 13,
   "id": "awful-relations",
   "metadata": {},
   "outputs": [],
   "source": [
    "cross_model.cuda();"
   ]
  },
  {
   "cell_type": "markdown",
   "id": "vital-merit",
   "metadata": {},
   "source": [
    "Even index: lenta $\\rightarrow$ ria\n",
    "\n",
    "\n",
    "Odd index: ria $\\rightarrow$ lenta"
   ]
  },
  {
   "cell_type": "code",
   "execution_count": 14,
   "id": "harmful-hindu",
   "metadata": {},
   "outputs": [
    {
     "data": {
      "text/plain": [
       "['РИА Новости', 'lenta.ru']"
      ]
     },
     "execution_count": 14,
     "metadata": {},
     "output_type": "execute_result"
    }
   ],
   "source": [
    "agency_list"
   ]
  },
  {
   "cell_type": "code",
   "execution_count": 15,
   "id": "preliminary-still",
   "metadata": {},
   "outputs": [],
   "source": [
    "device = 'cpu'\n",
    "device = 'cuda'"
   ]
  },
  {
   "cell_type": "code",
   "execution_count": 16,
   "id": "infectious-cookbook",
   "metadata": {
    "scrolled": true
   },
   "outputs": [
    {
     "name": "stderr",
     "output_type": "stream",
     "text": [
      "  0%|          | 1/4000 [00:04<4:32:23,  4.09s/it]"
     ]
    },
    {
     "name": "stdout",
     "output_type": "stream",
     "text": [
      "медведев поздравил коморовский с победой на выборах в польше президент рф президент\n"
     ]
    },
    {
     "name": "stderr",
     "output_type": "stream",
     "text": [
      "\r",
      "  0%|          | 2/4000 [00:04<2:24:29,  2.17s/it]"
     ]
    },
    {
     "name": "stdout",
     "output_type": "stream",
     "text": [
      "медведев поздравил коморовский с победой на выборах в польше в кремле медвед\n"
     ]
    },
    {
     "name": "stderr",
     "output_type": "stream",
     "text": [
      "  1%|▏         | 51/4000 [00:30<27:07,  2.43it/s] "
     ]
    },
    {
     "name": "stdout",
     "output_type": "stream",
     "text": [
      "шведская принцесса виктория и ее супруга стали родителями сми сми сми\n"
     ]
    },
    {
     "name": "stderr",
     "output_type": "stream",
     "text": [
      "\r",
      "  1%|▏         | 52/4000 [00:31<31:08,  2.11it/s]"
     ]
    },
    {
     "name": "stdout",
     "output_type": "stream",
     "text": [
      "принц виктория родила дочь в возрасте 34 лет в возрасте 34 лет сми\n"
     ]
    },
    {
     "name": "stderr",
     "output_type": "stream",
     "text": [
      "  3%|▎         | 101/4000 [00:50<27:08,  2.39it/s]"
     ]
    },
    {
     "name": "stdout",
     "output_type": "stream",
     "text": [
      "два человека погибли при пожаре на кухне в жилом доме на юге москвы источник сми\n"
     ]
    },
    {
     "name": "stderr",
     "output_type": "stream",
     "text": [
      "\r",
      "  3%|▎         | 102/4000 [00:51<26:50,  2.42it/s]"
     ]
    },
    {
     "name": "stdout",
     "output_type": "stream",
     "text": [
      "при пожаре в жилом доме на юге москвы погибли два человека сообщили в мвд\n"
     ]
    },
    {
     "name": "stderr",
     "output_type": "stream",
     "text": [
      "  4%|▍         | 151/4000 [01:10<25:17,  2.54it/s]"
     ]
    },
    {
     "name": "stdout",
     "output_type": "stream",
     "text": [
      "фонд ucp не будет добиваться смены гендиректора \"вконтакте\" дурова\n"
     ]
    },
    {
     "name": "stderr",
     "output_type": "stream",
     "text": [
      "\r",
      "  4%|▍         | 152/4000 [01:10<23:50,  2.69it/s]"
     ]
    },
    {
     "name": "stdout",
     "output_type": "stream",
     "text": [
      "акционеры \"вконтакте\" нашли замену павлу дурову в \"вконтакт\n"
     ]
    },
    {
     "name": "stderr",
     "output_type": "stream",
     "text": [
      "  5%|▌         | 201/4000 [01:28<24:21,  2.60it/s]"
     ]
    },
    {
     "name": "stdout",
     "output_type": "stream",
     "text": [
      "школьник в сша заплатит $610 тысяч за слежку за ноутбуками пишут сми\n"
     ]
    },
    {
     "name": "stderr",
     "output_type": "stream",
     "text": [
      "\r",
      "  5%|▌         | 202/4000 [01:28<23:40,  2.67it/s]"
     ]
    },
    {
     "name": "stdout",
     "output_type": "stream",
     "text": [
      "школьники в филадельфии заплатят 600 тысяч долларов за прослушку в сша\n"
     ]
    },
    {
     "name": "stderr",
     "output_type": "stream",
     "text": [
      "  6%|▋         | 251/4000 [01:50<36:44,  1.70it/s]"
     ]
    },
    {
     "name": "stdout",
     "output_type": "stream",
     "text": [
      "суд в израиле оправдал экс-главу мид либермана сообщают сми см\n"
     ]
    },
    {
     "name": "stderr",
     "output_type": "stream",
     "text": [
      "\r",
      "  6%|▋         | 252/4000 [01:50<33:06,  1.89it/s]"
     ]
    },
    {
     "name": "stdout",
     "output_type": "stream",
     "text": [
      "суд иерусалима оправдал бывшего главу мид израиля суд суд снял с него обвинения\n"
     ]
    },
    {
     "name": "stderr",
     "output_type": "stream",
     "text": [
      "  8%|▊         | 301/4000 [02:13<24:35,  2.51it/s]"
     ]
    },
    {
     "name": "stdout",
     "output_type": "stream",
     "text": [
      "киев надеется, что лукин не пустили в славянск не пустили мид рф\n"
     ]
    },
    {
     "name": "stderr",
     "output_type": "stream",
     "text": [
      "\r",
      "  8%|▊         | 302/4000 [02:13<24:40,  2.50it/s]"
     ]
    },
    {
     "name": "stdout",
     "output_type": "stream",
     "text": [
      "украина обвинила российских военных в нарушении миссии обсе в славянске мвд\n"
     ]
    },
    {
     "name": "stderr",
     "output_type": "stream",
     "text": [
      "  9%|▉         | 351/4000 [02:38<31:14,  1.95it/s]"
     ]
    },
    {
     "name": "stdout",
     "output_type": "stream",
     "text": [
      "яхта врезалась в статую свободы в нью-йорке, один человек погиб один погиб\n"
     ]
    },
    {
     "name": "stderr",
     "output_type": "stream",
     "text": [
      "\r",
      "  9%|▉         | 352/4000 [02:38<29:25,  2.07it/s]"
     ]
    },
    {
     "name": "stdout",
     "output_type": "stream",
     "text": [
      "на острове либерти в нью-йорке столкнулись два катера один человек погиб один\n"
     ]
    },
    {
     "name": "stderr",
     "output_type": "stream",
     "text": [
      " 10%|█         | 401/4000 [03:01<31:00,  1.93it/s]"
     ]
    },
    {
     "name": "stdout",
     "output_type": "stream",
     "text": [
      "власти сша закрывают счета пользователей megaupload за 2 месяца сми\n"
     ]
    },
    {
     "name": "stderr",
     "output_type": "stream",
     "text": [
      "\r",
      " 10%|█         | 402/4000 [03:02<29:01,  2.07it/s]"
     ]
    },
    {
     "name": "stdout",
     "output_type": "stream",
     "text": [
      "файловый хостинг megaupload закроют в течение двух недель полиция сша\n"
     ]
    },
    {
     "name": "stderr",
     "output_type": "stream",
     "text": [
      " 11%|█▏        | 451/4000 [03:26<26:47,  2.21it/s]"
     ]
    },
    {
     "name": "stdout",
     "output_type": "stream",
     "text": [
      "госдума отсрочила запрет на получение иностранных удостоверений в рф до 1 июня в\n"
     ]
    },
    {
     "name": "stderr",
     "output_type": "stream",
     "text": [
      "\r",
      " 11%|█▏        | 452/4000 [03:26<27:14,  2.17it/s]"
     ]
    },
    {
     "name": "stdout",
     "output_type": "stream",
     "text": [
      "госдума отложила обмен национальных прав на российские до июня в июне в гд\n"
     ]
    },
    {
     "name": "stderr",
     "output_type": "stream",
     "text": [
      " 13%|█▎        | 501/4000 [03:50<27:33,  2.12it/s]"
     ]
    },
    {
     "name": "stdout",
     "output_type": "stream",
     "text": [
      "новый ток-шоу larry king выходит в эфир летом тв тв тв\n"
     ]
    },
    {
     "name": "stderr",
     "output_type": "stream",
     "text": [
      "\r",
      " 13%|█▎        | 502/4000 [03:50<28:02,  2.08it/s]"
     ]
    },
    {
     "name": "stdout",
     "output_type": "stream",
     "text": [
      "ларри кинг вновь вернется на экраны сша тв тв тв тв\n"
     ]
    },
    {
     "name": "stderr",
     "output_type": "stream",
     "text": [
      " 14%|█▍        | 551/4000 [04:14<23:33,  2.44it/s]"
     ]
    },
    {
     "name": "stdout",
     "output_type": "stream",
     "text": [
      "мавроди просит защиты у путина в связи с \"ммм-2011\" в\n"
     ]
    },
    {
     "name": "stderr",
     "output_type": "stream",
     "text": [
      "\r",
      " 14%|█▍        | 552/4000 [04:15<23:28,  2.45it/s]"
     ]
    },
    {
     "name": "stdout",
     "output_type": "stream",
     "text": [
      "мавроди попросил пользователей помощи в борьбе с \"ммм-2011\" в интернете\n"
     ]
    },
    {
     "name": "stderr",
     "output_type": "stream",
     "text": [
      " 15%|█▌        | 601/4000 [04:39<24:34,  2.31it/s]"
     ]
    },
    {
     "name": "stdout",
     "output_type": "stream",
     "text": [
      "истребитель су-30мки разбился в индии, летчики катапультировались сообщают сми\n"
     ]
    },
    {
     "name": "stderr",
     "output_type": "stream",
     "text": [
      "\r",
      " 15%|█▌        | 602/4000 [04:39<24:06,  2.35it/s]"
     ]
    },
    {
     "name": "stdout",
     "output_type": "stream",
     "text": [
      "в индии потерпел крушение истребитель су-30 сообщают сми сообщают сми см\n"
     ]
    },
    {
     "name": "stderr",
     "output_type": "stream",
     "text": [
      " 16%|█▋        | 651/4000 [05:01<22:09,  2.52it/s]"
     ]
    },
    {
     "name": "stdout",
     "output_type": "stream",
     "text": [
      "следствие назвало основную версию убийства ректора в махачкале ск ск ск ск ск\n"
     ]
    },
    {
     "name": "stderr",
     "output_type": "stream",
     "text": [
      "\r",
      " 16%|█▋        | 652/4000 [05:01<21:54,  2.55it/s]"
     ]
    },
    {
     "name": "stdout",
     "output_type": "stream",
     "text": [
      "убит ректор института теологии и его племянник в махачкале ск рф в дагестане\n"
     ]
    },
    {
     "name": "stderr",
     "output_type": "stream",
     "text": [
      " 18%|█▊        | 701/4000 [05:23<25:16,  2.17it/s]"
     ]
    },
    {
     "name": "stdout",
     "output_type": "stream",
     "text": [
      "сми: комиссия по усыновителям может пройти тесты на наркотики сми сми\n"
     ]
    },
    {
     "name": "stderr",
     "output_type": "stream",
     "text": [
      "\r",
      " 18%|█▊        | 702/4000 [05:24<27:57,  1.97it/s]"
     ]
    },
    {
     "name": "stdout",
     "output_type": "stream",
     "text": [
      "сми узнали об обязательном тестировании на приемных родителей в гд сми сми\n"
     ]
    },
    {
     "name": "stderr",
     "output_type": "stream",
     "text": [
      " 19%|█▉        | 751/4000 [05:47<26:25,  2.05it/s]"
     ]
    },
    {
     "name": "stdout",
     "output_type": "stream",
     "text": [
      "первая нобелевский лауреат в области экономики скончалась в сша тв сми\n"
     ]
    },
    {
     "name": "stderr",
     "output_type": "stream",
     "text": [
      "\r",
      " 19%|█▉        | 752/4000 [05:48<26:00,  2.08it/s]"
     ]
    },
    {
     "name": "stdout",
     "output_type": "stream",
     "text": [
      "в сша скончалась лауреат нобелевской премии по экономике элинов остер и германии\n"
     ]
    },
    {
     "name": "stderr",
     "output_type": "stream",
     "text": [
      " 20%|██        | 801/4000 [06:11<21:46,  2.45it/s]"
     ]
    },
    {
     "name": "stdout",
     "output_type": "stream",
     "text": [
      "могучий стал лауреатом премии \"золотая маска\" \"счастье\" тв\n"
     ]
    },
    {
     "name": "stderr",
     "output_type": "stream",
     "text": [
      "\r",
      " 20%|██        | 802/4000 [06:11<22:44,  2.34it/s]"
     ]
    },
    {
     "name": "stdout",
     "output_type": "stream",
     "text": [
      "спектакль \"счастье\" андрея могучего получил \"золотую маску\" \"\n"
     ]
    },
    {
     "name": "stderr",
     "output_type": "stream",
     "text": [
      " 21%|██▏       | 851/4000 [06:31<21:08,  2.48it/s]"
     ]
    },
    {
     "name": "stdout",
     "output_type": "stream",
     "text": [
      "на территории завода \"серп и молот\" горит тц \"серп и молот\"\n"
     ]
    },
    {
     "name": "stderr",
     "output_type": "stream",
     "text": [
      "\r",
      " 21%|██▏       | 852/4000 [06:32<21:03,  2.49it/s]"
     ]
    },
    {
     "name": "stdout",
     "output_type": "stream",
     "text": [
      "пожар на заводе \"серп и молот\" потушили на территории завода в москве\n"
     ]
    },
    {
     "name": "stderr",
     "output_type": "stream",
     "text": [
      " 23%|██▎       | 901/4000 [06:52<21:12,  2.44it/s]"
     ]
    },
    {
     "name": "stdout",
     "output_type": "stream",
     "text": [
      "устюгов завоевал серебро в спринте на этапе км по биатлону в сочи фуркад\n"
     ]
    },
    {
     "name": "stderr",
     "output_type": "stream",
     "text": [
      "\r",
      " 23%|██▎       | 902/4000 [06:53<20:58,  2.46it/s]"
     ]
    },
    {
     "name": "stdout",
     "output_type": "stream",
     "text": [
      "устюгов завоевал серебро на этапе кубка мира по биатлону в сочи в сочи\n"
     ]
    },
    {
     "name": "stderr",
     "output_type": "stream",
     "text": [
      " 24%|██▍       | 951/4000 [07:13<23:35,  2.15it/s]"
     ]
    },
    {
     "name": "stdout",
     "output_type": "stream",
     "text": [
      "лауреаты премии \"гигилевский\" объявлены в перми и в перми тв\n"
     ]
    },
    {
     "name": "stderr",
     "output_type": "stream",
     "text": [
      "\r",
      " 24%|██▍       | 952/4000 [07:13<24:26,  2.08it/s]"
     ]
    },
    {
     "name": "stdout",
     "output_type": "stream",
     "text": [
      "вручены премии сергея дягилева и мадрид и мадрид в перми\n"
     ]
    },
    {
     "name": "stderr",
     "output_type": "stream",
     "text": [
      " 25%|██▌       | 1001/4000 [07:34<20:52,  2.39it/s]"
     ]
    },
    {
     "name": "stdout",
     "output_type": "stream",
     "text": [
      "мать и бабушку из турции спасены из-под завалов в доме в турции\n"
     ]
    },
    {
     "name": "stderr",
     "output_type": "stream",
     "text": [
      "\r",
      " 25%|██▌       | 1002/4000 [07:34<20:33,  2.43it/s]"
     ]
    },
    {
     "name": "stdout",
     "output_type": "stream",
     "text": [
      "двухнедельную девочку нашли живой под завалами в турции сообщают сми сообщают сми\n"
     ]
    },
    {
     "name": "stderr",
     "output_type": "stream",
     "text": [
      " 26%|██▋       | 1051/4000 [07:54<20:44,  2.37it/s]"
     ]
    },
    {
     "name": "stdout",
     "output_type": "stream",
     "text": [
      "первый в россии торгово-развлекательный центр откроется в раменском компания компания\n"
     ]
    },
    {
     "name": "stderr",
     "output_type": "stream",
     "text": [
      "\r",
      " 26%|██▋       | 1052/4000 [07:54<20:34,  2.39it/s]"
     ]
    },
    {
     "name": "stdout",
     "output_type": "stream",
     "text": [
      "в раменском построят торговый центр за 29,5 тысячи \"квадратов\" в\n"
     ]
    },
    {
     "name": "stderr",
     "output_type": "stream",
     "text": [
      " 28%|██▊       | 1101/4000 [08:14<15:56,  3.03it/s]"
     ]
    },
    {
     "name": "stdout",
     "output_type": "stream",
     "text": [
      "генеральным директором рфс назначен александр алаев телеканал \"сэ\" рфс\n"
     ]
    },
    {
     "name": "stderr",
     "output_type": "stream",
     "text": [
      "\r",
      " 28%|██▊       | 1102/4000 [08:14<15:45,  3.06it/s]"
     ]
    },
    {
     "name": "stdout",
     "output_type": "stream",
     "text": [
      "российский футбольный союз опроверг назначение алаева гендиректором рфс сми сми\n"
     ]
    },
    {
     "name": "stderr",
     "output_type": "stream",
     "text": [
      " 29%|██▉       | 1151/4000 [08:34<19:11,  2.47it/s]"
     ]
    },
    {
     "name": "stdout",
     "output_type": "stream",
     "text": [
      "суд отклонил ходатайство \"роснефти\" о приостановке процесса по иску навального суд суд\n"
     ]
    },
    {
     "name": "stderr",
     "output_type": "stream",
     "text": [
      "\r",
      " 29%|██▉       | 1152/4000 [08:34<19:11,  2.47it/s]"
     ]
    },
    {
     "name": "stdout",
     "output_type": "stream",
     "text": [
      "суд отказался рассматривать иск навального к \"роснефти\" суд суд отказался суд\n"
     ]
    },
    {
     "name": "stderr",
     "output_type": "stream",
     "text": [
      " 30%|███       | 1201/4000 [08:54<19:00,  2.45it/s]"
     ]
    },
    {
     "name": "stdout",
     "output_type": "stream",
     "text": [
      "ученые выяснили, как пузырь вокруг газировки не важен сми в сша\n"
     ]
    },
    {
     "name": "stderr",
     "output_type": "stream",
     "text": [
      "\r",
      " 30%|███       | 1202/4000 [08:55<20:17,  2.30it/s]"
     ]
    },
    {
     "name": "stdout",
     "output_type": "stream",
     "text": [
      "газировку обязали вкус угольной кислотой в прямом эфире в сми в сми\n"
     ]
    },
    {
     "name": "stderr",
     "output_type": "stream",
     "text": [
      " 31%|███▏      | 1251/4000 [09:15<18:29,  2.48it/s]"
     ]
    },
    {
     "name": "stdout",
     "output_type": "stream",
     "text": [
      "саркози лидирует на выборах президента франции с 28,09% голосов маркелов\n"
     ]
    },
    {
     "name": "stderr",
     "output_type": "stream",
     "text": [
      "\r",
      " 31%|███▏      | 1252/4000 [09:15<18:26,  2.48it/s]"
     ]
    },
    {
     "name": "stdout",
     "output_type": "stream",
     "text": [
      "олланд лидирует во втором туре выборов президента франции на выборах с 27,6 процента\n"
     ]
    },
    {
     "name": "stderr",
     "output_type": "stream",
     "text": [
      " 33%|███▎      | 1301/4000 [09:35<18:03,  2.49it/s]"
     ]
    },
    {
     "name": "stdout",
     "output_type": "stream",
     "text": [
      "постпред сша при оон посетит страны, где бушует лихорадка эбола в о\n"
     ]
    },
    {
     "name": "stderr",
     "output_type": "stream",
     "text": [
      "\r",
      " 33%|███▎      | 1302/4000 [09:36<18:41,  2.41it/s]"
     ]
    },
    {
     "name": "stdout",
     "output_type": "stream",
     "text": [
      "постпред сша при оон посетит гвинею за пределами страны в оон в\n"
     ]
    },
    {
     "name": "stderr",
     "output_type": "stream",
     "text": [
      " 34%|███▍      | 1351/4000 [09:57<18:17,  2.41it/s]"
     ]
    },
    {
     "name": "stdout",
     "output_type": "stream",
     "text": [
      "фигурант \"болотного дела\" артему бреусу продлили прописку в минске м\n"
     ]
    },
    {
     "name": "stderr",
     "output_type": "stream",
     "text": [
      "\r",
      " 34%|███▍      | 1352/4000 [09:58<19:40,  2.24it/s]"
     ]
    },
    {
     "name": "stdout",
     "output_type": "stream",
     "text": [
      "белорусскому оппозиционеру отказали в регистрации за участие в беспорядках в минске мвд\n"
     ]
    },
    {
     "name": "stderr",
     "output_type": "stream",
     "text": [
      " 35%|███▌      | 1401/4000 [10:18<16:54,  2.56it/s]"
     ]
    },
    {
     "name": "stdout",
     "output_type": "stream",
     "text": [
      "власти сша эвакуируют судов из-за шторма \"бонни\" в мексиканском заливе\n"
     ]
    },
    {
     "name": "stderr",
     "output_type": "stream",
     "text": [
      "\r",
      " 35%|███▌      | 1402/4000 [10:18<16:26,  2.63it/s]"
     ]
    },
    {
     "name": "stdout",
     "output_type": "stream",
     "text": [
      "тропический шторм \"бонни\" превратился в шторм у берегов сша в мексиканском заливе\n"
     ]
    },
    {
     "name": "stderr",
     "output_type": "stream",
     "text": [
      " 36%|███▋      | 1451/4000 [10:37<18:10,  2.34it/s]"
     ]
    },
    {
     "name": "stdout",
     "output_type": "stream",
     "text": [
      "замглавы администрации президента рф предостерегает чиновников от \"курьезных\" сервисов в\n"
     ]
    },
    {
     "name": "stderr",
     "output_type": "stream",
     "text": [
      "\r",
      " 36%|███▋      | 1452/4000 [10:37<16:49,  2.52it/s]"
     ]
    },
    {
     "name": "stdout",
     "output_type": "stream",
     "text": [
      "вице-мэра москвы посоветовала мэру отвечать на комментарии в twitter\n"
     ]
    },
    {
     "name": "stderr",
     "output_type": "stream",
     "text": [
      " 38%|███▊      | 1501/4000 [10:56<16:02,  2.60it/s]"
     ]
    },
    {
     "name": "stdout",
     "output_type": "stream",
     "text": [
      "число жертв землетрясения в новой зеландии возросло до 147 сообщают сми тв\n"
     ]
    },
    {
     "name": "stderr",
     "output_type": "stream",
     "text": [
      "\r",
      " 38%|███▊      | 1502/4000 [10:57<15:41,  2.65it/s]"
     ]
    },
    {
     "name": "stdout",
     "output_type": "stream",
     "text": [
      "в результате землетрясения в новой зеландии погибли 147 человек более 50 сообщают сми\n"
     ]
    },
    {
     "name": "stderr",
     "output_type": "stream",
     "text": [
      " 39%|███▉      | 1551/4000 [11:15<13:57,  2.92it/s]"
     ]
    },
    {
     "name": "stdout",
     "output_type": "stream",
     "text": [
      "прокурор подал апелляцию на арест навального и офицерова в кирове суд суд\n"
     ]
    },
    {
     "name": "stderr",
     "output_type": "stream",
     "text": [
      "\r",
      " 39%|███▉      | 1552/4000 [11:15<14:13,  2.87it/s]"
     ]
    },
    {
     "name": "stdout",
     "output_type": "stream",
     "text": [
      "прокуратура обжаловала приговор навальному и офицерову в сизо в кирове сообщил источник\n"
     ]
    },
    {
     "name": "stderr",
     "output_type": "stream",
     "text": [
      " 40%|████      | 1601/4000 [11:34<15:47,  2.53it/s]"
     ]
    },
    {
     "name": "stdout",
     "output_type": "stream",
     "text": [
      "сирия стала членом оон по химоружию сообщают сми в оон\n"
     ]
    },
    {
     "name": "stderr",
     "output_type": "stream",
     "text": [
      "\r",
      " 40%|████      | 1602/4000 [11:34<15:32,  2.57it/s]"
     ]
    },
    {
     "name": "stdout",
     "output_type": "stream",
     "text": [
      "сирию вступит в международный контроль в оон заявил постпред в оон в\n"
     ]
    },
    {
     "name": "stderr",
     "output_type": "stream",
     "text": [
      " 41%|████▏     | 1651/4000 [11:53<14:16,  2.74it/s]"
     ]
    },
    {
     "name": "stdout",
     "output_type": "stream",
     "text": [
      "британский писатель алан силлитоу скончался в возрасте 82 лет сми сми\n"
     ]
    },
    {
     "name": "stderr",
     "output_type": "stream",
     "text": [
      "\r",
      " 41%|████▏     | 1652/4000 [11:53<14:34,  2.68it/s]"
     ]
    },
    {
     "name": "stdout",
     "output_type": "stream",
     "text": [
      "в лондоне умер писатель алана силлитоу в возрасте 82 лет сми\n"
     ]
    },
    {
     "name": "stderr",
     "output_type": "stream",
     "text": [
      " 43%|████▎     | 1701/4000 [12:12<16:19,  2.35it/s]"
     ]
    },
    {
     "name": "stdout",
     "output_type": "stream",
     "text": [
      "том хэнкс сыграет лэна брауна в экранизации \"инферно\" сми\n"
     ]
    },
    {
     "name": "stderr",
     "output_type": "stream",
     "text": [
      "\r",
      " 43%|████▎     | 1702/4000 [12:13<15:46,  2.43it/s]"
     ]
    },
    {
     "name": "stdout",
     "output_type": "stream",
     "text": [
      "том хэнкс вернется в экранизации \"инферно\" и \"ангелов да винчи\n"
     ]
    },
    {
     "name": "stderr",
     "output_type": "stream",
     "text": [
      " 44%|████▍     | 1751/4000 [12:31<12:31,  2.99it/s]"
     ]
    },
    {
     "name": "stdout",
     "output_type": "stream",
     "text": [
      "жертвами нападения на автобус в китае стали 4 человека 11 ранены сообщают сми\n"
     ]
    },
    {
     "name": "stderr",
     "output_type": "stream",
     "text": [
      "\r",
      " 44%|████▍     | 1752/4000 [12:31<12:17,  3.05it/s]"
     ]
    },
    {
     "name": "stdout",
     "output_type": "stream",
     "text": [
      "в китае мужчина убил четырех человек напавшего на них с ножом сообщают сми\n"
     ]
    },
    {
     "name": "stderr",
     "output_type": "stream",
     "text": [
      " 45%|████▌     | 1801/4000 [12:49<14:10,  2.59it/s]"
     ]
    },
    {
     "name": "stdout",
     "output_type": "stream",
     "text": [
      "проект программы \"россия без сирот\" выложен в интернет тв в сети тв\n"
     ]
    },
    {
     "name": "stderr",
     "output_type": "stream",
     "text": [
      "\r",
      " 45%|████▌     | 1802/4000 [12:50<14:18,  2.56it/s]"
     ]
    },
    {
     "name": "stdout",
     "output_type": "stream",
     "text": [
      "программу \"россия без сирот\" выпустили на интернет в интернете в интернете\n"
     ]
    },
    {
     "name": "stderr",
     "output_type": "stream",
     "text": [
      " 46%|████▋     | 1851/4000 [13:12<14:47,  2.42it/s]"
     ]
    },
    {
     "name": "stdout",
     "output_type": "stream",
     "text": [
      "bp и \"альфа-групп\" урегулировали все разногласияи по тнк-\n"
     ]
    },
    {
     "name": "stderr",
     "output_type": "stream",
     "text": [
      "\r",
      " 46%|████▋     | 1852/4000 [13:12<15:50,  2.26it/s]"
     ]
    },
    {
     "name": "stdout",
     "output_type": "stream",
     "text": [
      "bp договорилась с \"роснефтью\" о примирении в тнк-в\n"
     ]
    },
    {
     "name": "stderr",
     "output_type": "stream",
     "text": [
      " 48%|████▊     | 1901/4000 [13:39<18:14,  1.92it/s]"
     ]
    },
    {
     "name": "stdout",
     "output_type": "stream",
     "text": [
      "пользователи paypal с 11 октября смогут принимать деньги рф в сша с 11 октября\n"
     ]
    },
    {
     "name": "stderr",
     "output_type": "stream",
     "text": [
      "\r",
      " 48%|████▊     | 1902/4000 [13:39<18:38,  1.88it/s]"
     ]
    },
    {
     "name": "stdout",
     "output_type": "stream",
     "text": [
      "россияне смогут принимать деньги в paypal с января в россии в сша в\n"
     ]
    },
    {
     "name": "stderr",
     "output_type": "stream",
     "text": [
      " 49%|████▉     | 1951/4000 [14:00<11:49,  2.89it/s]"
     ]
    },
    {
     "name": "stdout",
     "output_type": "stream",
     "text": [
      "утечка 36 минут из \"гарри поттера\" оказалась ложной тв тв тв\n"
     ]
    },
    {
     "name": "stderr",
     "output_type": "stream",
     "text": [
      "\r",
      " 49%|████▉     | 1952/4000 [14:01<11:52,  2.87it/s]"
     ]
    },
    {
     "name": "stdout",
     "output_type": "stream",
     "text": [
      "новый эпизод \"гарри поттера\" появился на торрент-трекерах в сша\n"
     ]
    },
    {
     "name": "stderr",
     "output_type": "stream",
     "text": [
      " 50%|█████     | 2001/4000 [14:18<11:35,  2.88it/s]"
     ]
    },
    {
     "name": "stdout",
     "output_type": "stream",
     "text": [
      "шувалов не видит необходимости приватизировать госкорпорацию вэба в рф вэб\n"
     ]
    },
    {
     "name": "stderr",
     "output_type": "stream",
     "text": [
      "\r",
      " 50%|█████     | 2002/4000 [14:19<11:48,  2.82it/s]"
     ]
    },
    {
     "name": "stdout",
     "output_type": "stream",
     "text": [
      "шувалов отказался от акционирования \"банка развития\" вэба вэба\n"
     ]
    },
    {
     "name": "stderr",
     "output_type": "stream",
     "text": [
      " 51%|█████▏    | 2051/4000 [14:38<12:37,  2.57it/s]"
     ]
    },
    {
     "name": "stdout",
     "output_type": "stream",
     "text": [
      "семь россиян задержаны в италии по обвинению в хулиганстве сообщают сми рфс\n"
     ]
    },
    {
     "name": "stderr",
     "output_type": "stream",
     "text": [
      "\r",
      " 51%|█████▏    | 2052/4000 [14:38<12:51,  2.53it/s]"
     ]
    },
    {
     "name": "stdout",
     "output_type": "stream",
     "text": [
      "болельщика цска задержали в италии за нападение на стюарда \"ромой\"\"\n"
     ]
    },
    {
     "name": "stderr",
     "output_type": "stream",
     "text": [
      " 53%|█████▎    | 2101/4000 [14:56<11:15,  2.81it/s]"
     ]
    },
    {
     "name": "stdout",
     "output_type": "stream",
     "text": [
      "против виктора батурина возбуждено еще одно дело в ноябре возбуждено дело адвокат м\n"
     ]
    },
    {
     "name": "stderr",
     "output_type": "stream",
     "text": [
      "\r",
      " 53%|█████▎    | 2102/4000 [14:56<11:41,  2.71it/s]"
     ]
    },
    {
     "name": "stdout",
     "output_type": "stream",
     "text": [
      "виктора батурина заподозрили в неуплате налогов в 2007 году сми скп\n"
     ]
    },
    {
     "name": "stderr",
     "output_type": "stream",
     "text": [
      " 54%|█████▍    | 2151/4000 [15:18<13:34,  2.27it/s]"
     ]
    },
    {
     "name": "stdout",
     "output_type": "stream",
     "text": [
      "\"газпром\" и \"сила сибири\" сварят первый стыковку с кнр\n"
     ]
    },
    {
     "name": "stderr",
     "output_type": "stream",
     "text": [
      "\r",
      " 54%|█████▍    | 2152/4000 [15:18<14:59,  2.05it/s]"
     ]
    },
    {
     "name": "stdout",
     "output_type": "stream",
     "text": [
      "\"газпром\" в августе построит газопровод \"сила сибири\" в китае\n"
     ]
    },
    {
     "name": "stderr",
     "output_type": "stream",
     "text": [
      " 55%|█████▌    | 2201/4000 [15:42<14:28,  2.07it/s]"
     ]
    },
    {
     "name": "stdout",
     "output_type": "stream",
     "text": [
      "суд отменил штраф в 19 млн руб для \"базэлцемент-пикалево\" в\n"
     ]
    },
    {
     "name": "stderr",
     "output_type": "stream",
     "text": [
      "\r",
      " 55%|█████▌    | 2202/4000 [15:42<14:08,  2.12it/s]"
     ]
    },
    {
     "name": "stdout",
     "output_type": "stream",
     "text": [
      "\"базэлцемент-пикалево\" оштрафовали на 20 миллионов рублей за нарушение закона о\n"
     ]
    },
    {
     "name": "stderr",
     "output_type": "stream",
     "text": [
      " 56%|█████▋    | 2251/4000 [16:05<13:41,  2.13it/s]"
     ]
    },
    {
     "name": "stdout",
     "output_type": "stream",
     "text": [
      "суд в конго признал виновными украинских моряков в жестоком обращении сми сми\n"
     ]
    },
    {
     "name": "stderr",
     "output_type": "stream",
     "text": [
      "\r",
      " 56%|█████▋    | 2252/4000 [16:05<12:52,  2.26it/s]"
     ]
    },
    {
     "name": "stdout",
     "output_type": "stream",
     "text": [
      "суд конго оправдал российских моряков с \"арктик санрайз\" в конго см\n"
     ]
    },
    {
     "name": "stderr",
     "output_type": "stream",
     "text": [
      " 58%|█████▊    | 2301/4000 [16:29<14:30,  1.95it/s]"
     ]
    },
    {
     "name": "stdout",
     "output_type": "stream",
     "text": [
      "главу упс украины не пустили на украину в день рождения иларионаа\n"
     ]
    },
    {
     "name": "stderr",
     "output_type": "stream",
     "text": [
      "\r",
      " 58%|█████▊    | 2302/4000 [16:29<14:01,  2.02it/s]"
     ]
    },
    {
     "name": "stdout",
     "output_type": "stream",
     "text": [
      "главу украинской разведки запретили въезд на украину в страну сообщил источник сми см\n"
     ]
    },
    {
     "name": "stderr",
     "output_type": "stream",
     "text": [
      " 59%|█████▉    | 2351/4000 [16:54<15:08,  1.81it/s]"
     ]
    },
    {
     "name": "stdout",
     "output_type": "stream",
     "text": [
      "партия саакашвили предлагает запретить вещание на территории грузии сми сми\n"
     ]
    },
    {
     "name": "stderr",
     "output_type": "stream",
     "text": [
      "\r",
      " 59%|█████▉    | 2352/4000 [16:54<14:39,  1.87it/s]"
     ]
    },
    {
     "name": "stdout",
     "output_type": "stream",
     "text": [
      "парламент грузии решил запретить российские телеканалы в стране в сми в сми\n"
     ]
    },
    {
     "name": "stderr",
     "output_type": "stream",
     "text": [
      " 60%|██████    | 2401/4000 [17:15<14:26,  1.84it/s]"
     ]
    },
    {
     "name": "stdout",
     "output_type": "stream",
     "text": [
      "ес принял предложение россии о консультации с рф по энергопакету ес\n"
     ]
    },
    {
     "name": "stderr",
     "output_type": "stream",
     "text": [
      "\r",
      " 60%|██████    | 2402/4000 [17:16<14:59,  1.78it/s]"
     ]
    },
    {
     "name": "stdout",
     "output_type": "stream",
     "text": [
      "россия согласилась на консультации с ес о третьем энергопакете в минэнерго ес\n"
     ]
    },
    {
     "name": "stderr",
     "output_type": "stream",
     "text": [
      " 61%|██████▏   | 2451/4000 [17:39<09:57,  2.59it/s]"
     ]
    },
    {
     "name": "stdout",
     "output_type": "stream",
     "text": [
      "арендатор овощебазы в бирюлево задержан по подозрению в мошенничестве ск ск\n"
     ]
    },
    {
     "name": "stderr",
     "output_type": "stream",
     "text": [
      "\r",
      " 61%|██████▏   | 2452/4000 [17:40<10:54,  2.36it/s]"
     ]
    },
    {
     "name": "stdout",
     "output_type": "stream",
     "text": [
      "задержан предполагаемый арендатор овощебазы в бирюлево ск рф ск рф\n"
     ]
    },
    {
     "name": "stderr",
     "output_type": "stream",
     "text": [
      " 63%|██████▎   | 2501/4000 [17:59<08:23,  2.97it/s]"
     ]
    },
    {
     "name": "stdout",
     "output_type": "stream",
     "text": [
      "обыски в мастер-банке в москве связаны с делом набиуллины мвд\n"
     ]
    },
    {
     "name": "stderr",
     "output_type": "stream",
     "text": [
      "\r",
      " 63%|██████▎   | 2502/4000 [17:59<08:40,  2.88it/s]"
     ]
    },
    {
     "name": "stdout",
     "output_type": "stream",
     "text": [
      "мвд подтвердило обыски в мастер-банке в москве в офисах цб\n"
     ]
    },
    {
     "name": "stderr",
     "output_type": "stream",
     "text": [
      " 64%|██████▍   | 2551/4000 [18:18<08:43,  2.77it/s]"
     ]
    },
    {
     "name": "stdout",
     "output_type": "stream",
     "text": [
      "немецкая rwe и \"газпром\" не договорились о строительстве электростанций в ес см\n"
     ]
    },
    {
     "name": "stderr",
     "output_type": "stream",
     "text": [
      "\r",
      " 64%|██████▍   | 2552/4000 [18:18<08:53,  2.71it/s]"
     ]
    },
    {
     "name": "stdout",
     "output_type": "stream",
     "text": [
      "\"газпром\" отказался от сотрудничества с rwe в европе в европе\n"
     ]
    },
    {
     "name": "stderr",
     "output_type": "stream",
     "text": [
      " 65%|██████▌   | 2601/4000 [18:36<08:13,  2.84it/s]"
     ]
    },
    {
     "name": "stdout",
     "output_type": "stream",
     "text": [
      "трутнев: госкомпании могут подумать о переезде в дфо \"русгидро\"\n"
     ]
    },
    {
     "name": "stderr",
     "output_type": "stream",
     "text": [
      "\r",
      " 65%|██████▌   | 2602/4000 [18:36<08:10,  2.85it/s]"
     ]
    },
    {
     "name": "stdout",
     "output_type": "stream",
     "text": [
      "\"русгидро\" и \"роснефти\" предложили переехать на дальний восток в дфо\n"
     ]
    },
    {
     "name": "stderr",
     "output_type": "stream",
     "text": [
      " 66%|██████▋   | 2651/4000 [18:56<09:56,  2.26it/s]"
     ]
    },
    {
     "name": "stdout",
     "output_type": "stream",
     "text": [
      "эмма уотсон вступила в должность посла оон в оон сообщают сми\n"
     ]
    },
    {
     "name": "stderr",
     "output_type": "stream",
     "text": [
      "\r",
      " 66%|██████▋   | 2652/4000 [18:57<09:52,  2.28it/s]"
     ]
    },
    {
     "name": "stdout",
     "output_type": "stream",
     "text": [
      "эмма уотсон получила титул посла оон оон объявили в оон\n"
     ]
    },
    {
     "name": "stderr",
     "output_type": "stream",
     "text": [
      " 68%|██████▊   | 2701/4000 [19:21<11:29,  1.88it/s]"
     ]
    },
    {
     "name": "stdout",
     "output_type": "stream",
     "text": [
      "серия взрывов произошла на заводе в американском штате флорида тв тв тв тв\n"
     ]
    },
    {
     "name": "stderr",
     "output_type": "stream",
     "text": [
      "\r",
      " 68%|██████▊   | 2702/4000 [19:21<11:39,  1.86it/s]"
     ]
    },
    {
     "name": "stdout",
     "output_type": "stream",
     "text": [
      "на фабрике blue rhino в сша произошли взрывы в штате флорида в сш\n"
     ]
    },
    {
     "name": "stderr",
     "output_type": "stream",
     "text": [
      " 69%|██████▉   | 2751/4000 [19:47<11:50,  1.76it/s]"
     ]
    },
    {
     "name": "stdout",
     "output_type": "stream",
     "text": [
      "\"повелитель бури\" получил \"оскар-2010\" как лучший фильм\n"
     ]
    },
    {
     "name": "stderr",
     "output_type": "stream",
     "text": [
      "\r",
      " 69%|██████▉   | 2752/4000 [19:48<11:19,  1.84it/s]"
     ]
    },
    {
     "name": "stdout",
     "output_type": "stream",
     "text": [
      "\"повелитель бури\" получил \"оскар\" за лучший фильм года и \"\n"
     ]
    },
    {
     "name": "stderr",
     "output_type": "stream",
     "text": [
      " 70%|███████   | 2801/4000 [20:14<10:42,  1.87it/s]"
     ]
    },
    {
     "name": "stdout",
     "output_type": "stream",
     "text": [
      "пентагон впервые разместил заказ на истребители f-35 в ноябре вмс сша\n"
     ]
    },
    {
     "name": "stderr",
     "output_type": "stream",
     "text": [
      "\r",
      " 70%|███████   | 2802/4000 [20:14<09:34,  2.08it/s]"
     ]
    },
    {
     "name": "stdout",
     "output_type": "stream",
     "text": [
      "япония впервые заключила контракт с сша о производстве f-35а в россии\n"
     ]
    },
    {
     "name": "stderr",
     "output_type": "stream",
     "text": [
      " 71%|███████▏  | 2851/4000 [20:35<08:43,  2.20it/s]"
     ]
    },
    {
     "name": "stdout",
     "output_type": "stream",
     "text": [
      "прокуратура москвы отозвала претензии к собянину - ъ сми сми см\n"
     ]
    },
    {
     "name": "stderr",
     "output_type": "stream",
     "text": [
      "\r",
      " 71%|███████▏  | 2852/4000 [20:35<08:06,  2.36it/s]"
     ]
    },
    {
     "name": "stdout",
     "output_type": "stream",
     "text": [
      "прокуратура москвы отказала собянину в праве на рекламу собянину сми\n"
     ]
    },
    {
     "name": "stderr",
     "output_type": "stream",
     "text": [
      " 73%|███████▎  | 2901/4000 [20:59<08:17,  2.21it/s]"
     ]
    },
    {
     "name": "stdout",
     "output_type": "stream",
     "text": [
      "мак: экипаж як-42 не был готов к полету в ярославле не готов\n"
     ]
    },
    {
     "name": "stderr",
     "output_type": "stream",
     "text": [
      "\r",
      " 73%|███████▎  | 2902/4000 [21:00<08:06,  2.26it/s]"
     ]
    },
    {
     "name": "stdout",
     "output_type": "stream",
     "text": [
      "экипаж як-42 отверг возможность прекращения взлета в том числе экипаж в \"локомотив\n"
     ]
    },
    {
     "name": "stderr",
     "output_type": "stream",
     "text": [
      " 74%|███████▍  | 2951/4000 [21:21<07:42,  2.27it/s]"
     ]
    },
    {
     "name": "stdout",
     "output_type": "stream",
     "text": [
      "украина отказалась от кредита россии на закупку газа сми киев киев\n"
     ]
    },
    {
     "name": "stderr",
     "output_type": "stream",
     "text": [
      "\r",
      " 74%|███████▍  | 2952/4000 [21:21<08:04,  2.16it/s]"
     ]
    },
    {
     "name": "stdout",
     "output_type": "stream",
     "text": [
      "украина отказалась от услуг \"газпрома\" москва и киева в киеве\n"
     ]
    },
    {
     "name": "stderr",
     "output_type": "stream",
     "text": [
      " 75%|███████▌  | 3001/4000 [21:44<07:17,  2.28it/s]"
     ]
    },
    {
     "name": "stdout",
     "output_type": "stream",
     "text": [
      "мособлдума приняла в i чтении законопроект об отзыве губернатора сми сми\n"
     ]
    },
    {
     "name": "stderr",
     "output_type": "stream",
     "text": [
      "\r",
      " 75%|███████▌  | 3002/4000 [21:44<07:11,  2.32it/s]"
     ]
    },
    {
     "name": "stdout",
     "output_type": "stream",
     "text": [
      "мособлдума одобрила отзыв губернатора подмосковья в первом чтении в третий раз\n"
     ]
    },
    {
     "name": "stderr",
     "output_type": "stream",
     "text": [
      " 76%|███████▋  | 3051/4000 [22:07<07:49,  2.02it/s]"
     ]
    },
    {
     "name": "stdout",
     "output_type": "stream",
     "text": [
      "ракета-носитель \"протон-м\" с арабским спутником стартовала с байконура\n"
     ]
    },
    {
     "name": "stderr",
     "output_type": "stream",
     "text": [
      "\r",
      " 76%|███████▋  | 3052/4000 [22:08<07:36,  2.08it/s]"
     ]
    },
    {
     "name": "stdout",
     "output_type": "stream",
     "text": [
      "с байконура стартовал \"протон-м\" с арабским спутником на борту\n"
     ]
    },
    {
     "name": "stderr",
     "output_type": "stream",
     "text": [
      " 78%|███████▊  | 3101/4000 [22:29<06:39,  2.25it/s]"
     ]
    },
    {
     "name": "stdout",
     "output_type": "stream",
     "text": [
      "цена на газ из рф не должна превышать 250 долларов - янукович киев\n"
     ]
    },
    {
     "name": "stderr",
     "output_type": "stream",
     "text": [
      "\r",
      " 78%|███████▊  | 3102/4000 [22:30<06:38,  2.25it/s]"
     ]
    },
    {
     "name": "stdout",
     "output_type": "stream",
     "text": [
      "янукович предложил снизить цену на газ для украины до 250 долларов сми\n"
     ]
    },
    {
     "name": "stderr",
     "output_type": "stream",
     "text": [
      " 79%|███████▉  | 3151/4000 [22:53<07:47,  1.82it/s]"
     ]
    },
    {
     "name": "stdout",
     "output_type": "stream",
     "text": [
      "адвокат ассанжа опроверг сообщения сми о его поездке в рф сми см\n"
     ]
    },
    {
     "name": "stderr",
     "output_type": "stream",
     "text": [
      "\r",
      " 79%|███████▉  | 3152/4000 [22:53<08:09,  1.73it/s]"
     ]
    },
    {
     "name": "stdout",
     "output_type": "stream",
     "text": [
      "ассанж согласился приехать в россию сми сми сми сми\n"
     ]
    },
    {
     "name": "stderr",
     "output_type": "stream",
     "text": [
      " 80%|████████  | 3201/4000 [23:18<07:17,  1.83it/s]"
     ]
    },
    {
     "name": "stdout",
     "output_type": "stream",
     "text": [
      "адвокат летчика ярошенко заявил, что находится в критическом состоянии сми\n"
     ]
    },
    {
     "name": "stderr",
     "output_type": "stream",
     "text": [
      "\r",
      " 80%|████████  | 3202/4000 [23:19<06:41,  1.99it/s]"
     ]
    },
    {
     "name": "stdout",
     "output_type": "stream",
     "text": [
      "российскому летчику ярошенко поставили диагноз в тюрьме сми сообщил адвокат\n"
     ]
    },
    {
     "name": "stderr",
     "output_type": "stream",
     "text": [
      " 81%|████████▏ | 3251/4000 [23:44<06:33,  1.90it/s]"
     ]
    },
    {
     "name": "stdout",
     "output_type": "stream",
     "text": [
      "торговые магазины на тверской улице могут лишиться статуса сми сми сми\n"
     ]
    },
    {
     "name": "stderr",
     "output_type": "stream",
     "text": [
      "\r",
      " 81%|████████▏ | 3252/4000 [23:45<07:21,  1.70it/s]"
     ]
    },
    {
     "name": "stdout",
     "output_type": "stream",
     "text": [
      "запрет на парковку в центре москвы привел к повышению выручки сми сми см\n"
     ]
    },
    {
     "name": "stderr",
     "output_type": "stream",
     "text": [
      " 83%|████████▎ | 3301/4000 [24:10<07:01,  1.66it/s]"
     ]
    },
    {
     "name": "stdout",
     "output_type": "stream",
     "text": [
      "бандиты захватили заложников в банке в аргентине полиция сообщают сми сми\n"
     ]
    },
    {
     "name": "stderr",
     "output_type": "stream",
     "text": [
      "\r",
      " 83%|████████▎ | 3302/4000 [24:11<06:57,  1.67it/s]"
     ]
    },
    {
     "name": "stdout",
     "output_type": "stream",
     "text": [
      "захватчик банка в аргентине сдался полиции полиция полиция сдался полиция полиция\n"
     ]
    },
    {
     "name": "stderr",
     "output_type": "stream",
     "text": [
      " 84%|████████▍ | 3351/4000 [24:35<06:50,  1.58it/s]"
     ]
    },
    {
     "name": "stdout",
     "output_type": "stream",
     "text": [
      "число погибших при пожаре в интернате в новгороде возросло до 7 сообщает мчс\n"
     ]
    },
    {
     "name": "stderr",
     "output_type": "stream",
     "text": [
      "\r",
      " 84%|████████▍ | 3352/4000 [24:36<07:27,  1.45it/s]"
     ]
    },
    {
     "name": "stdout",
     "output_type": "stream",
     "text": [
      "в новгородском интернате нашли тела шести погибших в сгоревшем интернате сообщили сми\n"
     ]
    },
    {
     "name": "stderr",
     "output_type": "stream",
     "text": [
      " 85%|████████▌ | 3401/4000 [25:04<06:05,  1.64it/s]"
     ]
    },
    {
     "name": "stdout",
     "output_type": "stream",
     "text": [
      "в днр раскритиковали указ порошенко об экономической блокадой сми сми\n"
     ]
    },
    {
     "name": "stderr",
     "output_type": "stream",
     "text": [
      "\r",
      " 85%|████████▌ | 3402/4000 [25:04<05:40,  1.75it/s]"
     ]
    },
    {
     "name": "stdout",
     "output_type": "stream",
     "text": [
      "в лнр назвали указ порошенко о экономической блокаде донбасса сми сми\n"
     ]
    },
    {
     "name": "stderr",
     "output_type": "stream",
     "text": [
      " 86%|████████▋ | 3451/4000 [25:30<04:25,  2.06it/s]"
     ]
    },
    {
     "name": "stdout",
     "output_type": "stream",
     "text": [
      "кадыров прибыл в саудовскую аравию с визитом в саудовскую аравию сми\n"
     ]
    },
    {
     "name": "stderr",
     "output_type": "stream",
     "text": [
      "\r",
      " 86%|████████▋ | 3452/4000 [25:31<05:00,  1.82it/s]"
     ]
    },
    {
     "name": "stdout",
     "output_type": "stream",
     "text": [
      "кадыров прилетел в саудовскую аравию для малого хаджа кадыров кадыров\n"
     ]
    },
    {
     "name": "stderr",
     "output_type": "stream",
     "text": [
      " 88%|████████▊ | 3501/4000 [25:56<04:46,  1.74it/s]"
     ]
    },
    {
     "name": "stdout",
     "output_type": "stream",
     "text": [
      "дело возбуждено по факту обстрела автобуса в иркутске возбуждено в мвд возбуждено\n"
     ]
    },
    {
     "name": "stderr",
     "output_type": "stream",
     "text": [
      "\r",
      " 88%|████████▊ | 3502/4000 [25:57<05:03,  1.64it/s]"
     ]
    },
    {
     "name": "stdout",
     "output_type": "stream",
     "text": [
      "по факту стрельбы в иркутске возбудили дело на водителя возбуждено дело в мвд\n"
     ]
    },
    {
     "name": "stderr",
     "output_type": "stream",
     "text": [
      " 89%|████████▉ | 3551/4000 [26:24<04:55,  1.52it/s]"
     ]
    },
    {
     "name": "stdout",
     "output_type": "stream",
     "text": [
      "фк \"спартак\" обыграл \"жилину\" в матче группового турнира лч\n"
     ]
    },
    {
     "name": "stderr",
     "output_type": "stream",
     "text": [
      "\r",
      " 89%|████████▉ | 3552/4000 [26:24<04:51,  1.54it/s]"
     ]
    },
    {
     "name": "stdout",
     "output_type": "stream",
     "text": [
      "\"спартак\" выбил \"челси\" из лиги чемпионов \"челси\"\n"
     ]
    },
    {
     "name": "stderr",
     "output_type": "stream",
     "text": [
      " 90%|█████████ | 3601/4000 [26:50<04:12,  1.58it/s]"
     ]
    },
    {
     "name": "stdout",
     "output_type": "stream",
     "text": [
      "власти литвы объявили траур в связи с беспорядками в киеве в киеве\n"
     ]
    },
    {
     "name": "stderr",
     "output_type": "stream",
     "text": [
      "\r",
      " 90%|█████████ | 3602/4000 [26:51<04:27,  1.49it/s]"
     ]
    },
    {
     "name": "stdout",
     "output_type": "stream",
     "text": [
      "на украине объявлен траур по погибшим в беспорядках в день беспорядков в киеве\n"
     ]
    },
    {
     "name": "stderr",
     "output_type": "stream",
     "text": [
      " 91%|█████████▏| 3651/4000 [27:23<03:54,  1.49it/s]"
     ]
    },
    {
     "name": "stdout",
     "output_type": "stream",
     "text": [
      "правительство рф одобрило закон о допуске иностранных пилотов в рф до 2019 г\n"
     ]
    },
    {
     "name": "stderr",
     "output_type": "stream",
     "text": [
      "\r",
      " 91%|█████████▏| 3652/4000 [27:23<03:44,  1.55it/s]"
     ]
    },
    {
     "name": "stdout",
     "output_type": "stream",
     "text": [
      "правительство разрешило иностранцам работать в российских самолетах в 2019 году в россии сми\n"
     ]
    },
    {
     "name": "stderr",
     "output_type": "stream",
     "text": [
      " 93%|█████████▎| 3701/4000 [27:54<02:59,  1.67it/s]"
     ]
    },
    {
     "name": "stdout",
     "output_type": "stream",
     "text": [
      "глава ск рф, подозреваемый в убийстве 8 человек, вылетел в ставрополь ск\n"
     ]
    },
    {
     "name": "stderr",
     "output_type": "stream",
     "text": [
      "\r",
      " 93%|█████████▎| 3702/4000 [27:54<02:58,  1.67it/s]"
     ]
    },
    {
     "name": "stdout",
     "output_type": "stream",
     "text": [
      "глава ск рф вылетел в ставрополь на расследование убийства в москве ск рф\n"
     ]
    },
    {
     "name": "stderr",
     "output_type": "stream",
     "text": [
      " 94%|█████████▍| 3751/4000 [28:27<02:47,  1.49it/s]"
     ]
    },
    {
     "name": "stdout",
     "output_type": "stream",
     "text": [
      "парламент таджикистана ужесточил правила перевода на русский в сми в рф\n"
     ]
    },
    {
     "name": "stderr",
     "output_type": "stream",
     "text": [
      "\r",
      " 94%|█████████▍| 3752/4000 [28:27<02:42,  1.53it/s]"
     ]
    },
    {
     "name": "stdout",
     "output_type": "stream",
     "text": [
      "в таджикистане запретили публиковать русский язык на русском языке в россии в\n"
     ]
    },
    {
     "name": "stderr",
     "output_type": "stream",
     "text": [
      " 95%|█████████▌| 3801/4000 [28:59<02:17,  1.45it/s]"
     ]
    },
    {
     "name": "stdout",
     "output_type": "stream",
     "text": [
      "янукович отказался участвовать в досрочных выборах главы украины в киеве сми\n"
     ]
    },
    {
     "name": "stderr",
     "output_type": "stream",
     "text": [
      "\r",
      " 95%|█████████▌| 3802/4000 [29:00<02:14,  1.47it/s]"
     ]
    },
    {
     "name": "stdout",
     "output_type": "stream",
     "text": [
      "янукович отказался участвовать в выборах президента украины президент власти в раде\n"
     ]
    },
    {
     "name": "stderr",
     "output_type": "stream",
     "text": [
      " 96%|█████████▋| 3851/4000 [29:25<01:40,  1.48it/s]"
     ]
    },
    {
     "name": "stdout",
     "output_type": "stream",
     "text": [
      "вторая сборная россии по футболу сыграет с литвой в грозном сообщает рфс\n"
     ]
    },
    {
     "name": "stderr",
     "output_type": "stream",
     "text": [
      "\r",
      " 96%|█████████▋| 3852/4000 [29:26<01:59,  1.24it/s]"
     ]
    },
    {
     "name": "stdout",
     "output_type": "stream",
     "text": [
      "вторая сборная россии по футболу сыграет с литвой в грозном в грозном\n"
     ]
    },
    {
     "name": "stderr",
     "output_type": "stream",
     "text": [
      " 98%|█████████▊| 3901/4000 [29:59<01:04,  1.54it/s]"
     ]
    },
    {
     "name": "stdout",
     "output_type": "stream",
     "text": [
      "водолазы пока не нашли тела погибших в сухогрузе \"амурская\" в охотском море\n"
     ]
    },
    {
     "name": "stderr",
     "output_type": "stream",
     "text": [
      "\r",
      " 98%|█████████▊| 3902/4000 [29:59<01:01,  1.60it/s]"
     ]
    },
    {
     "name": "stdout",
     "output_type": "stream",
     "text": [
      "в охотском море начались поиски пропавшего сухогруза завершена мчс мчс рф\n"
     ]
    },
    {
     "name": "stderr",
     "output_type": "stream",
     "text": [
      " 99%|█████████▉| 3951/4000 [30:31<00:33,  1.45it/s]"
     ]
    },
    {
     "name": "stdout",
     "output_type": "stream",
     "text": [
      "задолженность населения в сфере жкх в рф превышает 1,5 млрд руб в 2011 г\n"
     ]
    },
    {
     "name": "stderr",
     "output_type": "stream",
     "text": [
      "\r",
      " 99%|█████████▉| 3952/4000 [30:32<00:32,  1.50it/s]"
     ]
    },
    {
     "name": "stdout",
     "output_type": "stream",
     "text": [
      "задолженность населения в сфере жкх превысила миллиард рублей в ноябре в минрегионе в\n"
     ]
    },
    {
     "name": "stderr",
     "output_type": "stream",
     "text": [
      "100%|██████████| 4000/4000 [31:01<00:00,  2.15it/s]\n"
     ]
    }
   ],
   "source": [
    "with torch.no_grad():\n",
    "    ria_good = 0  # accuracy of generating ria from lenta\n",
    "    lenta_good = 0  # accuracy of generating lenta from ria\n",
    "    \n",
    "    ria_style_headlines = []\n",
    "    lenta_style_headlines = []\n",
    "\n",
    "    for i in tqdm.trange(len(dataset)):\n",
    "        x = dataset[i]\n",
    "        gen_ids = cross_model.generate(\n",
    "            input_ids=x['input_ids'].to(device).unsqueeze(0),\n",
    "            attention_mask=x['attention_mask'].to(device).unsqueeze(0),\n",
    "            decoder_start_token_id=cross_model.config.decoder.pad_token_id,\n",
    "            min_length=7,\n",
    "            max_length=20,\n",
    "            num_beams=6\n",
    "        )\n",
    "\n",
    "        gen_title = [tokenizer.decode(first_sent(x, tokenizer.sep_token_id), skip_special_tokens=True) \n",
    "                     for x in gen_ids][0]  \n",
    "        \n",
    "        if i % 50 in (0, 1):\n",
    "            print(gen_title)\n",
    "            \n",
    "        if i % 2 == 0:\n",
    "            ria_style_headlines.append(gen_title)\n",
    "        else:\n",
    "            lenta_style_headlines.append(gen_title)\n",
    "        \n",
    "        inp = tokenizer(gen_title, \n",
    "            add_special_tokens=True, max_length=48,\n",
    "            padding='max_length', truncation=True\n",
    "        )\n",
    "\n",
    "        logits = discriminator(input_ids=torch.LongTensor(inp['input_ids']).to(device).unsqueeze(0), \n",
    "                               attention_mask=torch.LongTensor(inp['attention_mask']).to(device).unsqueeze(0))[0]\n",
    "        pred = torch.argmax(logits).item()\n",
    "\n",
    "        if i % 2 == 0:\n",
    "            if pred == agency_to_discr_target['РИА Новости']:\n",
    "                ria_good += 1\n",
    "        else:\n",
    "            if pred == agency_to_discr_target['lenta.ru']:\n",
    "                lenta_good += 1"
   ]
  },
  {
   "cell_type": "code",
   "execution_count": 17,
   "id": "fourth-equivalent",
   "metadata": {},
   "outputs": [],
   "source": [
    "cross_ria_acc = ria_good / (len(dataset) / 2)\n",
    "cross_lenta_acc = lenta_good / (len(dataset) / 2)"
   ]
  },
  {
   "cell_type": "code",
   "execution_count": 18,
   "id": "curious-current",
   "metadata": {},
   "outputs": [
    {
     "data": {
      "text/plain": [
       "(0.9515, 0.3975)"
      ]
     },
     "execution_count": 18,
     "metadata": {},
     "output_type": "execute_result"
    }
   ],
   "source": [
    "cross_ria_acc, cross_lenta_acc"
   ]
  },
  {
   "cell_type": "markdown",
   "id": "sticky-impossible",
   "metadata": {},
   "source": [
    "## Explaining over generated headlines"
   ]
  },
  {
   "cell_type": "code",
   "execution_count": 19,
   "id": "front-footage",
   "metadata": {},
   "outputs": [],
   "source": [
    "from transformers_interpret import SequenceClassificationExplainer"
   ]
  },
  {
   "cell_type": "code",
   "execution_count": 20,
   "id": "noted-knitting",
   "metadata": {},
   "outputs": [],
   "source": [
    "agency_list = [\"РИА Новости\", \"lenta.ru\"]\n",
    "\n",
    "agency_to_discr_target = {a: i for i, a in enumerate(sorted(agency_list))}\n",
    "discr_target_to_agency = {v: k for k, v in agency_to_discr_target.items()}\n",
    "\n",
    "cname_to_agency = { \n",
    "    f'LABEL_{i}': discr_target_to_agency[i] for i in range(len(agency_list))\n",
    "}"
   ]
  },
  {
   "cell_type": "code",
   "execution_count": 21,
   "id": "assumed-debut",
   "metadata": {},
   "outputs": [],
   "source": [
    "def extract_top_n_words(res, percentile=85, n=20):\n",
    "    p = np.percentile([x[1] for x in res], percentile)\n",
    "    top_tokens = [x[0] for x in res if x[1] >= p]\n",
    "    return Counter(top_tokens).most_common(n)"
   ]
  },
  {
   "cell_type": "code",
   "execution_count": 22,
   "id": "linear-sleeping",
   "metadata": {},
   "outputs": [],
   "source": [
    "cls_explainer = SequenceClassificationExplainer(discriminator, tokenizer)"
   ]
  },
  {
   "cell_type": "code",
   "execution_count": 23,
   "id": "interim-findings",
   "metadata": {},
   "outputs": [
    {
     "name": "stderr",
     "output_type": "stream",
     "text": [
      " 30%|██▉       | 592/2000 [03:09<07:29,  3.13it/s]\n"
     ]
    },
    {
     "ename": "KeyboardInterrupt",
     "evalue": "",
     "output_type": "error",
     "traceback": [
      "\u001b[0;31m---------------------------------------------------------------------------\u001b[0m",
      "\u001b[0;31mKeyboardInterrupt\u001b[0m                         Traceback (most recent call last)",
      "\u001b[0;32m<ipython-input-23-e7ce4c272318>\u001b[0m in \u001b[0;36m<module>\u001b[0;34m\u001b[0m\n\u001b[1;32m      3\u001b[0m \u001b[0;34m\u001b[0m\u001b[0m\n\u001b[1;32m      4\u001b[0m \u001b[0;32mfor\u001b[0m \u001b[0mr\u001b[0m \u001b[0;32min\u001b[0m \u001b[0mtqdm\u001b[0m\u001b[0;34m.\u001b[0m\u001b[0mtqdm\u001b[0m\u001b[0;34m(\u001b[0m\u001b[0mlenta_style_headlines\u001b[0m\u001b[0;34m,\u001b[0m \u001b[0mtotal\u001b[0m\u001b[0;34m=\u001b[0m\u001b[0mlen\u001b[0m\u001b[0;34m(\u001b[0m\u001b[0mlenta_style_headlines\u001b[0m\u001b[0;34m)\u001b[0m\u001b[0;34m)\u001b[0m\u001b[0;34m:\u001b[0m\u001b[0;34m\u001b[0m\u001b[0;34m\u001b[0m\u001b[0m\n\u001b[0;32m----> 5\u001b[0;31m     \u001b[0mval\u001b[0m \u001b[0;34m=\u001b[0m \u001b[0mcls_explainer\u001b[0m\u001b[0;34m(\u001b[0m\u001b[0mr\u001b[0m\u001b[0;34m.\u001b[0m\u001b[0mlower\u001b[0m\u001b[0;34m(\u001b[0m\u001b[0;34m)\u001b[0m\u001b[0;34m)\u001b[0m\u001b[0;34m\u001b[0m\u001b[0;34m\u001b[0m\u001b[0m\n\u001b[0m\u001b[1;32m      6\u001b[0m \u001b[0;34m\u001b[0m\u001b[0m\n\u001b[1;32m      7\u001b[0m     \u001b[0;32mif\u001b[0m \u001b[0mcname_to_agency\u001b[0m\u001b[0;34m[\u001b[0m\u001b[0mcls_explainer\u001b[0m\u001b[0;34m.\u001b[0m\u001b[0mpredicted_class_name\u001b[0m\u001b[0;34m]\u001b[0m \u001b[0;34m==\u001b[0m \u001b[0;34m'lenta.ru'\u001b[0m\u001b[0;34m:\u001b[0m\u001b[0;34m\u001b[0m\u001b[0;34m\u001b[0m\u001b[0m\n",
      "\u001b[0;32m~/.local/lib/python3.8/site-packages/transformers_interpret/explainers/sequence_classification.py\u001b[0m in \u001b[0;36m__call__\u001b[0;34m(self, text, index, class_name, embedding_type)\u001b[0m\n\u001b[1;32m    274\u001b[0m             \u001b[0mlist\u001b[0m\u001b[0;34m:\u001b[0m \u001b[0mList\u001b[0m \u001b[0mof\u001b[0m \u001b[0mtuples\u001b[0m \u001b[0mcontaining\u001b[0m \u001b[0mwords\u001b[0m \u001b[0;32mand\u001b[0m \u001b[0mtheir\u001b[0m \u001b[0massociated\u001b[0m \u001b[0mattribution\u001b[0m \u001b[0mscores\u001b[0m\u001b[0;34m.\u001b[0m\u001b[0;34m\u001b[0m\u001b[0;34m\u001b[0m\u001b[0m\n\u001b[1;32m    275\u001b[0m         \"\"\"\n\u001b[0;32m--> 276\u001b[0;31m         \u001b[0;32mreturn\u001b[0m \u001b[0mself\u001b[0m\u001b[0;34m.\u001b[0m\u001b[0m_run\u001b[0m\u001b[0;34m(\u001b[0m\u001b[0mtext\u001b[0m\u001b[0;34m,\u001b[0m \u001b[0mindex\u001b[0m\u001b[0;34m,\u001b[0m \u001b[0mclass_name\u001b[0m\u001b[0;34m,\u001b[0m \u001b[0membedding_type\u001b[0m\u001b[0;34m=\u001b[0m\u001b[0membedding_type\u001b[0m\u001b[0;34m)\u001b[0m\u001b[0;34m\u001b[0m\u001b[0;34m\u001b[0m\u001b[0m\n\u001b[0m\u001b[1;32m    277\u001b[0m \u001b[0;34m\u001b[0m\u001b[0m\n\u001b[1;32m    278\u001b[0m     \u001b[0;32mdef\u001b[0m \u001b[0m__str__\u001b[0m\u001b[0;34m(\u001b[0m\u001b[0mself\u001b[0m\u001b[0;34m)\u001b[0m\u001b[0;34m:\u001b[0m\u001b[0;34m\u001b[0m\u001b[0;34m\u001b[0m\u001b[0m\n",
      "\u001b[0;32m~/.local/lib/python3.8/site-packages/transformers_interpret/explainers/sequence_classification.py\u001b[0m in \u001b[0;36m_run\u001b[0;34m(self, text, index, class_name, embedding_type)\u001b[0m\n\u001b[1;32m    239\u001b[0m         \u001b[0mself\u001b[0m\u001b[0;34m.\u001b[0m\u001b[0mtext\u001b[0m \u001b[0;34m=\u001b[0m \u001b[0mself\u001b[0m\u001b[0;34m.\u001b[0m\u001b[0m_clean_text\u001b[0m\u001b[0;34m(\u001b[0m\u001b[0mtext\u001b[0m\u001b[0;34m)\u001b[0m\u001b[0;34m\u001b[0m\u001b[0;34m\u001b[0m\u001b[0m\n\u001b[1;32m    240\u001b[0m \u001b[0;34m\u001b[0m\u001b[0m\n\u001b[0;32m--> 241\u001b[0;31m         self._calculate_attributions(\n\u001b[0m\u001b[1;32m    242\u001b[0m             \u001b[0membeddings\u001b[0m\u001b[0;34m=\u001b[0m\u001b[0membeddings\u001b[0m\u001b[0;34m,\u001b[0m \u001b[0mindex\u001b[0m\u001b[0;34m=\u001b[0m\u001b[0mindex\u001b[0m\u001b[0;34m,\u001b[0m \u001b[0mclass_name\u001b[0m\u001b[0;34m=\u001b[0m\u001b[0mclass_name\u001b[0m\u001b[0;34m\u001b[0m\u001b[0;34m\u001b[0m\u001b[0m\n\u001b[1;32m    243\u001b[0m         )\n",
      "\u001b[0;32m~/.local/lib/python3.8/site-packages/transformers_interpret/explainers/sequence_classification.py\u001b[0m in \u001b[0;36m_calculate_attributions\u001b[0;34m(self, embeddings, index, class_name)\u001b[0m\n\u001b[1;32m    200\u001b[0m                 \u001b[0mtoken\u001b[0m\u001b[0;34m.\u001b[0m\u001b[0mreplace\u001b[0m\u001b[0;34m(\u001b[0m\u001b[0;34m\"Ġ\"\u001b[0m\u001b[0;34m,\u001b[0m \u001b[0;34m\"\"\u001b[0m\u001b[0;34m)\u001b[0m \u001b[0;32mfor\u001b[0m \u001b[0mtoken\u001b[0m \u001b[0;32min\u001b[0m \u001b[0mself\u001b[0m\u001b[0;34m.\u001b[0m\u001b[0mdecode\u001b[0m\u001b[0;34m(\u001b[0m\u001b[0mself\u001b[0m\u001b[0;34m.\u001b[0m\u001b[0minput_ids\u001b[0m\u001b[0;34m)\u001b[0m\u001b[0;34m\u001b[0m\u001b[0;34m\u001b[0m\u001b[0m\n\u001b[1;32m    201\u001b[0m             ]\n\u001b[0;32m--> 202\u001b[0;31m             lig = LIGAttributions(\n\u001b[0m\u001b[1;32m    203\u001b[0m                 \u001b[0mself\u001b[0m\u001b[0;34m.\u001b[0m\u001b[0m_forward\u001b[0m\u001b[0;34m,\u001b[0m\u001b[0;34m\u001b[0m\u001b[0;34m\u001b[0m\u001b[0m\n\u001b[1;32m    204\u001b[0m                 \u001b[0membeddings\u001b[0m\u001b[0;34m,\u001b[0m\u001b[0;34m\u001b[0m\u001b[0;34m\u001b[0m\u001b[0m\n",
      "\u001b[0;32m~/.local/lib/python3.8/site-packages/transformers_interpret/attributions.py\u001b[0m in \u001b[0;36m__init__\u001b[0;34m(self, custom_forward, embeddings, tokens, input_ids, ref_input_ids, sep_id, attention_mask, token_type_ids, position_ids, ref_token_type_ids, ref_position_ids)\u001b[0m\n\u001b[1;32m     60\u001b[0m             )\n\u001b[1;32m     61\u001b[0m         \u001b[0;32melif\u001b[0m \u001b[0mself\u001b[0m\u001b[0;34m.\u001b[0m\u001b[0mposition_ids\u001b[0m \u001b[0;32mis\u001b[0m \u001b[0;32mnot\u001b[0m \u001b[0;32mNone\u001b[0m\u001b[0;34m:\u001b[0m\u001b[0;34m\u001b[0m\u001b[0;34m\u001b[0m\u001b[0m\n\u001b[0;32m---> 62\u001b[0;31m             self._attributions, self.delta = self.lig.attribute(\n\u001b[0m\u001b[1;32m     63\u001b[0m                 \u001b[0minputs\u001b[0m\u001b[0;34m=\u001b[0m\u001b[0;34m(\u001b[0m\u001b[0mself\u001b[0m\u001b[0;34m.\u001b[0m\u001b[0minput_ids\u001b[0m\u001b[0;34m,\u001b[0m \u001b[0mself\u001b[0m\u001b[0;34m.\u001b[0m\u001b[0mposition_ids\u001b[0m\u001b[0;34m)\u001b[0m\u001b[0;34m,\u001b[0m\u001b[0;34m\u001b[0m\u001b[0;34m\u001b[0m\u001b[0m\n\u001b[1;32m     64\u001b[0m                 baselines=(\n",
      "\u001b[0;32m~/.local/lib/python3.8/site-packages/captum/log/__init__.py\u001b[0m in \u001b[0;36mwrapper\u001b[0;34m(*args, **kwargs)\u001b[0m\n\u001b[1;32m     33\u001b[0m             \u001b[0;34m@\u001b[0m\u001b[0mwraps\u001b[0m\u001b[0;34m(\u001b[0m\u001b[0mfunc\u001b[0m\u001b[0;34m)\u001b[0m\u001b[0;34m\u001b[0m\u001b[0;34m\u001b[0m\u001b[0m\n\u001b[1;32m     34\u001b[0m             \u001b[0;32mdef\u001b[0m \u001b[0mwrapper\u001b[0m\u001b[0;34m(\u001b[0m\u001b[0;34m*\u001b[0m\u001b[0margs\u001b[0m\u001b[0;34m,\u001b[0m \u001b[0;34m**\u001b[0m\u001b[0mkwargs\u001b[0m\u001b[0;34m)\u001b[0m\u001b[0;34m:\u001b[0m\u001b[0;34m\u001b[0m\u001b[0;34m\u001b[0m\u001b[0m\n\u001b[0;32m---> 35\u001b[0;31m                 \u001b[0;32mreturn\u001b[0m \u001b[0mfunc\u001b[0m\u001b[0;34m(\u001b[0m\u001b[0;34m*\u001b[0m\u001b[0margs\u001b[0m\u001b[0;34m,\u001b[0m \u001b[0;34m**\u001b[0m\u001b[0mkwargs\u001b[0m\u001b[0;34m)\u001b[0m\u001b[0;34m\u001b[0m\u001b[0;34m\u001b[0m\u001b[0m\n\u001b[0m\u001b[1;32m     36\u001b[0m \u001b[0;34m\u001b[0m\u001b[0m\n\u001b[1;32m     37\u001b[0m             \u001b[0;32mreturn\u001b[0m \u001b[0mwrapper\u001b[0m\u001b[0;34m\u001b[0m\u001b[0;34m\u001b[0m\u001b[0m\n",
      "\u001b[0;32m~/.local/lib/python3.8/site-packages/captum/attr/_core/layer/layer_integrated_gradients.py\u001b[0m in \u001b[0;36mattribute\u001b[0;34m(self, inputs, baselines, target, additional_forward_args, n_steps, method, internal_batch_size, return_convergence_delta, attribute_to_layer_input)\u001b[0m\n\u001b[1;32m    487\u001b[0m         )\n\u001b[1;32m    488\u001b[0m \u001b[0;34m\u001b[0m\u001b[0m\n\u001b[0;32m--> 489\u001b[0;31m         attributions = self.ig.attribute.__wrapped__(  # type: ignore\n\u001b[0m\u001b[1;32m    490\u001b[0m             \u001b[0mself\u001b[0m\u001b[0;34m.\u001b[0m\u001b[0mig\u001b[0m\u001b[0;34m,\u001b[0m  \u001b[0;31m# self\u001b[0m\u001b[0;34m\u001b[0m\u001b[0;34m\u001b[0m\u001b[0m\n\u001b[1;32m    491\u001b[0m             \u001b[0minputs_layer\u001b[0m\u001b[0;34m,\u001b[0m\u001b[0;34m\u001b[0m\u001b[0;34m\u001b[0m\u001b[0m\n",
      "\u001b[0;32m~/.local/lib/python3.8/site-packages/captum/attr/_core/integrated_gradients.py\u001b[0m in \u001b[0;36mattribute\u001b[0;34m(self, inputs, baselines, target, additional_forward_args, n_steps, method, internal_batch_size, return_convergence_delta)\u001b[0m\n\u001b[1;32m    284\u001b[0m             )\n\u001b[1;32m    285\u001b[0m         \u001b[0;32melse\u001b[0m\u001b[0;34m:\u001b[0m\u001b[0;34m\u001b[0m\u001b[0;34m\u001b[0m\u001b[0m\n\u001b[0;32m--> 286\u001b[0;31m             attributions = self._attribute(\n\u001b[0m\u001b[1;32m    287\u001b[0m                 \u001b[0minputs\u001b[0m\u001b[0;34m=\u001b[0m\u001b[0minputs\u001b[0m\u001b[0;34m,\u001b[0m\u001b[0;34m\u001b[0m\u001b[0;34m\u001b[0m\u001b[0m\n\u001b[1;32m    288\u001b[0m                 \u001b[0mbaselines\u001b[0m\u001b[0;34m=\u001b[0m\u001b[0mbaselines\u001b[0m\u001b[0;34m,\u001b[0m\u001b[0;34m\u001b[0m\u001b[0;34m\u001b[0m\u001b[0m\n",
      "\u001b[0;32m~/.local/lib/python3.8/site-packages/captum/attr/_core/integrated_gradients.py\u001b[0m in \u001b[0;36m_attribute\u001b[0;34m(self, inputs, baselines, target, additional_forward_args, n_steps, method, step_sizes_and_alphas)\u001b[0m\n\u001b[1;32m    358\u001b[0m         \u001b[0;31m# flattening grads so that we can multilpy it with step-size\u001b[0m\u001b[0;34m\u001b[0m\u001b[0;34m\u001b[0m\u001b[0;34m\u001b[0m\u001b[0m\n\u001b[1;32m    359\u001b[0m         \u001b[0;31m# calling contiguous to avoid `memory whole` problems\u001b[0m\u001b[0;34m\u001b[0m\u001b[0;34m\u001b[0m\u001b[0;34m\u001b[0m\u001b[0m\n\u001b[0;32m--> 360\u001b[0;31m         scaled_grads = [\n\u001b[0m\u001b[1;32m    361\u001b[0m             \u001b[0mgrad\u001b[0m\u001b[0;34m.\u001b[0m\u001b[0mcontiguous\u001b[0m\u001b[0;34m(\u001b[0m\u001b[0;34m)\u001b[0m\u001b[0;34m.\u001b[0m\u001b[0mview\u001b[0m\u001b[0;34m(\u001b[0m\u001b[0mn_steps\u001b[0m\u001b[0;34m,\u001b[0m \u001b[0;34m-\u001b[0m\u001b[0;36m1\u001b[0m\u001b[0;34m)\u001b[0m\u001b[0;34m\u001b[0m\u001b[0;34m\u001b[0m\u001b[0m\n\u001b[1;32m    362\u001b[0m             \u001b[0;34m*\u001b[0m \u001b[0mtorch\u001b[0m\u001b[0;34m.\u001b[0m\u001b[0mtensor\u001b[0m\u001b[0;34m(\u001b[0m\u001b[0mstep_sizes\u001b[0m\u001b[0;34m)\u001b[0m\u001b[0;34m.\u001b[0m\u001b[0mview\u001b[0m\u001b[0;34m(\u001b[0m\u001b[0mn_steps\u001b[0m\u001b[0;34m,\u001b[0m \u001b[0;36m1\u001b[0m\u001b[0;34m)\u001b[0m\u001b[0;34m.\u001b[0m\u001b[0mto\u001b[0m\u001b[0;34m(\u001b[0m\u001b[0mgrad\u001b[0m\u001b[0;34m.\u001b[0m\u001b[0mdevice\u001b[0m\u001b[0;34m)\u001b[0m\u001b[0;34m\u001b[0m\u001b[0;34m\u001b[0m\u001b[0m\n",
      "\u001b[0;32m~/.local/lib/python3.8/site-packages/captum/attr/_core/integrated_gradients.py\u001b[0m in \u001b[0;36m<listcomp>\u001b[0;34m(.0)\u001b[0m\n\u001b[1;32m    360\u001b[0m         scaled_grads = [\n\u001b[1;32m    361\u001b[0m             \u001b[0mgrad\u001b[0m\u001b[0;34m.\u001b[0m\u001b[0mcontiguous\u001b[0m\u001b[0;34m(\u001b[0m\u001b[0;34m)\u001b[0m\u001b[0;34m.\u001b[0m\u001b[0mview\u001b[0m\u001b[0;34m(\u001b[0m\u001b[0mn_steps\u001b[0m\u001b[0;34m,\u001b[0m \u001b[0;34m-\u001b[0m\u001b[0;36m1\u001b[0m\u001b[0;34m)\u001b[0m\u001b[0;34m\u001b[0m\u001b[0;34m\u001b[0m\u001b[0m\n\u001b[0;32m--> 362\u001b[0;31m             \u001b[0;34m*\u001b[0m \u001b[0mtorch\u001b[0m\u001b[0;34m.\u001b[0m\u001b[0mtensor\u001b[0m\u001b[0;34m(\u001b[0m\u001b[0mstep_sizes\u001b[0m\u001b[0;34m)\u001b[0m\u001b[0;34m.\u001b[0m\u001b[0mview\u001b[0m\u001b[0;34m(\u001b[0m\u001b[0mn_steps\u001b[0m\u001b[0;34m,\u001b[0m \u001b[0;36m1\u001b[0m\u001b[0;34m)\u001b[0m\u001b[0;34m.\u001b[0m\u001b[0mto\u001b[0m\u001b[0;34m(\u001b[0m\u001b[0mgrad\u001b[0m\u001b[0;34m.\u001b[0m\u001b[0mdevice\u001b[0m\u001b[0;34m)\u001b[0m\u001b[0;34m\u001b[0m\u001b[0;34m\u001b[0m\u001b[0m\n\u001b[0m\u001b[1;32m    363\u001b[0m             \u001b[0;32mfor\u001b[0m \u001b[0mgrad\u001b[0m \u001b[0;32min\u001b[0m \u001b[0mgrads\u001b[0m\u001b[0;34m\u001b[0m\u001b[0;34m\u001b[0m\u001b[0m\n\u001b[1;32m    364\u001b[0m         ]\n",
      "\u001b[0;31mKeyboardInterrupt\u001b[0m: "
     ]
    }
   ],
   "source": [
    "lenta_results = []\n",
    "lenta_pred_cnt = 0\n",
    "\n",
    "for r in tqdm.tqdm(lenta_style_headlines, total=len(lenta_style_headlines)):\n",
    "    val = cls_explainer(r.lower())\n",
    "    \n",
    "    if cname_to_agency[cls_explainer.predicted_class_name] == 'lenta.ru':\n",
    "        lenta_pred_cnt += 1\n",
    "        lenta_results.extend(val)\n"
   ]
  },
  {
   "cell_type": "code",
   "execution_count": null,
   "id": "coordinate-testimony",
   "metadata": {},
   "outputs": [],
   "source": [
    "print(f'Lenta accuracy: {lenta_pred_cnt / len(lenta_style_headlines):.2f}')"
   ]
  },
  {
   "cell_type": "code",
   "execution_count": null,
   "id": "ahead-permission",
   "metadata": {},
   "outputs": [],
   "source": [
    "ria_results = []\n",
    "ria_pred_cnt = 0\n",
    "\n",
    "for r in tqdm.tqdm(ria_style_headlines, total=len(ria_style_headlines)):\n",
    "    val = cls_explainer(r.lower())\n",
    "    if cname_to_agency[cls_explainer.predicted_class_name] == 'РИА Новости':\n",
    "        ria_pred_cnt += 1\n",
    "        ria_results.extend(val)\n"
   ]
  },
  {
   "cell_type": "code",
   "execution_count": null,
   "id": "bizarre-rental",
   "metadata": {},
   "outputs": [],
   "source": [
    "print('RIA accuracy:', round(ria_pred_cnt / len(ria_style_headlines), 2))"
   ]
  },
  {
   "cell_type": "code",
   "execution_count": null,
   "id": "premium-insight",
   "metadata": {},
   "outputs": [],
   "source": [
    "lenta_results = [(a, b) for a, b in lenta_results if a not in ['[CLS]', '[SEP]']]\n",
    "ria_results = [(a, b) for a, b in ria_results if a not in ['[CLS]', '[SEP]']]"
   ]
  },
  {
   "cell_type": "code",
   "execution_count": null,
   "id": "confidential-edgar",
   "metadata": {},
   "outputs": [],
   "source": [
    "from collections import Counter"
   ]
  },
  {
   "cell_type": "code",
   "execution_count": null,
   "id": "blind-rabbit",
   "metadata": {},
   "outputs": [],
   "source": [
    "extract_top_n_words(lenta_results)"
   ]
  },
  {
   "cell_type": "code",
   "execution_count": null,
   "id": "lucky-judge",
   "metadata": {},
   "outputs": [],
   "source": [
    "extract_top_n_words([(x[0], -x[1]) for x in lenta_results])"
   ]
  },
  {
   "cell_type": "code",
   "execution_count": null,
   "id": "tested-selection",
   "metadata": {},
   "outputs": [],
   "source": [
    "extract_top_n_words(ria_results)"
   ]
  },
  {
   "cell_type": "code",
   "execution_count": null,
   "id": "blond-agent",
   "metadata": {},
   "outputs": [],
   "source": [
    "extract_top_n_words([(x[0], -x[1]) for x in ria_results])"
   ]
  },
  {
   "cell_type": "markdown",
   "id": "graduate-revelation",
   "metadata": {},
   "source": [
    "## BACKLOG"
   ]
  },
  {
   "cell_type": "code",
   "execution_count": null,
   "id": "immediate-background",
   "metadata": {},
   "outputs": [],
   "source": []
  },
  {
   "cell_type": "code",
   "execution_count": null,
   "id": "inside-electricity",
   "metadata": {},
   "outputs": [],
   "source": []
  },
  {
   "cell_type": "code",
   "execution_count": 13,
   "id": "acute-validity",
   "metadata": {},
   "outputs": [
    {
     "data": {
      "text/html": [
       "<div>\n",
       "<style scoped>\n",
       "    .dataframe tbody tr th:only-of-type {\n",
       "        vertical-align: middle;\n",
       "    }\n",
       "\n",
       "    .dataframe tbody tr th {\n",
       "        vertical-align: top;\n",
       "    }\n",
       "\n",
       "    .dataframe thead th {\n",
       "        text-align: right;\n",
       "    }\n",
       "</style>\n",
       "<table border=\"1\" class=\"dataframe\">\n",
       "  <thead>\n",
       "    <tr style=\"text-align: right;\">\n",
       "      <th></th>\n",
       "      <th>Data</th>\n",
       "      <th>РИА Новости</th>\n",
       "      <th>lenta.ru</th>\n",
       "    </tr>\n",
       "  </thead>\n",
       "  <tbody>\n",
       "    <tr>\n",
       "      <th>0</th>\n",
       "      <td>RIA</td>\n",
       "      <td>0.935</td>\n",
       "      <td>0.054</td>\n",
       "    </tr>\n",
       "    <tr>\n",
       "      <th>1</th>\n",
       "      <td>Lenta</td>\n",
       "      <td>0.426</td>\n",
       "      <td>0.609</td>\n",
       "    </tr>\n",
       "    <tr>\n",
       "      <th>2</th>\n",
       "      <td>Other</td>\n",
       "      <td>0.808</td>\n",
       "      <td>0.207</td>\n",
       "    </tr>\n",
       "  </tbody>\n",
       "</table>\n",
       "</div>"
      ],
      "text/plain": [
       "    Data  РИА Новости  lenta.ru\n",
       "0    RIA        0.935     0.054\n",
       "1  Lenta        0.426     0.609\n",
       "2  Other        0.808     0.207"
      ]
     },
     "execution_count": 13,
     "metadata": {},
     "output_type": "execute_result"
    }
   ],
   "source": [
    "df = pd.DataFrame(columns=['Data'] + agency_list)\n",
    "\n",
    "for i, dataset_name in enumerate(('RIA', 'Lenta', 'Other')):\n",
    "    row = {'Data': dataset_name}\n",
    "    for j, a in enumerate(agency_list):\n",
    "        row[a] = result[i][j]      \n",
    "    df = df.append(row, ignore_index=True)\n",
    "df"
   ]
  },
  {
   "cell_type": "code",
   "execution_count": 14,
   "id": "necessary-novelty",
   "metadata": {},
   "outputs": [],
   "source": [
    "df.index = df.Data"
   ]
  },
  {
   "cell_type": "code",
   "execution_count": 15,
   "id": "bright-career",
   "metadata": {},
   "outputs": [],
   "source": [
    "df.drop('Data', axis=1, inplace=True)"
   ]
  },
  {
   "cell_type": "code",
   "execution_count": 16,
   "id": "annual-darwin",
   "metadata": {},
   "outputs": [
    {
     "data": {
      "text/html": [
       "<div>\n",
       "<style scoped>\n",
       "    .dataframe tbody tr th:only-of-type {\n",
       "        vertical-align: middle;\n",
       "    }\n",
       "\n",
       "    .dataframe tbody tr th {\n",
       "        vertical-align: top;\n",
       "    }\n",
       "\n",
       "    .dataframe thead th {\n",
       "        text-align: right;\n",
       "    }\n",
       "</style>\n",
       "<table border=\"1\" class=\"dataframe\">\n",
       "  <thead>\n",
       "    <tr style=\"text-align: right;\">\n",
       "      <th></th>\n",
       "      <th>РИА Новости</th>\n",
       "      <th>lenta.ru</th>\n",
       "    </tr>\n",
       "    <tr>\n",
       "      <th>Data</th>\n",
       "      <th></th>\n",
       "      <th></th>\n",
       "    </tr>\n",
       "  </thead>\n",
       "  <tbody>\n",
       "    <tr>\n",
       "      <th>RIA</th>\n",
       "      <td>0.94</td>\n",
       "      <td>0.05</td>\n",
       "    </tr>\n",
       "    <tr>\n",
       "      <th>Lenta</th>\n",
       "      <td>0.43</td>\n",
       "      <td>0.61</td>\n",
       "    </tr>\n",
       "    <tr>\n",
       "      <th>Other</th>\n",
       "      <td>0.81</td>\n",
       "      <td>0.21</td>\n",
       "    </tr>\n",
       "  </tbody>\n",
       "</table>\n",
       "</div>"
      ],
      "text/plain": [
       "       РИА Новости  lenta.ru\n",
       "Data                        \n",
       "RIA           0.94      0.05\n",
       "Lenta         0.43      0.61\n",
       "Other         0.81      0.21"
      ]
     },
     "execution_count": 16,
     "metadata": {},
     "output_type": "execute_result"
    }
   ],
   "source": [
    "df.round(2)"
   ]
  }
 ],
 "metadata": {
  "kernelspec": {
   "display_name": "Python 3",
   "language": "python",
   "name": "python3"
  },
  "language_info": {
   "codemirror_mode": {
    "name": "ipython",
    "version": 3
   },
   "file_extension": ".py",
   "mimetype": "text/x-python",
   "name": "python",
   "nbconvert_exporter": "python",
   "pygments_lexer": "ipython3",
   "version": "3.8.5"
  }
 },
 "nbformat": 4,
 "nbformat_minor": 5
}
