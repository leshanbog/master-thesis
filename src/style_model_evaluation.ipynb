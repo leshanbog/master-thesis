{
 "cells": [
  {
   "cell_type": "code",
   "execution_count": 1,
   "id": "sophisticated-exposure",
   "metadata": {},
   "outputs": [],
   "source": [
    "import tqdm\n",
    "import numpy as np\n",
    "import pandas as pd\n",
    "import torch\n",
    "from collections import defaultdict\n",
    "from transformers import AutoTokenizer, EncoderDecoderModel, AutoModelForSequenceClassification\n",
    "\n",
    "\n",
    "from readers.tg_reader import tg_reader\n",
    "from custom_datasets.agency_title_dataset import AgencyTitleDatasetGeneration"
   ]
  },
  {
   "cell_type": "code",
   "execution_count": 2,
   "id": "beautiful-bronze",
   "metadata": {},
   "outputs": [],
   "source": [
    "tokenizer_path = '/home/aobuhtijarov/models/rubert_cased_L-12_H-768_A-12_pt/'\n",
    "\n",
    "model_path = '/home/aobuhtijarov/models/style_gen_title_from_pretrained/checkpoint-5000/'\n",
    "discr_model_path = '/home/aobuhtijarov/models/agency_discriminator/checkpoint-3000/'\n",
    "\n",
    "test_data = '/home/aobuhtijarov/datasets/telegram_news/ru_tg_0511_0517.jsonl'"
   ]
  },
  {
   "cell_type": "code",
   "execution_count": 3,
   "id": "innocent-class",
   "metadata": {},
   "outputs": [],
   "source": [
    "tokenizer = AutoTokenizer.from_pretrained(tokenizer_path, do_lower_case=False)"
   ]
  },
  {
   "cell_type": "code",
   "execution_count": 4,
   "id": "normal-kenya",
   "metadata": {},
   "outputs": [],
   "source": [
    "model = EncoderDecoderModel.from_pretrained(model_path)\n",
    "model.cuda();"
   ]
  },
  {
   "cell_type": "code",
   "execution_count": 5,
   "id": "hairy-failing",
   "metadata": {},
   "outputs": [],
   "source": [
    "discriminator = AutoModelForSequenceClassification.from_pretrained(discr_model_path)\n",
    "discriminator.cuda();"
   ]
  },
  {
   "cell_type": "code",
   "execution_count": 6,
   "id": "municipal-story",
   "metadata": {},
   "outputs": [
    {
     "name": "stderr",
     "output_type": "stream",
     "text": [
      "120050it [01:26, 1392.31it/s]\n"
     ]
    }
   ],
   "source": [
    "test_records = [r for r in tqdm.tqdm(tg_reader(test_data))]"
   ]
  },
  {
   "cell_type": "code",
   "execution_count": 7,
   "id": "horizontal-cleanup",
   "metadata": {},
   "outputs": [
    {
     "data": {
      "text/plain": [
       "120050"
      ]
     },
     "execution_count": 7,
     "metadata": {},
     "output_type": "execute_result"
    }
   ],
   "source": [
    "len(test_records)"
   ]
  },
  {
   "cell_type": "code",
   "execution_count": 8,
   "id": "organizational-station",
   "metadata": {},
   "outputs": [],
   "source": [
    "agency_list = [\"ТАСС\", \"RT на русском\", \"lenta.ru\"]\n",
    "agency_to_special_token_id = {a: tokenizer.vocab[f'[unused{i+1}]'] for i, a in enumerate(agency_list)}\n",
    "agency_to_discr_target = {a: i for i, a in enumerate(sorted(agency_list))}"
   ]
  },
  {
   "cell_type": "code",
   "execution_count": 9,
   "id": "pressing-default",
   "metadata": {},
   "outputs": [],
   "source": [
    "tass_data = AgencyTitleDatasetGeneration(test_records, tokenizer, filter_agencies=[\"ТАСС\"], \n",
    "                                         agency_to_special_token_id=agency_to_special_token_id)\n",
    "\n",
    "rt_data = AgencyTitleDatasetGeneration(test_records, tokenizer, filter_agencies=[\"RT на русском\"], \n",
    "                                       agency_to_special_token_id=agency_to_special_token_id)\n",
    "\n",
    "lenta_data = AgencyTitleDatasetGeneration(test_records, tokenizer, filter_agencies=[\"lenta.ru\"], \n",
    "                                          agency_to_special_token_id=agency_to_special_token_id)\n",
    "\n",
    "other_data = AgencyTitleDatasetGeneration(test_records, tokenizer, \n",
    "                                          filter_agencies=['Невские Новости', 'ФедералПресс', 'РИАМО', 'Известия'], \n",
    "                                          agency_to_special_token_id=agency_to_special_token_id)"
   ]
  },
  {
   "cell_type": "code",
   "execution_count": 10,
   "id": "backed-person",
   "metadata": {},
   "outputs": [
    {
     "data": {
      "text/plain": [
       "(3989, 1263, 1613, 2977)"
      ]
     },
     "execution_count": 10,
     "metadata": {},
     "output_type": "execute_result"
    }
   ],
   "source": [
    "len(tass_data), len(rt_data), len(lenta_data), len(other_data)"
   ]
  },
  {
   "cell_type": "code",
   "execution_count": 11,
   "id": "elder-pasta",
   "metadata": {},
   "outputs": [],
   "source": [
    "dataset = rt_data\n",
    "target_agency = 'ТАСС'\n",
    "max_tokens_title=48"
   ]
  },
  {
   "cell_type": "code",
   "execution_count": 12,
   "id": "boolean-albania",
   "metadata": {},
   "outputs": [],
   "source": [
    "@torch.no_grad()\n",
    "def eval_on_dataset(dataset, target_agency, n=1200, max_tokens_title=48):\n",
    "    y_pred = []\n",
    "\n",
    "\n",
    "    for i in tqdm.tqdm(np.random.choice(len(dataset), n, replace=False), total=n):\n",
    "        x = dataset[i]\n",
    "        x['input_ids'][1] = agency_to_special_token_id[target_agency]\n",
    "\n",
    "        gen_ids = model.generate(\n",
    "            input_ids=x['input_ids'].cuda().unsqueeze(0),\n",
    "            attention_mask=x['attention_mask'].cuda().unsqueeze(0),\n",
    "            decoder_start_token_id=model.config.decoder.pad_token_id,\n",
    "            min_length=7,\n",
    "            max_length=20,\n",
    "            num_beams=6\n",
    "        )\n",
    "        \n",
    "        gen_title = [tokenizer.decode(x, skip_special_tokens=True) for x in gen_ids][0]\n",
    "        \n",
    "        inp = tokenizer(gen_title, \n",
    "            add_special_tokens=True, max_length=max_tokens_title,\n",
    "            padding='max_length', truncation=True\n",
    "        )\n",
    "\n",
    "        logits = discriminator(input_ids=torch.LongTensor(inp['input_ids']).cuda().unsqueeze(0), \n",
    "                               attention_mask=torch.LongTensor(inp['attention_mask']).cuda().unsqueeze(0))[0]\n",
    "        y_pred.append(torch.argmax(logits).item())\n",
    "    \n",
    "    return y_pred.count(agency_to_discr_target[target_agency]) / n"
   ]
  },
  {
   "cell_type": "code",
   "execution_count": null,
   "id": "large-continent",
   "metadata": {},
   "outputs": [
    {
     "name": "stderr",
     "output_type": "stream",
     "text": [
      " 89%|████████▉ | 1069/1200 [04:59<00:36,  3.59it/s]"
     ]
    }
   ],
   "source": [
    "%%time\n",
    "\n",
    "result = defaultdict(list)\n",
    "\n",
    "for i, data in enumerate((tass_data, rt_data, lenta_data, other_data)):\n",
    "    for target_a in agency_list:\n",
    "        acc = eval_on_dataset(data, target_a)\n",
    "        result[i].append(acc)"
   ]
  },
  {
   "cell_type": "code",
   "execution_count": null,
   "id": "acute-validity",
   "metadata": {},
   "outputs": [],
   "source": [
    "df = pd.DataFrame(columns=['Data'] + agency_list)\n",
    "\n",
    "\n",
    "for i, dataset_name in enumerate(('TASS', 'RT', 'Lenta', 'Other')):\n",
    "    row = {'Data': dataset_name}\n",
    "    for j, a in enumerate(agency_list):\n",
    "        row[a] = result[i][j]      \n",
    "    df = df.append(row, ignore_index=True)\n",
    "df"
   ]
  },
  {
   "cell_type": "code",
   "execution_count": 19,
   "id": "necessary-novelty",
   "metadata": {},
   "outputs": [],
   "source": [
    "df.index = df.Data"
   ]
  },
  {
   "cell_type": "code",
   "execution_count": 21,
   "id": "bright-career",
   "metadata": {},
   "outputs": [],
   "source": [
    "df.drop('Data', axis=1, inplace=True)"
   ]
  },
  {
   "cell_type": "code",
   "execution_count": 23,
   "id": "annual-darwin",
   "metadata": {},
   "outputs": [
    {
     "data": {
      "text/html": [
       "<div>\n",
       "<style scoped>\n",
       "    .dataframe tbody tr th:only-of-type {\n",
       "        vertical-align: middle;\n",
       "    }\n",
       "\n",
       "    .dataframe tbody tr th {\n",
       "        vertical-align: top;\n",
       "    }\n",
       "\n",
       "    .dataframe thead th {\n",
       "        text-align: right;\n",
       "    }\n",
       "</style>\n",
       "<table border=\"1\" class=\"dataframe\">\n",
       "  <thead>\n",
       "    <tr style=\"text-align: right;\">\n",
       "      <th></th>\n",
       "      <th>ТАСС</th>\n",
       "      <th>RT на русском</th>\n",
       "      <th>lenta.ru</th>\n",
       "    </tr>\n",
       "    <tr>\n",
       "      <th>Data</th>\n",
       "      <th></th>\n",
       "      <th></th>\n",
       "      <th></th>\n",
       "    </tr>\n",
       "  </thead>\n",
       "  <tbody>\n",
       "    <tr>\n",
       "      <th>TASS</th>\n",
       "      <td>0.88</td>\n",
       "      <td>0.08</td>\n",
       "      <td>0.02</td>\n",
       "    </tr>\n",
       "    <tr>\n",
       "      <th>RT</th>\n",
       "      <td>0.29</td>\n",
       "      <td>0.64</td>\n",
       "      <td>0.07</td>\n",
       "    </tr>\n",
       "    <tr>\n",
       "      <th>Lenta</th>\n",
       "      <td>0.35</td>\n",
       "      <td>0.23</td>\n",
       "      <td>0.43</td>\n",
       "    </tr>\n",
       "    <tr>\n",
       "      <th>Other</th>\n",
       "      <td>0.72</td>\n",
       "      <td>0.17</td>\n",
       "      <td>0.09</td>\n",
       "    </tr>\n",
       "  </tbody>\n",
       "</table>\n",
       "</div>"
      ],
      "text/plain": [
       "       ТАСС  RT на русском  lenta.ru\n",
       "Data                                \n",
       "TASS   0.88           0.08      0.02\n",
       "RT     0.29           0.64      0.07\n",
       "Lenta  0.35           0.23      0.43\n",
       "Other  0.72           0.17      0.09"
      ]
     },
     "execution_count": 23,
     "metadata": {},
     "output_type": "execute_result"
    }
   ],
   "source": [
    "df.round(2)"
   ]
  },
  {
   "cell_type": "code",
   "execution_count": null,
   "id": "reflected-battery",
   "metadata": {},
   "outputs": [],
   "source": []
  }
 ],
 "metadata": {
  "kernelspec": {
   "display_name": "Python 3",
   "language": "python",
   "name": "python3"
  },
  "language_info": {
   "codemirror_mode": {
    "name": "ipython",
    "version": 3
   },
   "file_extension": ".py",
   "mimetype": "text/x-python",
   "name": "python",
   "nbconvert_exporter": "python",
   "pygments_lexer": "ipython3",
   "version": "3.8.5"
  }
 },
 "nbformat": 4,
 "nbformat_minor": 5
}
