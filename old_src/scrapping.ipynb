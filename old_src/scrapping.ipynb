{
 "cells": [
  {
   "cell_type": "code",
   "execution_count": 1,
   "id": "excessive-desert",
   "metadata": {},
   "outputs": [],
   "source": [
    "from bs4 import BeautifulSoup\n",
    "import re\n",
    "import requests\n",
    "import urllib\n",
    "import ctypes\n",
    "from datetime import timedelta, date\n",
    "from proxy_requests import ProxyRequests\n",
    "import time\n",
    "import random\n",
    "import json\n",
    "\n",
    "def daterange(start_date, end_date):\n",
    "    for n in range(int((end_date - start_date).days)):\n",
    "        yield start_date + timedelta(n)\n",
    "        \n",
    "def prepend(x):\n",
    "    x = str(x)\n",
    "    if len(x) == 2:\n",
    "        return x\n",
    "    else:\n",
    "        return '0' + x\n",
    "        \n",
    "headers = {'user-agent': 'Mozilla/5.0 (Windows NT 10.0; Win64; x64) AppleWebKit/537.36 (KHTML, like Gecko) Chrome/83.0.4103.61 Safari/537.36',}\n",
    "\n",
    "def get_soup(url):\n",
    "    for i in range(60):\n",
    "        r = requests.get(url, headers=headers, timeout=15, proxies = urllib.request.getproxies())\n",
    "\n",
    "        if r.status_code != 200:\n",
    "            print('Request status code:\\t' + str(r.status_code))\n",
    "            time.sleep(60)\n",
    "            continue\n",
    "\n",
    "        s = BeautifulSoup(r.content.decode(), \"html.parser\")\n",
    "\n",
    "        if len(s.get_text()) < 100:\n",
    "            print('Soup error...')\n",
    "            time.sleep(60)            \n",
    "            continue\n",
    "        \n",
    "        return s\n",
    "    print('OH NO!!!')\n"
   ]
  },
  {
   "cell_type": "code",
   "execution_count": 8,
   "id": "starting-creature",
   "metadata": {},
   "outputs": [],
   "source": [
    "start_date = date(2020, 4, 1)\n",
    "end_date = date(2020, 4, 25)"
   ]
  },
  {
   "cell_type": "code",
   "execution_count": null,
   "id": "abandoned-yeast",
   "metadata": {},
   "outputs": [
    {
     "name": "stdout",
     "output_type": "stream",
     "text": [
      "Parsing 2020-04-01\n",
      "Parsing https://lenta.ru/news/2020/04/01/pension/\n"
     ]
    }
   ],
   "source": [
    "for single_date in daterange(start_date, end_date):\n",
    "    print('Parsing', single_date)\n",
    "    suff = f'{single_date.year}/{prepend(single_date.month)}/{prepend(single_date.day)}'\n",
    "    init_url = f'https://lenta.ru/news/{suff}'\n",
    "    \n",
    "    s = get_soup(init_url)\n",
    "    \n",
    "    for x in s.find_all('a', href=True):\n",
    "        href = x.get('href')\n",
    "        if href.startswith(f'/news/{suff}'):\n",
    "            news_url = f'https://lenta.ru{href}'\n",
    "            \n",
    "            news_soup = get_soup(news_url)\n",
    "            \n",
    "            print('Parsing', news_url)\n",
    "            \n",
    "            title = news_soup.find('h1', attrs={'class':'b-topic__title'}).text\n",
    "            body = news_soup.find_all('div', attrs={'class':'b-text clearfix js-topic__text'})[0]\n",
    "            text = ' '.join([el.text for el in body.find_all('p')])\n",
    "            \n",
    "            with open('lenta_parsed_data.jsonl', 'a', encoding='utf-8') as f:\n",
    "                json.dump({\n",
    "                    'title': title,\n",
    "                    'text': text,\n",
    "                    'date': str(single_date)\n",
    "                }, f)\n",
    "                f.write('\\n')\n",
    "            \n",
    "            time.sleep(15 + random.randint(1, 30))"
   ]
  },
  {
   "cell_type": "code",
   "execution_count": 11,
   "id": "isolated-soldier",
   "metadata": {},
   "outputs": [
    {
     "name": "stdout",
     "output_type": "stream",
     "text": [
      "377 lenta_parsed_data.jsonl\r\n"
     ]
    }
   ],
   "source": [
    "!wc -l lenta_parsed_data.jsonl"
   ]
  },
  {
   "cell_type": "code",
   "execution_count": null,
   "id": "favorite-memory",
   "metadata": {},
   "outputs": [],
   "source": []
  }
 ],
 "metadata": {
  "kernelspec": {
   "display_name": "Python 3",
   "language": "python",
   "name": "python3"
  },
  "language_info": {
   "codemirror_mode": {
    "name": "ipython",
    "version": 3
   },
   "file_extension": ".py",
   "mimetype": "text/x-python",
   "name": "python",
   "nbconvert_exporter": "python",
   "pygments_lexer": "ipython3",
   "version": "3.8.5"
  }
 },
 "nbformat": 4,
 "nbformat_minor": 5
}
