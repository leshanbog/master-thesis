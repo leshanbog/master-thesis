{
 "cells": [
  {
   "cell_type": "code",
   "execution_count": 1,
   "id": "athletic-printer",
   "metadata": {},
   "outputs": [],
   "source": [
    "import argparse\n",
    "import json\n",
    "import random\n",
    "import tqdm\n",
    "import torch\n",
    "import wandb\n",
    "import numpy as np\n",
    "import os\n",
    "from torch.utils.data import Dataset\n",
    "\n",
    "from _jsonnet import evaluate_file as jsonnet_evaluate_file\n",
    "from transformers import BertTokenizer, AutoModelForSequenceClassification, Trainer, TrainingArguments, logging\n",
    "\n",
    "from readers import tg_reader, ria_reader, lenta_reader\n",
    "from custom_datasets import AgencyTitleDatasetClassification, LentaRiaDatasetClassification\n",
    "from utils.training_utils import get_separate_lr_optimizer, init_wandb"
   ]
  },
  {
   "cell_type": "code",
   "execution_count": 2,
   "id": "successful-chassis",
   "metadata": {},
   "outputs": [],
   "source": [
    "class LentaRiaPairedDatasetClassification(Dataset):\n",
    "    def __init__(\n",
    "        self,\n",
    "        path,\n",
    "        tokenizer,\n",
    "        cur_slice,\n",
    "        max_tokens=100,\n",
    "    ):\n",
    "        with open(path, 'r') as f:\n",
    "            self.records = [json.loads(x.strip()) for x in f.readlines()]\n",
    "            assert len(self.records) == 75362\n",
    "            self.records = self.records[cur_slice]\n",
    "\n",
    "        self.tokenizer = tokenizer\n",
    "        self.max_tokens = max_tokens\n",
    "\n",
    "    def __len__(self):\n",
    "        return len(self.records) * 2\n",
    "\n",
    "    def __getitem__(self, index):\n",
    "        record = self.records[index // 2]\n",
    "        if index % 2 == 1:\n",
    "            a1 = record['ria_title']\n",
    "            a2 = record['lenta_title']\n",
    "            target = 1\n",
    "        else:\n",
    "            a1 = record['lenta_title']\n",
    "            a2 = record['ria_title']\n",
    "            target = 0\n",
    "\n",
    "        inputs = self.tokenizer(\n",
    "            ' [SEP] '.join([a1, a2]),\n",
    "            add_special_tokens=True,\n",
    "            max_length=self.max_tokens,\n",
    "            padding=\"max_length\",\n",
    "            truncation=True\n",
    "        )\n",
    "\n",
    "        return {\n",
    "            \"input_ids\": torch.tensor(inputs[\"input_ids\"]),\n",
    "            \"attention_mask\": torch.tensor(inputs[\"attention_mask\"]),\n",
    "            \"labels\": target\n",
    "        }\n",
    "\n",
    "    def get_strings(self, index):\n",
    "        record = self.records[index // 2]\n",
    "        if index % 2 == 1:\n",
    "            a1 = record['ria_title']\n",
    "            a2 = record['lenta_title']\n",
    "        else:\n",
    "            a1 = record['lenta_title']\n",
    "            a2 = record['ria_title']\n",
    "        return {\n",
    "            'title': ' [SEP] '.join([a1, a2]),\n",
    "            'date': record['lenta_date'],\n",
    "        }\n"
   ]
  },
  {
   "cell_type": "code",
   "execution_count": 3,
   "id": "sharp-unknown",
   "metadata": {},
   "outputs": [],
   "source": [
    "def compute_metrics(pred):\n",
    "    labels = pred.label_ids\n",
    "    preds = pred.predictions.argmax(-1)\n",
    "    return {\n",
    "        'accuracy': np.mean(labels == preds)\n",
    "    }"
   ]
  },
  {
   "cell_type": "code",
   "execution_count": 4,
   "id": "mathematical-minnesota",
   "metadata": {},
   "outputs": [],
   "source": [
    "logging.set_verbosity_info()\n"
   ]
  },
  {
   "cell_type": "code",
   "execution_count": 5,
   "id": "golden-partition",
   "metadata": {},
   "outputs": [],
   "source": [
    "train_file = '../../datasets/full_lenta_ria.train.jsonl'\n",
    "model_path = '/home/aobuhtijarov/master-thesis/src/bert_ft_on_tg_text/checkpoint-2000/'\n",
    "output_model_path = '/home/aobuhtijarov/models/paired_clf_from_rubert'"
   ]
  },
  {
   "cell_type": "code",
   "execution_count": 6,
   "id": "careful-gossip",
   "metadata": {},
   "outputs": [],
   "source": [
    "c = '''{\n",
    "    \"tokenizer_model_path\": \"/home/aobuhtijarov/models/rubert_cased_L-12_H-768_A-12_pt/\",\n",
    "    \"agency_list\": [\"РИА Новости\", \"lenta.ru\"],\n",
    "    \"max_tokens_text\": 250,\n",
    "    \"max_tokens_title\": 48,\n",
    "    \"gradient_accumulation_steps\": 64,\n",
    "    \"batch_size\": 4,\n",
    "    \"eval_steps\": 250,\n",
    "    \"save_steps\": 500,\n",
    "    \"logging_steps\": 100,\n",
    "    \"learning_rate\": 0.00003,\n",
    "    \"num_warmup_steps\": 1500,\n",
    "    \"max_steps\": 5000,\n",
    "}\n",
    "'''"
   ]
  },
  {
   "cell_type": "code",
   "execution_count": 7,
   "id": "pediatric-installation",
   "metadata": {},
   "outputs": [],
   "source": [
    "with open('temp_conf.jsonnet', 'w') as f:\n",
    "    f.write(c)"
   ]
  },
  {
   "cell_type": "code",
   "execution_count": 8,
   "id": "unknown-chart",
   "metadata": {},
   "outputs": [],
   "source": [
    "config = json.loads(jsonnet_evaluate_file('temp_conf.jsonnet'))"
   ]
  },
  {
   "cell_type": "code",
   "execution_count": 9,
   "id": "whole-advance",
   "metadata": {},
   "outputs": [
    {
     "name": "stderr",
     "output_type": "stream",
     "text": [
      "wandb: Currently logged in as: leshanbog (use `wandb login --relogin` to force relogin)\n"
     ]
    },
    {
     "data": {
      "text/html": [
       "\n",
       "                Tracking run with wandb version 0.10.30<br/>\n",
       "                Syncing run <strong style=\"color:#cdcd00\">paired-discriminator-from-tg-text</strong> to <a href=\"https://wandb.ai\" target=\"_blank\">Weights & Biases</a> <a href=\"https://docs.wandb.com/integrations/jupyter.html\" target=\"_blank\">(Documentation)</a>.<br/>\n",
       "                Project page: <a href=\"https://wandb.ai/leshanbog/master-thesis\" target=\"_blank\">https://wandb.ai/leshanbog/master-thesis</a><br/>\n",
       "                Run page: <a href=\"https://wandb.ai/leshanbog/master-thesis/runs/i3auv44m\" target=\"_blank\">https://wandb.ai/leshanbog/master-thesis/runs/i3auv44m</a><br/>\n",
       "                Run data is saved locally in <code>/home/aobuhtijarov/master-thesis/src/wandb/run-20210514_074221-i3auv44m</code><br/><br/>\n",
       "            "
      ],
      "text/plain": [
       "<IPython.core.display.HTML object>"
      ]
     },
     "metadata": {},
     "output_type": "display_data"
    }
   ],
   "source": [
    "init_wandb('paired-discriminator-from-tg-text', config)"
   ]
  },
  {
   "cell_type": "code",
   "execution_count": 10,
   "id": "written-vietnamese",
   "metadata": {},
   "outputs": [
    {
     "name": "stderr",
     "output_type": "stream",
     "text": [
      "Didn't find file /home/aobuhtijarov/models/rubert_cased_L-12_H-768_A-12_pt/added_tokens.json. We won't load it.\n",
      "Didn't find file /home/aobuhtijarov/models/rubert_cased_L-12_H-768_A-12_pt/special_tokens_map.json. We won't load it.\n",
      "Didn't find file /home/aobuhtijarov/models/rubert_cased_L-12_H-768_A-12_pt/tokenizer_config.json. We won't load it.\n",
      "Didn't find file /home/aobuhtijarov/models/rubert_cased_L-12_H-768_A-12_pt/tokenizer.json. We won't load it.\n",
      "loading file /home/aobuhtijarov/models/rubert_cased_L-12_H-768_A-12_pt/vocab.txt\n",
      "loading file None\n",
      "loading file None\n",
      "loading file None\n",
      "loading file None\n"
     ]
    },
    {
     "name": "stdout",
     "output_type": "stream",
     "text": [
      "Agency list: ['РИА Новости', 'lenta.ru']\n"
     ]
    }
   ],
   "source": [
    "agency_list = config['agency_list']\n",
    "print('Agency list:', agency_list)\n",
    "\n",
    "max_tokens_text = config[\"max_tokens_text\"]\n",
    "max_tokens_title = config[\"max_tokens_title\"]\n",
    "\n",
    "tokenizer_model_path = config[\"tokenizer_model_path\"]\n",
    "tokenizer = BertTokenizer.from_pretrained(tokenizer_model_path, do_lower_case=False, do_basic_tokenize=False)"
   ]
  },
  {
   "cell_type": "code",
   "execution_count": 11,
   "id": "satisfied-source",
   "metadata": {},
   "outputs": [],
   "source": [
    "train_dataset = LentaRiaPairedDatasetClassification(\n",
    "    train_file, tokenizer, slice(0, 70800), 100\n",
    ")\n",
    "\n",
    "val_dataset = LentaRiaPairedDatasetClassification(\n",
    "    train_file, tokenizer, slice(70000, 73801), 100\n",
    ")\n",
    "\n",
    "test_dataset = LentaRiaPairedDatasetClassification(\n",
    "    train_file, tokenizer, slice(73801, 75362), 100\n",
    ")"
   ]
  },
  {
   "cell_type": "code",
   "execution_count": 12,
   "id": "fifteen-coalition",
   "metadata": {},
   "outputs": [],
   "source": [
    "wandb.summary.update({\n",
    "    'Train dataset size': len(train_dataset),\n",
    "    'Val dataset size': len(val_dataset),\n",
    "    'Test dataset size': len(test_dataset),\n",
    "})"
   ]
  },
  {
   "cell_type": "code",
   "execution_count": 13,
   "id": "scientific-earth",
   "metadata": {},
   "outputs": [
    {
     "name": "stderr",
     "output_type": "stream",
     "text": [
      "loading configuration file /home/aobuhtijarov/master-thesis/src/bert_ft_on_tg_text/checkpoint-2000/config.json\n",
      "Model config BertConfig {\n",
      "  \"_name_or_path\": \"/home/aobuhtijarov/models/rubert_cased_L-12_H-768_A-12_pt/\",\n",
      "  \"architectures\": [\n",
      "    \"BertForMaskedLM\"\n",
      "  ],\n",
      "  \"attention_probs_dropout_prob\": 0.1,\n",
      "  \"directionality\": \"bidi\",\n",
      "  \"gradient_checkpointing\": false,\n",
      "  \"hidden_act\": \"gelu\",\n",
      "  \"hidden_dropout_prob\": 0.1,\n",
      "  \"hidden_size\": 768,\n",
      "  \"initializer_range\": 0.02,\n",
      "  \"intermediate_size\": 3072,\n",
      "  \"layer_norm_eps\": 1e-12,\n",
      "  \"max_position_embeddings\": 512,\n",
      "  \"model_type\": \"bert\",\n",
      "  \"num_attention_heads\": 12,\n",
      "  \"num_hidden_layers\": 12,\n",
      "  \"pad_token_id\": 0,\n",
      "  \"pooler_fc_size\": 768,\n",
      "  \"pooler_num_attention_heads\": 12,\n",
      "  \"pooler_num_fc_layers\": 3,\n",
      "  \"pooler_size_per_head\": 128,\n",
      "  \"pooler_type\": \"first_token_transform\",\n",
      "  \"position_embedding_type\": \"absolute\",\n",
      "  \"transformers_version\": \"4.5.0\",\n",
      "  \"type_vocab_size\": 2,\n",
      "  \"use_cache\": true,\n",
      "  \"vocab_size\": 119547\n",
      "}\n",
      "\n",
      "loading weights file /home/aobuhtijarov/master-thesis/src/bert_ft_on_tg_text/checkpoint-2000/pytorch_model.bin\n",
      "Some weights of the model checkpoint at /home/aobuhtijarov/master-thesis/src/bert_ft_on_tg_text/checkpoint-2000/ were not used when initializing BertForSequenceClassification: ['cls.predictions.bias', 'cls.predictions.transform.dense.weight', 'cls.predictions.transform.dense.bias', 'cls.predictions.transform.LayerNorm.weight', 'cls.predictions.transform.LayerNorm.bias', 'cls.predictions.decoder.weight', 'cls.predictions.decoder.bias']\n",
      "- This IS expected if you are initializing BertForSequenceClassification from the checkpoint of a model trained on another task or with another architecture (e.g. initializing a BertForSequenceClassification model from a BertForPreTraining model).\n",
      "- This IS NOT expected if you are initializing BertForSequenceClassification from the checkpoint of a model that you expect to be exactly identical (initializing a BertForSequenceClassification model from a BertForSequenceClassification model).\n",
      "Some weights of BertForSequenceClassification were not initialized from the model checkpoint at /home/aobuhtijarov/master-thesis/src/bert_ft_on_tg_text/checkpoint-2000/ and are newly initialized: ['bert.pooler.dense.weight', 'bert.pooler.dense.bias', 'classifier.weight', 'classifier.bias']\n",
      "You should probably TRAIN this model on a down-stream task to be able to use it for predictions and inference.\n"
     ]
    }
   ],
   "source": [
    "model = AutoModelForSequenceClassification.from_pretrained(\n",
    "    model_path, \n",
    "    num_labels=2\n",
    ")"
   ]
  },
  {
   "cell_type": "code",
   "execution_count": 14,
   "id": "serial-packaging",
   "metadata": {},
   "outputs": [],
   "source": [
    "batch_size = config[\"batch_size\"]\n",
    "logging_steps = config[\"logging_steps\"]\n",
    "save_steps = config[\"save_steps\"]\n",
    "eval_steps = config[\"eval_steps\"]\n",
    "warmup_steps = config[\"num_warmup_steps\"]\n",
    "gradient_accumulation_steps = config[\"gradient_accumulation_steps\"]\n",
    "max_steps = config[\"max_steps\"]\n",
    "lr = config[\"learning_rate\"]"
   ]
  },
  {
   "cell_type": "code",
   "execution_count": 15,
   "id": "threaded-budget",
   "metadata": {},
   "outputs": [
    {
     "name": "stderr",
     "output_type": "stream",
     "text": [
      "PyTorch: setting up devices\n",
      "max_steps is given, it will override any value given in num_train_epochs\n"
     ]
    }
   ],
   "source": [
    "training_args = TrainingArguments(\n",
    "    output_dir=output_model_path,\n",
    "    do_train=True,\n",
    "    do_eval=True,\n",
    "    per_device_train_batch_size=batch_size,\n",
    "    per_device_eval_batch_size=batch_size,\n",
    "    gradient_accumulation_steps=gradient_accumulation_steps,\n",
    "    evaluation_strategy='steps',\n",
    "    learning_rate=lr,\n",
    "    warmup_steps=warmup_steps,\n",
    "    overwrite_output_dir=False,\n",
    "    logging_steps=logging_steps,\n",
    "    eval_steps=eval_steps,\n",
    "    save_steps=save_steps,\n",
    "    max_steps=max_steps,\n",
    "    save_total_limit=1,\n",
    "    weight_decay=0.01,\n",
    "    report_to='wandb',\n",
    ")\n",
    "\n",
    "trainer = Trainer(\n",
    "    model=model,\n",
    "    args=training_args,\n",
    "    train_dataset=train_dataset,\n",
    "    eval_dataset=val_dataset,\n",
    "    compute_metrics=compute_metrics,\n",
    ")"
   ]
  },
  {
   "cell_type": "code",
   "execution_count": null,
   "id": "insured-trade",
   "metadata": {},
   "outputs": [
    {
     "name": "stderr",
     "output_type": "stream",
     "text": [
      "***** Running training *****\n",
      "  Num examples = 141600\n",
      "  Num Epochs = 10\n",
      "  Instantaneous batch size per device = 4\n",
      "  Total train batch size (w. parallel, distributed & accumulation) = 256\n",
      "  Gradient Accumulation steps = 64\n",
      "  Total optimization steps = 5000\n",
      "Automatic Weights & Biases logging enabled, to disable set os.environ[\"WANDB_DISABLED\"] = \"true\"\n"
     ]
    },
    {
     "data": {
      "text/html": [
       "\n",
       "    <div>\n",
       "        <style>\n",
       "            /* Turns off some styling */\n",
       "            progress {\n",
       "                /* gets rid of default border in Firefox and Opera. */\n",
       "                border: none;\n",
       "                /* Needs to be in here for Safari polyfill so background images work as expected. */\n",
       "                background-size: auto;\n",
       "            }\n",
       "        </style>\n",
       "      \n",
       "      <progress value='149' max='5000' style='width:300px; height:20px; vertical-align: middle;'></progress>\n",
       "      [ 149/5000 13:57 < 7:40:37, 0.18 it/s, Epoch 0.27/10]\n",
       "    </div>\n",
       "    <table border=\"1\" class=\"dataframe\">\n",
       "  <thead>\n",
       "    <tr style=\"text-align: left;\">\n",
       "      <th>Step</th>\n",
       "      <th>Training Loss</th>\n",
       "      <th>Validation Loss</th>\n",
       "    </tr>\n",
       "  </thead>\n",
       "  <tbody>\n",
       "  </tbody>\n",
       "</table><p>"
      ],
      "text/plain": [
       "<IPython.core.display.HTML object>"
      ]
     },
     "metadata": {},
     "output_type": "display_data"
    }
   ],
   "source": [
    "trainer.train()"
   ]
  },
  {
   "cell_type": "code",
   "execution_count": null,
   "id": "foreign-header",
   "metadata": {},
   "outputs": [],
   "source": [
    "wandb.summary.update({\n",
    "    'Test Evaluation': trainer.evaluate(eval_dataset=test_dataset)\n",
    "})\n",
    "model.save_pretrained(output_model_path)"
   ]
  },
  {
   "cell_type": "code",
   "execution_count": null,
   "id": "composite-bradley",
   "metadata": {},
   "outputs": [],
   "source": [
    "wandb.finish()"
   ]
  }
 ],
 "metadata": {
  "kernelspec": {
   "display_name": "Python 3",
   "language": "python",
   "name": "python3"
  },
  "language_info": {
   "codemirror_mode": {
    "name": "ipython",
    "version": 3
   },
   "file_extension": ".py",
   "mimetype": "text/x-python",
   "name": "python",
   "nbconvert_exporter": "python",
   "pygments_lexer": "ipython3",
   "version": "3.8.5"
  }
 },
 "nbformat": 4,
 "nbformat_minor": 5
}
