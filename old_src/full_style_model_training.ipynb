{
 "cells": [
  {
   "cell_type": "code",
   "execution_count": null,
   "id": "legislative-ambassador",
   "metadata": {},
   "outputs": [],
   "source": [
    "import argparse\n",
    "import json\n",
    "import random\n",
    "import tqdm\n",
    "import os\n",
    "import torch\n",
    "import wandb"
   ]
  },
  {
   "cell_type": "code",
   "execution_count": null,
   "id": "caroline-globe",
   "metadata": {},
   "outputs": [],
   "source": [
    "from _jsonnet import evaluate_file as jsonnet_evaluate_file\n",
    "from transformers import BertTokenizer, EncoderDecoderModel, Trainer, TrainingArguments, logging\n",
    "\n",
    "from readers import tg_reader, lenta_reader, ria_reader\n",
    "from custom_datasets import FullStyleDataset\n",
    "from utils.training_utils import get_separate_lr_optimizer, init_wandb"
   ]
  },
  {
   "cell_type": "code",
   "execution_count": null,
   "id": "psychological-decision",
   "metadata": {},
   "outputs": [],
   "source": [
    "logging.set_verbosity_info()\n",
    "config = json.loads(jsonnet_evaluate_file('/home/aobuhtijarov/master-thesis/configs/gen_title.jsonnet'))\n",
    "init_wandb('full-style', config)\n",
    "\n",
    "agency_list = config['agency_list']\n",
    "print('Agency list:', agency_list)"
   ]
  },
  {
   "cell_type": "code",
   "execution_count": null,
   "id": "ambient-seminar",
   "metadata": {},
   "outputs": [],
   "source": [
    "tokenizer_model_path = config[\"tokenizer_model_path\"]\n",
    "tokenizer = BertTokenizer.from_pretrained(tokenizer_model_path, do_lower_case=False, do_basic_tokenize=False)\n",
    "\n",
    "max_tokens_text = config[\"max_tokens_text\"]\n",
    "max_tokens_title = config[\"max_tokens_title\"]\n",
    "\n",
    "print(\"Initializing model...\")"
   ]
  },
  {
   "cell_type": "code",
   "execution_count": null,
   "id": "interim-closer",
   "metadata": {},
   "outputs": [],
   "source": [
    "enc_model_path = config[\"enc_model_path\"]\n",
    "dec_model_path = config[\"dec_model_path\"]\n",
    "model = EncoderDecoderModel.from_encoder_decoder_pretrained(enc_model_path, dec_model_path)\n"
   ]
  },
  {
   "cell_type": "code",
   "execution_count": null,
   "id": "statewide-adjustment",
   "metadata": {},
   "outputs": [],
   "source": [
    "agency_to_special_token_id = {a: tokenizer.vocab[f'[unused{i+1}]'] for i, a in enumerate(agency_list)}"
   ]
  },
  {
   "cell_type": "code",
   "execution_count": null,
   "id": "prescribed-samoa",
   "metadata": {},
   "outputs": [],
   "source": [
    "train_dataset = FullStyleDataset('/home/aobuhtijarov/datasets/full_lenta_ria.train.jsonl',\n",
    "                                 tokenizer, agency_to_special_token_id, slice(0, 72500),\n",
    "                                 max_tokens_text=max_tokens_text, max_tokens_title=max_tokens_title)\n",
    "\n",
    "val_dataset = FullStyleDataset('/home/aobuhtijarov/datasets/full_lenta_ria.train.jsonl',\n",
    "                                 tokenizer, agency_to_special_token_id, slice(72500, 75362),\n",
    "                                 max_tokens_text=max_tokens_text, max_tokens_title=max_tokens_title)"
   ]
  },
  {
   "cell_type": "code",
   "execution_count": null,
   "id": "beautiful-desire",
   "metadata": {},
   "outputs": [],
   "source": [
    "wandb.summary.update({\n",
    "    'Train dataset size': len(train_dataset),\n",
    "    'Test dataset size': len(val_dataset),\n",
    "})"
   ]
  },
  {
   "cell_type": "code",
   "execution_count": null,
   "id": "heard-initial",
   "metadata": {},
   "outputs": [],
   "source": [
    "batch_size = config[\"batch_size\"]\n",
    "eval_steps = config[\"eval_steps\"]\n",
    "save_steps = config[\"save_steps\"]\n",
    "logging_steps = config[\"logging_steps\"]\n",
    "enc_lr = config[\"enc_lr\"]\n",
    "dec_lr = config[\"dec_lr\"]\n",
    "warmup_steps = config[\"num_warmup_steps\"]\n",
    "max_steps = config[\"max_steps\"]\n",
    "gradient_accumulation_steps = config[\"gradient_accumulation_steps\"]\n",
    "\n",
    "opt = get_separate_lr_optimizer(model, enc_lr, dec_lr, warmup_steps, max_steps)"
   ]
  },
  {
   "cell_type": "code",
   "execution_count": null,
   "id": "driving-privacy",
   "metadata": {},
   "outputs": [],
   "source": [
    "wandb.config.output_model_path = '/home/aobuhtijarov/models/full_style_model/'"
   ]
  },
  {
   "cell_type": "code",
   "execution_count": null,
   "id": "modified-pavilion",
   "metadata": {},
   "outputs": [],
   "source": [
    "training_args = TrainingArguments(\n",
    "    output_dir=wandb.config.output_model_path,\n",
    "    per_device_train_batch_size=batch_size,\n",
    "    per_device_eval_batch_size=batch_size,\n",
    "    gradient_accumulation_steps=gradient_accumulation_steps,\n",
    "    evaluation_strategy='steps',\n",
    "    do_train=True,\n",
    "    do_eval=True,\n",
    "    overwrite_output_dir=False,\n",
    "    logging_steps=logging_steps,\n",
    "    save_steps=save_steps,\n",
    "    eval_steps=eval_steps,\n",
    "    save_total_limit=1,\n",
    "    max_steps=max_steps,\n",
    "    report_to='wandb',\n",
    ")"
   ]
  },
  {
   "cell_type": "code",
   "execution_count": null,
   "id": "ruled-interview",
   "metadata": {},
   "outputs": [],
   "source": [
    "trainer = Trainer(\n",
    "    model=model,\n",
    "    args=training_args,\n",
    "    train_dataset=train_dataset,\n",
    "    eval_dataset=val_dataset,\n",
    "    optimizers=opt,\n",
    ")"
   ]
  },
  {
   "cell_type": "code",
   "execution_count": null,
   "id": "christian-librarian",
   "metadata": {},
   "outputs": [],
   "source": [
    "trainer.train()\n",
    "model.save_pretrained(wandb.config.output_model_path)"
   ]
  },
  {
   "cell_type": "code",
   "execution_count": 1,
   "id": "prompt-princeton",
   "metadata": {},
   "outputs": [
    {
     "name": "stdout",
     "output_type": "stream",
     "text": [
      "[NbConvertApp] Converting notebook full_style_model_training.ipynb to script\n",
      "[NbConvertApp] Writing 3316 bytes to full_style_model_training.py\n"
     ]
    }
   ],
   "source": [
    "!jupyter nbconvert --to script full_style_model_training.ipynb"
   ]
  }
 ],
 "metadata": {
  "kernelspec": {
   "display_name": "Python 3",
   "language": "python",
   "name": "python3"
  },
  "language_info": {
   "codemirror_mode": {
    "name": "ipython",
    "version": 3
   },
   "file_extension": ".py",
   "mimetype": "text/x-python",
   "name": "python",
   "nbconvert_exporter": "python",
   "pygments_lexer": "ipython3",
   "version": "3.8.5"
  }
 },
 "nbformat": 4,
 "nbformat_minor": 5
}
